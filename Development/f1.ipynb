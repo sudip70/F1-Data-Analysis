{
 "cells": [
  {
   "cell_type": "code",
   "execution_count": 1,
   "metadata": {},
   "outputs": [],
   "source": [
    "import numpy as np\n",
    "import pandas as pd\n",
    "import matplotlib.pyplot as plt\n",
    "import seaborn as sns\n",
    "import warnings\n",
    "import datetime as dt\n",
    "import plotly.graph_objects as go\n",
    "import plotly.express as px\n",
    "import os\n",
    "\n",
    "warnings.simplefilter(\"ignore\")\n",
    "pd.set_option('display.max_columns', None)\n"
   ]
  },
  {
   "cell_type": "code",
   "execution_count": 2,
   "metadata": {},
   "outputs": [],
   "source": [
    "#Reading Dataset and putting it in Dataframe\n",
    "cir_df = pd.read_csv('../Dataset/circuits.csv')\n",
    "rlt_df = pd.read_csv('../Dataset/results.csv')\n",
    "st_df = pd.read_csv('../Dataset/status.csv')\n",
    "dr_df = pd.read_csv('../Dataset/drivers.csv')\n",
    "rc_df = pd.read_csv('../Dataset/races.csv')\n",
    "con_df = pd.read_csv('../Dataset/constructors.csv')\n",
    "consd_df = pd.read_csv('../Dataset/constructor_standings.csv')\n",
    "lt_df = pd.read_csv('../Dataset/lap_times.csv')\n",
    "qli_df = pd.read_csv('../Dataset/qualifying.csv')\n",
    "pd.get_option('display.max_columns', None)"
   ]
  },
  {
   "cell_type": "markdown",
   "metadata": {},
   "source": [
    "Win Count for top 5 teams each year"
   ]
  },
  {
   "cell_type": "code",
   "execution_count": 3,
   "metadata": {},
   "outputs": [
    {
     "data": {
      "text/html": [
       "<div>\n",
       "<style scoped>\n",
       "    .dataframe tbody tr th:only-of-type {\n",
       "        vertical-align: middle;\n",
       "    }\n",
       "\n",
       "    .dataframe tbody tr th {\n",
       "        vertical-align: top;\n",
       "    }\n",
       "\n",
       "    .dataframe thead th {\n",
       "        text-align: right;\n",
       "    }\n",
       "</style>\n",
       "<table border=\"1\" class=\"dataframe\">\n",
       "  <thead>\n",
       "    <tr style=\"text-align: right;\">\n",
       "      <th></th>\n",
       "      <th>raceId</th>\n",
       "      <th>year</th>\n",
       "      <th>constructorStandingsId</th>\n",
       "      <th>constructorId</th>\n",
       "      <th>points</th>\n",
       "      <th>position</th>\n",
       "      <th>positionText</th>\n",
       "      <th>wins</th>\n",
       "      <th>name</th>\n",
       "    </tr>\n",
       "  </thead>\n",
       "  <tbody>\n",
       "    <tr>\n",
       "      <th>0</th>\n",
       "      <td>1</td>\n",
       "      <td>2009</td>\n",
       "      <td>4046.0</td>\n",
       "      <td>6.0</td>\n",
       "      <td>0.0</td>\n",
       "      <td>9.0</td>\n",
       "      <td>9</td>\n",
       "      <td>0.0</td>\n",
       "      <td>Ferrari</td>\n",
       "    </tr>\n",
       "    <tr>\n",
       "      <th>2</th>\n",
       "      <td>1</td>\n",
       "      <td>2009</td>\n",
       "      <td>4045.0</td>\n",
       "      <td>9.0</td>\n",
       "      <td>0.0</td>\n",
       "      <td>8.0</td>\n",
       "      <td>8</td>\n",
       "      <td>0.0</td>\n",
       "      <td>Red Bull</td>\n",
       "    </tr>\n",
       "    <tr>\n",
       "      <th>5</th>\n",
       "      <td>1</td>\n",
       "      <td>2009</td>\n",
       "      <td>4041.0</td>\n",
       "      <td>3.0</td>\n",
       "      <td>3.0</td>\n",
       "      <td>4.0</td>\n",
       "      <td>4</td>\n",
       "      <td>0.0</td>\n",
       "      <td>Williams</td>\n",
       "    </tr>\n",
       "    <tr>\n",
       "      <th>9</th>\n",
       "      <td>2</td>\n",
       "      <td>2009</td>\n",
       "      <td>8541.0</td>\n",
       "      <td>6.0</td>\n",
       "      <td>0.0</td>\n",
       "      <td>10.0</td>\n",
       "      <td>10</td>\n",
       "      <td>0.0</td>\n",
       "      <td>Ferrari</td>\n",
       "    </tr>\n",
       "    <tr>\n",
       "      <th>10</th>\n",
       "      <td>2</td>\n",
       "      <td>2009</td>\n",
       "      <td>8540.0</td>\n",
       "      <td>9.0</td>\n",
       "      <td>1.5</td>\n",
       "      <td>7.0</td>\n",
       "      <td>7</td>\n",
       "      <td>0.0</td>\n",
       "      <td>Red Bull</td>\n",
       "    </tr>\n",
       "  </tbody>\n",
       "</table>\n",
       "</div>"
      ],
      "text/plain": [
       "    raceId  year  constructorStandingsId  constructorId  points  position  \\\n",
       "0        1  2009                  4046.0            6.0     0.0       9.0   \n",
       "2        1  2009                  4045.0            9.0     0.0       8.0   \n",
       "5        1  2009                  4041.0            3.0     3.0       4.0   \n",
       "9        2  2009                  8541.0            6.0     0.0      10.0   \n",
       "10       2  2009                  8540.0            9.0     1.5       7.0   \n",
       "\n",
       "   positionText  wins      name  \n",
       "0             9   0.0   Ferrari  \n",
       "2             8   0.0  Red Bull  \n",
       "5             4   0.0  Williams  \n",
       "9            10   0.0   Ferrari  \n",
       "10            7   0.0  Red Bull  "
      ]
     },
     "execution_count": 3,
     "metadata": {},
     "output_type": "execute_result"
    }
   ],
   "source": [
    "#Combining datasets to get the data fro ploting\n",
    "import plotly.graph_objects as go\n",
    "merged_df = pd.merge(rc_df[['raceId', 'year']], consd_df, on='raceId', how='left')\n",
    "merged_df = pd.merge(merged_df, con_df[['constructorId', 'name']], on='constructorId', how='left')\n",
    "\n",
    "#Filtering Merged dataframe and giving unique Constructor ID for the teams we want\n",
    "filtered_df = merged_df[merged_df['constructorId'].isin([1, 3, 6, 9, 131])]\n",
    "filtered_df.head()"
   ]
  },
  {
   "cell_type": "code",
   "execution_count": 4,
   "metadata": {},
   "outputs": [
    {
     "data": {
      "text/html": [
       "<div>\n",
       "<style scoped>\n",
       "    .dataframe tbody tr th:only-of-type {\n",
       "        vertical-align: middle;\n",
       "    }\n",
       "\n",
       "    .dataframe tbody tr th {\n",
       "        vertical-align: top;\n",
       "    }\n",
       "\n",
       "    .dataframe thead th {\n",
       "        text-align: right;\n",
       "    }\n",
       "</style>\n",
       "<table border=\"1\" class=\"dataframe\">\n",
       "  <thead>\n",
       "    <tr style=\"text-align: right;\">\n",
       "      <th></th>\n",
       "      <th>index</th>\n",
       "      <th>year</th>\n",
       "      <th>constructorId</th>\n",
       "      <th>wins</th>\n",
       "      <th>name</th>\n",
       "    </tr>\n",
       "  </thead>\n",
       "  <tbody>\n",
       "    <tr>\n",
       "      <th>0</th>\n",
       "      <td>0</td>\n",
       "      <td>2009</td>\n",
       "      <td>6.0</td>\n",
       "      <td>0.0</td>\n",
       "      <td>Ferrari</td>\n",
       "    </tr>\n",
       "    <tr>\n",
       "      <th>1</th>\n",
       "      <td>2</td>\n",
       "      <td>2009</td>\n",
       "      <td>9.0</td>\n",
       "      <td>0.0</td>\n",
       "      <td>Red Bull</td>\n",
       "    </tr>\n",
       "    <tr>\n",
       "      <th>2</th>\n",
       "      <td>5</td>\n",
       "      <td>2009</td>\n",
       "      <td>3.0</td>\n",
       "      <td>0.0</td>\n",
       "      <td>Williams</td>\n",
       "    </tr>\n",
       "    <tr>\n",
       "      <th>3</th>\n",
       "      <td>9</td>\n",
       "      <td>2009</td>\n",
       "      <td>6.0</td>\n",
       "      <td>0.0</td>\n",
       "      <td>Ferrari</td>\n",
       "    </tr>\n",
       "    <tr>\n",
       "      <th>4</th>\n",
       "      <td>10</td>\n",
       "      <td>2009</td>\n",
       "      <td>9.0</td>\n",
       "      <td>0.0</td>\n",
       "      <td>Red Bull</td>\n",
       "    </tr>\n",
       "    <tr>\n",
       "      <th>...</th>\n",
       "      <td>...</td>\n",
       "      <td>...</td>\n",
       "      <td>...</td>\n",
       "      <td>...</td>\n",
       "      <td>...</td>\n",
       "    </tr>\n",
       "    <tr>\n",
       "      <th>3477</th>\n",
       "      <td>13325</td>\n",
       "      <td>2024</td>\n",
       "      <td>9.0</td>\n",
       "      <td>7.0</td>\n",
       "      <td>Red Bull</td>\n",
       "    </tr>\n",
       "    <tr>\n",
       "      <th>3478</th>\n",
       "      <td>13326</td>\n",
       "      <td>2024</td>\n",
       "      <td>6.0</td>\n",
       "      <td>2.0</td>\n",
       "      <td>Ferrari</td>\n",
       "    </tr>\n",
       "    <tr>\n",
       "      <th>3479</th>\n",
       "      <td>13327</td>\n",
       "      <td>2024</td>\n",
       "      <td>131.0</td>\n",
       "      <td>2.0</td>\n",
       "      <td>Mercedes</td>\n",
       "    </tr>\n",
       "    <tr>\n",
       "      <th>3480</th>\n",
       "      <td>13328</td>\n",
       "      <td>2024</td>\n",
       "      <td>1.0</td>\n",
       "      <td>1.0</td>\n",
       "      <td>McLaren</td>\n",
       "    </tr>\n",
       "    <tr>\n",
       "      <th>3481</th>\n",
       "      <td>13333</td>\n",
       "      <td>2024</td>\n",
       "      <td>3.0</td>\n",
       "      <td>0.0</td>\n",
       "      <td>Williams</td>\n",
       "    </tr>\n",
       "  </tbody>\n",
       "</table>\n",
       "<p>3482 rows × 5 columns</p>\n",
       "</div>"
      ],
      "text/plain": [
       "      index  year  constructorId  wins      name\n",
       "0         0  2009            6.0   0.0   Ferrari\n",
       "1         2  2009            9.0   0.0  Red Bull\n",
       "2         5  2009            3.0   0.0  Williams\n",
       "3         9  2009            6.0   0.0   Ferrari\n",
       "4        10  2009            9.0   0.0  Red Bull\n",
       "...     ...   ...            ...   ...       ...\n",
       "3477  13325  2024            9.0   7.0  Red Bull\n",
       "3478  13326  2024            6.0   2.0   Ferrari\n",
       "3479  13327  2024          131.0   2.0  Mercedes\n",
       "3480  13328  2024            1.0   1.0   McLaren\n",
       "3481  13333  2024            3.0   0.0  Williams\n",
       "\n",
       "[3482 rows x 5 columns]"
      ]
     },
     "execution_count": 4,
     "metadata": {},
     "output_type": "execute_result"
    }
   ],
   "source": [
    "#Cleaning data by removing the columns we dont need.\n",
    "\n",
    "filtered_df.drop(['raceId','constructorStandingsId','points','position','positionText'],axis=1).reset_index()"
   ]
  },
  {
   "cell_type": "code",
   "execution_count": 5,
   "metadata": {},
   "outputs": [
    {
     "data": {
      "text/html": [
       "<div>\n",
       "<style scoped>\n",
       "    .dataframe tbody tr th:only-of-type {\n",
       "        vertical-align: middle;\n",
       "    }\n",
       "\n",
       "    .dataframe tbody tr th {\n",
       "        vertical-align: top;\n",
       "    }\n",
       "\n",
       "    .dataframe thead th {\n",
       "        text-align: right;\n",
       "    }\n",
       "</style>\n",
       "<table border=\"1\" class=\"dataframe\">\n",
       "  <thead>\n",
       "    <tr style=\"text-align: right;\">\n",
       "      <th></th>\n",
       "      <th>1958</th>\n",
       "      <th>1959</th>\n",
       "      <th>1960</th>\n",
       "      <th>1961</th>\n",
       "      <th>1962</th>\n",
       "      <th>1963</th>\n",
       "      <th>1964</th>\n",
       "      <th>1965</th>\n",
       "      <th>1966</th>\n",
       "      <th>1967</th>\n",
       "      <th>1968</th>\n",
       "      <th>1969</th>\n",
       "      <th>1970</th>\n",
       "      <th>1971</th>\n",
       "      <th>1972</th>\n",
       "      <th>1973</th>\n",
       "      <th>1974</th>\n",
       "      <th>1975</th>\n",
       "      <th>1976</th>\n",
       "      <th>1977</th>\n",
       "      <th>1978</th>\n",
       "      <th>1979</th>\n",
       "      <th>1980</th>\n",
       "      <th>1981</th>\n",
       "      <th>1982</th>\n",
       "      <th>1983</th>\n",
       "      <th>1984</th>\n",
       "      <th>1985</th>\n",
       "      <th>1986</th>\n",
       "      <th>1987</th>\n",
       "      <th>1988</th>\n",
       "      <th>1989</th>\n",
       "      <th>1990</th>\n",
       "      <th>1991</th>\n",
       "      <th>1992</th>\n",
       "      <th>1993</th>\n",
       "      <th>1994</th>\n",
       "      <th>1995</th>\n",
       "      <th>1996</th>\n",
       "      <th>1997</th>\n",
       "      <th>1998</th>\n",
       "      <th>1999</th>\n",
       "      <th>2000</th>\n",
       "      <th>2001</th>\n",
       "      <th>2002</th>\n",
       "      <th>2003</th>\n",
       "      <th>2004</th>\n",
       "      <th>2005</th>\n",
       "      <th>2006</th>\n",
       "      <th>2007</th>\n",
       "      <th>2008</th>\n",
       "      <th>2009</th>\n",
       "      <th>2010</th>\n",
       "      <th>2011</th>\n",
       "      <th>2012</th>\n",
       "      <th>2013</th>\n",
       "      <th>2014</th>\n",
       "      <th>2015</th>\n",
       "      <th>2016</th>\n",
       "      <th>2017</th>\n",
       "      <th>2018</th>\n",
       "      <th>2019</th>\n",
       "      <th>2020</th>\n",
       "      <th>2021</th>\n",
       "      <th>2022</th>\n",
       "      <th>2023</th>\n",
       "      <th>2024</th>\n",
       "    </tr>\n",
       "  </thead>\n",
       "  <tbody>\n",
       "    <tr>\n",
       "      <th>Ferrari</th>\n",
       "      <td>NaN</td>\n",
       "      <td>NaN</td>\n",
       "      <td>NaN</td>\n",
       "      <td>NaN</td>\n",
       "      <td>NaN</td>\n",
       "      <td>NaN</td>\n",
       "      <td>NaN</td>\n",
       "      <td>NaN</td>\n",
       "      <td>NaN</td>\n",
       "      <td>NaN</td>\n",
       "      <td>NaN</td>\n",
       "      <td>NaN</td>\n",
       "      <td>NaN</td>\n",
       "      <td>NaN</td>\n",
       "      <td>NaN</td>\n",
       "      <td>NaN</td>\n",
       "      <td>NaN</td>\n",
       "      <td>NaN</td>\n",
       "      <td>NaN</td>\n",
       "      <td>NaN</td>\n",
       "      <td>NaN</td>\n",
       "      <td>NaN</td>\n",
       "      <td>NaN</td>\n",
       "      <td>NaN</td>\n",
       "      <td>NaN</td>\n",
       "      <td>NaN</td>\n",
       "      <td>NaN</td>\n",
       "      <td>NaN</td>\n",
       "      <td>NaN</td>\n",
       "      <td>NaN</td>\n",
       "      <td>NaN</td>\n",
       "      <td>NaN</td>\n",
       "      <td>NaN</td>\n",
       "      <td>NaN</td>\n",
       "      <td>NaN</td>\n",
       "      <td>NaN</td>\n",
       "      <td>NaN</td>\n",
       "      <td>NaN</td>\n",
       "      <td>NaN</td>\n",
       "      <td>NaN</td>\n",
       "      <td>NaN</td>\n",
       "      <td>NaN</td>\n",
       "      <td>NaN</td>\n",
       "      <td>NaN</td>\n",
       "      <td>NaN</td>\n",
       "      <td>NaN</td>\n",
       "      <td>NaN</td>\n",
       "      <td>NaN</td>\n",
       "      <td>NaN</td>\n",
       "      <td>NaN</td>\n",
       "      <td>NaN</td>\n",
       "      <td>NaN</td>\n",
       "      <td>NaN</td>\n",
       "      <td>NaN</td>\n",
       "      <td>NaN</td>\n",
       "      <td>NaN</td>\n",
       "      <td>NaN</td>\n",
       "      <td>NaN</td>\n",
       "      <td>NaN</td>\n",
       "      <td>NaN</td>\n",
       "      <td>NaN</td>\n",
       "      <td>NaN</td>\n",
       "      <td>NaN</td>\n",
       "      <td>NaN</td>\n",
       "      <td>NaN</td>\n",
       "      <td>NaN</td>\n",
       "      <td>NaN</td>\n",
       "    </tr>\n",
       "    <tr>\n",
       "      <th>Red Bull</th>\n",
       "      <td>NaN</td>\n",
       "      <td>NaN</td>\n",
       "      <td>NaN</td>\n",
       "      <td>NaN</td>\n",
       "      <td>NaN</td>\n",
       "      <td>NaN</td>\n",
       "      <td>NaN</td>\n",
       "      <td>NaN</td>\n",
       "      <td>NaN</td>\n",
       "      <td>NaN</td>\n",
       "      <td>NaN</td>\n",
       "      <td>NaN</td>\n",
       "      <td>NaN</td>\n",
       "      <td>NaN</td>\n",
       "      <td>NaN</td>\n",
       "      <td>NaN</td>\n",
       "      <td>NaN</td>\n",
       "      <td>NaN</td>\n",
       "      <td>NaN</td>\n",
       "      <td>NaN</td>\n",
       "      <td>NaN</td>\n",
       "      <td>NaN</td>\n",
       "      <td>NaN</td>\n",
       "      <td>NaN</td>\n",
       "      <td>NaN</td>\n",
       "      <td>NaN</td>\n",
       "      <td>NaN</td>\n",
       "      <td>NaN</td>\n",
       "      <td>NaN</td>\n",
       "      <td>NaN</td>\n",
       "      <td>NaN</td>\n",
       "      <td>NaN</td>\n",
       "      <td>NaN</td>\n",
       "      <td>NaN</td>\n",
       "      <td>NaN</td>\n",
       "      <td>NaN</td>\n",
       "      <td>NaN</td>\n",
       "      <td>NaN</td>\n",
       "      <td>NaN</td>\n",
       "      <td>NaN</td>\n",
       "      <td>NaN</td>\n",
       "      <td>NaN</td>\n",
       "      <td>NaN</td>\n",
       "      <td>NaN</td>\n",
       "      <td>NaN</td>\n",
       "      <td>NaN</td>\n",
       "      <td>NaN</td>\n",
       "      <td>NaN</td>\n",
       "      <td>NaN</td>\n",
       "      <td>NaN</td>\n",
       "      <td>NaN</td>\n",
       "      <td>NaN</td>\n",
       "      <td>NaN</td>\n",
       "      <td>NaN</td>\n",
       "      <td>NaN</td>\n",
       "      <td>NaN</td>\n",
       "      <td>NaN</td>\n",
       "      <td>NaN</td>\n",
       "      <td>NaN</td>\n",
       "      <td>NaN</td>\n",
       "      <td>NaN</td>\n",
       "      <td>NaN</td>\n",
       "      <td>NaN</td>\n",
       "      <td>NaN</td>\n",
       "      <td>NaN</td>\n",
       "      <td>NaN</td>\n",
       "      <td>NaN</td>\n",
       "    </tr>\n",
       "    <tr>\n",
       "      <th>Williams</th>\n",
       "      <td>NaN</td>\n",
       "      <td>NaN</td>\n",
       "      <td>NaN</td>\n",
       "      <td>NaN</td>\n",
       "      <td>NaN</td>\n",
       "      <td>NaN</td>\n",
       "      <td>NaN</td>\n",
       "      <td>NaN</td>\n",
       "      <td>NaN</td>\n",
       "      <td>NaN</td>\n",
       "      <td>NaN</td>\n",
       "      <td>NaN</td>\n",
       "      <td>NaN</td>\n",
       "      <td>NaN</td>\n",
       "      <td>NaN</td>\n",
       "      <td>NaN</td>\n",
       "      <td>NaN</td>\n",
       "      <td>NaN</td>\n",
       "      <td>NaN</td>\n",
       "      <td>NaN</td>\n",
       "      <td>NaN</td>\n",
       "      <td>NaN</td>\n",
       "      <td>NaN</td>\n",
       "      <td>NaN</td>\n",
       "      <td>NaN</td>\n",
       "      <td>NaN</td>\n",
       "      <td>NaN</td>\n",
       "      <td>NaN</td>\n",
       "      <td>NaN</td>\n",
       "      <td>NaN</td>\n",
       "      <td>NaN</td>\n",
       "      <td>NaN</td>\n",
       "      <td>NaN</td>\n",
       "      <td>NaN</td>\n",
       "      <td>NaN</td>\n",
       "      <td>NaN</td>\n",
       "      <td>NaN</td>\n",
       "      <td>NaN</td>\n",
       "      <td>NaN</td>\n",
       "      <td>NaN</td>\n",
       "      <td>NaN</td>\n",
       "      <td>NaN</td>\n",
       "      <td>NaN</td>\n",
       "      <td>NaN</td>\n",
       "      <td>NaN</td>\n",
       "      <td>NaN</td>\n",
       "      <td>NaN</td>\n",
       "      <td>NaN</td>\n",
       "      <td>NaN</td>\n",
       "      <td>NaN</td>\n",
       "      <td>NaN</td>\n",
       "      <td>NaN</td>\n",
       "      <td>NaN</td>\n",
       "      <td>NaN</td>\n",
       "      <td>NaN</td>\n",
       "      <td>NaN</td>\n",
       "      <td>NaN</td>\n",
       "      <td>NaN</td>\n",
       "      <td>NaN</td>\n",
       "      <td>NaN</td>\n",
       "      <td>NaN</td>\n",
       "      <td>NaN</td>\n",
       "      <td>NaN</td>\n",
       "      <td>NaN</td>\n",
       "      <td>NaN</td>\n",
       "      <td>NaN</td>\n",
       "      <td>NaN</td>\n",
       "    </tr>\n",
       "    <tr>\n",
       "      <th>McLaren</th>\n",
       "      <td>NaN</td>\n",
       "      <td>NaN</td>\n",
       "      <td>NaN</td>\n",
       "      <td>NaN</td>\n",
       "      <td>NaN</td>\n",
       "      <td>NaN</td>\n",
       "      <td>NaN</td>\n",
       "      <td>NaN</td>\n",
       "      <td>NaN</td>\n",
       "      <td>NaN</td>\n",
       "      <td>NaN</td>\n",
       "      <td>NaN</td>\n",
       "      <td>NaN</td>\n",
       "      <td>NaN</td>\n",
       "      <td>NaN</td>\n",
       "      <td>NaN</td>\n",
       "      <td>NaN</td>\n",
       "      <td>NaN</td>\n",
       "      <td>NaN</td>\n",
       "      <td>NaN</td>\n",
       "      <td>NaN</td>\n",
       "      <td>NaN</td>\n",
       "      <td>NaN</td>\n",
       "      <td>NaN</td>\n",
       "      <td>NaN</td>\n",
       "      <td>NaN</td>\n",
       "      <td>NaN</td>\n",
       "      <td>NaN</td>\n",
       "      <td>NaN</td>\n",
       "      <td>NaN</td>\n",
       "      <td>NaN</td>\n",
       "      <td>NaN</td>\n",
       "      <td>NaN</td>\n",
       "      <td>NaN</td>\n",
       "      <td>NaN</td>\n",
       "      <td>NaN</td>\n",
       "      <td>NaN</td>\n",
       "      <td>NaN</td>\n",
       "      <td>NaN</td>\n",
       "      <td>NaN</td>\n",
       "      <td>NaN</td>\n",
       "      <td>NaN</td>\n",
       "      <td>NaN</td>\n",
       "      <td>NaN</td>\n",
       "      <td>NaN</td>\n",
       "      <td>NaN</td>\n",
       "      <td>NaN</td>\n",
       "      <td>NaN</td>\n",
       "      <td>NaN</td>\n",
       "      <td>NaN</td>\n",
       "      <td>NaN</td>\n",
       "      <td>NaN</td>\n",
       "      <td>NaN</td>\n",
       "      <td>NaN</td>\n",
       "      <td>NaN</td>\n",
       "      <td>NaN</td>\n",
       "      <td>NaN</td>\n",
       "      <td>NaN</td>\n",
       "      <td>NaN</td>\n",
       "      <td>NaN</td>\n",
       "      <td>NaN</td>\n",
       "      <td>NaN</td>\n",
       "      <td>NaN</td>\n",
       "      <td>NaN</td>\n",
       "      <td>NaN</td>\n",
       "      <td>NaN</td>\n",
       "      <td>NaN</td>\n",
       "    </tr>\n",
       "    <tr>\n",
       "      <th>Mercedes</th>\n",
       "      <td>NaN</td>\n",
       "      <td>NaN</td>\n",
       "      <td>NaN</td>\n",
       "      <td>NaN</td>\n",
       "      <td>NaN</td>\n",
       "      <td>NaN</td>\n",
       "      <td>NaN</td>\n",
       "      <td>NaN</td>\n",
       "      <td>NaN</td>\n",
       "      <td>NaN</td>\n",
       "      <td>NaN</td>\n",
       "      <td>NaN</td>\n",
       "      <td>NaN</td>\n",
       "      <td>NaN</td>\n",
       "      <td>NaN</td>\n",
       "      <td>NaN</td>\n",
       "      <td>NaN</td>\n",
       "      <td>NaN</td>\n",
       "      <td>NaN</td>\n",
       "      <td>NaN</td>\n",
       "      <td>NaN</td>\n",
       "      <td>NaN</td>\n",
       "      <td>NaN</td>\n",
       "      <td>NaN</td>\n",
       "      <td>NaN</td>\n",
       "      <td>NaN</td>\n",
       "      <td>NaN</td>\n",
       "      <td>NaN</td>\n",
       "      <td>NaN</td>\n",
       "      <td>NaN</td>\n",
       "      <td>NaN</td>\n",
       "      <td>NaN</td>\n",
       "      <td>NaN</td>\n",
       "      <td>NaN</td>\n",
       "      <td>NaN</td>\n",
       "      <td>NaN</td>\n",
       "      <td>NaN</td>\n",
       "      <td>NaN</td>\n",
       "      <td>NaN</td>\n",
       "      <td>NaN</td>\n",
       "      <td>NaN</td>\n",
       "      <td>NaN</td>\n",
       "      <td>NaN</td>\n",
       "      <td>NaN</td>\n",
       "      <td>NaN</td>\n",
       "      <td>NaN</td>\n",
       "      <td>NaN</td>\n",
       "      <td>NaN</td>\n",
       "      <td>NaN</td>\n",
       "      <td>NaN</td>\n",
       "      <td>NaN</td>\n",
       "      <td>NaN</td>\n",
       "      <td>NaN</td>\n",
       "      <td>NaN</td>\n",
       "      <td>NaN</td>\n",
       "      <td>NaN</td>\n",
       "      <td>NaN</td>\n",
       "      <td>NaN</td>\n",
       "      <td>NaN</td>\n",
       "      <td>NaN</td>\n",
       "      <td>NaN</td>\n",
       "      <td>NaN</td>\n",
       "      <td>NaN</td>\n",
       "      <td>NaN</td>\n",
       "      <td>NaN</td>\n",
       "      <td>NaN</td>\n",
       "      <td>NaN</td>\n",
       "    </tr>\n",
       "  </tbody>\n",
       "</table>\n",
       "</div>"
      ],
      "text/plain": [
       "         1958 1959 1960 1961 1962 1963 1964 1965 1966 1967 1968 1969 1970  \\\n",
       "Ferrari   NaN  NaN  NaN  NaN  NaN  NaN  NaN  NaN  NaN  NaN  NaN  NaN  NaN   \n",
       "Red Bull  NaN  NaN  NaN  NaN  NaN  NaN  NaN  NaN  NaN  NaN  NaN  NaN  NaN   \n",
       "Williams  NaN  NaN  NaN  NaN  NaN  NaN  NaN  NaN  NaN  NaN  NaN  NaN  NaN   \n",
       "McLaren   NaN  NaN  NaN  NaN  NaN  NaN  NaN  NaN  NaN  NaN  NaN  NaN  NaN   \n",
       "Mercedes  NaN  NaN  NaN  NaN  NaN  NaN  NaN  NaN  NaN  NaN  NaN  NaN  NaN   \n",
       "\n",
       "         1971 1972 1973 1974 1975 1976 1977 1978 1979 1980 1981 1982 1983  \\\n",
       "Ferrari   NaN  NaN  NaN  NaN  NaN  NaN  NaN  NaN  NaN  NaN  NaN  NaN  NaN   \n",
       "Red Bull  NaN  NaN  NaN  NaN  NaN  NaN  NaN  NaN  NaN  NaN  NaN  NaN  NaN   \n",
       "Williams  NaN  NaN  NaN  NaN  NaN  NaN  NaN  NaN  NaN  NaN  NaN  NaN  NaN   \n",
       "McLaren   NaN  NaN  NaN  NaN  NaN  NaN  NaN  NaN  NaN  NaN  NaN  NaN  NaN   \n",
       "Mercedes  NaN  NaN  NaN  NaN  NaN  NaN  NaN  NaN  NaN  NaN  NaN  NaN  NaN   \n",
       "\n",
       "         1984 1985 1986 1987 1988 1989 1990 1991 1992 1993 1994 1995 1996  \\\n",
       "Ferrari   NaN  NaN  NaN  NaN  NaN  NaN  NaN  NaN  NaN  NaN  NaN  NaN  NaN   \n",
       "Red Bull  NaN  NaN  NaN  NaN  NaN  NaN  NaN  NaN  NaN  NaN  NaN  NaN  NaN   \n",
       "Williams  NaN  NaN  NaN  NaN  NaN  NaN  NaN  NaN  NaN  NaN  NaN  NaN  NaN   \n",
       "McLaren   NaN  NaN  NaN  NaN  NaN  NaN  NaN  NaN  NaN  NaN  NaN  NaN  NaN   \n",
       "Mercedes  NaN  NaN  NaN  NaN  NaN  NaN  NaN  NaN  NaN  NaN  NaN  NaN  NaN   \n",
       "\n",
       "         1997 1998 1999 2000 2001 2002 2003 2004 2005 2006 2007 2008 2009  \\\n",
       "Ferrari   NaN  NaN  NaN  NaN  NaN  NaN  NaN  NaN  NaN  NaN  NaN  NaN  NaN   \n",
       "Red Bull  NaN  NaN  NaN  NaN  NaN  NaN  NaN  NaN  NaN  NaN  NaN  NaN  NaN   \n",
       "Williams  NaN  NaN  NaN  NaN  NaN  NaN  NaN  NaN  NaN  NaN  NaN  NaN  NaN   \n",
       "McLaren   NaN  NaN  NaN  NaN  NaN  NaN  NaN  NaN  NaN  NaN  NaN  NaN  NaN   \n",
       "Mercedes  NaN  NaN  NaN  NaN  NaN  NaN  NaN  NaN  NaN  NaN  NaN  NaN  NaN   \n",
       "\n",
       "         2010 2011 2012 2013 2014 2015 2016 2017 2018 2019 2020 2021 2022  \\\n",
       "Ferrari   NaN  NaN  NaN  NaN  NaN  NaN  NaN  NaN  NaN  NaN  NaN  NaN  NaN   \n",
       "Red Bull  NaN  NaN  NaN  NaN  NaN  NaN  NaN  NaN  NaN  NaN  NaN  NaN  NaN   \n",
       "Williams  NaN  NaN  NaN  NaN  NaN  NaN  NaN  NaN  NaN  NaN  NaN  NaN  NaN   \n",
       "McLaren   NaN  NaN  NaN  NaN  NaN  NaN  NaN  NaN  NaN  NaN  NaN  NaN  NaN   \n",
       "Mercedes  NaN  NaN  NaN  NaN  NaN  NaN  NaN  NaN  NaN  NaN  NaN  NaN  NaN   \n",
       "\n",
       "         2023 2024  \n",
       "Ferrari   NaN  NaN  \n",
       "Red Bull  NaN  NaN  \n",
       "Williams  NaN  NaN  \n",
       "McLaren   NaN  NaN  \n",
       "Mercedes  NaN  NaN  "
      ]
     },
     "execution_count": 5,
     "metadata": {},
     "output_type": "execute_result"
    }
   ],
   "source": [
    "#Sorting data with year filter\n",
    "years = sorted(filtered_df['year'].unique())\n",
    "teams = filtered_df['name'].unique()\n",
    "\n",
    "t5_df = pd.DataFrame(index=teams,columns=years)\n",
    "t5_df"
   ]
  },
  {
   "cell_type": "code",
   "execution_count": 6,
   "metadata": {},
   "outputs": [
    {
     "data": {
      "text/html": [
       "<div>\n",
       "<style scoped>\n",
       "    .dataframe tbody tr th:only-of-type {\n",
       "        vertical-align: middle;\n",
       "    }\n",
       "\n",
       "    .dataframe tbody tr th {\n",
       "        vertical-align: top;\n",
       "    }\n",
       "\n",
       "    .dataframe thead th {\n",
       "        text-align: right;\n",
       "    }\n",
       "</style>\n",
       "<table border=\"1\" class=\"dataframe\">\n",
       "  <thead>\n",
       "    <tr style=\"text-align: right;\">\n",
       "      <th></th>\n",
       "      <th>1958</th>\n",
       "      <th>1959</th>\n",
       "      <th>1960</th>\n",
       "      <th>1961</th>\n",
       "      <th>1962</th>\n",
       "      <th>1963</th>\n",
       "      <th>1964</th>\n",
       "      <th>1965</th>\n",
       "      <th>1966</th>\n",
       "      <th>1967</th>\n",
       "      <th>1968</th>\n",
       "      <th>1969</th>\n",
       "      <th>1970</th>\n",
       "      <th>1971</th>\n",
       "      <th>1972</th>\n",
       "      <th>1973</th>\n",
       "      <th>1974</th>\n",
       "      <th>1975</th>\n",
       "      <th>1976</th>\n",
       "      <th>1977</th>\n",
       "      <th>1978</th>\n",
       "      <th>1979</th>\n",
       "      <th>1980</th>\n",
       "      <th>1981</th>\n",
       "      <th>1982</th>\n",
       "      <th>1983</th>\n",
       "      <th>1984</th>\n",
       "      <th>1985</th>\n",
       "      <th>1986</th>\n",
       "      <th>1987</th>\n",
       "      <th>1988</th>\n",
       "      <th>1989</th>\n",
       "      <th>1990</th>\n",
       "      <th>1991</th>\n",
       "      <th>1992</th>\n",
       "      <th>1993</th>\n",
       "      <th>1994</th>\n",
       "      <th>1995</th>\n",
       "      <th>1996</th>\n",
       "      <th>1997</th>\n",
       "      <th>1998</th>\n",
       "      <th>1999</th>\n",
       "      <th>2000</th>\n",
       "      <th>2001</th>\n",
       "      <th>2002</th>\n",
       "      <th>2003</th>\n",
       "      <th>2004</th>\n",
       "      <th>2005</th>\n",
       "      <th>2006</th>\n",
       "      <th>2007</th>\n",
       "      <th>2008</th>\n",
       "      <th>2009</th>\n",
       "      <th>2010</th>\n",
       "      <th>2011</th>\n",
       "      <th>2012</th>\n",
       "      <th>2013</th>\n",
       "      <th>2014</th>\n",
       "      <th>2015</th>\n",
       "      <th>2016</th>\n",
       "      <th>2017</th>\n",
       "      <th>2018</th>\n",
       "      <th>2019</th>\n",
       "      <th>2020</th>\n",
       "      <th>2021</th>\n",
       "      <th>2022</th>\n",
       "      <th>2023</th>\n",
       "      <th>2024</th>\n",
       "    </tr>\n",
       "  </thead>\n",
       "  <tbody>\n",
       "    <tr>\n",
       "      <th>Ferrari</th>\n",
       "      <td>2.0</td>\n",
       "      <td>2.0</td>\n",
       "      <td>1.0</td>\n",
       "      <td>5.0</td>\n",
       "      <td>0.0</td>\n",
       "      <td>1.0</td>\n",
       "      <td>3.0</td>\n",
       "      <td>0.0</td>\n",
       "      <td>2.0</td>\n",
       "      <td>0.0</td>\n",
       "      <td>1.0</td>\n",
       "      <td>0.0</td>\n",
       "      <td>4.0</td>\n",
       "      <td>2.0</td>\n",
       "      <td>1.0</td>\n",
       "      <td>0.0</td>\n",
       "      <td>3.0</td>\n",
       "      <td>6.0</td>\n",
       "      <td>6.0</td>\n",
       "      <td>4.0</td>\n",
       "      <td>5.0</td>\n",
       "      <td>6.0</td>\n",
       "      <td>0.0</td>\n",
       "      <td>2.0</td>\n",
       "      <td>3.0</td>\n",
       "      <td>4.0</td>\n",
       "      <td>1.0</td>\n",
       "      <td>2.0</td>\n",
       "      <td>0.0</td>\n",
       "      <td>2.0</td>\n",
       "      <td>1.0</td>\n",
       "      <td>3.0</td>\n",
       "      <td>6.0</td>\n",
       "      <td>0.0</td>\n",
       "      <td>0.0</td>\n",
       "      <td>0.0</td>\n",
       "      <td>1.0</td>\n",
       "      <td>1.0</td>\n",
       "      <td>3.0</td>\n",
       "      <td>5.0</td>\n",
       "      <td>6.0</td>\n",
       "      <td>6.0</td>\n",
       "      <td>10.0</td>\n",
       "      <td>9.0</td>\n",
       "      <td>15.0</td>\n",
       "      <td>8.0</td>\n",
       "      <td>15.0</td>\n",
       "      <td>1.0</td>\n",
       "      <td>9.0</td>\n",
       "      <td>9.0</td>\n",
       "      <td>8.0</td>\n",
       "      <td>1.0</td>\n",
       "      <td>5.0</td>\n",
       "      <td>1.0</td>\n",
       "      <td>3.0</td>\n",
       "      <td>2.0</td>\n",
       "      <td>0.0</td>\n",
       "      <td>3.0</td>\n",
       "      <td>0.0</td>\n",
       "      <td>5.0</td>\n",
       "      <td>6.0</td>\n",
       "      <td>3.0</td>\n",
       "      <td>0.0</td>\n",
       "      <td>0.0</td>\n",
       "      <td>4.0</td>\n",
       "      <td>1.0</td>\n",
       "      <td>2.0</td>\n",
       "    </tr>\n",
       "    <tr>\n",
       "      <th>Red Bull</th>\n",
       "      <td>NaN</td>\n",
       "      <td>NaN</td>\n",
       "      <td>NaN</td>\n",
       "      <td>NaN</td>\n",
       "      <td>NaN</td>\n",
       "      <td>NaN</td>\n",
       "      <td>NaN</td>\n",
       "      <td>NaN</td>\n",
       "      <td>NaN</td>\n",
       "      <td>NaN</td>\n",
       "      <td>NaN</td>\n",
       "      <td>NaN</td>\n",
       "      <td>NaN</td>\n",
       "      <td>NaN</td>\n",
       "      <td>NaN</td>\n",
       "      <td>NaN</td>\n",
       "      <td>NaN</td>\n",
       "      <td>NaN</td>\n",
       "      <td>NaN</td>\n",
       "      <td>NaN</td>\n",
       "      <td>NaN</td>\n",
       "      <td>NaN</td>\n",
       "      <td>NaN</td>\n",
       "      <td>NaN</td>\n",
       "      <td>NaN</td>\n",
       "      <td>NaN</td>\n",
       "      <td>NaN</td>\n",
       "      <td>NaN</td>\n",
       "      <td>NaN</td>\n",
       "      <td>NaN</td>\n",
       "      <td>NaN</td>\n",
       "      <td>NaN</td>\n",
       "      <td>NaN</td>\n",
       "      <td>NaN</td>\n",
       "      <td>NaN</td>\n",
       "      <td>NaN</td>\n",
       "      <td>NaN</td>\n",
       "      <td>NaN</td>\n",
       "      <td>NaN</td>\n",
       "      <td>NaN</td>\n",
       "      <td>NaN</td>\n",
       "      <td>NaN</td>\n",
       "      <td>NaN</td>\n",
       "      <td>NaN</td>\n",
       "      <td>NaN</td>\n",
       "      <td>NaN</td>\n",
       "      <td>NaN</td>\n",
       "      <td>0.0</td>\n",
       "      <td>0.0</td>\n",
       "      <td>0.0</td>\n",
       "      <td>0.0</td>\n",
       "      <td>6.0</td>\n",
       "      <td>9.0</td>\n",
       "      <td>12.0</td>\n",
       "      <td>7.0</td>\n",
       "      <td>13.0</td>\n",
       "      <td>3.0</td>\n",
       "      <td>0.0</td>\n",
       "      <td>2.0</td>\n",
       "      <td>3.0</td>\n",
       "      <td>4.0</td>\n",
       "      <td>3.0</td>\n",
       "      <td>2.0</td>\n",
       "      <td>11.0</td>\n",
       "      <td>17.0</td>\n",
       "      <td>21.0</td>\n",
       "      <td>7.0</td>\n",
       "    </tr>\n",
       "    <tr>\n",
       "      <th>Williams</th>\n",
       "      <td>NaN</td>\n",
       "      <td>NaN</td>\n",
       "      <td>NaN</td>\n",
       "      <td>NaN</td>\n",
       "      <td>NaN</td>\n",
       "      <td>NaN</td>\n",
       "      <td>NaN</td>\n",
       "      <td>NaN</td>\n",
       "      <td>NaN</td>\n",
       "      <td>NaN</td>\n",
       "      <td>NaN</td>\n",
       "      <td>NaN</td>\n",
       "      <td>NaN</td>\n",
       "      <td>NaN</td>\n",
       "      <td>NaN</td>\n",
       "      <td>NaN</td>\n",
       "      <td>NaN</td>\n",
       "      <td>0.0</td>\n",
       "      <td>0.0</td>\n",
       "      <td>NaN</td>\n",
       "      <td>0.0</td>\n",
       "      <td>5.0</td>\n",
       "      <td>6.0</td>\n",
       "      <td>4.0</td>\n",
       "      <td>1.0</td>\n",
       "      <td>1.0</td>\n",
       "      <td>1.0</td>\n",
       "      <td>4.0</td>\n",
       "      <td>9.0</td>\n",
       "      <td>9.0</td>\n",
       "      <td>0.0</td>\n",
       "      <td>2.0</td>\n",
       "      <td>2.0</td>\n",
       "      <td>7.0</td>\n",
       "      <td>10.0</td>\n",
       "      <td>10.0</td>\n",
       "      <td>7.0</td>\n",
       "      <td>5.0</td>\n",
       "      <td>12.0</td>\n",
       "      <td>8.0</td>\n",
       "      <td>0.0</td>\n",
       "      <td>0.0</td>\n",
       "      <td>0.0</td>\n",
       "      <td>4.0</td>\n",
       "      <td>1.0</td>\n",
       "      <td>4.0</td>\n",
       "      <td>1.0</td>\n",
       "      <td>0.0</td>\n",
       "      <td>0.0</td>\n",
       "      <td>0.0</td>\n",
       "      <td>0.0</td>\n",
       "      <td>0.0</td>\n",
       "      <td>0.0</td>\n",
       "      <td>0.0</td>\n",
       "      <td>1.0</td>\n",
       "      <td>0.0</td>\n",
       "      <td>0.0</td>\n",
       "      <td>0.0</td>\n",
       "      <td>0.0</td>\n",
       "      <td>0.0</td>\n",
       "      <td>0.0</td>\n",
       "      <td>0.0</td>\n",
       "      <td>0.0</td>\n",
       "      <td>0.0</td>\n",
       "      <td>0.0</td>\n",
       "      <td>0.0</td>\n",
       "      <td>0.0</td>\n",
       "    </tr>\n",
       "    <tr>\n",
       "      <th>McLaren</th>\n",
       "      <td>NaN</td>\n",
       "      <td>NaN</td>\n",
       "      <td>NaN</td>\n",
       "      <td>NaN</td>\n",
       "      <td>NaN</td>\n",
       "      <td>NaN</td>\n",
       "      <td>NaN</td>\n",
       "      <td>NaN</td>\n",
       "      <td>NaN</td>\n",
       "      <td>NaN</td>\n",
       "      <td>0.0</td>\n",
       "      <td>NaN</td>\n",
       "      <td>NaN</td>\n",
       "      <td>0.0</td>\n",
       "      <td>1.0</td>\n",
       "      <td>3.0</td>\n",
       "      <td>4.0</td>\n",
       "      <td>3.0</td>\n",
       "      <td>6.0</td>\n",
       "      <td>3.0</td>\n",
       "      <td>0.0</td>\n",
       "      <td>0.0</td>\n",
       "      <td>0.0</td>\n",
       "      <td>1.0</td>\n",
       "      <td>4.0</td>\n",
       "      <td>1.0</td>\n",
       "      <td>12.0</td>\n",
       "      <td>6.0</td>\n",
       "      <td>4.0</td>\n",
       "      <td>3.0</td>\n",
       "      <td>15.0</td>\n",
       "      <td>10.0</td>\n",
       "      <td>6.0</td>\n",
       "      <td>8.0</td>\n",
       "      <td>5.0</td>\n",
       "      <td>5.0</td>\n",
       "      <td>0.0</td>\n",
       "      <td>0.0</td>\n",
       "      <td>0.0</td>\n",
       "      <td>3.0</td>\n",
       "      <td>9.0</td>\n",
       "      <td>7.0</td>\n",
       "      <td>7.0</td>\n",
       "      <td>4.0</td>\n",
       "      <td>1.0</td>\n",
       "      <td>2.0</td>\n",
       "      <td>1.0</td>\n",
       "      <td>10.0</td>\n",
       "      <td>0.0</td>\n",
       "      <td>8.0</td>\n",
       "      <td>6.0</td>\n",
       "      <td>2.0</td>\n",
       "      <td>5.0</td>\n",
       "      <td>6.0</td>\n",
       "      <td>7.0</td>\n",
       "      <td>0.0</td>\n",
       "      <td>0.0</td>\n",
       "      <td>0.0</td>\n",
       "      <td>0.0</td>\n",
       "      <td>0.0</td>\n",
       "      <td>0.0</td>\n",
       "      <td>0.0</td>\n",
       "      <td>0.0</td>\n",
       "      <td>1.0</td>\n",
       "      <td>0.0</td>\n",
       "      <td>0.0</td>\n",
       "      <td>1.0</td>\n",
       "    </tr>\n",
       "    <tr>\n",
       "      <th>Mercedes</th>\n",
       "      <td>NaN</td>\n",
       "      <td>NaN</td>\n",
       "      <td>NaN</td>\n",
       "      <td>NaN</td>\n",
       "      <td>NaN</td>\n",
       "      <td>NaN</td>\n",
       "      <td>NaN</td>\n",
       "      <td>NaN</td>\n",
       "      <td>NaN</td>\n",
       "      <td>NaN</td>\n",
       "      <td>NaN</td>\n",
       "      <td>NaN</td>\n",
       "      <td>NaN</td>\n",
       "      <td>NaN</td>\n",
       "      <td>NaN</td>\n",
       "      <td>NaN</td>\n",
       "      <td>NaN</td>\n",
       "      <td>NaN</td>\n",
       "      <td>NaN</td>\n",
       "      <td>NaN</td>\n",
       "      <td>NaN</td>\n",
       "      <td>NaN</td>\n",
       "      <td>NaN</td>\n",
       "      <td>NaN</td>\n",
       "      <td>NaN</td>\n",
       "      <td>NaN</td>\n",
       "      <td>NaN</td>\n",
       "      <td>NaN</td>\n",
       "      <td>NaN</td>\n",
       "      <td>NaN</td>\n",
       "      <td>NaN</td>\n",
       "      <td>NaN</td>\n",
       "      <td>NaN</td>\n",
       "      <td>NaN</td>\n",
       "      <td>NaN</td>\n",
       "      <td>NaN</td>\n",
       "      <td>NaN</td>\n",
       "      <td>NaN</td>\n",
       "      <td>NaN</td>\n",
       "      <td>NaN</td>\n",
       "      <td>NaN</td>\n",
       "      <td>NaN</td>\n",
       "      <td>NaN</td>\n",
       "      <td>NaN</td>\n",
       "      <td>NaN</td>\n",
       "      <td>NaN</td>\n",
       "      <td>NaN</td>\n",
       "      <td>NaN</td>\n",
       "      <td>NaN</td>\n",
       "      <td>NaN</td>\n",
       "      <td>NaN</td>\n",
       "      <td>NaN</td>\n",
       "      <td>0.0</td>\n",
       "      <td>0.0</td>\n",
       "      <td>1.0</td>\n",
       "      <td>3.0</td>\n",
       "      <td>16.0</td>\n",
       "      <td>16.0</td>\n",
       "      <td>19.0</td>\n",
       "      <td>12.0</td>\n",
       "      <td>11.0</td>\n",
       "      <td>15.0</td>\n",
       "      <td>13.0</td>\n",
       "      <td>9.0</td>\n",
       "      <td>1.0</td>\n",
       "      <td>0.0</td>\n",
       "      <td>2.0</td>\n",
       "    </tr>\n",
       "  </tbody>\n",
       "</table>\n",
       "</div>"
      ],
      "text/plain": [
       "         1958 1959 1960 1961 1962 1963 1964 1965 1966 1967 1968 1969 1970  \\\n",
       "Ferrari   2.0  2.0  1.0  5.0  0.0  1.0  3.0  0.0  2.0  0.0  1.0  0.0  4.0   \n",
       "Red Bull  NaN  NaN  NaN  NaN  NaN  NaN  NaN  NaN  NaN  NaN  NaN  NaN  NaN   \n",
       "Williams  NaN  NaN  NaN  NaN  NaN  NaN  NaN  NaN  NaN  NaN  NaN  NaN  NaN   \n",
       "McLaren   NaN  NaN  NaN  NaN  NaN  NaN  NaN  NaN  NaN  NaN  0.0  NaN  NaN   \n",
       "Mercedes  NaN  NaN  NaN  NaN  NaN  NaN  NaN  NaN  NaN  NaN  NaN  NaN  NaN   \n",
       "\n",
       "         1971 1972 1973 1974 1975 1976 1977 1978 1979 1980 1981 1982 1983  \\\n",
       "Ferrari   2.0  1.0  0.0  3.0  6.0  6.0  4.0  5.0  6.0  0.0  2.0  3.0  4.0   \n",
       "Red Bull  NaN  NaN  NaN  NaN  NaN  NaN  NaN  NaN  NaN  NaN  NaN  NaN  NaN   \n",
       "Williams  NaN  NaN  NaN  NaN  0.0  0.0  NaN  0.0  5.0  6.0  4.0  1.0  1.0   \n",
       "McLaren   0.0  1.0  3.0  4.0  3.0  6.0  3.0  0.0  0.0  0.0  1.0  4.0  1.0   \n",
       "Mercedes  NaN  NaN  NaN  NaN  NaN  NaN  NaN  NaN  NaN  NaN  NaN  NaN  NaN   \n",
       "\n",
       "          1984 1985 1986 1987  1988  1989 1990 1991  1992  1993 1994 1995  \\\n",
       "Ferrari    1.0  2.0  0.0  2.0   1.0   3.0  6.0  0.0   0.0   0.0  1.0  1.0   \n",
       "Red Bull   NaN  NaN  NaN  NaN   NaN   NaN  NaN  NaN   NaN   NaN  NaN  NaN   \n",
       "Williams   1.0  4.0  9.0  9.0   0.0   2.0  2.0  7.0  10.0  10.0  7.0  5.0   \n",
       "McLaren   12.0  6.0  4.0  3.0  15.0  10.0  6.0  8.0   5.0   5.0  0.0  0.0   \n",
       "Mercedes   NaN  NaN  NaN  NaN   NaN   NaN  NaN  NaN   NaN   NaN  NaN  NaN   \n",
       "\n",
       "          1996 1997 1998 1999  2000 2001  2002 2003  2004  2005 2006 2007  \\\n",
       "Ferrari    3.0  5.0  6.0  6.0  10.0  9.0  15.0  8.0  15.0   1.0  9.0  9.0   \n",
       "Red Bull   NaN  NaN  NaN  NaN   NaN  NaN   NaN  NaN   NaN   0.0  0.0  0.0   \n",
       "Williams  12.0  8.0  0.0  0.0   0.0  4.0   1.0  4.0   1.0   0.0  0.0  0.0   \n",
       "McLaren    0.0  3.0  9.0  7.0   7.0  4.0   1.0  2.0   1.0  10.0  0.0  8.0   \n",
       "Mercedes   NaN  NaN  NaN  NaN   NaN  NaN   NaN  NaN   NaN   NaN  NaN  NaN   \n",
       "\n",
       "         2008 2009 2010  2011 2012  2013  2014  2015  2016  2017  2018  2019  \\\n",
       "Ferrari   8.0  1.0  5.0   1.0  3.0   2.0   0.0   3.0   0.0   5.0   6.0   3.0   \n",
       "Red Bull  0.0  6.0  9.0  12.0  7.0  13.0   3.0   0.0   2.0   3.0   4.0   3.0   \n",
       "Williams  0.0  0.0  0.0   0.0  1.0   0.0   0.0   0.0   0.0   0.0   0.0   0.0   \n",
       "McLaren   6.0  2.0  5.0   6.0  7.0   0.0   0.0   0.0   0.0   0.0   0.0   0.0   \n",
       "Mercedes  NaN  NaN  0.0   0.0  1.0   3.0  16.0  16.0  19.0  12.0  11.0  15.0   \n",
       "\n",
       "          2020  2021  2022  2023 2024  \n",
       "Ferrari    0.0   0.0   4.0   1.0  2.0  \n",
       "Red Bull   2.0  11.0  17.0  21.0  7.0  \n",
       "Williams   0.0   0.0   0.0   0.0  0.0  \n",
       "McLaren    0.0   1.0   0.0   0.0  1.0  \n",
       "Mercedes  13.0   9.0   1.0   0.0  2.0  "
      ]
     },
     "execution_count": 6,
     "metadata": {},
     "output_type": "execute_result"
    }
   ],
   "source": [
    "#Looping through 5 teams we are searching\n",
    "\n",
    "for index,row in filtered_df.iterrows():\n",
    "    year=row['year']\n",
    "    name=row['name']\n",
    "    wins=row['wins']\n",
    "    \n",
    "    if name in t5_df.index and year in t5_df.columns:\n",
    "        t5_df.at[name,year] = wins\n",
    "t5_df[2023] = {'Ferrari':1.0, 'Red Bull':21.0, 'Williams':0, 'McLaren':0, 'Mercedes':0}\n",
    "#Printing dataframe\n",
    "t5_df"
   ]
  },
  {
   "cell_type": "code",
   "execution_count": 7,
   "metadata": {},
   "outputs": [
    {
     "data": {
      "application/vnd.plotly.v1+json": {
       "config": {
        "plotlyServerURL": "https://plot.ly"
       },
       "data": [
        {
         "customdata": [
          [
           "Ferrari"
          ],
          [
           "Ferrari"
          ],
          [
           "Ferrari"
          ],
          [
           "Ferrari"
          ],
          [
           "Ferrari"
          ],
          [
           "Ferrari"
          ],
          [
           "Ferrari"
          ],
          [
           "Ferrari"
          ],
          [
           "Ferrari"
          ],
          [
           "Ferrari"
          ],
          [
           "Ferrari"
          ],
          [
           "Ferrari"
          ],
          [
           "Ferrari"
          ],
          [
           "Ferrari"
          ],
          [
           "Ferrari"
          ],
          [
           "Ferrari"
          ],
          [
           "Ferrari"
          ],
          [
           "Ferrari"
          ],
          [
           "Ferrari"
          ],
          [
           "Ferrari"
          ],
          [
           "Ferrari"
          ],
          [
           "Ferrari"
          ],
          [
           "Ferrari"
          ],
          [
           "Ferrari"
          ],
          [
           "Ferrari"
          ],
          [
           "Ferrari"
          ],
          [
           "Ferrari"
          ],
          [
           "Ferrari"
          ],
          [
           "Ferrari"
          ],
          [
           "Ferrari"
          ],
          [
           "Ferrari"
          ],
          [
           "Ferrari"
          ],
          [
           "Ferrari"
          ],
          [
           "Ferrari"
          ],
          [
           "Ferrari"
          ],
          [
           "Ferrari"
          ],
          [
           "Ferrari"
          ],
          [
           "Ferrari"
          ],
          [
           "Ferrari"
          ],
          [
           "Ferrari"
          ],
          [
           "Ferrari"
          ],
          [
           "Ferrari"
          ],
          [
           "Ferrari"
          ],
          [
           "Ferrari"
          ],
          [
           "Ferrari"
          ],
          [
           "Ferrari"
          ],
          [
           "Ferrari"
          ],
          [
           "Ferrari"
          ],
          [
           "Ferrari"
          ],
          [
           "Ferrari"
          ],
          [
           "Ferrari"
          ],
          [
           "Ferrari"
          ],
          [
           "Ferrari"
          ],
          [
           "Ferrari"
          ],
          [
           "Ferrari"
          ],
          [
           "Ferrari"
          ],
          [
           "Ferrari"
          ],
          [
           "Ferrari"
          ],
          [
           "Ferrari"
          ],
          [
           "Ferrari"
          ],
          [
           "Ferrari"
          ],
          [
           "Ferrari"
          ],
          [
           "Ferrari"
          ],
          [
           "Ferrari"
          ],
          [
           "Ferrari"
          ],
          [
           "Ferrari"
          ],
          [
           "Ferrari"
          ]
         ],
         "hovertemplate": "Team=%{customdata[0]}<br>Year=%{x}<br>Win Count=%{y}<extra></extra>",
         "legendgroup": "Ferrari",
         "line": {
          "color": "#d62728",
          "dash": "solid"
         },
         "marker": {
          "symbol": "circle"
         },
         "mode": "markers+lines",
         "name": "Ferrari",
         "orientation": "v",
         "showlegend": true,
         "type": "scatter",
         "x": [
          1958,
          1959,
          1960,
          1961,
          1962,
          1963,
          1964,
          1965,
          1966,
          1967,
          1968,
          1969,
          1970,
          1971,
          1972,
          1973,
          1974,
          1975,
          1976,
          1977,
          1978,
          1979,
          1980,
          1981,
          1982,
          1983,
          1984,
          1985,
          1986,
          1987,
          1988,
          1989,
          1990,
          1991,
          1992,
          1993,
          1994,
          1995,
          1996,
          1997,
          1998,
          1999,
          2000,
          2001,
          2002,
          2003,
          2004,
          2005,
          2006,
          2007,
          2008,
          2009,
          2010,
          2011,
          2012,
          2013,
          2014,
          2015,
          2016,
          2017,
          2018,
          2019,
          2020,
          2021,
          2022,
          2023,
          2024
         ],
         "xaxis": "x",
         "y": [
          2,
          2,
          1,
          5,
          0,
          1,
          3,
          0,
          2,
          0,
          1,
          0,
          4,
          2,
          1,
          0,
          3,
          6,
          6,
          4,
          5,
          6,
          0,
          2,
          3,
          4,
          1,
          2,
          0,
          2,
          1,
          3,
          6,
          0,
          0,
          0,
          1,
          1,
          3,
          5,
          6,
          6,
          10,
          9,
          15,
          8,
          15,
          1,
          9,
          9,
          8,
          1,
          5,
          1,
          3,
          2,
          0,
          3,
          0,
          5,
          6,
          3,
          0,
          0,
          4,
          1,
          2
         ],
         "yaxis": "y"
        },
        {
         "customdata": [
          [
           "Red Bull"
          ],
          [
           "Red Bull"
          ],
          [
           "Red Bull"
          ],
          [
           "Red Bull"
          ],
          [
           "Red Bull"
          ],
          [
           "Red Bull"
          ],
          [
           "Red Bull"
          ],
          [
           "Red Bull"
          ],
          [
           "Red Bull"
          ],
          [
           "Red Bull"
          ],
          [
           "Red Bull"
          ],
          [
           "Red Bull"
          ],
          [
           "Red Bull"
          ],
          [
           "Red Bull"
          ],
          [
           "Red Bull"
          ],
          [
           "Red Bull"
          ],
          [
           "Red Bull"
          ],
          [
           "Red Bull"
          ],
          [
           "Red Bull"
          ],
          [
           "Red Bull"
          ],
          [
           "Red Bull"
          ],
          [
           "Red Bull"
          ],
          [
           "Red Bull"
          ],
          [
           "Red Bull"
          ],
          [
           "Red Bull"
          ],
          [
           "Red Bull"
          ],
          [
           "Red Bull"
          ],
          [
           "Red Bull"
          ],
          [
           "Red Bull"
          ],
          [
           "Red Bull"
          ],
          [
           "Red Bull"
          ],
          [
           "Red Bull"
          ],
          [
           "Red Bull"
          ],
          [
           "Red Bull"
          ],
          [
           "Red Bull"
          ],
          [
           "Red Bull"
          ],
          [
           "Red Bull"
          ],
          [
           "Red Bull"
          ],
          [
           "Red Bull"
          ],
          [
           "Red Bull"
          ],
          [
           "Red Bull"
          ],
          [
           "Red Bull"
          ],
          [
           "Red Bull"
          ],
          [
           "Red Bull"
          ],
          [
           "Red Bull"
          ],
          [
           "Red Bull"
          ],
          [
           "Red Bull"
          ],
          [
           "Red Bull"
          ],
          [
           "Red Bull"
          ],
          [
           "Red Bull"
          ],
          [
           "Red Bull"
          ],
          [
           "Red Bull"
          ],
          [
           "Red Bull"
          ],
          [
           "Red Bull"
          ],
          [
           "Red Bull"
          ],
          [
           "Red Bull"
          ],
          [
           "Red Bull"
          ],
          [
           "Red Bull"
          ],
          [
           "Red Bull"
          ],
          [
           "Red Bull"
          ],
          [
           "Red Bull"
          ],
          [
           "Red Bull"
          ],
          [
           "Red Bull"
          ],
          [
           "Red Bull"
          ],
          [
           "Red Bull"
          ],
          [
           "Red Bull"
          ],
          [
           "Red Bull"
          ]
         ],
         "hovertemplate": "Team=%{customdata[0]}<br>Year=%{x}<br>Win Count=%{y}<extra></extra>",
         "legendgroup": "Red Bull",
         "line": {
          "color": "#0b5394",
          "dash": "solid"
         },
         "marker": {
          "symbol": "circle"
         },
         "mode": "markers+lines",
         "name": "Red Bull",
         "orientation": "v",
         "showlegend": true,
         "type": "scatter",
         "x": [
          1958,
          1959,
          1960,
          1961,
          1962,
          1963,
          1964,
          1965,
          1966,
          1967,
          1968,
          1969,
          1970,
          1971,
          1972,
          1973,
          1974,
          1975,
          1976,
          1977,
          1978,
          1979,
          1980,
          1981,
          1982,
          1983,
          1984,
          1985,
          1986,
          1987,
          1988,
          1989,
          1990,
          1991,
          1992,
          1993,
          1994,
          1995,
          1996,
          1997,
          1998,
          1999,
          2000,
          2001,
          2002,
          2003,
          2004,
          2005,
          2006,
          2007,
          2008,
          2009,
          2010,
          2011,
          2012,
          2013,
          2014,
          2015,
          2016,
          2017,
          2018,
          2019,
          2020,
          2021,
          2022,
          2023,
          2024
         ],
         "xaxis": "x",
         "y": [
          null,
          null,
          null,
          null,
          null,
          null,
          null,
          null,
          null,
          null,
          null,
          null,
          null,
          null,
          null,
          null,
          null,
          null,
          null,
          null,
          null,
          null,
          null,
          null,
          null,
          null,
          null,
          null,
          null,
          null,
          null,
          null,
          null,
          null,
          null,
          null,
          null,
          null,
          null,
          null,
          null,
          null,
          null,
          null,
          null,
          null,
          null,
          0,
          0,
          0,
          0,
          6,
          9,
          12,
          7,
          13,
          3,
          0,
          2,
          3,
          4,
          3,
          2,
          11,
          17,
          21,
          7
         ],
         "yaxis": "y"
        },
        {
         "customdata": [
          [
           "Williams"
          ],
          [
           "Williams"
          ],
          [
           "Williams"
          ],
          [
           "Williams"
          ],
          [
           "Williams"
          ],
          [
           "Williams"
          ],
          [
           "Williams"
          ],
          [
           "Williams"
          ],
          [
           "Williams"
          ],
          [
           "Williams"
          ],
          [
           "Williams"
          ],
          [
           "Williams"
          ],
          [
           "Williams"
          ],
          [
           "Williams"
          ],
          [
           "Williams"
          ],
          [
           "Williams"
          ],
          [
           "Williams"
          ],
          [
           "Williams"
          ],
          [
           "Williams"
          ],
          [
           "Williams"
          ],
          [
           "Williams"
          ],
          [
           "Williams"
          ],
          [
           "Williams"
          ],
          [
           "Williams"
          ],
          [
           "Williams"
          ],
          [
           "Williams"
          ],
          [
           "Williams"
          ],
          [
           "Williams"
          ],
          [
           "Williams"
          ],
          [
           "Williams"
          ],
          [
           "Williams"
          ],
          [
           "Williams"
          ],
          [
           "Williams"
          ],
          [
           "Williams"
          ],
          [
           "Williams"
          ],
          [
           "Williams"
          ],
          [
           "Williams"
          ],
          [
           "Williams"
          ],
          [
           "Williams"
          ],
          [
           "Williams"
          ],
          [
           "Williams"
          ],
          [
           "Williams"
          ],
          [
           "Williams"
          ],
          [
           "Williams"
          ],
          [
           "Williams"
          ],
          [
           "Williams"
          ],
          [
           "Williams"
          ],
          [
           "Williams"
          ],
          [
           "Williams"
          ],
          [
           "Williams"
          ],
          [
           "Williams"
          ],
          [
           "Williams"
          ],
          [
           "Williams"
          ],
          [
           "Williams"
          ],
          [
           "Williams"
          ],
          [
           "Williams"
          ],
          [
           "Williams"
          ],
          [
           "Williams"
          ],
          [
           "Williams"
          ],
          [
           "Williams"
          ],
          [
           "Williams"
          ],
          [
           "Williams"
          ],
          [
           "Williams"
          ],
          [
           "Williams"
          ],
          [
           "Williams"
          ],
          [
           "Williams"
          ],
          [
           "Williams"
          ]
         ],
         "hovertemplate": "Team=%{customdata[0]}<br>Year=%{x}<br>Win Count=%{y}<extra></extra>",
         "legendgroup": "Williams",
         "line": {
          "color": "#6fa8dc",
          "dash": "solid"
         },
         "marker": {
          "symbol": "circle"
         },
         "mode": "markers+lines",
         "name": "Williams",
         "orientation": "v",
         "showlegend": true,
         "type": "scatter",
         "x": [
          1958,
          1959,
          1960,
          1961,
          1962,
          1963,
          1964,
          1965,
          1966,
          1967,
          1968,
          1969,
          1970,
          1971,
          1972,
          1973,
          1974,
          1975,
          1976,
          1977,
          1978,
          1979,
          1980,
          1981,
          1982,
          1983,
          1984,
          1985,
          1986,
          1987,
          1988,
          1989,
          1990,
          1991,
          1992,
          1993,
          1994,
          1995,
          1996,
          1997,
          1998,
          1999,
          2000,
          2001,
          2002,
          2003,
          2004,
          2005,
          2006,
          2007,
          2008,
          2009,
          2010,
          2011,
          2012,
          2013,
          2014,
          2015,
          2016,
          2017,
          2018,
          2019,
          2020,
          2021,
          2022,
          2023,
          2024
         ],
         "xaxis": "x",
         "y": [
          null,
          null,
          null,
          null,
          null,
          null,
          null,
          null,
          null,
          null,
          null,
          null,
          null,
          null,
          null,
          null,
          null,
          0,
          0,
          null,
          0,
          5,
          6,
          4,
          1,
          1,
          1,
          4,
          9,
          9,
          0,
          2,
          2,
          7,
          10,
          10,
          7,
          5,
          12,
          8,
          0,
          0,
          0,
          4,
          1,
          4,
          1,
          0,
          0,
          0,
          0,
          0,
          0,
          0,
          1,
          0,
          0,
          0,
          0,
          0,
          0,
          0,
          0,
          0,
          0,
          0,
          0
         ],
         "yaxis": "y"
        },
        {
         "customdata": [
          [
           "McLaren"
          ],
          [
           "McLaren"
          ],
          [
           "McLaren"
          ],
          [
           "McLaren"
          ],
          [
           "McLaren"
          ],
          [
           "McLaren"
          ],
          [
           "McLaren"
          ],
          [
           "McLaren"
          ],
          [
           "McLaren"
          ],
          [
           "McLaren"
          ],
          [
           "McLaren"
          ],
          [
           "McLaren"
          ],
          [
           "McLaren"
          ],
          [
           "McLaren"
          ],
          [
           "McLaren"
          ],
          [
           "McLaren"
          ],
          [
           "McLaren"
          ],
          [
           "McLaren"
          ],
          [
           "McLaren"
          ],
          [
           "McLaren"
          ],
          [
           "McLaren"
          ],
          [
           "McLaren"
          ],
          [
           "McLaren"
          ],
          [
           "McLaren"
          ],
          [
           "McLaren"
          ],
          [
           "McLaren"
          ],
          [
           "McLaren"
          ],
          [
           "McLaren"
          ],
          [
           "McLaren"
          ],
          [
           "McLaren"
          ],
          [
           "McLaren"
          ],
          [
           "McLaren"
          ],
          [
           "McLaren"
          ],
          [
           "McLaren"
          ],
          [
           "McLaren"
          ],
          [
           "McLaren"
          ],
          [
           "McLaren"
          ],
          [
           "McLaren"
          ],
          [
           "McLaren"
          ],
          [
           "McLaren"
          ],
          [
           "McLaren"
          ],
          [
           "McLaren"
          ],
          [
           "McLaren"
          ],
          [
           "McLaren"
          ],
          [
           "McLaren"
          ],
          [
           "McLaren"
          ],
          [
           "McLaren"
          ],
          [
           "McLaren"
          ],
          [
           "McLaren"
          ],
          [
           "McLaren"
          ],
          [
           "McLaren"
          ],
          [
           "McLaren"
          ],
          [
           "McLaren"
          ],
          [
           "McLaren"
          ],
          [
           "McLaren"
          ],
          [
           "McLaren"
          ],
          [
           "McLaren"
          ],
          [
           "McLaren"
          ],
          [
           "McLaren"
          ],
          [
           "McLaren"
          ],
          [
           "McLaren"
          ],
          [
           "McLaren"
          ],
          [
           "McLaren"
          ],
          [
           "McLaren"
          ],
          [
           "McLaren"
          ],
          [
           "McLaren"
          ],
          [
           "McLaren"
          ]
         ],
         "hovertemplate": "Team=%{customdata[0]}<br>Year=%{x}<br>Win Count=%{y}<extra></extra>",
         "legendgroup": "McLaren",
         "line": {
          "color": "#ff7f0e",
          "dash": "solid"
         },
         "marker": {
          "symbol": "circle"
         },
         "mode": "markers+lines",
         "name": "McLaren",
         "orientation": "v",
         "showlegend": true,
         "type": "scatter",
         "x": [
          1958,
          1959,
          1960,
          1961,
          1962,
          1963,
          1964,
          1965,
          1966,
          1967,
          1968,
          1969,
          1970,
          1971,
          1972,
          1973,
          1974,
          1975,
          1976,
          1977,
          1978,
          1979,
          1980,
          1981,
          1982,
          1983,
          1984,
          1985,
          1986,
          1987,
          1988,
          1989,
          1990,
          1991,
          1992,
          1993,
          1994,
          1995,
          1996,
          1997,
          1998,
          1999,
          2000,
          2001,
          2002,
          2003,
          2004,
          2005,
          2006,
          2007,
          2008,
          2009,
          2010,
          2011,
          2012,
          2013,
          2014,
          2015,
          2016,
          2017,
          2018,
          2019,
          2020,
          2021,
          2022,
          2023,
          2024
         ],
         "xaxis": "x",
         "y": [
          null,
          null,
          null,
          null,
          null,
          null,
          null,
          null,
          null,
          null,
          0,
          null,
          null,
          0,
          1,
          3,
          4,
          3,
          6,
          3,
          0,
          0,
          0,
          1,
          4,
          1,
          12,
          6,
          4,
          3,
          15,
          10,
          6,
          8,
          5,
          5,
          0,
          0,
          0,
          3,
          9,
          7,
          7,
          4,
          1,
          2,
          1,
          10,
          0,
          8,
          6,
          2,
          5,
          6,
          7,
          0,
          0,
          0,
          0,
          0,
          0,
          0,
          0,
          1,
          0,
          0,
          1
         ],
         "yaxis": "y"
        },
        {
         "customdata": [
          [
           "Mercedes"
          ],
          [
           "Mercedes"
          ],
          [
           "Mercedes"
          ],
          [
           "Mercedes"
          ],
          [
           "Mercedes"
          ],
          [
           "Mercedes"
          ],
          [
           "Mercedes"
          ],
          [
           "Mercedes"
          ],
          [
           "Mercedes"
          ],
          [
           "Mercedes"
          ],
          [
           "Mercedes"
          ],
          [
           "Mercedes"
          ],
          [
           "Mercedes"
          ],
          [
           "Mercedes"
          ],
          [
           "Mercedes"
          ],
          [
           "Mercedes"
          ],
          [
           "Mercedes"
          ],
          [
           "Mercedes"
          ],
          [
           "Mercedes"
          ],
          [
           "Mercedes"
          ],
          [
           "Mercedes"
          ],
          [
           "Mercedes"
          ],
          [
           "Mercedes"
          ],
          [
           "Mercedes"
          ],
          [
           "Mercedes"
          ],
          [
           "Mercedes"
          ],
          [
           "Mercedes"
          ],
          [
           "Mercedes"
          ],
          [
           "Mercedes"
          ],
          [
           "Mercedes"
          ],
          [
           "Mercedes"
          ],
          [
           "Mercedes"
          ],
          [
           "Mercedes"
          ],
          [
           "Mercedes"
          ],
          [
           "Mercedes"
          ],
          [
           "Mercedes"
          ],
          [
           "Mercedes"
          ],
          [
           "Mercedes"
          ],
          [
           "Mercedes"
          ],
          [
           "Mercedes"
          ],
          [
           "Mercedes"
          ],
          [
           "Mercedes"
          ],
          [
           "Mercedes"
          ],
          [
           "Mercedes"
          ],
          [
           "Mercedes"
          ],
          [
           "Mercedes"
          ],
          [
           "Mercedes"
          ],
          [
           "Mercedes"
          ],
          [
           "Mercedes"
          ],
          [
           "Mercedes"
          ],
          [
           "Mercedes"
          ],
          [
           "Mercedes"
          ],
          [
           "Mercedes"
          ],
          [
           "Mercedes"
          ],
          [
           "Mercedes"
          ],
          [
           "Mercedes"
          ],
          [
           "Mercedes"
          ],
          [
           "Mercedes"
          ],
          [
           "Mercedes"
          ],
          [
           "Mercedes"
          ],
          [
           "Mercedes"
          ],
          [
           "Mercedes"
          ],
          [
           "Mercedes"
          ],
          [
           "Mercedes"
          ],
          [
           "Mercedes"
          ],
          [
           "Mercedes"
          ],
          [
           "Mercedes"
          ]
         ],
         "hovertemplate": "Team=%{customdata[0]}<br>Year=%{x}<br>Win Count=%{y}<extra></extra>",
         "legendgroup": "Mercedes",
         "line": {
          "color": "#14f8dd",
          "dash": "solid"
         },
         "marker": {
          "symbol": "circle"
         },
         "mode": "markers+lines",
         "name": "Mercedes",
         "orientation": "v",
         "showlegend": true,
         "type": "scatter",
         "x": [
          1958,
          1959,
          1960,
          1961,
          1962,
          1963,
          1964,
          1965,
          1966,
          1967,
          1968,
          1969,
          1970,
          1971,
          1972,
          1973,
          1974,
          1975,
          1976,
          1977,
          1978,
          1979,
          1980,
          1981,
          1982,
          1983,
          1984,
          1985,
          1986,
          1987,
          1988,
          1989,
          1990,
          1991,
          1992,
          1993,
          1994,
          1995,
          1996,
          1997,
          1998,
          1999,
          2000,
          2001,
          2002,
          2003,
          2004,
          2005,
          2006,
          2007,
          2008,
          2009,
          2010,
          2011,
          2012,
          2013,
          2014,
          2015,
          2016,
          2017,
          2018,
          2019,
          2020,
          2021,
          2022,
          2023,
          2024
         ],
         "xaxis": "x",
         "y": [
          null,
          null,
          null,
          null,
          null,
          null,
          null,
          null,
          null,
          null,
          null,
          null,
          null,
          null,
          null,
          null,
          null,
          null,
          null,
          null,
          null,
          null,
          null,
          null,
          null,
          null,
          null,
          null,
          null,
          null,
          null,
          null,
          null,
          null,
          null,
          null,
          null,
          null,
          null,
          null,
          null,
          null,
          null,
          null,
          null,
          null,
          null,
          null,
          null,
          null,
          null,
          null,
          0,
          0,
          1,
          3,
          16,
          16,
          19,
          12,
          11,
          15,
          13,
          9,
          1,
          0,
          2
         ],
         "yaxis": "y"
        }
       ],
       "layout": {
        "height": 600,
        "hovermode": "closest",
        "legend": {
         "title": {
          "text": "Team"
         },
         "tracegroupgap": 0
        },
        "template": {
         "data": {
          "bar": [
           {
            "error_x": {
             "color": "#2a3f5f"
            },
            "error_y": {
             "color": "#2a3f5f"
            },
            "marker": {
             "line": {
              "color": "#E5ECF6",
              "width": 0.5
             },
             "pattern": {
              "fillmode": "overlay",
              "size": 10,
              "solidity": 0.2
             }
            },
            "type": "bar"
           }
          ],
          "barpolar": [
           {
            "marker": {
             "line": {
              "color": "#E5ECF6",
              "width": 0.5
             },
             "pattern": {
              "fillmode": "overlay",
              "size": 10,
              "solidity": 0.2
             }
            },
            "type": "barpolar"
           }
          ],
          "carpet": [
           {
            "aaxis": {
             "endlinecolor": "#2a3f5f",
             "gridcolor": "white",
             "linecolor": "white",
             "minorgridcolor": "white",
             "startlinecolor": "#2a3f5f"
            },
            "baxis": {
             "endlinecolor": "#2a3f5f",
             "gridcolor": "white",
             "linecolor": "white",
             "minorgridcolor": "white",
             "startlinecolor": "#2a3f5f"
            },
            "type": "carpet"
           }
          ],
          "choropleth": [
           {
            "colorbar": {
             "outlinewidth": 0,
             "ticks": ""
            },
            "type": "choropleth"
           }
          ],
          "contour": [
           {
            "colorbar": {
             "outlinewidth": 0,
             "ticks": ""
            },
            "colorscale": [
             [
              0,
              "#0d0887"
             ],
             [
              0.1111111111111111,
              "#46039f"
             ],
             [
              0.2222222222222222,
              "#7201a8"
             ],
             [
              0.3333333333333333,
              "#9c179e"
             ],
             [
              0.4444444444444444,
              "#bd3786"
             ],
             [
              0.5555555555555556,
              "#d8576b"
             ],
             [
              0.6666666666666666,
              "#ed7953"
             ],
             [
              0.7777777777777778,
              "#fb9f3a"
             ],
             [
              0.8888888888888888,
              "#fdca26"
             ],
             [
              1,
              "#f0f921"
             ]
            ],
            "type": "contour"
           }
          ],
          "contourcarpet": [
           {
            "colorbar": {
             "outlinewidth": 0,
             "ticks": ""
            },
            "type": "contourcarpet"
           }
          ],
          "heatmap": [
           {
            "colorbar": {
             "outlinewidth": 0,
             "ticks": ""
            },
            "colorscale": [
             [
              0,
              "#0d0887"
             ],
             [
              0.1111111111111111,
              "#46039f"
             ],
             [
              0.2222222222222222,
              "#7201a8"
             ],
             [
              0.3333333333333333,
              "#9c179e"
             ],
             [
              0.4444444444444444,
              "#bd3786"
             ],
             [
              0.5555555555555556,
              "#d8576b"
             ],
             [
              0.6666666666666666,
              "#ed7953"
             ],
             [
              0.7777777777777778,
              "#fb9f3a"
             ],
             [
              0.8888888888888888,
              "#fdca26"
             ],
             [
              1,
              "#f0f921"
             ]
            ],
            "type": "heatmap"
           }
          ],
          "heatmapgl": [
           {
            "colorbar": {
             "outlinewidth": 0,
             "ticks": ""
            },
            "colorscale": [
             [
              0,
              "#0d0887"
             ],
             [
              0.1111111111111111,
              "#46039f"
             ],
             [
              0.2222222222222222,
              "#7201a8"
             ],
             [
              0.3333333333333333,
              "#9c179e"
             ],
             [
              0.4444444444444444,
              "#bd3786"
             ],
             [
              0.5555555555555556,
              "#d8576b"
             ],
             [
              0.6666666666666666,
              "#ed7953"
             ],
             [
              0.7777777777777778,
              "#fb9f3a"
             ],
             [
              0.8888888888888888,
              "#fdca26"
             ],
             [
              1,
              "#f0f921"
             ]
            ],
            "type": "heatmapgl"
           }
          ],
          "histogram": [
           {
            "marker": {
             "pattern": {
              "fillmode": "overlay",
              "size": 10,
              "solidity": 0.2
             }
            },
            "type": "histogram"
           }
          ],
          "histogram2d": [
           {
            "colorbar": {
             "outlinewidth": 0,
             "ticks": ""
            },
            "colorscale": [
             [
              0,
              "#0d0887"
             ],
             [
              0.1111111111111111,
              "#46039f"
             ],
             [
              0.2222222222222222,
              "#7201a8"
             ],
             [
              0.3333333333333333,
              "#9c179e"
             ],
             [
              0.4444444444444444,
              "#bd3786"
             ],
             [
              0.5555555555555556,
              "#d8576b"
             ],
             [
              0.6666666666666666,
              "#ed7953"
             ],
             [
              0.7777777777777778,
              "#fb9f3a"
             ],
             [
              0.8888888888888888,
              "#fdca26"
             ],
             [
              1,
              "#f0f921"
             ]
            ],
            "type": "histogram2d"
           }
          ],
          "histogram2dcontour": [
           {
            "colorbar": {
             "outlinewidth": 0,
             "ticks": ""
            },
            "colorscale": [
             [
              0,
              "#0d0887"
             ],
             [
              0.1111111111111111,
              "#46039f"
             ],
             [
              0.2222222222222222,
              "#7201a8"
             ],
             [
              0.3333333333333333,
              "#9c179e"
             ],
             [
              0.4444444444444444,
              "#bd3786"
             ],
             [
              0.5555555555555556,
              "#d8576b"
             ],
             [
              0.6666666666666666,
              "#ed7953"
             ],
             [
              0.7777777777777778,
              "#fb9f3a"
             ],
             [
              0.8888888888888888,
              "#fdca26"
             ],
             [
              1,
              "#f0f921"
             ]
            ],
            "type": "histogram2dcontour"
           }
          ],
          "mesh3d": [
           {
            "colorbar": {
             "outlinewidth": 0,
             "ticks": ""
            },
            "type": "mesh3d"
           }
          ],
          "parcoords": [
           {
            "line": {
             "colorbar": {
              "outlinewidth": 0,
              "ticks": ""
             }
            },
            "type": "parcoords"
           }
          ],
          "pie": [
           {
            "automargin": true,
            "type": "pie"
           }
          ],
          "scatter": [
           {
            "fillpattern": {
             "fillmode": "overlay",
             "size": 10,
             "solidity": 0.2
            },
            "type": "scatter"
           }
          ],
          "scatter3d": [
           {
            "line": {
             "colorbar": {
              "outlinewidth": 0,
              "ticks": ""
             }
            },
            "marker": {
             "colorbar": {
              "outlinewidth": 0,
              "ticks": ""
             }
            },
            "type": "scatter3d"
           }
          ],
          "scattercarpet": [
           {
            "marker": {
             "colorbar": {
              "outlinewidth": 0,
              "ticks": ""
             }
            },
            "type": "scattercarpet"
           }
          ],
          "scattergeo": [
           {
            "marker": {
             "colorbar": {
              "outlinewidth": 0,
              "ticks": ""
             }
            },
            "type": "scattergeo"
           }
          ],
          "scattergl": [
           {
            "marker": {
             "colorbar": {
              "outlinewidth": 0,
              "ticks": ""
             }
            },
            "type": "scattergl"
           }
          ],
          "scattermapbox": [
           {
            "marker": {
             "colorbar": {
              "outlinewidth": 0,
              "ticks": ""
             }
            },
            "type": "scattermapbox"
           }
          ],
          "scatterpolar": [
           {
            "marker": {
             "colorbar": {
              "outlinewidth": 0,
              "ticks": ""
             }
            },
            "type": "scatterpolar"
           }
          ],
          "scatterpolargl": [
           {
            "marker": {
             "colorbar": {
              "outlinewidth": 0,
              "ticks": ""
             }
            },
            "type": "scatterpolargl"
           }
          ],
          "scatterternary": [
           {
            "marker": {
             "colorbar": {
              "outlinewidth": 0,
              "ticks": ""
             }
            },
            "type": "scatterternary"
           }
          ],
          "surface": [
           {
            "colorbar": {
             "outlinewidth": 0,
             "ticks": ""
            },
            "colorscale": [
             [
              0,
              "#0d0887"
             ],
             [
              0.1111111111111111,
              "#46039f"
             ],
             [
              0.2222222222222222,
              "#7201a8"
             ],
             [
              0.3333333333333333,
              "#9c179e"
             ],
             [
              0.4444444444444444,
              "#bd3786"
             ],
             [
              0.5555555555555556,
              "#d8576b"
             ],
             [
              0.6666666666666666,
              "#ed7953"
             ],
             [
              0.7777777777777778,
              "#fb9f3a"
             ],
             [
              0.8888888888888888,
              "#fdca26"
             ],
             [
              1,
              "#f0f921"
             ]
            ],
            "type": "surface"
           }
          ],
          "table": [
           {
            "cells": {
             "fill": {
              "color": "#EBF0F8"
             },
             "line": {
              "color": "white"
             }
            },
            "header": {
             "fill": {
              "color": "#C8D4E3"
             },
             "line": {
              "color": "white"
             }
            },
            "type": "table"
           }
          ]
         },
         "layout": {
          "annotationdefaults": {
           "arrowcolor": "#2a3f5f",
           "arrowhead": 0,
           "arrowwidth": 1
          },
          "autotypenumbers": "strict",
          "coloraxis": {
           "colorbar": {
            "outlinewidth": 0,
            "ticks": ""
           }
          },
          "colorscale": {
           "diverging": [
            [
             0,
             "#8e0152"
            ],
            [
             0.1,
             "#c51b7d"
            ],
            [
             0.2,
             "#de77ae"
            ],
            [
             0.3,
             "#f1b6da"
            ],
            [
             0.4,
             "#fde0ef"
            ],
            [
             0.5,
             "#f7f7f7"
            ],
            [
             0.6,
             "#e6f5d0"
            ],
            [
             0.7,
             "#b8e186"
            ],
            [
             0.8,
             "#7fbc41"
            ],
            [
             0.9,
             "#4d9221"
            ],
            [
             1,
             "#276419"
            ]
           ],
           "sequential": [
            [
             0,
             "#0d0887"
            ],
            [
             0.1111111111111111,
             "#46039f"
            ],
            [
             0.2222222222222222,
             "#7201a8"
            ],
            [
             0.3333333333333333,
             "#9c179e"
            ],
            [
             0.4444444444444444,
             "#bd3786"
            ],
            [
             0.5555555555555556,
             "#d8576b"
            ],
            [
             0.6666666666666666,
             "#ed7953"
            ],
            [
             0.7777777777777778,
             "#fb9f3a"
            ],
            [
             0.8888888888888888,
             "#fdca26"
            ],
            [
             1,
             "#f0f921"
            ]
           ],
           "sequentialminus": [
            [
             0,
             "#0d0887"
            ],
            [
             0.1111111111111111,
             "#46039f"
            ],
            [
             0.2222222222222222,
             "#7201a8"
            ],
            [
             0.3333333333333333,
             "#9c179e"
            ],
            [
             0.4444444444444444,
             "#bd3786"
            ],
            [
             0.5555555555555556,
             "#d8576b"
            ],
            [
             0.6666666666666666,
             "#ed7953"
            ],
            [
             0.7777777777777778,
             "#fb9f3a"
            ],
            [
             0.8888888888888888,
             "#fdca26"
            ],
            [
             1,
             "#f0f921"
            ]
           ]
          },
          "colorway": [
           "#636efa",
           "#EF553B",
           "#00cc96",
           "#ab63fa",
           "#FFA15A",
           "#19d3f3",
           "#FF6692",
           "#B6E880",
           "#FF97FF",
           "#FECB52"
          ],
          "font": {
           "color": "#2a3f5f"
          },
          "geo": {
           "bgcolor": "white",
           "lakecolor": "white",
           "landcolor": "#E5ECF6",
           "showlakes": true,
           "showland": true,
           "subunitcolor": "white"
          },
          "hoverlabel": {
           "align": "left"
          },
          "hovermode": "closest",
          "mapbox": {
           "style": "light"
          },
          "paper_bgcolor": "white",
          "plot_bgcolor": "#E5ECF6",
          "polar": {
           "angularaxis": {
            "gridcolor": "white",
            "linecolor": "white",
            "ticks": ""
           },
           "bgcolor": "#E5ECF6",
           "radialaxis": {
            "gridcolor": "white",
            "linecolor": "white",
            "ticks": ""
           }
          },
          "scene": {
           "xaxis": {
            "backgroundcolor": "#E5ECF6",
            "gridcolor": "white",
            "gridwidth": 2,
            "linecolor": "white",
            "showbackground": true,
            "ticks": "",
            "zerolinecolor": "white"
           },
           "yaxis": {
            "backgroundcolor": "#E5ECF6",
            "gridcolor": "white",
            "gridwidth": 2,
            "linecolor": "white",
            "showbackground": true,
            "ticks": "",
            "zerolinecolor": "white"
           },
           "zaxis": {
            "backgroundcolor": "#E5ECF6",
            "gridcolor": "white",
            "gridwidth": 2,
            "linecolor": "white",
            "showbackground": true,
            "ticks": "",
            "zerolinecolor": "white"
           }
          },
          "shapedefaults": {
           "line": {
            "color": "#2a3f5f"
           }
          },
          "ternary": {
           "aaxis": {
            "gridcolor": "white",
            "linecolor": "white",
            "ticks": ""
           },
           "baxis": {
            "gridcolor": "white",
            "linecolor": "white",
            "ticks": ""
           },
           "bgcolor": "#E5ECF6",
           "caxis": {
            "gridcolor": "white",
            "linecolor": "white",
            "ticks": ""
           }
          },
          "title": {
           "x": 0.05
          },
          "xaxis": {
           "automargin": true,
           "gridcolor": "white",
           "linecolor": "white",
           "ticks": "",
           "title": {
            "standoff": 15
           },
           "zerolinecolor": "white",
           "zerolinewidth": 2
          },
          "yaxis": {
           "automargin": true,
           "gridcolor": "white",
           "linecolor": "white",
           "ticks": "",
           "title": {
            "standoff": 15
           },
           "zerolinecolor": "white",
           "zerolinewidth": 2
          }
         }
        },
        "title": {
         "text": "Wins by Year for Top 5 Teams"
        },
        "width": 950,
        "xaxis": {
         "anchor": "y",
         "domain": [
          0,
          1
         ],
         "dtick": 5,
         "range": [
          1957,
          2025
         ],
         "title": {
          "text": "Year"
         }
        },
        "yaxis": {
         "anchor": "x",
         "domain": [
          0,
          1
         ],
         "dtick": 1,
         "range": [
          0,
          22
         ],
         "title": {
          "text": "Win Count"
         }
        }
       }
      }
     },
     "metadata": {},
     "output_type": "display_data"
    }
   ],
   "source": [
    "#ccreating line plot with the dataframe to visulise the wins by teams each year\n",
    "import plotly.express as px\n",
    "\n",
    "t5_df_melted = t5_df.reset_index().melt(id_vars='index', var_name='Year', value_name='Win Count')\n",
    "\n",
    "#Giving indivual team colours\n",
    "individual_colors = ['#d62728', '#0b5394', '#6fa8dc', '#ff7f0e', '#14f8dd']\n",
    "\n",
    "#Creating plots using plotly express\n",
    "fig = px.line(t5_df_melted, x='Year', y='Win Count', color='index',\n",
    "              #Giving labels for the plot\n",
    "              labels={'Year': 'Year', 'Win Count': 'Win Count', 'index': 'Team'},\n",
    "              #Giving Titles\n",
    "              title='Wins by Year for Top 5 Teams',\n",
    "              hover_data={'index': True, 'Win Count': True},\n",
    "              #Using team colour\n",
    "              color_discrete_sequence=individual_colors)\n",
    "\n",
    "fig.update_layout(hovermode='closest')\n",
    "\n",
    "fig.update_xaxes(range=[t5_df_melted['Year'].min()-1,t5_df_melted['Year'].max()+1],dtick=5)\n",
    "fig.update_yaxes(range=[0, t5_df_melted['Win Count'].max() + 1], dtick=1)\n",
    "fig.update_traces(mode='markers+lines')\n",
    "\n",
    "#Plot dimension\n",
    "fig.update_layout(width=950,height=600)\n",
    "#Show the plot\n",
    "fig.show()"
   ]
  },
  {
   "cell_type": "markdown",
   "metadata": {},
   "source": [
    "Drivers and their Nationality (Entire history)"
   ]
  },
  {
   "cell_type": "code",
   "execution_count": 8,
   "metadata": {},
   "outputs": [
    {
     "data": {
      "text/html": [
       "<div>\n",
       "<style scoped>\n",
       "    .dataframe tbody tr th:only-of-type {\n",
       "        vertical-align: middle;\n",
       "    }\n",
       "\n",
       "    .dataframe tbody tr th {\n",
       "        vertical-align: top;\n",
       "    }\n",
       "\n",
       "    .dataframe thead th {\n",
       "        text-align: right;\n",
       "    }\n",
       "</style>\n",
       "<table border=\"1\" class=\"dataframe\">\n",
       "  <thead>\n",
       "    <tr style=\"text-align: right;\">\n",
       "      <th></th>\n",
       "      <th>nationality</th>\n",
       "      <th>count</th>\n",
       "    </tr>\n",
       "  </thead>\n",
       "  <tbody>\n",
       "    <tr>\n",
       "      <th>0</th>\n",
       "      <td>British</td>\n",
       "      <td>166</td>\n",
       "    </tr>\n",
       "    <tr>\n",
       "      <th>1</th>\n",
       "      <td>American</td>\n",
       "      <td>158</td>\n",
       "    </tr>\n",
       "    <tr>\n",
       "      <th>2</th>\n",
       "      <td>Italian</td>\n",
       "      <td>99</td>\n",
       "    </tr>\n",
       "    <tr>\n",
       "      <th>3</th>\n",
       "      <td>French</td>\n",
       "      <td>73</td>\n",
       "    </tr>\n",
       "    <tr>\n",
       "      <th>4</th>\n",
       "      <td>German</td>\n",
       "      <td>50</td>\n",
       "    </tr>\n",
       "    <tr>\n",
       "      <th>5</th>\n",
       "      <td>Brazilian</td>\n",
       "      <td>32</td>\n",
       "    </tr>\n",
       "    <tr>\n",
       "      <th>6</th>\n",
       "      <td>Argentine</td>\n",
       "      <td>24</td>\n",
       "    </tr>\n",
       "    <tr>\n",
       "      <th>7</th>\n",
       "      <td>Swiss</td>\n",
       "      <td>23</td>\n",
       "    </tr>\n",
       "    <tr>\n",
       "      <th>8</th>\n",
       "      <td>Belgian</td>\n",
       "      <td>23</td>\n",
       "    </tr>\n",
       "    <tr>\n",
       "      <th>9</th>\n",
       "      <td>South African</td>\n",
       "      <td>23</td>\n",
       "    </tr>\n",
       "    <tr>\n",
       "      <th>10</th>\n",
       "      <td>Japanese</td>\n",
       "      <td>20</td>\n",
       "    </tr>\n",
       "    <tr>\n",
       "      <th>11</th>\n",
       "      <td>Dutch</td>\n",
       "      <td>18</td>\n",
       "    </tr>\n",
       "    <tr>\n",
       "      <th>12</th>\n",
       "      <td>Australian</td>\n",
       "      <td>18</td>\n",
       "    </tr>\n",
       "    <tr>\n",
       "      <th>13</th>\n",
       "      <td>Spanish</td>\n",
       "      <td>15</td>\n",
       "    </tr>\n",
       "    <tr>\n",
       "      <th>14</th>\n",
       "      <td>Austrian</td>\n",
       "      <td>15</td>\n",
       "    </tr>\n",
       "    <tr>\n",
       "      <th>15</th>\n",
       "      <td>Canadian</td>\n",
       "      <td>14</td>\n",
       "    </tr>\n",
       "    <tr>\n",
       "      <th>16</th>\n",
       "      <td>Swedish</td>\n",
       "      <td>10</td>\n",
       "    </tr>\n",
       "    <tr>\n",
       "      <th>17</th>\n",
       "      <td>New Zealander</td>\n",
       "      <td>10</td>\n",
       "    </tr>\n",
       "    <tr>\n",
       "      <th>18</th>\n",
       "      <td>Finnish</td>\n",
       "      <td>9</td>\n",
       "    </tr>\n",
       "    <tr>\n",
       "      <th>19</th>\n",
       "      <td>Mexican</td>\n",
       "      <td>6</td>\n",
       "    </tr>\n",
       "    <tr>\n",
       "      <th>20</th>\n",
       "      <td>Danish</td>\n",
       "      <td>5</td>\n",
       "    </tr>\n",
       "    <tr>\n",
       "      <th>21</th>\n",
       "      <td>Irish</td>\n",
       "      <td>5</td>\n",
       "    </tr>\n",
       "    <tr>\n",
       "      <th>22</th>\n",
       "      <td>Russian</td>\n",
       "      <td>4</td>\n",
       "    </tr>\n",
       "    <tr>\n",
       "      <th>23</th>\n",
       "      <td>Monegasque</td>\n",
       "      <td>4</td>\n",
       "    </tr>\n",
       "    <tr>\n",
       "      <th>24</th>\n",
       "      <td>Portuguese</td>\n",
       "      <td>4</td>\n",
       "    </tr>\n",
       "    <tr>\n",
       "      <th>25</th>\n",
       "      <td>Rhodesian</td>\n",
       "      <td>4</td>\n",
       "    </tr>\n",
       "    <tr>\n",
       "      <th>26</th>\n",
       "      <td>Uruguayan</td>\n",
       "      <td>4</td>\n",
       "    </tr>\n",
       "    <tr>\n",
       "      <th>27</th>\n",
       "      <td>Colombian</td>\n",
       "      <td>3</td>\n",
       "    </tr>\n",
       "    <tr>\n",
       "      <th>28</th>\n",
       "      <td>East German</td>\n",
       "      <td>3</td>\n",
       "    </tr>\n",
       "    <tr>\n",
       "      <th>29</th>\n",
       "      <td>Venezuelan</td>\n",
       "      <td>3</td>\n",
       "    </tr>\n",
       "    <tr>\n",
       "      <th>30</th>\n",
       "      <td>Indian</td>\n",
       "      <td>2</td>\n",
       "    </tr>\n",
       "    <tr>\n",
       "      <th>31</th>\n",
       "      <td>Thai</td>\n",
       "      <td>2</td>\n",
       "    </tr>\n",
       "    <tr>\n",
       "      <th>32</th>\n",
       "      <td>Polish</td>\n",
       "      <td>1</td>\n",
       "    </tr>\n",
       "    <tr>\n",
       "      <th>33</th>\n",
       "      <td>Hungarian</td>\n",
       "      <td>1</td>\n",
       "    </tr>\n",
       "    <tr>\n",
       "      <th>34</th>\n",
       "      <td>Malaysian</td>\n",
       "      <td>1</td>\n",
       "    </tr>\n",
       "    <tr>\n",
       "      <th>35</th>\n",
       "      <td>Czech</td>\n",
       "      <td>1</td>\n",
       "    </tr>\n",
       "    <tr>\n",
       "      <th>36</th>\n",
       "      <td>Liechtensteiner</td>\n",
       "      <td>1</td>\n",
       "    </tr>\n",
       "    <tr>\n",
       "      <th>37</th>\n",
       "      <td>Chilean</td>\n",
       "      <td>1</td>\n",
       "    </tr>\n",
       "    <tr>\n",
       "      <th>38</th>\n",
       "      <td>Argentine-Italian</td>\n",
       "      <td>1</td>\n",
       "    </tr>\n",
       "    <tr>\n",
       "      <th>39</th>\n",
       "      <td>American-Italian</td>\n",
       "      <td>1</td>\n",
       "    </tr>\n",
       "    <tr>\n",
       "      <th>40</th>\n",
       "      <td>Indonesian</td>\n",
       "      <td>1</td>\n",
       "    </tr>\n",
       "    <tr>\n",
       "      <th>41</th>\n",
       "      <td>Chinese</td>\n",
       "      <td>1</td>\n",
       "    </tr>\n",
       "  </tbody>\n",
       "</table>\n",
       "</div>"
      ],
      "text/plain": [
       "          nationality  count\n",
       "0             British    166\n",
       "1            American    158\n",
       "2             Italian     99\n",
       "3              French     73\n",
       "4              German     50\n",
       "5           Brazilian     32\n",
       "6           Argentine     24\n",
       "7               Swiss     23\n",
       "8             Belgian     23\n",
       "9       South African     23\n",
       "10           Japanese     20\n",
       "11              Dutch     18\n",
       "12         Australian     18\n",
       "13            Spanish     15\n",
       "14           Austrian     15\n",
       "15           Canadian     14\n",
       "16            Swedish     10\n",
       "17      New Zealander     10\n",
       "18            Finnish      9\n",
       "19            Mexican      6\n",
       "20             Danish      5\n",
       "21              Irish      5\n",
       "22            Russian      4\n",
       "23         Monegasque      4\n",
       "24         Portuguese      4\n",
       "25          Rhodesian      4\n",
       "26          Uruguayan      4\n",
       "27          Colombian      3\n",
       "28        East German      3\n",
       "29         Venezuelan      3\n",
       "30             Indian      2\n",
       "31               Thai      2\n",
       "32             Polish      1\n",
       "33          Hungarian      1\n",
       "34          Malaysian      1\n",
       "35              Czech      1\n",
       "36    Liechtensteiner      1\n",
       "37            Chilean      1\n",
       "38  Argentine-Italian      1\n",
       "39   American-Italian      1\n",
       "40         Indonesian      1\n",
       "41            Chinese      1"
      ]
     },
     "execution_count": 8,
     "metadata": {},
     "output_type": "execute_result"
    }
   ],
   "source": [
    "#Creating Data frame to get the unique country names\n",
    "nationality_counts = dr_df['nationality'].value_counts().reset_index()\n",
    "\n",
    "#Giving two column names\n",
    "nationality_counts.columns = ['nationality','count']\n",
    "\n",
    "#Showing data in decending\n",
    "nationality_counts = nationality_counts.sort_values(by='count',ascending=False)\n",
    "\n",
    "#Showing the dataframe\n",
    "nationality_counts"
   ]
  },
  {
   "cell_type": "code",
   "execution_count": 9,
   "metadata": {},
   "outputs": [
    {
     "data": {
      "application/vnd.plotly.v1+json": {
       "config": {
        "plotlyServerURL": "https://plot.ly"
       },
       "data": [
        {
         "domain": {
          "x": [
           0,
           1
          ],
          "y": [
           0,
           1
          ]
         },
         "hovertemplate": "Nationality=%{label}<br>Count=%{value}<extra></extra>",
         "labels": [
          "British",
          "American",
          "Italian",
          "French",
          "German",
          "Brazilian",
          "Argentine",
          "Swiss",
          "Belgian",
          "South African",
          "Japanese",
          "Dutch",
          "Australian",
          "Spanish",
          "Austrian",
          "Canadian",
          "Swedish",
          "New Zealander",
          "Finnish",
          "Mexican",
          "Danish",
          "Irish",
          "Russian",
          "Monegasque",
          "Portuguese",
          "Rhodesian",
          "Uruguayan",
          "Colombian",
          "East German",
          "Venezuelan",
          "Indian",
          "Thai",
          "Polish",
          "Hungarian",
          "Malaysian",
          "Czech",
          "Liechtensteiner",
          "Chilean",
          "Argentine-Italian",
          "American-Italian",
          "Indonesian",
          "Chinese"
         ],
         "legendgroup": "",
         "name": "",
         "pull": [
          0,
          0,
          0,
          0,
          0,
          0,
          0,
          0,
          0,
          0,
          0,
          0,
          0,
          0,
          0,
          0,
          0.2,
          0.2,
          0.2,
          0.2,
          0.2,
          0.2,
          0.2,
          0.2,
          0.2,
          0.2,
          0.2,
          0.2,
          0.2,
          0.2,
          0.2,
          0.2,
          0.2,
          0.2,
          0.2,
          0.2,
          0.2,
          0.2,
          0.2,
          0.2,
          0.2,
          0.2
         ],
         "showlegend": true,
         "textinfo": "none",
         "type": "pie",
         "values": [
          166,
          158,
          99,
          73,
          50,
          32,
          24,
          23,
          23,
          23,
          20,
          18,
          18,
          15,
          15,
          14,
          10,
          10,
          9,
          6,
          5,
          5,
          4,
          4,
          4,
          4,
          4,
          3,
          3,
          3,
          2,
          2,
          1,
          1,
          1,
          1,
          1,
          1,
          1,
          1,
          1,
          1
         ]
        }
       ],
       "layout": {
        "height": 700,
        "legend": {
         "orientation": "h",
         "tracegroupgap": 10,
         "traceorder": "normal",
         "x": 0.5,
         "xanchor": "auto",
         "y": 0,
         "yanchor": "top"
        },
        "showlegend": true,
        "template": {
         "data": {
          "bar": [
           {
            "error_x": {
             "color": "#2a3f5f"
            },
            "error_y": {
             "color": "#2a3f5f"
            },
            "marker": {
             "line": {
              "color": "#E5ECF6",
              "width": 0.5
             },
             "pattern": {
              "fillmode": "overlay",
              "size": 10,
              "solidity": 0.2
             }
            },
            "type": "bar"
           }
          ],
          "barpolar": [
           {
            "marker": {
             "line": {
              "color": "#E5ECF6",
              "width": 0.5
             },
             "pattern": {
              "fillmode": "overlay",
              "size": 10,
              "solidity": 0.2
             }
            },
            "type": "barpolar"
           }
          ],
          "carpet": [
           {
            "aaxis": {
             "endlinecolor": "#2a3f5f",
             "gridcolor": "white",
             "linecolor": "white",
             "minorgridcolor": "white",
             "startlinecolor": "#2a3f5f"
            },
            "baxis": {
             "endlinecolor": "#2a3f5f",
             "gridcolor": "white",
             "linecolor": "white",
             "minorgridcolor": "white",
             "startlinecolor": "#2a3f5f"
            },
            "type": "carpet"
           }
          ],
          "choropleth": [
           {
            "colorbar": {
             "outlinewidth": 0,
             "ticks": ""
            },
            "type": "choropleth"
           }
          ],
          "contour": [
           {
            "colorbar": {
             "outlinewidth": 0,
             "ticks": ""
            },
            "colorscale": [
             [
              0,
              "#0d0887"
             ],
             [
              0.1111111111111111,
              "#46039f"
             ],
             [
              0.2222222222222222,
              "#7201a8"
             ],
             [
              0.3333333333333333,
              "#9c179e"
             ],
             [
              0.4444444444444444,
              "#bd3786"
             ],
             [
              0.5555555555555556,
              "#d8576b"
             ],
             [
              0.6666666666666666,
              "#ed7953"
             ],
             [
              0.7777777777777778,
              "#fb9f3a"
             ],
             [
              0.8888888888888888,
              "#fdca26"
             ],
             [
              1,
              "#f0f921"
             ]
            ],
            "type": "contour"
           }
          ],
          "contourcarpet": [
           {
            "colorbar": {
             "outlinewidth": 0,
             "ticks": ""
            },
            "type": "contourcarpet"
           }
          ],
          "heatmap": [
           {
            "colorbar": {
             "outlinewidth": 0,
             "ticks": ""
            },
            "colorscale": [
             [
              0,
              "#0d0887"
             ],
             [
              0.1111111111111111,
              "#46039f"
             ],
             [
              0.2222222222222222,
              "#7201a8"
             ],
             [
              0.3333333333333333,
              "#9c179e"
             ],
             [
              0.4444444444444444,
              "#bd3786"
             ],
             [
              0.5555555555555556,
              "#d8576b"
             ],
             [
              0.6666666666666666,
              "#ed7953"
             ],
             [
              0.7777777777777778,
              "#fb9f3a"
             ],
             [
              0.8888888888888888,
              "#fdca26"
             ],
             [
              1,
              "#f0f921"
             ]
            ],
            "type": "heatmap"
           }
          ],
          "heatmapgl": [
           {
            "colorbar": {
             "outlinewidth": 0,
             "ticks": ""
            },
            "colorscale": [
             [
              0,
              "#0d0887"
             ],
             [
              0.1111111111111111,
              "#46039f"
             ],
             [
              0.2222222222222222,
              "#7201a8"
             ],
             [
              0.3333333333333333,
              "#9c179e"
             ],
             [
              0.4444444444444444,
              "#bd3786"
             ],
             [
              0.5555555555555556,
              "#d8576b"
             ],
             [
              0.6666666666666666,
              "#ed7953"
             ],
             [
              0.7777777777777778,
              "#fb9f3a"
             ],
             [
              0.8888888888888888,
              "#fdca26"
             ],
             [
              1,
              "#f0f921"
             ]
            ],
            "type": "heatmapgl"
           }
          ],
          "histogram": [
           {
            "marker": {
             "pattern": {
              "fillmode": "overlay",
              "size": 10,
              "solidity": 0.2
             }
            },
            "type": "histogram"
           }
          ],
          "histogram2d": [
           {
            "colorbar": {
             "outlinewidth": 0,
             "ticks": ""
            },
            "colorscale": [
             [
              0,
              "#0d0887"
             ],
             [
              0.1111111111111111,
              "#46039f"
             ],
             [
              0.2222222222222222,
              "#7201a8"
             ],
             [
              0.3333333333333333,
              "#9c179e"
             ],
             [
              0.4444444444444444,
              "#bd3786"
             ],
             [
              0.5555555555555556,
              "#d8576b"
             ],
             [
              0.6666666666666666,
              "#ed7953"
             ],
             [
              0.7777777777777778,
              "#fb9f3a"
             ],
             [
              0.8888888888888888,
              "#fdca26"
             ],
             [
              1,
              "#f0f921"
             ]
            ],
            "type": "histogram2d"
           }
          ],
          "histogram2dcontour": [
           {
            "colorbar": {
             "outlinewidth": 0,
             "ticks": ""
            },
            "colorscale": [
             [
              0,
              "#0d0887"
             ],
             [
              0.1111111111111111,
              "#46039f"
             ],
             [
              0.2222222222222222,
              "#7201a8"
             ],
             [
              0.3333333333333333,
              "#9c179e"
             ],
             [
              0.4444444444444444,
              "#bd3786"
             ],
             [
              0.5555555555555556,
              "#d8576b"
             ],
             [
              0.6666666666666666,
              "#ed7953"
             ],
             [
              0.7777777777777778,
              "#fb9f3a"
             ],
             [
              0.8888888888888888,
              "#fdca26"
             ],
             [
              1,
              "#f0f921"
             ]
            ],
            "type": "histogram2dcontour"
           }
          ],
          "mesh3d": [
           {
            "colorbar": {
             "outlinewidth": 0,
             "ticks": ""
            },
            "type": "mesh3d"
           }
          ],
          "parcoords": [
           {
            "line": {
             "colorbar": {
              "outlinewidth": 0,
              "ticks": ""
             }
            },
            "type": "parcoords"
           }
          ],
          "pie": [
           {
            "automargin": true,
            "type": "pie"
           }
          ],
          "scatter": [
           {
            "fillpattern": {
             "fillmode": "overlay",
             "size": 10,
             "solidity": 0.2
            },
            "type": "scatter"
           }
          ],
          "scatter3d": [
           {
            "line": {
             "colorbar": {
              "outlinewidth": 0,
              "ticks": ""
             }
            },
            "marker": {
             "colorbar": {
              "outlinewidth": 0,
              "ticks": ""
             }
            },
            "type": "scatter3d"
           }
          ],
          "scattercarpet": [
           {
            "marker": {
             "colorbar": {
              "outlinewidth": 0,
              "ticks": ""
             }
            },
            "type": "scattercarpet"
           }
          ],
          "scattergeo": [
           {
            "marker": {
             "colorbar": {
              "outlinewidth": 0,
              "ticks": ""
             }
            },
            "type": "scattergeo"
           }
          ],
          "scattergl": [
           {
            "marker": {
             "colorbar": {
              "outlinewidth": 0,
              "ticks": ""
             }
            },
            "type": "scattergl"
           }
          ],
          "scattermapbox": [
           {
            "marker": {
             "colorbar": {
              "outlinewidth": 0,
              "ticks": ""
             }
            },
            "type": "scattermapbox"
           }
          ],
          "scatterpolar": [
           {
            "marker": {
             "colorbar": {
              "outlinewidth": 0,
              "ticks": ""
             }
            },
            "type": "scatterpolar"
           }
          ],
          "scatterpolargl": [
           {
            "marker": {
             "colorbar": {
              "outlinewidth": 0,
              "ticks": ""
             }
            },
            "type": "scatterpolargl"
           }
          ],
          "scatterternary": [
           {
            "marker": {
             "colorbar": {
              "outlinewidth": 0,
              "ticks": ""
             }
            },
            "type": "scatterternary"
           }
          ],
          "surface": [
           {
            "colorbar": {
             "outlinewidth": 0,
             "ticks": ""
            },
            "colorscale": [
             [
              0,
              "#0d0887"
             ],
             [
              0.1111111111111111,
              "#46039f"
             ],
             [
              0.2222222222222222,
              "#7201a8"
             ],
             [
              0.3333333333333333,
              "#9c179e"
             ],
             [
              0.4444444444444444,
              "#bd3786"
             ],
             [
              0.5555555555555556,
              "#d8576b"
             ],
             [
              0.6666666666666666,
              "#ed7953"
             ],
             [
              0.7777777777777778,
              "#fb9f3a"
             ],
             [
              0.8888888888888888,
              "#fdca26"
             ],
             [
              1,
              "#f0f921"
             ]
            ],
            "type": "surface"
           }
          ],
          "table": [
           {
            "cells": {
             "fill": {
              "color": "#EBF0F8"
             },
             "line": {
              "color": "white"
             }
            },
            "header": {
             "fill": {
              "color": "#C8D4E3"
             },
             "line": {
              "color": "white"
             }
            },
            "type": "table"
           }
          ]
         },
         "layout": {
          "annotationdefaults": {
           "arrowcolor": "#2a3f5f",
           "arrowhead": 0,
           "arrowwidth": 1
          },
          "autotypenumbers": "strict",
          "coloraxis": {
           "colorbar": {
            "outlinewidth": 0,
            "ticks": ""
           }
          },
          "colorscale": {
           "diverging": [
            [
             0,
             "#8e0152"
            ],
            [
             0.1,
             "#c51b7d"
            ],
            [
             0.2,
             "#de77ae"
            ],
            [
             0.3,
             "#f1b6da"
            ],
            [
             0.4,
             "#fde0ef"
            ],
            [
             0.5,
             "#f7f7f7"
            ],
            [
             0.6,
             "#e6f5d0"
            ],
            [
             0.7,
             "#b8e186"
            ],
            [
             0.8,
             "#7fbc41"
            ],
            [
             0.9,
             "#4d9221"
            ],
            [
             1,
             "#276419"
            ]
           ],
           "sequential": [
            [
             0,
             "#0d0887"
            ],
            [
             0.1111111111111111,
             "#46039f"
            ],
            [
             0.2222222222222222,
             "#7201a8"
            ],
            [
             0.3333333333333333,
             "#9c179e"
            ],
            [
             0.4444444444444444,
             "#bd3786"
            ],
            [
             0.5555555555555556,
             "#d8576b"
            ],
            [
             0.6666666666666666,
             "#ed7953"
            ],
            [
             0.7777777777777778,
             "#fb9f3a"
            ],
            [
             0.8888888888888888,
             "#fdca26"
            ],
            [
             1,
             "#f0f921"
            ]
           ],
           "sequentialminus": [
            [
             0,
             "#0d0887"
            ],
            [
             0.1111111111111111,
             "#46039f"
            ],
            [
             0.2222222222222222,
             "#7201a8"
            ],
            [
             0.3333333333333333,
             "#9c179e"
            ],
            [
             0.4444444444444444,
             "#bd3786"
            ],
            [
             0.5555555555555556,
             "#d8576b"
            ],
            [
             0.6666666666666666,
             "#ed7953"
            ],
            [
             0.7777777777777778,
             "#fb9f3a"
            ],
            [
             0.8888888888888888,
             "#fdca26"
            ],
            [
             1,
             "#f0f921"
            ]
           ]
          },
          "colorway": [
           "#636efa",
           "#EF553B",
           "#00cc96",
           "#ab63fa",
           "#FFA15A",
           "#19d3f3",
           "#FF6692",
           "#B6E880",
           "#FF97FF",
           "#FECB52"
          ],
          "font": {
           "color": "#2a3f5f"
          },
          "geo": {
           "bgcolor": "white",
           "lakecolor": "white",
           "landcolor": "#E5ECF6",
           "showlakes": true,
           "showland": true,
           "subunitcolor": "white"
          },
          "hoverlabel": {
           "align": "left"
          },
          "hovermode": "closest",
          "mapbox": {
           "style": "light"
          },
          "paper_bgcolor": "white",
          "plot_bgcolor": "#E5ECF6",
          "polar": {
           "angularaxis": {
            "gridcolor": "white",
            "linecolor": "white",
            "ticks": ""
           },
           "bgcolor": "#E5ECF6",
           "radialaxis": {
            "gridcolor": "white",
            "linecolor": "white",
            "ticks": ""
           }
          },
          "scene": {
           "xaxis": {
            "backgroundcolor": "#E5ECF6",
            "gridcolor": "white",
            "gridwidth": 2,
            "linecolor": "white",
            "showbackground": true,
            "ticks": "",
            "zerolinecolor": "white"
           },
           "yaxis": {
            "backgroundcolor": "#E5ECF6",
            "gridcolor": "white",
            "gridwidth": 2,
            "linecolor": "white",
            "showbackground": true,
            "ticks": "",
            "zerolinecolor": "white"
           },
           "zaxis": {
            "backgroundcolor": "#E5ECF6",
            "gridcolor": "white",
            "gridwidth": 2,
            "linecolor": "white",
            "showbackground": true,
            "ticks": "",
            "zerolinecolor": "white"
           }
          },
          "shapedefaults": {
           "line": {
            "color": "#2a3f5f"
           }
          },
          "ternary": {
           "aaxis": {
            "gridcolor": "white",
            "linecolor": "white",
            "ticks": ""
           },
           "baxis": {
            "gridcolor": "white",
            "linecolor": "white",
            "ticks": ""
           },
           "bgcolor": "#E5ECF6",
           "caxis": {
            "gridcolor": "white",
            "linecolor": "white",
            "ticks": ""
           }
          },
          "title": {
           "x": 0.05
          },
          "xaxis": {
           "automargin": true,
           "gridcolor": "white",
           "linecolor": "white",
           "ticks": "",
           "title": {
            "standoff": 15
           },
           "zerolinecolor": "white",
           "zerolinewidth": 2
          },
          "yaxis": {
           "automargin": true,
           "gridcolor": "white",
           "linecolor": "white",
           "ticks": "",
           "title": {
            "standoff": 15
           },
           "zerolinecolor": "white",
           "zerolinewidth": 2
          }
         }
        },
        "title": {
         "text": "Distribution of F1 Driver Nationalities",
         "x": 0.5,
         "y": 0.95,
         "yanchor": "top"
        },
        "width": 1000
       }
      }
     },
     "metadata": {},
     "output_type": "display_data"
    }
   ],
   "source": [
    "#Creating pie chat to show the nationality and count of drivers\n",
    "fig = px.pie(\n",
    "    names=nationality_counts['nationality'],\n",
    "    values=nationality_counts['count'],\n",
    "    #Title\n",
    "    title='Distribution of Driver Nationalities',\n",
    "    hover_data=[],\n",
    "    labels={'names': 'Nationality', 'values': 'Count'})\n",
    "\n",
    "#Pulling the values that has count of less than 10 to show it more visibily\n",
    "\n",
    "pull_values = [0.2 if count <= 10 else 0 for count in nationality_counts['count']]\n",
    "fig.update_traces(textinfo='none', pull=pull_values)  \n",
    "\n",
    "fig.update_layout(\n",
    "    showlegend=True,\n",
    "    legend=dict(\n",
    "        orientation='h',  \n",
    "        yanchor='top', \n",
    "        y=0, \n",
    "        xanchor='auto', \n",
    "        x=0.5,\n",
    "        traceorder='normal',  \n",
    "        tracegroupgap=10      \n",
    "    ),\n",
    "    height=700,  \n",
    "    width=1000,\n",
    "    title=dict(\n",
    "        #Pie chart Title\n",
    "        text='Distribution of F1 Driver Nationalities',\n",
    "        y=0.95,\n",
    "        x=0.5,\n",
    "        yanchor='top'  \n",
    "    )\n",
    ")\n",
    "#Showing pie chart\n",
    "fig.show()\n"
   ]
  },
  {
   "cell_type": "markdown",
   "metadata": {},
   "source": [
    "Home Finish v/s Average Finish Plots"
   ]
  },
  {
   "cell_type": "code",
   "execution_count": 10,
   "metadata": {},
   "outputs": [],
   "source": [
    "#Reading data needed and putting it in dataframe\n",
    "circuits = pd.read_csv('../Dataset/circuits.csv')\n",
    "quali = pd.read_csv('../Dataset/qualifying.csv')\n",
    "races = pd.read_csv('../Dataset/races.csv')\n",
    "drivers = pd.read_csv('../Dataset/drivers.csv')\n",
    "results = pd.read_csv('../Dataset/results.csv')"
   ]
  },
  {
   "cell_type": "code",
   "execution_count": 11,
   "metadata": {},
   "outputs": [],
   "source": [
    "#Function to get average finish time\n",
    "\n",
    "def findAverageFinish(data):\n",
    "    avg = data.loc[:, data.columns.intersection(['driverId','positionOrder'])]\n",
    "    avg = avg.groupby('driverId')\n",
    "\n",
    "    total = avg.count()\n",
    "    avg = avg.mean()\n",
    "\n",
    "    avg['totalRaces'] = total\n",
    "    avg.rename(columns={'positionOrder':'averageFinish'}, inplace=True)\n",
    "    \n",
    "    return avg"
   ]
  },
  {
   "cell_type": "code",
   "execution_count": 12,
   "metadata": {},
   "outputs": [
    {
     "data": {
      "text/html": [
       "<div>\n",
       "<style scoped>\n",
       "    .dataframe tbody tr th:only-of-type {\n",
       "        vertical-align: middle;\n",
       "    }\n",
       "\n",
       "    .dataframe tbody tr th {\n",
       "        vertical-align: top;\n",
       "    }\n",
       "\n",
       "    .dataframe thead th {\n",
       "        text-align: right;\n",
       "    }\n",
       "</style>\n",
       "<table border=\"1\" class=\"dataframe\">\n",
       "  <thead>\n",
       "    <tr style=\"text-align: right;\">\n",
       "      <th></th>\n",
       "      <th>averageFinish</th>\n",
       "      <th>totalRaces</th>\n",
       "    </tr>\n",
       "    <tr>\n",
       "      <th>driverId</th>\n",
       "      <th></th>\n",
       "      <th></th>\n",
       "    </tr>\n",
       "  </thead>\n",
       "  <tbody>\n",
       "    <tr>\n",
       "      <th>1</th>\n",
       "      <td>4.950581</td>\n",
       "      <td>344</td>\n",
       "    </tr>\n",
       "    <tr>\n",
       "      <th>2</th>\n",
       "      <td>10.722826</td>\n",
       "      <td>184</td>\n",
       "    </tr>\n",
       "    <tr>\n",
       "      <th>3</th>\n",
       "      <td>8.252427</td>\n",
       "      <td>206</td>\n",
       "    </tr>\n",
       "    <tr>\n",
       "      <th>4</th>\n",
       "      <td>8.431122</td>\n",
       "      <td>392</td>\n",
       "    </tr>\n",
       "    <tr>\n",
       "      <th>5</th>\n",
       "      <td>13.285714</td>\n",
       "      <td>112</td>\n",
       "    </tr>\n",
       "    <tr>\n",
       "      <th>...</th>\n",
       "      <td>...</td>\n",
       "      <td>...</td>\n",
       "    </tr>\n",
       "    <tr>\n",
       "      <th>856</th>\n",
       "      <td>15.272727</td>\n",
       "      <td>11</td>\n",
       "    </tr>\n",
       "    <tr>\n",
       "      <th>857</th>\n",
       "      <td>9.088235</td>\n",
       "      <td>34</td>\n",
       "    </tr>\n",
       "    <tr>\n",
       "      <th>858</th>\n",
       "      <td>16.303030</td>\n",
       "      <td>33</td>\n",
       "    </tr>\n",
       "    <tr>\n",
       "      <th>859</th>\n",
       "      <td>12.200000</td>\n",
       "      <td>5</td>\n",
       "    </tr>\n",
       "    <tr>\n",
       "      <th>860</th>\n",
       "      <td>7.000000</td>\n",
       "      <td>1</td>\n",
       "    </tr>\n",
       "  </tbody>\n",
       "</table>\n",
       "<p>859 rows × 2 columns</p>\n",
       "</div>"
      ],
      "text/plain": [
       "          averageFinish  totalRaces\n",
       "driverId                           \n",
       "1              4.950581         344\n",
       "2             10.722826         184\n",
       "3              8.252427         206\n",
       "4              8.431122         392\n",
       "5             13.285714         112\n",
       "...                 ...         ...\n",
       "856           15.272727          11\n",
       "857            9.088235          34\n",
       "858           16.303030          33\n",
       "859           12.200000           5\n",
       "860            7.000000           1\n",
       "\n",
       "[859 rows x 2 columns]"
      ]
     },
     "execution_count": 12,
     "metadata": {},
     "output_type": "execute_result"
    }
   ],
   "source": [
    "#Showing average finish time for each driver\n",
    "avgPerform = findAverageFinish(results)\n",
    "avgPerform"
   ]
  },
  {
   "cell_type": "code",
   "execution_count": 13,
   "metadata": {},
   "outputs": [
    {
     "data": {
      "text/html": [
       "<div>\n",
       "<style scoped>\n",
       "    .dataframe tbody tr th:only-of-type {\n",
       "        vertical-align: middle;\n",
       "    }\n",
       "\n",
       "    .dataframe tbody tr th {\n",
       "        vertical-align: top;\n",
       "    }\n",
       "\n",
       "    .dataframe thead th {\n",
       "        text-align: right;\n",
       "    }\n",
       "</style>\n",
       "<table border=\"1\" class=\"dataframe\">\n",
       "  <thead>\n",
       "    <tr style=\"text-align: right;\">\n",
       "      <th></th>\n",
       "      <th>averageHomeFinish</th>\n",
       "      <th>totalHomeRaces</th>\n",
       "    </tr>\n",
       "    <tr>\n",
       "      <th>driverId</th>\n",
       "      <th></th>\n",
       "      <th></th>\n",
       "    </tr>\n",
       "  </thead>\n",
       "  <tbody>\n",
       "    <tr>\n",
       "      <th>1</th>\n",
       "      <td>2.947368</td>\n",
       "      <td>19</td>\n",
       "    </tr>\n",
       "    <tr>\n",
       "      <th>2</th>\n",
       "      <td>11.352941</td>\n",
       "      <td>17</td>\n",
       "    </tr>\n",
       "    <tr>\n",
       "      <th>3</th>\n",
       "      <td>9.090909</td>\n",
       "      <td>11</td>\n",
       "    </tr>\n",
       "    <tr>\n",
       "      <th>4</th>\n",
       "      <td>7.769231</td>\n",
       "      <td>26</td>\n",
       "    </tr>\n",
       "    <tr>\n",
       "      <th>6</th>\n",
       "      <td>15.000000</td>\n",
       "      <td>2</td>\n",
       "    </tr>\n",
       "    <tr>\n",
       "      <th>...</th>\n",
       "      <td>...</td>\n",
       "      <td>...</td>\n",
       "    </tr>\n",
       "    <tr>\n",
       "      <th>852</th>\n",
       "      <td>11.666667</td>\n",
       "      <td>3</td>\n",
       "    </tr>\n",
       "    <tr>\n",
       "      <th>853</th>\n",
       "      <td>18.000000</td>\n",
       "      <td>1</td>\n",
       "    </tr>\n",
       "    <tr>\n",
       "      <th>855</th>\n",
       "      <td>14.000000</td>\n",
       "      <td>1</td>\n",
       "    </tr>\n",
       "    <tr>\n",
       "      <th>857</th>\n",
       "      <td>6.000000</td>\n",
       "      <td>2</td>\n",
       "    </tr>\n",
       "    <tr>\n",
       "      <th>858</th>\n",
       "      <td>16.666667</td>\n",
       "      <td>3</td>\n",
       "    </tr>\n",
       "  </tbody>\n",
       "</table>\n",
       "<p>566 rows × 2 columns</p>\n",
       "</div>"
      ],
      "text/plain": [
       "          averageHomeFinish  totalHomeRaces\n",
       "driverId                                   \n",
       "1                  2.947368              19\n",
       "2                 11.352941              17\n",
       "3                  9.090909              11\n",
       "4                  7.769231              26\n",
       "6                 15.000000               2\n",
       "...                     ...             ...\n",
       "852               11.666667               3\n",
       "853               18.000000               1\n",
       "855               14.000000               1\n",
       "857                6.000000               2\n",
       "858               16.666667               3\n",
       "\n",
       "[566 rows x 2 columns]"
      ]
     },
     "execution_count": 13,
     "metadata": {},
     "output_type": "execute_result"
    }
   ],
   "source": [
    "#Nationality for drivers\n",
    "nationalityCountry = {'Australian': 'Australia', 'Malaysian': 'Malaysia',\n",
    "                      'Spanish': 'Spain', 'Monegasque': 'Monaco', 'Canadian': 'Canada',\n",
    "                      'French': 'France', 'British': 'UK', 'German': 'Germany',\n",
    "                      'East German': 'Germany', 'Hungarian': 'Hungary', 'Belgian': 'Belgium',\n",
    "                      'Italy': 'Italian', 'Japanese': 'Japan', 'Chinese': 'China',\n",
    "                      'Brazilian': 'Brazil', 'American': 'USA', 'Austrian': 'Austria',\n",
    "                      'Mexican': 'Mexico', 'Dutch': 'Netherlands', 'Indian': 'India',\n",
    "                      'Russian': 'Russia', 'Portuguese': 'Portugual', 'Argentine': 'Argentina',\n",
    "                      'South African': 'South Africa', 'Swedish': 'Sweden',\n",
    "                      'Swiss':'Switzerland'}\n",
    "\n",
    "#Merging dataframes for races result\n",
    "homePerform = pd.merge(results, races, left_on='raceId', right_on='raceId')\n",
    "\n",
    "#Merging Home performance and circuit\n",
    "homePerform = pd.merge(homePerform, circuits, left_on='circuitId', right_on='circuitId')\n",
    "\n",
    "#Merging home performace by drivers\n",
    "homePerform = pd.merge(homePerform, drivers, left_on='driverId', right_on='driverId')\n",
    "\n",
    "homePerform = homePerform.loc[:, homePerform.columns.intersection(['driverId', 'positionOrder','nationality','country'])]\n",
    "homePerform['homeRace'] = homePerform['nationality'].map(nationalityCountry) == homePerform['country']\n",
    "homePerform = homePerform.drop(homePerform[homePerform['homeRace'] == False].index)\n",
    "\n",
    "homePerform = findAverageFinish(homePerform)\n",
    "homePerform.rename(columns={'averageFinish':'averageHomeFinish', 'totalRaces': 'totalHomeRaces'}, inplace=True)\n",
    "homePerform"
   ]
  },
  {
   "cell_type": "code",
   "execution_count": 14,
   "metadata": {},
   "outputs": [
    {
     "data": {
      "text/html": [
       "<div>\n",
       "<style scoped>\n",
       "    .dataframe tbody tr th:only-of-type {\n",
       "        vertical-align: middle;\n",
       "    }\n",
       "\n",
       "    .dataframe tbody tr th {\n",
       "        vertical-align: top;\n",
       "    }\n",
       "\n",
       "    .dataframe thead th {\n",
       "        text-align: right;\n",
       "    }\n",
       "</style>\n",
       "<table border=\"1\" class=\"dataframe\">\n",
       "  <thead>\n",
       "    <tr style=\"text-align: right;\">\n",
       "      <th></th>\n",
       "      <th>driverId</th>\n",
       "      <th>averageFinish</th>\n",
       "      <th>totalRaces</th>\n",
       "      <th>averageHomeFinish</th>\n",
       "      <th>totalHomeRaces</th>\n",
       "      <th>nationality</th>\n",
       "      <th>performanceDifference</th>\n",
       "    </tr>\n",
       "  </thead>\n",
       "  <tbody>\n",
       "    <tr>\n",
       "      <th>0</th>\n",
       "      <td>1</td>\n",
       "      <td>4.950581</td>\n",
       "      <td>344</td>\n",
       "      <td>2.947368</td>\n",
       "      <td>19</td>\n",
       "      <td>British</td>\n",
       "      <td>2.003213</td>\n",
       "    </tr>\n",
       "    <tr>\n",
       "      <th>1</th>\n",
       "      <td>2</td>\n",
       "      <td>10.722826</td>\n",
       "      <td>184</td>\n",
       "      <td>11.352941</td>\n",
       "      <td>17</td>\n",
       "      <td>German</td>\n",
       "      <td>-0.630115</td>\n",
       "    </tr>\n",
       "    <tr>\n",
       "      <th>2</th>\n",
       "      <td>3</td>\n",
       "      <td>8.252427</td>\n",
       "      <td>206</td>\n",
       "      <td>9.090909</td>\n",
       "      <td>11</td>\n",
       "      <td>German</td>\n",
       "      <td>-0.838482</td>\n",
       "    </tr>\n",
       "    <tr>\n",
       "      <th>3</th>\n",
       "      <td>4</td>\n",
       "      <td>8.431122</td>\n",
       "      <td>392</td>\n",
       "      <td>7.769231</td>\n",
       "      <td>26</td>\n",
       "      <td>Spanish</td>\n",
       "      <td>0.661892</td>\n",
       "    </tr>\n",
       "    <tr>\n",
       "      <th>4</th>\n",
       "      <td>6</td>\n",
       "      <td>13.083333</td>\n",
       "      <td>36</td>\n",
       "      <td>15.000000</td>\n",
       "      <td>2</td>\n",
       "      <td>Japanese</td>\n",
       "      <td>-1.916667</td>\n",
       "    </tr>\n",
       "    <tr>\n",
       "      <th>...</th>\n",
       "      <td>...</td>\n",
       "      <td>...</td>\n",
       "      <td>...</td>\n",
       "      <td>...</td>\n",
       "      <td>...</td>\n",
       "      <td>...</td>\n",
       "      <td>...</td>\n",
       "    </tr>\n",
       "    <tr>\n",
       "      <th>561</th>\n",
       "      <td>852</td>\n",
       "      <td>13.435897</td>\n",
       "      <td>78</td>\n",
       "      <td>11.666667</td>\n",
       "      <td>3</td>\n",
       "      <td>Japanese</td>\n",
       "      <td>1.769231</td>\n",
       "    </tr>\n",
       "    <tr>\n",
       "      <th>562</th>\n",
       "      <td>853</td>\n",
       "      <td>17.863636</td>\n",
       "      <td>22</td>\n",
       "      <td>18.000000</td>\n",
       "      <td>1</td>\n",
       "      <td>Russian</td>\n",
       "      <td>-0.136364</td>\n",
       "    </tr>\n",
       "    <tr>\n",
       "      <th>563</th>\n",
       "      <td>855</td>\n",
       "      <td>14.428571</td>\n",
       "      <td>56</td>\n",
       "      <td>14.000000</td>\n",
       "      <td>1</td>\n",
       "      <td>Chinese</td>\n",
       "      <td>0.428571</td>\n",
       "    </tr>\n",
       "    <tr>\n",
       "      <th>564</th>\n",
       "      <td>857</td>\n",
       "      <td>9.088235</td>\n",
       "      <td>34</td>\n",
       "      <td>6.000000</td>\n",
       "      <td>2</td>\n",
       "      <td>Australian</td>\n",
       "      <td>3.088235</td>\n",
       "    </tr>\n",
       "    <tr>\n",
       "      <th>565</th>\n",
       "      <td>858</td>\n",
       "      <td>16.303030</td>\n",
       "      <td>33</td>\n",
       "      <td>16.666667</td>\n",
       "      <td>3</td>\n",
       "      <td>American</td>\n",
       "      <td>-0.363636</td>\n",
       "    </tr>\n",
       "  </tbody>\n",
       "</table>\n",
       "<p>566 rows × 7 columns</p>\n",
       "</div>"
      ],
      "text/plain": [
       "     driverId  averageFinish  totalRaces  averageHomeFinish  totalHomeRaces  \\\n",
       "0           1       4.950581         344           2.947368              19   \n",
       "1           2      10.722826         184          11.352941              17   \n",
       "2           3       8.252427         206           9.090909              11   \n",
       "3           4       8.431122         392           7.769231              26   \n",
       "4           6      13.083333          36          15.000000               2   \n",
       "..        ...            ...         ...                ...             ...   \n",
       "561       852      13.435897          78          11.666667               3   \n",
       "562       853      17.863636          22          18.000000               1   \n",
       "563       855      14.428571          56          14.000000               1   \n",
       "564       857       9.088235          34           6.000000               2   \n",
       "565       858      16.303030          33          16.666667               3   \n",
       "\n",
       "    nationality  performanceDifference  \n",
       "0       British               2.003213  \n",
       "1        German              -0.630115  \n",
       "2        German              -0.838482  \n",
       "3       Spanish               0.661892  \n",
       "4      Japanese              -1.916667  \n",
       "..          ...                    ...  \n",
       "561    Japanese               1.769231  \n",
       "562     Russian              -0.136364  \n",
       "563     Chinese               0.428571  \n",
       "564  Australian               3.088235  \n",
       "565    American              -0.363636  \n",
       "\n",
       "[566 rows x 7 columns]"
      ]
     },
     "execution_count": 14,
     "metadata": {},
     "output_type": "execute_result"
    }
   ],
   "source": [
    "#Merging entire dataframe with driver and nationality\n",
    "perform = pd.merge(avgPerform, homePerform, left_on='driverId', right_on='driverId')\n",
    "perform = pd.merge(perform, drivers, left_on='driverId', right_on='driverId')\n",
    "perform = perform.loc[:, perform.columns.intersection(['driverId', 'averageFinish', 'totalRaces', 'averageHomeFinish', 'totalHomeRaces', 'nationality'])]\n",
    "\n",
    "#Getting perfromance difference \n",
    "perform['performanceDifference'] = perform['averageFinish'] - perform['averageHomeFinish']\n",
    "perform"
   ]
  },
  {
   "cell_type": "code",
   "execution_count": 15,
   "metadata": {},
   "outputs": [
    {
     "data": {
      "image/png": "[encoded data removed]",
      "text/plain": [
       "<Figure size 640x480 with 2 Axes>"
      ]
     },
     "metadata": {},
     "output_type": "display_data"
    }
   ],
   "source": [
    "#Creating dictonary of country and country code\n",
    "nationalityId = {'British': 1, 'German': 2, 'Spanish': 3, 'Japanese': 4, 'French': 5,\n",
    "                 'Brazilian': 6, 'Australian': 7, 'American': 8, 'Canadian': 9, 'Indian': 10,\n",
    "                'Hungarian': 11, 'Malaysian': 12, 'Argentine': 13, 'Belgian': 14,\n",
    "                 'Monegasque': 15, 'Dutch': 16, 'South African': 17, 'Swedish': 18,\n",
    "                 'Mexican': 19, 'Swiss': 20, 'East German': 21, 'Russian': 22}\n",
    "\n",
    "perform['nationId'] = perform['nationality'].map(nationalityId)\n",
    "\n",
    "#Creating scatter plot\n",
    "ax1 = perform.plot.scatter(x='driverId',\n",
    "                      y='performanceDifference',\n",
    "                      c='nationId')\n",
    "\n",
    "#Taking the high and low and create a range \n",
    "perform.head()\n",
    "ax1.grid()"
   ]
  },
  {
   "cell_type": "code",
   "execution_count": 16,
   "metadata": {},
   "outputs": [
    {
     "name": "stdout",
     "output_type": "stream",
     "text": [
      "Correlation Coefficient (r-value): 0.8835852076246559\n",
      "Equation of the fit line: y = 0.995156046564515 x + 0.110046133561152\n",
      "Standard Deviation for averageFinish and averageHomeFinish: 5.793354940040074 6.524885374636513\n"
     ]
    }
   ],
   "source": [
    "#Calculating correlation coefficient\n",
    "from scipy.stats import pearsonr, linregress\n",
    "\n",
    "corr_coefficient, pvalue = pearsonr(perform['averageFinish'], perform['averageHomeFinish'])\n",
    "print('Correlation Coefficient (r-value):', corr_coefficient)\n",
    "\n",
    "slope, intercept, _, _, _ = linregress(perform['averageFinish'], perform['averageHomeFinish'])\n",
    "print('Equation of the fit line: y =', slope, 'x +', intercept)\n",
    "\n",
    "#Calculating standard deviation\n",
    "std_dev = np.std(perform[['averageFinish','averageHomeFinish']], axis=0)\n",
    "print('Standard Deviation for averageFinish and averageHomeFinish:', std_dev[0], std_dev[1])"
   ]
  },
  {
   "cell_type": "code",
   "execution_count": 17,
   "metadata": {},
   "outputs": [
    {
     "data": {
      "image/png": "[encoded data removed]",
      "text/plain": [
       "<Figure size 640x480 with 1 Axes>"
      ]
     },
     "metadata": {},
     "output_type": "display_data"
    }
   ],
   "source": [
    "import seaborn as sns\n",
    "\n",
    "#Creating another scatter plot with correlation coefficient\n",
    "ax1 = perform.plot.scatter(x='averageFinish',\n",
    "                      y='averageHomeFinish', title='Average Performance vs Home Performance', label=\"Avg. Values\")\n",
    "\n",
    "#Giving data for X and Y axis\n",
    "sns.regplot(x='averageFinish',\n",
    "            y='averageHomeFinish',\n",
    "            data=perform,\n",
    "            scatter=False,\n",
    "            ax=ax1, color='red', label=\"Linear Regression\")\n",
    "\n",
    "bbox_props = dict(boxstyle=\"round\", fc=\"w\", ec=\"0.5\", alpha=0.9)\n",
    "equation_text = 'Equation of the fit line: y = {:.2f}x + {:.2f}'.format(slope, intercept)\n",
    "corr_text = \"Correlaton Coefficient: {:.5f}\".format(corr_coefficient)\n",
    "ax1.text(12, 2, equation_text, color=\"green\",size=15, bbox=bbox_props)\n",
    "ax1.text(12, 5, corr_text, color=\"green\",size=10, bbox=bbox_props)\n",
    "\n",
    "ax1.legend()\n",
    "ax1.grid()"
   ]
  },
  {
   "cell_type": "code",
   "execution_count": 18,
   "metadata": {},
   "outputs": [
    {
     "name": "stdout",
     "output_type": "stream",
     "text": [
      "../Dataset/circuits.csv\n",
      "../Dataset/constructors.csv\n",
      "../Dataset/constructor_results.csv\n",
      "../Dataset/constructor_standings.csv\n",
      "../Dataset/drivers.csv\n",
      "../Dataset/driver_standings.csv\n",
      "../Dataset/lap_times.csv\n",
      "../Dataset/pit_stops.csv\n",
      "../Dataset/qualifying.csv\n",
      "../Dataset/races.csv\n",
      "../Dataset/results.csv\n",
      "../Dataset/seasons.csv\n",
      "../Dataset/sprint_results.csv\n",
      "../Dataset/status.csv\n"
     ]
    }
   ],
   "source": [
    "#Reading data\n",
    "import os\n",
    "for dirname, _, filenames in os.walk('../Dataset/'):\n",
    "    for filename in filenames:\n",
    "        print(os.path.join(dirname, filename))"
   ]
  },
  {
   "cell_type": "code",
   "execution_count": 19,
   "metadata": {},
   "outputs": [
    {
     "name": "stdout",
     "output_type": "stream",
     "text": [
      "list of dfs available : dict_keys(['circuits_df', 'constructors_df', 'constructor_results_df', 'constructor_standings_df', 'drivers_df', 'driver_standings_df', 'lap_times_df', 'pit_stops_df', 'qualifying_df', 'races_df', 'results_df', 'seasons_df', 'sprint_results_df', 'status_df'])\n"
     ]
    }
   ],
   "source": [
    "#Creatig a list of available dataframes\n",
    "dataset = {}\n",
    "for i in os.listdir(\"../Dataset/\"):\n",
    "    dataset[i.replace(\".csv\",\"_df\")] = pd.read_csv(os.path.join(\"../Dataset\",i ))\n",
    "print(f'list of dfs available : {dataset.keys()}')"
   ]
  },
  {
   "cell_type": "code",
   "execution_count": 20,
   "metadata": {},
   "outputs": [
    {
     "name": "stdout",
     "output_type": "stream",
     "text": [
      "RedBull started racing from year 2005\n"
     ]
    }
   ],
   "source": [
    "#Diving deep inti team data (RedBull)\n",
    "constructorId = 9\n",
    "\n",
    "#Filtering dataset and selecting redbull data only\n",
    "filtered_results_df = dataset[\"results_df\"][dataset[\"results_df\"][\"constructorId\"] == constructorId]\n",
    "\n",
    "races_participated = list(set(filtered_results_df[\"raceId\"].tolist()))\n",
    "races_participated.sort()\n",
    "\n",
    "#(race_id , year)\n",
    "years_participated = [] \n",
    "for i in races_participated:\n",
    "    years_participated.append((i,int(dataset[\"races_df\"].loc[dataset[\"races_df\"][\"raceId\"] == i, \"year\"].values)))\n",
    "\n",
    "#Printing the entry year of Redbull in formula one\n",
    "entry_year = min([x[1] for x in years_participated])\n",
    "print(f'RedBull started racing from year {entry_year}')"
   ]
  },
  {
   "cell_type": "code",
   "execution_count": 21,
   "metadata": {},
   "outputs": [
    {
     "data": {
      "text/html": [
       "<div>\n",
       "<style scoped>\n",
       "    .dataframe tbody tr th:only-of-type {\n",
       "        vertical-align: middle;\n",
       "    }\n",
       "\n",
       "    .dataframe tbody tr th {\n",
       "        vertical-align: top;\n",
       "    }\n",
       "\n",
       "    .dataframe thead th {\n",
       "        text-align: right;\n",
       "    }\n",
       "</style>\n",
       "<table border=\"1\" class=\"dataframe\">\n",
       "  <thead>\n",
       "    <tr style=\"text-align: right;\">\n",
       "      <th></th>\n",
       "      <th>resultId</th>\n",
       "      <th>raceId</th>\n",
       "      <th>driverId</th>\n",
       "      <th>constructorId</th>\n",
       "      <th>number</th>\n",
       "      <th>grid</th>\n",
       "      <th>position</th>\n",
       "      <th>positionText</th>\n",
       "      <th>positionOrder</th>\n",
       "      <th>points</th>\n",
       "      <th>laps</th>\n",
       "      <th>time</th>\n",
       "      <th>milliseconds</th>\n",
       "      <th>fastestLap</th>\n",
       "      <th>rank</th>\n",
       "      <th>fastestLapTime</th>\n",
       "      <th>fastestLapSpeed</th>\n",
       "      <th>statusId</th>\n",
       "    </tr>\n",
       "  </thead>\n",
       "  <tbody>\n",
       "    <tr>\n",
       "      <th>130</th>\n",
       "      <td>131</td>\n",
       "      <td>24</td>\n",
       "      <td>14</td>\n",
       "      <td>9</td>\n",
       "      <td>9</td>\n",
       "      <td>13</td>\n",
       "      <td>3</td>\n",
       "      <td>3</td>\n",
       "      <td>3</td>\n",
       "      <td>6.0</td>\n",
       "      <td>70</td>\n",
       "      <td>+23.352</td>\n",
       "      <td>5807579</td>\n",
       "      <td>36</td>\n",
       "      <td>7</td>\n",
       "      <td>1:18.085</td>\n",
       "      <td>201.057</td>\n",
       "      <td>1</td>\n",
       "    </tr>\n",
       "    <tr>\n",
       "      <th>568</th>\n",
       "      <td>569</td>\n",
       "      <td>45</td>\n",
       "      <td>17</td>\n",
       "      <td>9</td>\n",
       "      <td>15</td>\n",
       "      <td>6</td>\n",
       "      <td>3</td>\n",
       "      <td>3</td>\n",
       "      <td>3</td>\n",
       "      <td>6.0</td>\n",
       "      <td>60</td>\n",
       "      <td>+1:05.674</td>\n",
       "      <td>7652032</td>\n",
       "      <td>29</td>\n",
       "      <td>8</td>\n",
       "      <td>1:34.449</td>\n",
       "      <td>196.220</td>\n",
       "      <td>1</td>\n",
       "    </tr>\n",
       "    <tr>\n",
       "      <th>876</th>\n",
       "      <td>877</td>\n",
       "      <td>59</td>\n",
       "      <td>14</td>\n",
       "      <td>9</td>\n",
       "      <td>14</td>\n",
       "      <td>7</td>\n",
       "      <td>3</td>\n",
       "      <td>3</td>\n",
       "      <td>3</td>\n",
       "      <td>6.0</td>\n",
       "      <td>78</td>\n",
       "      <td>+52.298</td>\n",
       "      <td>6275414</td>\n",
       "      <td>45</td>\n",
       "      <td>19</td>\n",
       "      <td>1:17.849</td>\n",
       "      <td>154.452</td>\n",
       "      <td>1</td>\n",
       "    </tr>\n",
       "    <tr>\n",
       "      <th>7593</th>\n",
       "      <td>7594</td>\n",
       "      <td>3</td>\n",
       "      <td>20</td>\n",
       "      <td>9</td>\n",
       "      <td>15</td>\n",
       "      <td>1</td>\n",
       "      <td>1</td>\n",
       "      <td>1</td>\n",
       "      <td>1</td>\n",
       "      <td>10.0</td>\n",
       "      <td>56</td>\n",
       "      <td>1:57:43.485</td>\n",
       "      <td>7063485</td>\n",
       "      <td>42</td>\n",
       "      <td>2</td>\n",
       "      <td>1:52.627</td>\n",
       "      <td>174.235</td>\n",
       "      <td>1</td>\n",
       "    </tr>\n",
       "    <tr>\n",
       "      <th>7594</th>\n",
       "      <td>7595</td>\n",
       "      <td>3</td>\n",
       "      <td>17</td>\n",
       "      <td>9</td>\n",
       "      <td>14</td>\n",
       "      <td>3</td>\n",
       "      <td>2</td>\n",
       "      <td>2</td>\n",
       "      <td>2</td>\n",
       "      <td>8.0</td>\n",
       "      <td>56</td>\n",
       "      <td>+10.970</td>\n",
       "      <td>7074455</td>\n",
       "      <td>42</td>\n",
       "      <td>4</td>\n",
       "      <td>1:52.980</td>\n",
       "      <td>173.690</td>\n",
       "      <td>1</td>\n",
       "    </tr>\n",
       "    <tr>\n",
       "      <th>7614</th>\n",
       "      <td>7615</td>\n",
       "      <td>4</td>\n",
       "      <td>20</td>\n",
       "      <td>9</td>\n",
       "      <td>15</td>\n",
       "      <td>3</td>\n",
       "      <td>2</td>\n",
       "      <td>2</td>\n",
       "      <td>2</td>\n",
       "      <td>8.0</td>\n",
       "      <td>57</td>\n",
       "      <td>+7.187</td>\n",
       "      <td>5515369</td>\n",
       "      <td>16</td>\n",
       "      <td>4</td>\n",
       "      <td>1:34.756</td>\n",
       "      <td>205.614</td>\n",
       "      <td>1</td>\n",
       "    </tr>\n",
       "    <tr>\n",
       "      <th>7635</th>\n",
       "      <td>7636</td>\n",
       "      <td>5</td>\n",
       "      <td>17</td>\n",
       "      <td>9</td>\n",
       "      <td>14</td>\n",
       "      <td>5</td>\n",
       "      <td>3</td>\n",
       "      <td>3</td>\n",
       "      <td>3</td>\n",
       "      <td>6.0</td>\n",
       "      <td>66</td>\n",
       "      <td>+13.924</td>\n",
       "      <td>5853126</td>\n",
       "      <td>18</td>\n",
       "      <td>5</td>\n",
       "      <td>1:23.112</td>\n",
       "      <td>201.631</td>\n",
       "      <td>1</td>\n",
       "    </tr>\n",
       "    <tr>\n",
       "      <th>7674</th>\n",
       "      <td>7675</td>\n",
       "      <td>7</td>\n",
       "      <td>17</td>\n",
       "      <td>9</td>\n",
       "      <td>14</td>\n",
       "      <td>4</td>\n",
       "      <td>2</td>\n",
       "      <td>2</td>\n",
       "      <td>2</td>\n",
       "      <td>8.0</td>\n",
       "      <td>58</td>\n",
       "      <td>+6.714</td>\n",
       "      <td>5191562</td>\n",
       "      <td>42</td>\n",
       "      <td>3</td>\n",
       "      <td>1:27.809</td>\n",
       "      <td>218.847</td>\n",
       "      <td>1</td>\n",
       "    </tr>\n",
       "    <tr>\n",
       "      <th>7675</th>\n",
       "      <td>7676</td>\n",
       "      <td>7</td>\n",
       "      <td>20</td>\n",
       "      <td>9</td>\n",
       "      <td>15</td>\n",
       "      <td>1</td>\n",
       "      <td>3</td>\n",
       "      <td>3</td>\n",
       "      <td>3</td>\n",
       "      <td>6.0</td>\n",
       "      <td>58</td>\n",
       "      <td>+7.461</td>\n",
       "      <td>5192309</td>\n",
       "      <td>51</td>\n",
       "      <td>2</td>\n",
       "      <td>1:27.622</td>\n",
       "      <td>219.314</td>\n",
       "      <td>1</td>\n",
       "    </tr>\n",
       "    <tr>\n",
       "      <th>7693</th>\n",
       "      <td>7694</td>\n",
       "      <td>8</td>\n",
       "      <td>20</td>\n",
       "      <td>9</td>\n",
       "      <td>15</td>\n",
       "      <td>1</td>\n",
       "      <td>1</td>\n",
       "      <td>1</td>\n",
       "      <td>1</td>\n",
       "      <td>10.0</td>\n",
       "      <td>60</td>\n",
       "      <td>1:22:49.328</td>\n",
       "      <td>4969328</td>\n",
       "      <td>16</td>\n",
       "      <td>1</td>\n",
       "      <td>1:20.735</td>\n",
       "      <td>229.238</td>\n",
       "      <td>1</td>\n",
       "    </tr>\n",
       "  </tbody>\n",
       "</table>\n",
       "</div>"
      ],
      "text/plain": [
       "      resultId  raceId  driverId  constructorId number  grid position  \\\n",
       "130        131      24        14              9      9    13        3   \n",
       "568        569      45        17              9     15     6        3   \n",
       "876        877      59        14              9     14     7        3   \n",
       "7593      7594       3        20              9     15     1        1   \n",
       "7594      7595       3        17              9     14     3        2   \n",
       "7614      7615       4        20              9     15     3        2   \n",
       "7635      7636       5        17              9     14     5        3   \n",
       "7674      7675       7        17              9     14     4        2   \n",
       "7675      7676       7        20              9     15     1        3   \n",
       "7693      7694       8        20              9     15     1        1   \n",
       "\n",
       "     positionText  positionOrder  points  laps         time milliseconds  \\\n",
       "130             3              3     6.0    70      +23.352      5807579   \n",
       "568             3              3     6.0    60    +1:05.674      7652032   \n",
       "876             3              3     6.0    78      +52.298      6275414   \n",
       "7593            1              1    10.0    56  1:57:43.485      7063485   \n",
       "7594            2              2     8.0    56      +10.970      7074455   \n",
       "7614            2              2     8.0    57       +7.187      5515369   \n",
       "7635            3              3     6.0    66      +13.924      5853126   \n",
       "7674            2              2     8.0    58       +6.714      5191562   \n",
       "7675            3              3     6.0    58       +7.461      5192309   \n",
       "7693            1              1    10.0    60  1:22:49.328      4969328   \n",
       "\n",
       "     fastestLap rank fastestLapTime fastestLapSpeed  statusId  \n",
       "130          36    7       1:18.085         201.057         1  \n",
       "568          29    8       1:34.449         196.220         1  \n",
       "876          45   19       1:17.849         154.452         1  \n",
       "7593         42    2       1:52.627         174.235         1  \n",
       "7594         42    4       1:52.980         173.690         1  \n",
       "7614         16    4       1:34.756         205.614         1  \n",
       "7635         18    5       1:23.112         201.631         1  \n",
       "7674         42    3       1:27.809         218.847         1  \n",
       "7675         51    2       1:27.622         219.314         1  \n",
       "7693         16    1       1:20.735         229.238         1  "
      ]
     },
     "execution_count": 21,
     "metadata": {},
     "output_type": "execute_result"
    }
   ],
   "source": [
    "#Creating single dataframe with all the data we need\n",
    "driverStandingDf = dataset['results_df'][(dataset['results_df']['constructorId'] == constructorId) &(dataset['results_df']['positionOrder'] <= 3)]\n",
    "\n",
    "#Only printing 10 data\n",
    "driverStandingDf.head(10)"
   ]
  },
  {
   "cell_type": "code",
   "execution_count": 22,
   "metadata": {},
   "outputs": [
    {
     "name": "stdout",
     "output_type": "stream",
     "text": [
      "{830: 107, 20: 65, 17: 41, 817: 29, 815: 29, 14: 2, 826: 2, 848: 2}\n"
     ]
    }
   ],
   "source": [
    "driverIdsAndNoOfPodiums = {}\n",
    "\n",
    "#Creating function to calculate the number of podiums by each redbull drivers \n",
    "def getDriverNameFromId(driverId):\n",
    "    filtered_df = dataset['drivers_df'][(dataset['drivers_df']['driverId'] == driverId)][['forename','surname']]\n",
    "    full_name = filtered_df['forename'] + \" \" + filtered_df['surname']\n",
    "    return full_name.values[0]\n",
    "\n",
    "for index, row in driverStandingDf.iterrows():\n",
    "    try:\n",
    "        driverIdsAndNoOfPodiums[row['driverId']] +=1\n",
    "    except:\n",
    "        driverIdsAndNoOfPodiums[row['driverId']] =1\n",
    "\n",
    "#Creating dictonary for redbull driver ids and podiums\n",
    "driverIdsAndNoOfPodiums = dict(sorted(driverIdsAndNoOfPodiums.items(), key=lambda item: item[1], reverse=True))\n",
    "names_ = [getDriverNameFromId(driverId) for driverId in driverIdsAndNoOfPodiums.keys()]\n",
    "podiums_ = list(driverIdsAndNoOfPodiums.values())\n",
    "\n",
    "#Printing the list\n",
    "print(driverIdsAndNoOfPodiums)"
   ]
  },
  {
   "cell_type": "code",
   "execution_count": 23,
   "metadata": {},
   "outputs": [
    {
     "name": "stdout",
     "output_type": "stream",
     "text": [
      "Top 5 Redbull drivers of all time : \n",
      "Max Verstappen have total 107 podiums for Redbull Racing\n",
      "Sebastian Vettel have total 65 podiums for Redbull Racing\n",
      "Mark Webber have total 41 podiums for Redbull Racing\n",
      "Daniel Ricciardo have total 29 podiums for Redbull Racing\n",
      "Sergio Pérez have total 29 podiums for Redbull Racing\n"
     ]
    },
    {
     "data": {
      "image/png": "[encoded data removed]",
      "text/plain": [
       "<Figure size 640x480 with 1 Axes>"
      ]
     },
     "metadata": {},
     "output_type": "display_data"
    }
   ],
   "source": [
    "#Printing top 3 drivers of redull by podiums\n",
    "print(f\"Top 5 Redbull drivers of all time : \")\n",
    "\n",
    "#Looping through it 5 times\n",
    "for i in range(5):\n",
    "    print(f\"{names_[i]} have total {podiums_[i]} podiums for Redbull Racing\")\n",
    "\n",
    "#Creating horizontal bar graph\n",
    "plt.barh(names_, podiums_)\n",
    "\n",
    "#Add labels and title for the bar graph\n",
    "plt.xlabel('Number of Podiums secured')\n",
    "plt.ylabel('Drivers')\n",
    "plt.title('Number of Podiums by Redbull Drivers')\n",
    "\n",
    "# Show the plot\n",
    "plt.show()\n"
   ]
  },
  {
   "cell_type": "markdown",
   "metadata": {},
   "source": [
    "Max Verstappen"
   ]
  },
  {
   "cell_type": "code",
   "execution_count": 24,
   "metadata": {},
   "outputs": [
    {
     "data": {
      "text/html": [
       "<div>\n",
       "<style scoped>\n",
       "    .dataframe tbody tr th:only-of-type {\n",
       "        vertical-align: middle;\n",
       "    }\n",
       "\n",
       "    .dataframe tbody tr th {\n",
       "        vertical-align: top;\n",
       "    }\n",
       "\n",
       "    .dataframe thead th {\n",
       "        text-align: right;\n",
       "    }\n",
       "</style>\n",
       "<table border=\"1\" class=\"dataframe\">\n",
       "  <thead>\n",
       "    <tr style=\"text-align: right;\">\n",
       "      <th></th>\n",
       "      <th>qualifyId</th>\n",
       "      <th>raceId</th>\n",
       "      <th>driverId</th>\n",
       "      <th>constructorId</th>\n",
       "      <th>number_x</th>\n",
       "      <th>position_x</th>\n",
       "      <th>q1</th>\n",
       "      <th>q2</th>\n",
       "      <th>q3</th>\n",
       "      <th>resultId</th>\n",
       "      <th>number_y</th>\n",
       "      <th>grid</th>\n",
       "      <th>position_y</th>\n",
       "      <th>positionText</th>\n",
       "      <th>positionOrder</th>\n",
       "      <th>points</th>\n",
       "      <th>laps</th>\n",
       "      <th>time</th>\n",
       "      <th>milliseconds</th>\n",
       "      <th>fastestLap</th>\n",
       "      <th>rank</th>\n",
       "      <th>fastestLapTime</th>\n",
       "      <th>fastestLapSpeed</th>\n",
       "      <th>statusId</th>\n",
       "    </tr>\n",
       "  </thead>\n",
       "  <tbody>\n",
       "    <tr>\n",
       "      <th>0</th>\n",
       "      <td>6774</td>\n",
       "      <td>952</td>\n",
       "      <td>830</td>\n",
       "      <td>9</td>\n",
       "      <td>33</td>\n",
       "      <td>4</td>\n",
       "      <td>1:23.578</td>\n",
       "      <td>1:23.178</td>\n",
       "      <td>1:23.087</td>\n",
       "      <td>23005</td>\n",
       "      <td>33</td>\n",
       "      <td>4</td>\n",
       "      <td>1</td>\n",
       "      <td>1</td>\n",
       "      <td>1</td>\n",
       "      <td>25.0</td>\n",
       "      <td>66</td>\n",
       "      <td>1:41:40.017</td>\n",
       "      <td>6100017</td>\n",
       "      <td>36</td>\n",
       "      <td>6</td>\n",
       "      <td>1:28.816</td>\n",
       "      <td>188.682</td>\n",
       "      <td>1</td>\n",
       "    </tr>\n",
       "    <tr>\n",
       "      <th>1</th>\n",
       "      <td>6813</td>\n",
       "      <td>953</td>\n",
       "      <td>830</td>\n",
       "      <td>9</td>\n",
       "      <td>33</td>\n",
       "      <td>21</td>\n",
       "      <td>1:22.467</td>\n",
       "      <td>\\N</td>\n",
       "      <td>\\N</td>\n",
       "      <td>23044</td>\n",
       "      <td>33</td>\n",
       "      <td>0</td>\n",
       "      <td>\\N</td>\n",
       "      <td>R</td>\n",
       "      <td>18</td>\n",
       "      <td>0.0</td>\n",
       "      <td>34</td>\n",
       "      <td>\\N</td>\n",
       "      <td>\\N</td>\n",
       "      <td>34</td>\n",
       "      <td>18</td>\n",
       "      <td>1:26.563</td>\n",
       "      <td>138.779</td>\n",
       "      <td>3</td>\n",
       "    </tr>\n",
       "    <tr>\n",
       "      <th>2</th>\n",
       "      <td>6819</td>\n",
       "      <td>954</td>\n",
       "      <td>830</td>\n",
       "      <td>9</td>\n",
       "      <td>33</td>\n",
       "      <td>5</td>\n",
       "      <td>1:14.601</td>\n",
       "      <td>1:13.793</td>\n",
       "      <td>1:13.414</td>\n",
       "      <td>23052</td>\n",
       "      <td>33</td>\n",
       "      <td>5</td>\n",
       "      <td>4</td>\n",
       "      <td>4</td>\n",
       "      <td>4</td>\n",
       "      <td>12.0</td>\n",
       "      <td>70</td>\n",
       "      <td>+53.020</td>\n",
       "      <td>5518316</td>\n",
       "      <td>49</td>\n",
       "      <td>4</td>\n",
       "      <td>1:16.319</td>\n",
       "      <td>205.710</td>\n",
       "      <td>1</td>\n",
       "    </tr>\n",
       "    <tr>\n",
       "      <th>3</th>\n",
       "      <td>6844</td>\n",
       "      <td>955</td>\n",
       "      <td>830</td>\n",
       "      <td>9</td>\n",
       "      <td>33</td>\n",
       "      <td>9</td>\n",
       "      <td>1:44.939</td>\n",
       "      <td>1:44.387</td>\n",
       "      <td>1:45.570</td>\n",
       "      <td>23078</td>\n",
       "      <td>33</td>\n",
       "      <td>9</td>\n",
       "      <td>8</td>\n",
       "      <td>8</td>\n",
       "      <td>8</td>\n",
       "      <td>4.0</td>\n",
       "      <td>51</td>\n",
       "      <td>+1:10.696</td>\n",
       "      <td>5643062</td>\n",
       "      <td>50</td>\n",
       "      <td>3</td>\n",
       "      <td>1:46.973</td>\n",
       "      <td>202.021</td>\n",
       "      <td>1</td>\n",
       "    </tr>\n",
       "    <tr>\n",
       "      <th>4</th>\n",
       "      <td>6866</td>\n",
       "      <td>956</td>\n",
       "      <td>830</td>\n",
       "      <td>9</td>\n",
       "      <td>33</td>\n",
       "      <td>9</td>\n",
       "      <td>1:07.131</td>\n",
       "      <td>1:06.866</td>\n",
       "      <td>1:11.153</td>\n",
       "      <td>23094</td>\n",
       "      <td>33</td>\n",
       "      <td>8</td>\n",
       "      <td>2</td>\n",
       "      <td>2</td>\n",
       "      <td>2</td>\n",
       "      <td>18.0</td>\n",
       "      <td>71</td>\n",
       "      <td>+5.719</td>\n",
       "      <td>5263826</td>\n",
       "      <td>69</td>\n",
       "      <td>5</td>\n",
       "      <td>1:09.618</td>\n",
       "      <td>223.700</td>\n",
       "      <td>1</td>\n",
       "    </tr>\n",
       "    <tr>\n",
       "      <th>5</th>\n",
       "      <td>6882</td>\n",
       "      <td>957</td>\n",
       "      <td>830</td>\n",
       "      <td>9</td>\n",
       "      <td>33</td>\n",
       "      <td>3</td>\n",
       "      <td>1:31.305</td>\n",
       "      <td>1:30.697</td>\n",
       "      <td>1:30.313</td>\n",
       "      <td>23116</td>\n",
       "      <td>33</td>\n",
       "      <td>3</td>\n",
       "      <td>2</td>\n",
       "      <td>2</td>\n",
       "      <td>2</td>\n",
       "      <td>18.0</td>\n",
       "      <td>52</td>\n",
       "      <td>+8.250</td>\n",
       "      <td>5704081</td>\n",
       "      <td>41</td>\n",
       "      <td>6</td>\n",
       "      <td>1:36.407</td>\n",
       "      <td>219.979</td>\n",
       "      <td>1</td>\n",
       "    </tr>\n",
       "    <tr>\n",
       "      <th>6</th>\n",
       "      <td>6904</td>\n",
       "      <td>958</td>\n",
       "      <td>830</td>\n",
       "      <td>9</td>\n",
       "      <td>33</td>\n",
       "      <td>4</td>\n",
       "      <td>1:40.424</td>\n",
       "      <td>1:22.660</td>\n",
       "      <td>1:20.557</td>\n",
       "      <td>23141</td>\n",
       "      <td>33</td>\n",
       "      <td>4</td>\n",
       "      <td>5</td>\n",
       "      <td>5</td>\n",
       "      <td>5</td>\n",
       "      <td>10.0</td>\n",
       "      <td>70</td>\n",
       "      <td>+48.659</td>\n",
       "      <td>6078774</td>\n",
       "      <td>40</td>\n",
       "      <td>7</td>\n",
       "      <td>1:24.687</td>\n",
       "      <td>186.234</td>\n",
       "      <td>1</td>\n",
       "    </tr>\n",
       "    <tr>\n",
       "      <th>7</th>\n",
       "      <td>6926</td>\n",
       "      <td>959</td>\n",
       "      <td>830</td>\n",
       "      <td>9</td>\n",
       "      <td>33</td>\n",
       "      <td>4</td>\n",
       "      <td>1:15.875</td>\n",
       "      <td>1:15.124</td>\n",
       "      <td>1:14.834</td>\n",
       "      <td>23161</td>\n",
       "      <td>33</td>\n",
       "      <td>4</td>\n",
       "      <td>3</td>\n",
       "      <td>3</td>\n",
       "      <td>3</td>\n",
       "      <td>15.0</td>\n",
       "      <td>67</td>\n",
       "      <td>+13.413</td>\n",
       "      <td>5457613</td>\n",
       "      <td>47</td>\n",
       "      <td>4</td>\n",
       "      <td>1:18.910</td>\n",
       "      <td>208.673</td>\n",
       "      <td>1</td>\n",
       "    </tr>\n",
       "    <tr>\n",
       "      <th>8</th>\n",
       "      <td>6946</td>\n",
       "      <td>960</td>\n",
       "      <td>830</td>\n",
       "      <td>9</td>\n",
       "      <td>33</td>\n",
       "      <td>2</td>\n",
       "      <td>1:48.407</td>\n",
       "      <td>1:47.163</td>\n",
       "      <td>1:46.893</td>\n",
       "      <td>23191</td>\n",
       "      <td>33</td>\n",
       "      <td>2</td>\n",
       "      <td>11</td>\n",
       "      <td>11</td>\n",
       "      <td>11</td>\n",
       "      <td>0.0</td>\n",
       "      <td>44</td>\n",
       "      <td>+1:11.138</td>\n",
       "      <td>6362196</td>\n",
       "      <td>32</td>\n",
       "      <td>7</td>\n",
       "      <td>1:53.281</td>\n",
       "      <td>222.582</td>\n",
       "      <td>1</td>\n",
       "    </tr>\n",
       "    <tr>\n",
       "      <th>9</th>\n",
       "      <td>6972</td>\n",
       "      <td>961</td>\n",
       "      <td>830</td>\n",
       "      <td>9</td>\n",
       "      <td>33</td>\n",
       "      <td>7</td>\n",
       "      <td>1:23.229</td>\n",
       "      <td>1:22.857</td>\n",
       "      <td>1:22.411</td>\n",
       "      <td>23209</td>\n",
       "      <td>33</td>\n",
       "      <td>7</td>\n",
       "      <td>7</td>\n",
       "      <td>7</td>\n",
       "      <td>7</td>\n",
       "      <td>6.0</td>\n",
       "      <td>53</td>\n",
       "      <td>+54.236</td>\n",
       "      <td>4702325</td>\n",
       "      <td>50</td>\n",
       "      <td>8</td>\n",
       "      <td>1:26.405</td>\n",
       "      <td>241.361</td>\n",
       "      <td>1</td>\n",
       "    </tr>\n",
       "    <tr>\n",
       "      <th>10</th>\n",
       "      <td>6990</td>\n",
       "      <td>962</td>\n",
       "      <td>830</td>\n",
       "      <td>9</td>\n",
       "      <td>33</td>\n",
       "      <td>4</td>\n",
       "      <td>1:45.036</td>\n",
       "      <td>1:44.112</td>\n",
       "      <td>1:43.328</td>\n",
       "      <td>23230</td>\n",
       "      <td>33</td>\n",
       "      <td>4</td>\n",
       "      <td>6</td>\n",
       "      <td>6</td>\n",
       "      <td>6</td>\n",
       "      <td>8.0</td>\n",
       "      <td>61</td>\n",
       "      <td>+1:11.197</td>\n",
       "      <td>7020147</td>\n",
       "      <td>46</td>\n",
       "      <td>5</td>\n",
       "      <td>1:49.050</td>\n",
       "      <td>167.207</td>\n",
       "      <td>1</td>\n",
       "    </tr>\n",
       "    <tr>\n",
       "      <th>11</th>\n",
       "      <td>7011</td>\n",
       "      <td>963</td>\n",
       "      <td>830</td>\n",
       "      <td>9</td>\n",
       "      <td>33</td>\n",
       "      <td>3</td>\n",
       "      <td>1:35.443</td>\n",
       "      <td>1:33.775</td>\n",
       "      <td>1:33.420</td>\n",
       "      <td>23248</td>\n",
       "      <td>33</td>\n",
       "      <td>3</td>\n",
       "      <td>2</td>\n",
       "      <td>2</td>\n",
       "      <td>2</td>\n",
       "      <td>18.0</td>\n",
       "      <td>56</td>\n",
       "      <td>+2.443</td>\n",
       "      <td>5835219</td>\n",
       "      <td>44</td>\n",
       "      <td>2</td>\n",
       "      <td>1:37.376</td>\n",
       "      <td>204.925</td>\n",
       "      <td>1</td>\n",
       "    </tr>\n",
       "    <tr>\n",
       "      <th>12</th>\n",
       "      <td>7035</td>\n",
       "      <td>964</td>\n",
       "      <td>830</td>\n",
       "      <td>9</td>\n",
       "      <td>33</td>\n",
       "      <td>5</td>\n",
       "      <td>1:32.487</td>\n",
       "      <td>1:31.489</td>\n",
       "      <td>1:31.178</td>\n",
       "      <td>23270</td>\n",
       "      <td>33</td>\n",
       "      <td>3</td>\n",
       "      <td>2</td>\n",
       "      <td>2</td>\n",
       "      <td>2</td>\n",
       "      <td>18.0</td>\n",
       "      <td>53</td>\n",
       "      <td>+4.978</td>\n",
       "      <td>5208311</td>\n",
       "      <td>43</td>\n",
       "      <td>6</td>\n",
       "      <td>1:36.386</td>\n",
       "      <td>216.890</td>\n",
       "      <td>1</td>\n",
       "    </tr>\n",
       "    <tr>\n",
       "      <th>13</th>\n",
       "      <td>7056</td>\n",
       "      <td>965</td>\n",
       "      <td>830</td>\n",
       "      <td>9</td>\n",
       "      <td>33</td>\n",
       "      <td>4</td>\n",
       "      <td>1:36.613</td>\n",
       "      <td>1:36.857</td>\n",
       "      <td>1:35.747</td>\n",
       "      <td>23310</td>\n",
       "      <td>33</td>\n",
       "      <td>4</td>\n",
       "      <td>\\N</td>\n",
       "      <td>R</td>\n",
       "      <td>20</td>\n",
       "      <td>0.0</td>\n",
       "      <td>28</td>\n",
       "      <td>\\N</td>\n",
       "      <td>\\N</td>\n",
       "      <td>28</td>\n",
       "      <td>5</td>\n",
       "      <td>1:42.424</td>\n",
       "      <td>193.770</td>\n",
       "      <td>6</td>\n",
       "    </tr>\n",
       "    <tr>\n",
       "      <th>14</th>\n",
       "      <td>7077</td>\n",
       "      <td>966</td>\n",
       "      <td>830</td>\n",
       "      <td>9</td>\n",
       "      <td>33</td>\n",
       "      <td>3</td>\n",
       "      <td>1:19.874</td>\n",
       "      <td>1:18.972</td>\n",
       "      <td>1:19.054</td>\n",
       "      <td>23316</td>\n",
       "      <td>33</td>\n",
       "      <td>3</td>\n",
       "      <td>4</td>\n",
       "      <td>4</td>\n",
       "      <td>4</td>\n",
       "      <td>12.0</td>\n",
       "      <td>71</td>\n",
       "      <td>+21.323</td>\n",
       "      <td>6052725</td>\n",
       "      <td>66</td>\n",
       "      <td>6</td>\n",
       "      <td>1:22.887</td>\n",
       "      <td>186.934</td>\n",
       "      <td>1</td>\n",
       "    </tr>\n",
       "    <tr>\n",
       "      <th>15</th>\n",
       "      <td>7099</td>\n",
       "      <td>967</td>\n",
       "      <td>830</td>\n",
       "      <td>9</td>\n",
       "      <td>33</td>\n",
       "      <td>4</td>\n",
       "      <td>1:11.957</td>\n",
       "      <td>1:11.834</td>\n",
       "      <td>1:11.485</td>\n",
       "      <td>23337</td>\n",
       "      <td>33</td>\n",
       "      <td>4</td>\n",
       "      <td>3</td>\n",
       "      <td>3</td>\n",
       "      <td>3</td>\n",
       "      <td>15.0</td>\n",
       "      <td>71</td>\n",
       "      <td>+21.481</td>\n",
       "      <td>10882816</td>\n",
       "      <td>67</td>\n",
       "      <td>1</td>\n",
       "      <td>1:25.305</td>\n",
       "      <td>181.846</td>\n",
       "      <td>1</td>\n",
       "    </tr>\n",
       "    <tr>\n",
       "      <th>16</th>\n",
       "      <td>7123</td>\n",
       "      <td>968</td>\n",
       "      <td>830</td>\n",
       "      <td>9</td>\n",
       "      <td>33</td>\n",
       "      <td>6</td>\n",
       "      <td>1:40.424</td>\n",
       "      <td>1:39.903</td>\n",
       "      <td>1:39.818</td>\n",
       "      <td>23360</td>\n",
       "      <td>33</td>\n",
       "      <td>6</td>\n",
       "      <td>4</td>\n",
       "      <td>4</td>\n",
       "      <td>4</td>\n",
       "      <td>12.0</td>\n",
       "      <td>55</td>\n",
       "      <td>+1.685</td>\n",
       "      <td>5885698</td>\n",
       "      <td>36</td>\n",
       "      <td>7</td>\n",
       "      <td>1:45.187</td>\n",
       "      <td>190.084</td>\n",
       "      <td>1</td>\n",
       "    </tr>\n",
       "    <tr>\n",
       "      <th>17</th>\n",
       "      <td>7144</td>\n",
       "      <td>969</td>\n",
       "      <td>830</td>\n",
       "      <td>9</td>\n",
       "      <td>33</td>\n",
       "      <td>5</td>\n",
       "      <td>1:24.482</td>\n",
       "      <td>1:24.092</td>\n",
       "      <td>1:23.485</td>\n",
       "      <td>23383</td>\n",
       "      <td>33</td>\n",
       "      <td>5</td>\n",
       "      <td>5</td>\n",
       "      <td>5</td>\n",
       "      <td>5</td>\n",
       "      <td>10.0</td>\n",
       "      <td>57</td>\n",
       "      <td>+28.827</td>\n",
       "      <td>5080499</td>\n",
       "      <td>43</td>\n",
       "      <td>5</td>\n",
       "      <td>1:26.964</td>\n",
       "      <td>219.525</td>\n",
       "      <td>1</td>\n",
       "    </tr>\n",
       "    <tr>\n",
       "      <th>18</th>\n",
       "      <td>7178</td>\n",
       "      <td>970</td>\n",
       "      <td>830</td>\n",
       "      <td>9</td>\n",
       "      <td>33</td>\n",
       "      <td>19</td>\n",
       "      <td>1:35.433</td>\n",
       "      <td>\\N</td>\n",
       "      <td>\\N</td>\n",
       "      <td>23401</td>\n",
       "      <td>33</td>\n",
       "      <td>16</td>\n",
       "      <td>3</td>\n",
       "      <td>3</td>\n",
       "      <td>3</td>\n",
       "      <td>15.0</td>\n",
       "      <td>56</td>\n",
       "      <td>+45.192</td>\n",
       "      <td>5901350</td>\n",
       "      <td>31</td>\n",
       "      <td>7</td>\n",
       "      <td>1:36.722</td>\n",
       "      <td>202.886</td>\n",
       "      <td>1</td>\n",
       "    </tr>\n",
       "    <tr>\n",
       "      <th>19</th>\n",
       "      <td>7185</td>\n",
       "      <td>971</td>\n",
       "      <td>830</td>\n",
       "      <td>9</td>\n",
       "      <td>33</td>\n",
       "      <td>6</td>\n",
       "      <td>1:30.904</td>\n",
       "      <td>1:30.307</td>\n",
       "      <td>1:29.687</td>\n",
       "      <td>23436</td>\n",
       "      <td>33</td>\n",
       "      <td>6</td>\n",
       "      <td>\\N</td>\n",
       "      <td>R</td>\n",
       "      <td>18</td>\n",
       "      <td>0.0</td>\n",
       "      <td>11</td>\n",
       "      <td>\\N</td>\n",
       "      <td>\\N</td>\n",
       "      <td>4</td>\n",
       "      <td>16</td>\n",
       "      <td>1:36.681</td>\n",
       "      <td>201.520</td>\n",
       "      <td>23</td>\n",
       "    </tr>\n",
       "  </tbody>\n",
       "</table>\n",
       "</div>"
      ],
      "text/plain": [
       "    qualifyId  raceId  driverId  constructorId  number_x  position_x  \\\n",
       "0        6774     952       830              9        33           4   \n",
       "1        6813     953       830              9        33          21   \n",
       "2        6819     954       830              9        33           5   \n",
       "3        6844     955       830              9        33           9   \n",
       "4        6866     956       830              9        33           9   \n",
       "5        6882     957       830              9        33           3   \n",
       "6        6904     958       830              9        33           4   \n",
       "7        6926     959       830              9        33           4   \n",
       "8        6946     960       830              9        33           2   \n",
       "9        6972     961       830              9        33           7   \n",
       "10       6990     962       830              9        33           4   \n",
       "11       7011     963       830              9        33           3   \n",
       "12       7035     964       830              9        33           5   \n",
       "13       7056     965       830              9        33           4   \n",
       "14       7077     966       830              9        33           3   \n",
       "15       7099     967       830              9        33           4   \n",
       "16       7123     968       830              9        33           6   \n",
       "17       7144     969       830              9        33           5   \n",
       "18       7178     970       830              9        33          19   \n",
       "19       7185     971       830              9        33           6   \n",
       "\n",
       "          q1        q2        q3  resultId number_y  grid position_y  \\\n",
       "0   1:23.578  1:23.178  1:23.087     23005       33     4          1   \n",
       "1   1:22.467        \\N        \\N     23044       33     0         \\N   \n",
       "2   1:14.601  1:13.793  1:13.414     23052       33     5          4   \n",
       "3   1:44.939  1:44.387  1:45.570     23078       33     9          8   \n",
       "4   1:07.131  1:06.866  1:11.153     23094       33     8          2   \n",
       "5   1:31.305  1:30.697  1:30.313     23116       33     3          2   \n",
       "6   1:40.424  1:22.660  1:20.557     23141       33     4          5   \n",
       "7   1:15.875  1:15.124  1:14.834     23161       33     4          3   \n",
       "8   1:48.407  1:47.163  1:46.893     23191       33     2         11   \n",
       "9   1:23.229  1:22.857  1:22.411     23209       33     7          7   \n",
       "10  1:45.036  1:44.112  1:43.328     23230       33     4          6   \n",
       "11  1:35.443  1:33.775  1:33.420     23248       33     3          2   \n",
       "12  1:32.487  1:31.489  1:31.178     23270       33     3          2   \n",
       "13  1:36.613  1:36.857  1:35.747     23310       33     4         \\N   \n",
       "14  1:19.874  1:18.972  1:19.054     23316       33     3          4   \n",
       "15  1:11.957  1:11.834  1:11.485     23337       33     4          3   \n",
       "16  1:40.424  1:39.903  1:39.818     23360       33     6          4   \n",
       "17  1:24.482  1:24.092  1:23.485     23383       33     5          5   \n",
       "18  1:35.433        \\N        \\N     23401       33    16          3   \n",
       "19  1:30.904  1:30.307  1:29.687     23436       33     6         \\N   \n",
       "\n",
       "   positionText  positionOrder  points  laps         time milliseconds  \\\n",
       "0             1              1    25.0    66  1:41:40.017      6100017   \n",
       "1             R             18     0.0    34           \\N           \\N   \n",
       "2             4              4    12.0    70      +53.020      5518316   \n",
       "3             8              8     4.0    51    +1:10.696      5643062   \n",
       "4             2              2    18.0    71       +5.719      5263826   \n",
       "5             2              2    18.0    52       +8.250      5704081   \n",
       "6             5              5    10.0    70      +48.659      6078774   \n",
       "7             3              3    15.0    67      +13.413      5457613   \n",
       "8            11             11     0.0    44    +1:11.138      6362196   \n",
       "9             7              7     6.0    53      +54.236      4702325   \n",
       "10            6              6     8.0    61    +1:11.197      7020147   \n",
       "11            2              2    18.0    56       +2.443      5835219   \n",
       "12            2              2    18.0    53       +4.978      5208311   \n",
       "13            R             20     0.0    28           \\N           \\N   \n",
       "14            4              4    12.0    71      +21.323      6052725   \n",
       "15            3              3    15.0    71      +21.481     10882816   \n",
       "16            4              4    12.0    55       +1.685      5885698   \n",
       "17            5              5    10.0    57      +28.827      5080499   \n",
       "18            3              3    15.0    56      +45.192      5901350   \n",
       "19            R             18     0.0    11           \\N           \\N   \n",
       "\n",
       "   fastestLap rank fastestLapTime fastestLapSpeed  statusId  \n",
       "0          36    6       1:28.816         188.682         1  \n",
       "1          34   18       1:26.563         138.779         3  \n",
       "2          49    4       1:16.319         205.710         1  \n",
       "3          50    3       1:46.973         202.021         1  \n",
       "4          69    5       1:09.618         223.700         1  \n",
       "5          41    6       1:36.407         219.979         1  \n",
       "6          40    7       1:24.687         186.234         1  \n",
       "7          47    4       1:18.910         208.673         1  \n",
       "8          32    7       1:53.281         222.582         1  \n",
       "9          50    8       1:26.405         241.361         1  \n",
       "10         46    5       1:49.050         167.207         1  \n",
       "11         44    2       1:37.376         204.925         1  \n",
       "12         43    6       1:36.386         216.890         1  \n",
       "13         28    5       1:42.424         193.770         6  \n",
       "14         66    6       1:22.887         186.934         1  \n",
       "15         67    1       1:25.305         181.846         1  \n",
       "16         36    7       1:45.187         190.084         1  \n",
       "17         43    5       1:26.964         219.525         1  \n",
       "18         31    7       1:36.722         202.886         1  \n",
       "19          4   16       1:36.681         201.520        23  "
      ]
     },
     "execution_count": 24,
     "metadata": {},
     "output_type": "execute_result"
    }
   ],
   "source": [
    "#Selecting Max Verstappen\n",
    "max_verstappen_driverId = 830\n",
    "\n",
    "#Diving deeper into indiviudal driver starting with Max Verstappen\n",
    "quali_filtered_df = dataset[\"qualifying_df\"][(dataset[\"qualifying_df\"]['constructorId'] == constructorId) & (dataset[\"qualifying_df\"]['driverId'] == max_verstappen_driverId)]\n",
    "quali_filtered_df.head()\n",
    "filtired_df = pd.merge(quali_filtered_df, dataset[\"results_df\"], on= ['raceId','driverId','constructorId' ])\n",
    "filtired_df.head(20)"
   ]
  },
  {
   "cell_type": "code",
   "execution_count": 25,
   "metadata": {},
   "outputs": [],
   "source": [
    "race_position = filtired_df['positionOrder'].to_list()\n",
    "quali_position = filtired_df['position_x'].to_list()"
   ]
  },
  {
   "cell_type": "code",
   "execution_count": 26,
   "metadata": {},
   "outputs": [
    {
     "data": {
      "image/png": "[encoded data removed]",
      "text/plain": [
       "<Figure size 640x480 with 2 Axes>"
      ]
     },
     "metadata": {},
     "output_type": "display_data"
    }
   ],
   "source": [
    "#Creating hexagonal Scatter plot for Max Verstappen\n",
    "plt.hexbin(quali_position, race_position, gridsize=16, cmap='RdYlBu_r', mincnt=1)\n",
    "\n",
    "#Adding labels and title\n",
    "plt.colorbar(label='Count')\n",
    "plt.xlabel('Quali. position')\n",
    "plt.ylabel('Race Position')\n",
    "\n",
    "\n",
    "#Show the plot\n",
    "plt.show()"
   ]
  },
  {
   "cell_type": "code",
   "execution_count": 27,
   "metadata": {},
   "outputs": [
    {
     "name": "stdout",
     "output_type": "stream",
     "text": [
      "../Dataset\\circuits.csv\n",
      "../Dataset\\constructors.csv\n",
      "../Dataset\\constructor_results.csv\n",
      "../Dataset\\constructor_standings.csv\n",
      "../Dataset\\drivers.csv\n",
      "../Dataset\\driver_standings.csv\n",
      "../Dataset\\lap_times.csv\n",
      "../Dataset\\pit_stops.csv\n",
      "../Dataset\\qualifying.csv\n",
      "../Dataset\\races.csv\n",
      "../Dataset\\results.csv\n",
      "../Dataset\\seasons.csv\n",
      "../Dataset\\sprint_results.csv\n",
      "../Dataset\\status.csv\n"
     ]
    }
   ],
   "source": [
    "#Creating dataframes\n",
    "fnames = []\n",
    "fpaths = []\n",
    "for dirname, _, filenames in os.walk('../Dataset'):\n",
    "    for filename in filenames:\n",
    "        fnames.append(filename.split('.')[0])\n",
    "        fpaths.append(os.path.join(dirname, filename))\n",
    "        print(os.path.join(dirname, filename))"
   ]
  },
  {
   "cell_type": "code",
   "execution_count": 28,
   "metadata": {},
   "outputs": [],
   "source": [
    "#File path and dataframes\n",
    "fpath = '../Dataset/'\n",
    "circuits = pd.read_csv(f'{fpath}circuits.csv', index_col=0, na_values=r'\\N')\n",
    "constructorResults = pd.read_csv(f'{fpath}constructor_results.csv', index_col=0, na_values=r'\\N')\n",
    "constructors = pd.read_csv(f'{fpath}constructors.csv', index_col=0, na_values=r'\\N')\n",
    "constructorStandings = pd.read_csv(f'{fpath}constructor_standings.csv', index_col=0, na_values=r'\\N')\n",
    "drivers = pd.read_csv(f'{fpath}drivers.csv', index_col=0, na_values=r'\\N')\n",
    "driverStandings = pd.read_csv(f'{fpath}driver_standings.csv', index_col=0, na_values=r'\\N')\n",
    "lapTimes = pd.read_csv(f'{fpath}lap_times.csv')\n",
    "pitStops = pd.read_csv(f'{fpath}pit_stops.csv')\n",
    "qualifying = pd.read_csv(f'{fpath}qualifying.csv', index_col=0, na_values=r'\\N')\n",
    "races = pd.read_csv(f'{fpath}races.csv', na_values=r'\\N')\n",
    "results = pd.read_csv(f'{fpath}results.csv', index_col=0, na_values=r'\\N')\n",
    "seasons = pd.read_csv(f'{fpath}seasons.csv', index_col=0, na_values=r'\\N')\n",
    "status = pd.read_csv(f'{fpath}status.csv', index_col=0, na_values=r'\\N')"
   ]
  },
  {
   "cell_type": "code",
   "execution_count": 29,
   "metadata": {},
   "outputs": [],
   "source": [
    "#Creating variable with data\n",
    "circuits = circuits.rename(columns={'name':'circuitName','location':'circuitLocation','country':'circuitCountry','url':'circuitUrl'})\n",
    "drivers = drivers.rename(columns={'number':'driverNumber','nationality':'driverNationality','url':'driverUrl'})\n",
    "drivers['driverName'] = drivers['forename']+' '+drivers['surname']\n",
    "constructors = constructors.rename(columns={'name':'constructorName','nationality':'constructorNationality','url':'constructorUrl'})\n",
    "races['date'] = races['date'].apply(lambda x: dt.datetime.strptime(x,'%Y-%m-%d'))\n",
    "races = races.rename(columns={'year':'raceYear','name':'raceName','date':'raceDate','time':'raceTime','url':'raceUrl','round':'raceRound'})\n",
    "lapTimes = lapTimes.rename(columns={'time':'lapTime','position':'lapPosition','milliseconds':'lapMilliseconds'})\n",
    "lapTimes['lapSeconds'] = lapTimes['lapMilliseconds'].apply(lambda x: x/1000)\n",
    "pitStops = pitStops.rename(columns={'time':'pitTime','milliseconds':'pitMilliseconds'})\n",
    "pitStops['pitSeconds'] = pitStops['pitMilliseconds'].apply(lambda x: x/1000)\n",
    "results = results.rename(columns={'position':'resultsPosition','time':'resultsTime','milliseconds':'resultsMilliseconds','number':'resultsNumber'})\n",
    "results['resultsSeconds'] = results['resultsMilliseconds'].apply(lambda x: x/1000)"
   ]
  },
  {
   "cell_type": "code",
   "execution_count": 30,
   "metadata": {},
   "outputs": [],
   "source": [
    "#Creating dictionary with team and colours for the plot\n",
    "constructor_color_map = {\n",
    "    'Toro Rosso':'#0000FF',\n",
    "    'Mercedes':'#6CD3BF',\n",
    "    'Red Bull':'#1E5BC6',\n",
    "    'Ferrari':'#ED1C24',\n",
    "    'Williams':'#37BEDD',\n",
    "    'Force India':'#FF80C7',\n",
    "    'Virgin':'#c82e37',\n",
    "    'Renault':'#FFD800',\n",
    "    'McLaren':'#F58020',\n",
    "    'Sauber':'#006EFF',\n",
    "    'Lotus':'#FFB800',\n",
    "    'HRT':'#b2945e',\n",
    "    'Caterham':'#0b361f',\n",
    "    'Lotus F1':'#FFB800',\n",
    "    'Marussia':'#6E0000',\n",
    "    'Manor Marussia':'#6E0000',\n",
    "    'Haas F1 Team':'#B6BABD',\n",
    "    'Racing Point':'#F596C8',\n",
    "    'Aston Martin':'#2D826D',\n",
    "    'Alfa Romeo':'#B12039',\n",
    "    'AlphaTauri':'#4E7C9B',\n",
    "    'Alpine F1 Team':'#2293D1'\n",
    "}"
   ]
  },
  {
   "cell_type": "code",
   "execution_count": 31,
   "metadata": {},
   "outputs": [
    {
     "data": {
      "text/html": [
       "<div>\n",
       "<style scoped>\n",
       "    .dataframe tbody tr th:only-of-type {\n",
       "        vertical-align: middle;\n",
       "    }\n",
       "\n",
       "    .dataframe tbody tr th {\n",
       "        vertical-align: top;\n",
       "    }\n",
       "\n",
       "    .dataframe thead th {\n",
       "        text-align: right;\n",
       "    }\n",
       "</style>\n",
       "<table border=\"1\" class=\"dataframe\">\n",
       "  <thead>\n",
       "    <tr style=\"text-align: right;\">\n",
       "      <th></th>\n",
       "      <th>raceId</th>\n",
       "      <th>driverId</th>\n",
       "      <th>constructorId</th>\n",
       "      <th>resultsNumber</th>\n",
       "      <th>grid</th>\n",
       "      <th>resultsPosition</th>\n",
       "      <th>positionText</th>\n",
       "      <th>positionOrder</th>\n",
       "      <th>points</th>\n",
       "      <th>laps</th>\n",
       "      <th>resultsTime</th>\n",
       "      <th>resultsMilliseconds</th>\n",
       "      <th>fastestLap</th>\n",
       "      <th>rank</th>\n",
       "      <th>fastestLapTime</th>\n",
       "      <th>fastestLapSpeed</th>\n",
       "      <th>statusId</th>\n",
       "      <th>resultsSeconds</th>\n",
       "      <th>raceYear</th>\n",
       "      <th>raceRound</th>\n",
       "      <th>circuitId</th>\n",
       "      <th>raceName</th>\n",
       "      <th>raceDate</th>\n",
       "      <th>raceTime</th>\n",
       "      <th>raceUrl</th>\n",
       "      <th>fp1_date</th>\n",
       "      <th>fp1_time</th>\n",
       "      <th>fp2_date</th>\n",
       "      <th>fp2_time</th>\n",
       "      <th>fp3_date</th>\n",
       "      <th>fp3_time</th>\n",
       "      <th>quali_date</th>\n",
       "      <th>quali_time</th>\n",
       "      <th>sprint_date</th>\n",
       "      <th>sprint_time</th>\n",
       "      <th>circuitRef</th>\n",
       "      <th>circuitName</th>\n",
       "      <th>circuitLocation</th>\n",
       "      <th>circuitCountry</th>\n",
       "      <th>lat</th>\n",
       "      <th>lng</th>\n",
       "      <th>alt</th>\n",
       "      <th>circuitUrl</th>\n",
       "      <th>constructorRef</th>\n",
       "      <th>constructorName</th>\n",
       "      <th>constructorNationality</th>\n",
       "      <th>constructorUrl</th>\n",
       "      <th>driverRef</th>\n",
       "      <th>driverNumber</th>\n",
       "      <th>code</th>\n",
       "      <th>forename</th>\n",
       "      <th>surname</th>\n",
       "      <th>dob</th>\n",
       "      <th>driverNationality</th>\n",
       "      <th>driverUrl</th>\n",
       "      <th>driverName</th>\n",
       "    </tr>\n",
       "  </thead>\n",
       "  <tbody>\n",
       "    <tr>\n",
       "      <th>0</th>\n",
       "      <td>18</td>\n",
       "      <td>1</td>\n",
       "      <td>1</td>\n",
       "      <td>22.0</td>\n",
       "      <td>1</td>\n",
       "      <td>1.0</td>\n",
       "      <td>1</td>\n",
       "      <td>1</td>\n",
       "      <td>10.0</td>\n",
       "      <td>58</td>\n",
       "      <td>1:34:50.616</td>\n",
       "      <td>5690616.0</td>\n",
       "      <td>39.0</td>\n",
       "      <td>2.0</td>\n",
       "      <td>1:27.452</td>\n",
       "      <td>218.300</td>\n",
       "      <td>1</td>\n",
       "      <td>5690.616</td>\n",
       "      <td>2008</td>\n",
       "      <td>1</td>\n",
       "      <td>1</td>\n",
       "      <td>Australian Grand Prix</td>\n",
       "      <td>2008-03-16</td>\n",
       "      <td>04:30:00</td>\n",
       "      <td>http://en.wikipedia.org/wiki/2008_Australian_G...</td>\n",
       "      <td>NaN</td>\n",
       "      <td>NaN</td>\n",
       "      <td>NaN</td>\n",
       "      <td>NaN</td>\n",
       "      <td>NaN</td>\n",
       "      <td>NaN</td>\n",
       "      <td>NaN</td>\n",
       "      <td>NaN</td>\n",
       "      <td>NaN</td>\n",
       "      <td>NaN</td>\n",
       "      <td>albert_park</td>\n",
       "      <td>Albert Park Grand Prix Circuit</td>\n",
       "      <td>Melbourne</td>\n",
       "      <td>Australia</td>\n",
       "      <td>-37.8497</td>\n",
       "      <td>144.96800</td>\n",
       "      <td>10</td>\n",
       "      <td>http://en.wikipedia.org/wiki/Melbourne_Grand_P...</td>\n",
       "      <td>mclaren</td>\n",
       "      <td>McLaren</td>\n",
       "      <td>British</td>\n",
       "      <td>http://en.wikipedia.org/wiki/McLaren</td>\n",
       "      <td>hamilton</td>\n",
       "      <td>44.0</td>\n",
       "      <td>HAM</td>\n",
       "      <td>Lewis</td>\n",
       "      <td>Hamilton</td>\n",
       "      <td>1985-01-07</td>\n",
       "      <td>British</td>\n",
       "      <td>http://en.wikipedia.org/wiki/Lewis_Hamilton</td>\n",
       "      <td>Lewis Hamilton</td>\n",
       "    </tr>\n",
       "    <tr>\n",
       "      <th>1</th>\n",
       "      <td>18</td>\n",
       "      <td>2</td>\n",
       "      <td>2</td>\n",
       "      <td>3.0</td>\n",
       "      <td>5</td>\n",
       "      <td>2.0</td>\n",
       "      <td>2</td>\n",
       "      <td>2</td>\n",
       "      <td>8.0</td>\n",
       "      <td>58</td>\n",
       "      <td>+5.478</td>\n",
       "      <td>5696094.0</td>\n",
       "      <td>41.0</td>\n",
       "      <td>3.0</td>\n",
       "      <td>1:27.739</td>\n",
       "      <td>217.586</td>\n",
       "      <td>1</td>\n",
       "      <td>5696.094</td>\n",
       "      <td>2008</td>\n",
       "      <td>1</td>\n",
       "      <td>1</td>\n",
       "      <td>Australian Grand Prix</td>\n",
       "      <td>2008-03-16</td>\n",
       "      <td>04:30:00</td>\n",
       "      <td>http://en.wikipedia.org/wiki/2008_Australian_G...</td>\n",
       "      <td>NaN</td>\n",
       "      <td>NaN</td>\n",
       "      <td>NaN</td>\n",
       "      <td>NaN</td>\n",
       "      <td>NaN</td>\n",
       "      <td>NaN</td>\n",
       "      <td>NaN</td>\n",
       "      <td>NaN</td>\n",
       "      <td>NaN</td>\n",
       "      <td>NaN</td>\n",
       "      <td>albert_park</td>\n",
       "      <td>Albert Park Grand Prix Circuit</td>\n",
       "      <td>Melbourne</td>\n",
       "      <td>Australia</td>\n",
       "      <td>-37.8497</td>\n",
       "      <td>144.96800</td>\n",
       "      <td>10</td>\n",
       "      <td>http://en.wikipedia.org/wiki/Melbourne_Grand_P...</td>\n",
       "      <td>bmw_sauber</td>\n",
       "      <td>BMW Sauber</td>\n",
       "      <td>German</td>\n",
       "      <td>http://en.wikipedia.org/wiki/BMW_Sauber</td>\n",
       "      <td>heidfeld</td>\n",
       "      <td>NaN</td>\n",
       "      <td>HEI</td>\n",
       "      <td>Nick</td>\n",
       "      <td>Heidfeld</td>\n",
       "      <td>1977-05-10</td>\n",
       "      <td>German</td>\n",
       "      <td>http://en.wikipedia.org/wiki/Nick_Heidfeld</td>\n",
       "      <td>Nick Heidfeld</td>\n",
       "    </tr>\n",
       "    <tr>\n",
       "      <th>2</th>\n",
       "      <td>18</td>\n",
       "      <td>3</td>\n",
       "      <td>3</td>\n",
       "      <td>7.0</td>\n",
       "      <td>7</td>\n",
       "      <td>3.0</td>\n",
       "      <td>3</td>\n",
       "      <td>3</td>\n",
       "      <td>6.0</td>\n",
       "      <td>58</td>\n",
       "      <td>+8.163</td>\n",
       "      <td>5698779.0</td>\n",
       "      <td>41.0</td>\n",
       "      <td>5.0</td>\n",
       "      <td>1:28.090</td>\n",
       "      <td>216.719</td>\n",
       "      <td>1</td>\n",
       "      <td>5698.779</td>\n",
       "      <td>2008</td>\n",
       "      <td>1</td>\n",
       "      <td>1</td>\n",
       "      <td>Australian Grand Prix</td>\n",
       "      <td>2008-03-16</td>\n",
       "      <td>04:30:00</td>\n",
       "      <td>http://en.wikipedia.org/wiki/2008_Australian_G...</td>\n",
       "      <td>NaN</td>\n",
       "      <td>NaN</td>\n",
       "      <td>NaN</td>\n",
       "      <td>NaN</td>\n",
       "      <td>NaN</td>\n",
       "      <td>NaN</td>\n",
       "      <td>NaN</td>\n",
       "      <td>NaN</td>\n",
       "      <td>NaN</td>\n",
       "      <td>NaN</td>\n",
       "      <td>albert_park</td>\n",
       "      <td>Albert Park Grand Prix Circuit</td>\n",
       "      <td>Melbourne</td>\n",
       "      <td>Australia</td>\n",
       "      <td>-37.8497</td>\n",
       "      <td>144.96800</td>\n",
       "      <td>10</td>\n",
       "      <td>http://en.wikipedia.org/wiki/Melbourne_Grand_P...</td>\n",
       "      <td>williams</td>\n",
       "      <td>Williams</td>\n",
       "      <td>British</td>\n",
       "      <td>http://en.wikipedia.org/wiki/Williams_Grand_Pr...</td>\n",
       "      <td>rosberg</td>\n",
       "      <td>6.0</td>\n",
       "      <td>ROS</td>\n",
       "      <td>Nico</td>\n",
       "      <td>Rosberg</td>\n",
       "      <td>1985-06-27</td>\n",
       "      <td>German</td>\n",
       "      <td>http://en.wikipedia.org/wiki/Nico_Rosberg</td>\n",
       "      <td>Nico Rosberg</td>\n",
       "    </tr>\n",
       "    <tr>\n",
       "      <th>3</th>\n",
       "      <td>18</td>\n",
       "      <td>4</td>\n",
       "      <td>4</td>\n",
       "      <td>5.0</td>\n",
       "      <td>11</td>\n",
       "      <td>4.0</td>\n",
       "      <td>4</td>\n",
       "      <td>4</td>\n",
       "      <td>5.0</td>\n",
       "      <td>58</td>\n",
       "      <td>+17.181</td>\n",
       "      <td>5707797.0</td>\n",
       "      <td>58.0</td>\n",
       "      <td>7.0</td>\n",
       "      <td>1:28.603</td>\n",
       "      <td>215.464</td>\n",
       "      <td>1</td>\n",
       "      <td>5707.797</td>\n",
       "      <td>2008</td>\n",
       "      <td>1</td>\n",
       "      <td>1</td>\n",
       "      <td>Australian Grand Prix</td>\n",
       "      <td>2008-03-16</td>\n",
       "      <td>04:30:00</td>\n",
       "      <td>http://en.wikipedia.org/wiki/2008_Australian_G...</td>\n",
       "      <td>NaN</td>\n",
       "      <td>NaN</td>\n",
       "      <td>NaN</td>\n",
       "      <td>NaN</td>\n",
       "      <td>NaN</td>\n",
       "      <td>NaN</td>\n",
       "      <td>NaN</td>\n",
       "      <td>NaN</td>\n",
       "      <td>NaN</td>\n",
       "      <td>NaN</td>\n",
       "      <td>albert_park</td>\n",
       "      <td>Albert Park Grand Prix Circuit</td>\n",
       "      <td>Melbourne</td>\n",
       "      <td>Australia</td>\n",
       "      <td>-37.8497</td>\n",
       "      <td>144.96800</td>\n",
       "      <td>10</td>\n",
       "      <td>http://en.wikipedia.org/wiki/Melbourne_Grand_P...</td>\n",
       "      <td>renault</td>\n",
       "      <td>Renault</td>\n",
       "      <td>French</td>\n",
       "      <td>http://en.wikipedia.org/wiki/Renault_in_Formul...</td>\n",
       "      <td>alonso</td>\n",
       "      <td>14.0</td>\n",
       "      <td>ALO</td>\n",
       "      <td>Fernando</td>\n",
       "      <td>Alonso</td>\n",
       "      <td>1981-07-29</td>\n",
       "      <td>Spanish</td>\n",
       "      <td>http://en.wikipedia.org/wiki/Fernando_Alonso</td>\n",
       "      <td>Fernando Alonso</td>\n",
       "    </tr>\n",
       "    <tr>\n",
       "      <th>4</th>\n",
       "      <td>18</td>\n",
       "      <td>5</td>\n",
       "      <td>1</td>\n",
       "      <td>23.0</td>\n",
       "      <td>3</td>\n",
       "      <td>5.0</td>\n",
       "      <td>5</td>\n",
       "      <td>5</td>\n",
       "      <td>4.0</td>\n",
       "      <td>58</td>\n",
       "      <td>+18.014</td>\n",
       "      <td>5708630.0</td>\n",
       "      <td>43.0</td>\n",
       "      <td>1.0</td>\n",
       "      <td>1:27.418</td>\n",
       "      <td>218.385</td>\n",
       "      <td>1</td>\n",
       "      <td>5708.630</td>\n",
       "      <td>2008</td>\n",
       "      <td>1</td>\n",
       "      <td>1</td>\n",
       "      <td>Australian Grand Prix</td>\n",
       "      <td>2008-03-16</td>\n",
       "      <td>04:30:00</td>\n",
       "      <td>http://en.wikipedia.org/wiki/2008_Australian_G...</td>\n",
       "      <td>NaN</td>\n",
       "      <td>NaN</td>\n",
       "      <td>NaN</td>\n",
       "      <td>NaN</td>\n",
       "      <td>NaN</td>\n",
       "      <td>NaN</td>\n",
       "      <td>NaN</td>\n",
       "      <td>NaN</td>\n",
       "      <td>NaN</td>\n",
       "      <td>NaN</td>\n",
       "      <td>albert_park</td>\n",
       "      <td>Albert Park Grand Prix Circuit</td>\n",
       "      <td>Melbourne</td>\n",
       "      <td>Australia</td>\n",
       "      <td>-37.8497</td>\n",
       "      <td>144.96800</td>\n",
       "      <td>10</td>\n",
       "      <td>http://en.wikipedia.org/wiki/Melbourne_Grand_P...</td>\n",
       "      <td>mclaren</td>\n",
       "      <td>McLaren</td>\n",
       "      <td>British</td>\n",
       "      <td>http://en.wikipedia.org/wiki/McLaren</td>\n",
       "      <td>kovalainen</td>\n",
       "      <td>NaN</td>\n",
       "      <td>KOV</td>\n",
       "      <td>Heikki</td>\n",
       "      <td>Kovalainen</td>\n",
       "      <td>1981-10-19</td>\n",
       "      <td>Finnish</td>\n",
       "      <td>http://en.wikipedia.org/wiki/Heikki_Kovalainen</td>\n",
       "      <td>Heikki Kovalainen</td>\n",
       "    </tr>\n",
       "    <tr>\n",
       "      <th>...</th>\n",
       "      <td>...</td>\n",
       "      <td>...</td>\n",
       "      <td>...</td>\n",
       "      <td>...</td>\n",
       "      <td>...</td>\n",
       "      <td>...</td>\n",
       "      <td>...</td>\n",
       "      <td>...</td>\n",
       "      <td>...</td>\n",
       "      <td>...</td>\n",
       "      <td>...</td>\n",
       "      <td>...</td>\n",
       "      <td>...</td>\n",
       "      <td>...</td>\n",
       "      <td>...</td>\n",
       "      <td>...</td>\n",
       "      <td>...</td>\n",
       "      <td>...</td>\n",
       "      <td>...</td>\n",
       "      <td>...</td>\n",
       "      <td>...</td>\n",
       "      <td>...</td>\n",
       "      <td>...</td>\n",
       "      <td>...</td>\n",
       "      <td>...</td>\n",
       "      <td>...</td>\n",
       "      <td>...</td>\n",
       "      <td>...</td>\n",
       "      <td>...</td>\n",
       "      <td>...</td>\n",
       "      <td>...</td>\n",
       "      <td>...</td>\n",
       "      <td>...</td>\n",
       "      <td>...</td>\n",
       "      <td>...</td>\n",
       "      <td>...</td>\n",
       "      <td>...</td>\n",
       "      <td>...</td>\n",
       "      <td>...</td>\n",
       "      <td>...</td>\n",
       "      <td>...</td>\n",
       "      <td>...</td>\n",
       "      <td>...</td>\n",
       "      <td>...</td>\n",
       "      <td>...</td>\n",
       "      <td>...</td>\n",
       "      <td>...</td>\n",
       "      <td>...</td>\n",
       "      <td>...</td>\n",
       "      <td>...</td>\n",
       "      <td>...</td>\n",
       "      <td>...</td>\n",
       "      <td>...</td>\n",
       "      <td>...</td>\n",
       "      <td>...</td>\n",
       "      <td>...</td>\n",
       "    </tr>\n",
       "    <tr>\n",
       "      <th>26514</th>\n",
       "      <td>1132</td>\n",
       "      <td>839</td>\n",
       "      <td>214</td>\n",
       "      <td>31.0</td>\n",
       "      <td>18</td>\n",
       "      <td>16.0</td>\n",
       "      <td>16</td>\n",
       "      <td>16</td>\n",
       "      <td>0.0</td>\n",
       "      <td>50</td>\n",
       "      <td>NaN</td>\n",
       "      <td>NaN</td>\n",
       "      <td>46.0</td>\n",
       "      <td>16.0</td>\n",
       "      <td>1:30.875</td>\n",
       "      <td>233.371</td>\n",
       "      <td>12</td>\n",
       "      <td>NaN</td>\n",
       "      <td>2024</td>\n",
       "      <td>12</td>\n",
       "      <td>9</td>\n",
       "      <td>British Grand Prix</td>\n",
       "      <td>2024-07-07</td>\n",
       "      <td>14:00:00</td>\n",
       "      <td>https://en.wikipedia.org/wiki/2024_British_Gra...</td>\n",
       "      <td>2024-07-05</td>\n",
       "      <td>11:30:00</td>\n",
       "      <td>2024-07-05</td>\n",
       "      <td>15:00:00</td>\n",
       "      <td>2024-07-06</td>\n",
       "      <td>10:30:00</td>\n",
       "      <td>2024-07-06</td>\n",
       "      <td>14:00:00</td>\n",
       "      <td>NaN</td>\n",
       "      <td>NaN</td>\n",
       "      <td>silverstone</td>\n",
       "      <td>Silverstone Circuit</td>\n",
       "      <td>Silverstone</td>\n",
       "      <td>UK</td>\n",
       "      <td>52.0786</td>\n",
       "      <td>-1.01694</td>\n",
       "      <td>153</td>\n",
       "      <td>http://en.wikipedia.org/wiki/Silverstone_Circuit</td>\n",
       "      <td>alpine</td>\n",
       "      <td>Alpine F1 Team</td>\n",
       "      <td>French</td>\n",
       "      <td>http://en.wikipedia.org/wiki/Alpine_F1_Team</td>\n",
       "      <td>ocon</td>\n",
       "      <td>31.0</td>\n",
       "      <td>OCO</td>\n",
       "      <td>Esteban</td>\n",
       "      <td>Ocon</td>\n",
       "      <td>1996-09-17</td>\n",
       "      <td>French</td>\n",
       "      <td>http://en.wikipedia.org/wiki/Esteban_Ocon</td>\n",
       "      <td>Esteban Ocon</td>\n",
       "    </tr>\n",
       "    <tr>\n",
       "      <th>26515</th>\n",
       "      <td>1132</td>\n",
       "      <td>815</td>\n",
       "      <td>9</td>\n",
       "      <td>11.0</td>\n",
       "      <td>0</td>\n",
       "      <td>17.0</td>\n",
       "      <td>17</td>\n",
       "      <td>17</td>\n",
       "      <td>0.0</td>\n",
       "      <td>50</td>\n",
       "      <td>NaN</td>\n",
       "      <td>NaN</td>\n",
       "      <td>50.0</td>\n",
       "      <td>6.0</td>\n",
       "      <td>1:29.707</td>\n",
       "      <td>236.409</td>\n",
       "      <td>12</td>\n",
       "      <td>NaN</td>\n",
       "      <td>2024</td>\n",
       "      <td>12</td>\n",
       "      <td>9</td>\n",
       "      <td>British Grand Prix</td>\n",
       "      <td>2024-07-07</td>\n",
       "      <td>14:00:00</td>\n",
       "      <td>https://en.wikipedia.org/wiki/2024_British_Gra...</td>\n",
       "      <td>2024-07-05</td>\n",
       "      <td>11:30:00</td>\n",
       "      <td>2024-07-05</td>\n",
       "      <td>15:00:00</td>\n",
       "      <td>2024-07-06</td>\n",
       "      <td>10:30:00</td>\n",
       "      <td>2024-07-06</td>\n",
       "      <td>14:00:00</td>\n",
       "      <td>NaN</td>\n",
       "      <td>NaN</td>\n",
       "      <td>silverstone</td>\n",
       "      <td>Silverstone Circuit</td>\n",
       "      <td>Silverstone</td>\n",
       "      <td>UK</td>\n",
       "      <td>52.0786</td>\n",
       "      <td>-1.01694</td>\n",
       "      <td>153</td>\n",
       "      <td>http://en.wikipedia.org/wiki/Silverstone_Circuit</td>\n",
       "      <td>red_bull</td>\n",
       "      <td>Red Bull</td>\n",
       "      <td>Austrian</td>\n",
       "      <td>http://en.wikipedia.org/wiki/Red_Bull_Racing</td>\n",
       "      <td>perez</td>\n",
       "      <td>11.0</td>\n",
       "      <td>PER</td>\n",
       "      <td>Sergio</td>\n",
       "      <td>Pérez</td>\n",
       "      <td>1990-01-26</td>\n",
       "      <td>Mexican</td>\n",
       "      <td>http://en.wikipedia.org/wiki/Sergio_P%C3%A9rez</td>\n",
       "      <td>Sergio Pérez</td>\n",
       "    </tr>\n",
       "    <tr>\n",
       "      <th>26516</th>\n",
       "      <td>1132</td>\n",
       "      <td>855</td>\n",
       "      <td>15</td>\n",
       "      <td>24.0</td>\n",
       "      <td>14</td>\n",
       "      <td>18.0</td>\n",
       "      <td>18</td>\n",
       "      <td>18</td>\n",
       "      <td>0.0</td>\n",
       "      <td>50</td>\n",
       "      <td>NaN</td>\n",
       "      <td>NaN</td>\n",
       "      <td>43.0</td>\n",
       "      <td>17.0</td>\n",
       "      <td>1:31.014</td>\n",
       "      <td>233.014</td>\n",
       "      <td>12</td>\n",
       "      <td>NaN</td>\n",
       "      <td>2024</td>\n",
       "      <td>12</td>\n",
       "      <td>9</td>\n",
       "      <td>British Grand Prix</td>\n",
       "      <td>2024-07-07</td>\n",
       "      <td>14:00:00</td>\n",
       "      <td>https://en.wikipedia.org/wiki/2024_British_Gra...</td>\n",
       "      <td>2024-07-05</td>\n",
       "      <td>11:30:00</td>\n",
       "      <td>2024-07-05</td>\n",
       "      <td>15:00:00</td>\n",
       "      <td>2024-07-06</td>\n",
       "      <td>10:30:00</td>\n",
       "      <td>2024-07-06</td>\n",
       "      <td>14:00:00</td>\n",
       "      <td>NaN</td>\n",
       "      <td>NaN</td>\n",
       "      <td>silverstone</td>\n",
       "      <td>Silverstone Circuit</td>\n",
       "      <td>Silverstone</td>\n",
       "      <td>UK</td>\n",
       "      <td>52.0786</td>\n",
       "      <td>-1.01694</td>\n",
       "      <td>153</td>\n",
       "      <td>http://en.wikipedia.org/wiki/Silverstone_Circuit</td>\n",
       "      <td>sauber</td>\n",
       "      <td>Sauber</td>\n",
       "      <td>Swiss</td>\n",
       "      <td>http://en.wikipedia.org/wiki/Sauber_Motorsport</td>\n",
       "      <td>zhou</td>\n",
       "      <td>24.0</td>\n",
       "      <td>ZHO</td>\n",
       "      <td>Guanyu</td>\n",
       "      <td>Zhou</td>\n",
       "      <td>1999-05-30</td>\n",
       "      <td>Chinese</td>\n",
       "      <td>http://en.wikipedia.org/wiki/Zhou_Guanyu</td>\n",
       "      <td>Guanyu Zhou</td>\n",
       "    </tr>\n",
       "    <tr>\n",
       "      <th>26517</th>\n",
       "      <td>1132</td>\n",
       "      <td>847</td>\n",
       "      <td>131</td>\n",
       "      <td>63.0</td>\n",
       "      <td>1</td>\n",
       "      <td>NaN</td>\n",
       "      <td>R</td>\n",
       "      <td>19</td>\n",
       "      <td>0.0</td>\n",
       "      <td>33</td>\n",
       "      <td>NaN</td>\n",
       "      <td>NaN</td>\n",
       "      <td>3.0</td>\n",
       "      <td>19.0</td>\n",
       "      <td>1:31.298</td>\n",
       "      <td>232.289</td>\n",
       "      <td>34</td>\n",
       "      <td>NaN</td>\n",
       "      <td>2024</td>\n",
       "      <td>12</td>\n",
       "      <td>9</td>\n",
       "      <td>British Grand Prix</td>\n",
       "      <td>2024-07-07</td>\n",
       "      <td>14:00:00</td>\n",
       "      <td>https://en.wikipedia.org/wiki/2024_British_Gra...</td>\n",
       "      <td>2024-07-05</td>\n",
       "      <td>11:30:00</td>\n",
       "      <td>2024-07-05</td>\n",
       "      <td>15:00:00</td>\n",
       "      <td>2024-07-06</td>\n",
       "      <td>10:30:00</td>\n",
       "      <td>2024-07-06</td>\n",
       "      <td>14:00:00</td>\n",
       "      <td>NaN</td>\n",
       "      <td>NaN</td>\n",
       "      <td>silverstone</td>\n",
       "      <td>Silverstone Circuit</td>\n",
       "      <td>Silverstone</td>\n",
       "      <td>UK</td>\n",
       "      <td>52.0786</td>\n",
       "      <td>-1.01694</td>\n",
       "      <td>153</td>\n",
       "      <td>http://en.wikipedia.org/wiki/Silverstone_Circuit</td>\n",
       "      <td>mercedes</td>\n",
       "      <td>Mercedes</td>\n",
       "      <td>German</td>\n",
       "      <td>http://en.wikipedia.org/wiki/Mercedes-Benz_in_...</td>\n",
       "      <td>russell</td>\n",
       "      <td>63.0</td>\n",
       "      <td>RUS</td>\n",
       "      <td>George</td>\n",
       "      <td>Russell</td>\n",
       "      <td>1998-02-15</td>\n",
       "      <td>British</td>\n",
       "      <td>http://en.wikipedia.org/wiki/George_Russell_(r...</td>\n",
       "      <td>George Russell</td>\n",
       "    </tr>\n",
       "    <tr>\n",
       "      <th>26518</th>\n",
       "      <td>1132</td>\n",
       "      <td>842</td>\n",
       "      <td>214</td>\n",
       "      <td>10.0</td>\n",
       "      <td>19</td>\n",
       "      <td>NaN</td>\n",
       "      <td>W</td>\n",
       "      <td>20</td>\n",
       "      <td>0.0</td>\n",
       "      <td>0</td>\n",
       "      <td>NaN</td>\n",
       "      <td>NaN</td>\n",
       "      <td>NaN</td>\n",
       "      <td>0.0</td>\n",
       "      <td>NaN</td>\n",
       "      <td>NaN</td>\n",
       "      <td>6</td>\n",
       "      <td>NaN</td>\n",
       "      <td>2024</td>\n",
       "      <td>12</td>\n",
       "      <td>9</td>\n",
       "      <td>British Grand Prix</td>\n",
       "      <td>2024-07-07</td>\n",
       "      <td>14:00:00</td>\n",
       "      <td>https://en.wikipedia.org/wiki/2024_British_Gra...</td>\n",
       "      <td>2024-07-05</td>\n",
       "      <td>11:30:00</td>\n",
       "      <td>2024-07-05</td>\n",
       "      <td>15:00:00</td>\n",
       "      <td>2024-07-06</td>\n",
       "      <td>10:30:00</td>\n",
       "      <td>2024-07-06</td>\n",
       "      <td>14:00:00</td>\n",
       "      <td>NaN</td>\n",
       "      <td>NaN</td>\n",
       "      <td>silverstone</td>\n",
       "      <td>Silverstone Circuit</td>\n",
       "      <td>Silverstone</td>\n",
       "      <td>UK</td>\n",
       "      <td>52.0786</td>\n",
       "      <td>-1.01694</td>\n",
       "      <td>153</td>\n",
       "      <td>http://en.wikipedia.org/wiki/Silverstone_Circuit</td>\n",
       "      <td>alpine</td>\n",
       "      <td>Alpine F1 Team</td>\n",
       "      <td>French</td>\n",
       "      <td>http://en.wikipedia.org/wiki/Alpine_F1_Team</td>\n",
       "      <td>gasly</td>\n",
       "      <td>10.0</td>\n",
       "      <td>GAS</td>\n",
       "      <td>Pierre</td>\n",
       "      <td>Gasly</td>\n",
       "      <td>1996-02-07</td>\n",
       "      <td>French</td>\n",
       "      <td>http://en.wikipedia.org/wiki/Pierre_Gasly</td>\n",
       "      <td>Pierre Gasly</td>\n",
       "    </tr>\n",
       "  </tbody>\n",
       "</table>\n",
       "<p>26519 rows × 56 columns</p>\n",
       "</div>"
      ],
      "text/plain": [
       "       raceId  driverId  constructorId  resultsNumber  grid  resultsPosition  \\\n",
       "0          18         1              1           22.0     1              1.0   \n",
       "1          18         2              2            3.0     5              2.0   \n",
       "2          18         3              3            7.0     7              3.0   \n",
       "3          18         4              4            5.0    11              4.0   \n",
       "4          18         5              1           23.0     3              5.0   \n",
       "...       ...       ...            ...            ...   ...              ...   \n",
       "26514    1132       839            214           31.0    18             16.0   \n",
       "26515    1132       815              9           11.0     0             17.0   \n",
       "26516    1132       855             15           24.0    14             18.0   \n",
       "26517    1132       847            131           63.0     1              NaN   \n",
       "26518    1132       842            214           10.0    19              NaN   \n",
       "\n",
       "      positionText  positionOrder  points  laps  resultsTime  \\\n",
       "0                1              1    10.0    58  1:34:50.616   \n",
       "1                2              2     8.0    58       +5.478   \n",
       "2                3              3     6.0    58       +8.163   \n",
       "3                4              4     5.0    58      +17.181   \n",
       "4                5              5     4.0    58      +18.014   \n",
       "...            ...            ...     ...   ...          ...   \n",
       "26514           16             16     0.0    50          NaN   \n",
       "26515           17             17     0.0    50          NaN   \n",
       "26516           18             18     0.0    50          NaN   \n",
       "26517            R             19     0.0    33          NaN   \n",
       "26518            W             20     0.0     0          NaN   \n",
       "\n",
       "       resultsMilliseconds  fastestLap  rank fastestLapTime  fastestLapSpeed  \\\n",
       "0                5690616.0        39.0   2.0       1:27.452          218.300   \n",
       "1                5696094.0        41.0   3.0       1:27.739          217.586   \n",
       "2                5698779.0        41.0   5.0       1:28.090          216.719   \n",
       "3                5707797.0        58.0   7.0       1:28.603          215.464   \n",
       "4                5708630.0        43.0   1.0       1:27.418          218.385   \n",
       "...                    ...         ...   ...            ...              ...   \n",
       "26514                  NaN        46.0  16.0       1:30.875          233.371   \n",
       "26515                  NaN        50.0   6.0       1:29.707          236.409   \n",
       "26516                  NaN        43.0  17.0       1:31.014          233.014   \n",
       "26517                  NaN         3.0  19.0       1:31.298          232.289   \n",
       "26518                  NaN         NaN   0.0            NaN              NaN   \n",
       "\n",
       "       statusId  resultsSeconds  raceYear  raceRound  circuitId  \\\n",
       "0             1        5690.616      2008          1          1   \n",
       "1             1        5696.094      2008          1          1   \n",
       "2             1        5698.779      2008          1          1   \n",
       "3             1        5707.797      2008          1          1   \n",
       "4             1        5708.630      2008          1          1   \n",
       "...         ...             ...       ...        ...        ...   \n",
       "26514        12             NaN      2024         12          9   \n",
       "26515        12             NaN      2024         12          9   \n",
       "26516        12             NaN      2024         12          9   \n",
       "26517        34             NaN      2024         12          9   \n",
       "26518         6             NaN      2024         12          9   \n",
       "\n",
       "                    raceName   raceDate  raceTime  \\\n",
       "0      Australian Grand Prix 2008-03-16  04:30:00   \n",
       "1      Australian Grand Prix 2008-03-16  04:30:00   \n",
       "2      Australian Grand Prix 2008-03-16  04:30:00   \n",
       "3      Australian Grand Prix 2008-03-16  04:30:00   \n",
       "4      Australian Grand Prix 2008-03-16  04:30:00   \n",
       "...                      ...        ...       ...   \n",
       "26514     British Grand Prix 2024-07-07  14:00:00   \n",
       "26515     British Grand Prix 2024-07-07  14:00:00   \n",
       "26516     British Grand Prix 2024-07-07  14:00:00   \n",
       "26517     British Grand Prix 2024-07-07  14:00:00   \n",
       "26518     British Grand Prix 2024-07-07  14:00:00   \n",
       "\n",
       "                                                 raceUrl    fp1_date  \\\n",
       "0      http://en.wikipedia.org/wiki/2008_Australian_G...         NaN   \n",
       "1      http://en.wikipedia.org/wiki/2008_Australian_G...         NaN   \n",
       "2      http://en.wikipedia.org/wiki/2008_Australian_G...         NaN   \n",
       "3      http://en.wikipedia.org/wiki/2008_Australian_G...         NaN   \n",
       "4      http://en.wikipedia.org/wiki/2008_Australian_G...         NaN   \n",
       "...                                                  ...         ...   \n",
       "26514  https://en.wikipedia.org/wiki/2024_British_Gra...  2024-07-05   \n",
       "26515  https://en.wikipedia.org/wiki/2024_British_Gra...  2024-07-05   \n",
       "26516  https://en.wikipedia.org/wiki/2024_British_Gra...  2024-07-05   \n",
       "26517  https://en.wikipedia.org/wiki/2024_British_Gra...  2024-07-05   \n",
       "26518  https://en.wikipedia.org/wiki/2024_British_Gra...  2024-07-05   \n",
       "\n",
       "       fp1_time    fp2_date  fp2_time    fp3_date  fp3_time  quali_date  \\\n",
       "0           NaN         NaN       NaN         NaN       NaN         NaN   \n",
       "1           NaN         NaN       NaN         NaN       NaN         NaN   \n",
       "2           NaN         NaN       NaN         NaN       NaN         NaN   \n",
       "3           NaN         NaN       NaN         NaN       NaN         NaN   \n",
       "4           NaN         NaN       NaN         NaN       NaN         NaN   \n",
       "...         ...         ...       ...         ...       ...         ...   \n",
       "26514  11:30:00  2024-07-05  15:00:00  2024-07-06  10:30:00  2024-07-06   \n",
       "26515  11:30:00  2024-07-05  15:00:00  2024-07-06  10:30:00  2024-07-06   \n",
       "26516  11:30:00  2024-07-05  15:00:00  2024-07-06  10:30:00  2024-07-06   \n",
       "26517  11:30:00  2024-07-05  15:00:00  2024-07-06  10:30:00  2024-07-06   \n",
       "26518  11:30:00  2024-07-05  15:00:00  2024-07-06  10:30:00  2024-07-06   \n",
       "\n",
       "      quali_time sprint_date sprint_time   circuitRef  \\\n",
       "0            NaN         NaN         NaN  albert_park   \n",
       "1            NaN         NaN         NaN  albert_park   \n",
       "2            NaN         NaN         NaN  albert_park   \n",
       "3            NaN         NaN         NaN  albert_park   \n",
       "4            NaN         NaN         NaN  albert_park   \n",
       "...          ...         ...         ...          ...   \n",
       "26514   14:00:00         NaN         NaN  silverstone   \n",
       "26515   14:00:00         NaN         NaN  silverstone   \n",
       "26516   14:00:00         NaN         NaN  silverstone   \n",
       "26517   14:00:00         NaN         NaN  silverstone   \n",
       "26518   14:00:00         NaN         NaN  silverstone   \n",
       "\n",
       "                          circuitName circuitLocation circuitCountry      lat  \\\n",
       "0      Albert Park Grand Prix Circuit       Melbourne      Australia -37.8497   \n",
       "1      Albert Park Grand Prix Circuit       Melbourne      Australia -37.8497   \n",
       "2      Albert Park Grand Prix Circuit       Melbourne      Australia -37.8497   \n",
       "3      Albert Park Grand Prix Circuit       Melbourne      Australia -37.8497   \n",
       "4      Albert Park Grand Prix Circuit       Melbourne      Australia -37.8497   \n",
       "...                               ...             ...            ...      ...   \n",
       "26514             Silverstone Circuit     Silverstone             UK  52.0786   \n",
       "26515             Silverstone Circuit     Silverstone             UK  52.0786   \n",
       "26516             Silverstone Circuit     Silverstone             UK  52.0786   \n",
       "26517             Silverstone Circuit     Silverstone             UK  52.0786   \n",
       "26518             Silverstone Circuit     Silverstone             UK  52.0786   \n",
       "\n",
       "             lng  alt                                         circuitUrl  \\\n",
       "0      144.96800   10  http://en.wikipedia.org/wiki/Melbourne_Grand_P...   \n",
       "1      144.96800   10  http://en.wikipedia.org/wiki/Melbourne_Grand_P...   \n",
       "2      144.96800   10  http://en.wikipedia.org/wiki/Melbourne_Grand_P...   \n",
       "3      144.96800   10  http://en.wikipedia.org/wiki/Melbourne_Grand_P...   \n",
       "4      144.96800   10  http://en.wikipedia.org/wiki/Melbourne_Grand_P...   \n",
       "...          ...  ...                                                ...   \n",
       "26514   -1.01694  153   http://en.wikipedia.org/wiki/Silverstone_Circuit   \n",
       "26515   -1.01694  153   http://en.wikipedia.org/wiki/Silverstone_Circuit   \n",
       "26516   -1.01694  153   http://en.wikipedia.org/wiki/Silverstone_Circuit   \n",
       "26517   -1.01694  153   http://en.wikipedia.org/wiki/Silverstone_Circuit   \n",
       "26518   -1.01694  153   http://en.wikipedia.org/wiki/Silverstone_Circuit   \n",
       "\n",
       "      constructorRef constructorName constructorNationality  \\\n",
       "0            mclaren         McLaren                British   \n",
       "1         bmw_sauber      BMW Sauber                 German   \n",
       "2           williams        Williams                British   \n",
       "3            renault         Renault                 French   \n",
       "4            mclaren         McLaren                British   \n",
       "...              ...             ...                    ...   \n",
       "26514         alpine  Alpine F1 Team                 French   \n",
       "26515       red_bull        Red Bull               Austrian   \n",
       "26516         sauber          Sauber                  Swiss   \n",
       "26517       mercedes        Mercedes                 German   \n",
       "26518         alpine  Alpine F1 Team                 French   \n",
       "\n",
       "                                          constructorUrl   driverRef  \\\n",
       "0                   http://en.wikipedia.org/wiki/McLaren    hamilton   \n",
       "1                http://en.wikipedia.org/wiki/BMW_Sauber    heidfeld   \n",
       "2      http://en.wikipedia.org/wiki/Williams_Grand_Pr...     rosberg   \n",
       "3      http://en.wikipedia.org/wiki/Renault_in_Formul...      alonso   \n",
       "4                   http://en.wikipedia.org/wiki/McLaren  kovalainen   \n",
       "...                                                  ...         ...   \n",
       "26514        http://en.wikipedia.org/wiki/Alpine_F1_Team        ocon   \n",
       "26515       http://en.wikipedia.org/wiki/Red_Bull_Racing       perez   \n",
       "26516     http://en.wikipedia.org/wiki/Sauber_Motorsport        zhou   \n",
       "26517  http://en.wikipedia.org/wiki/Mercedes-Benz_in_...     russell   \n",
       "26518        http://en.wikipedia.org/wiki/Alpine_F1_Team       gasly   \n",
       "\n",
       "       driverNumber code  forename     surname         dob driverNationality  \\\n",
       "0              44.0  HAM     Lewis    Hamilton  1985-01-07           British   \n",
       "1               NaN  HEI      Nick    Heidfeld  1977-05-10            German   \n",
       "2               6.0  ROS      Nico     Rosberg  1985-06-27            German   \n",
       "3              14.0  ALO  Fernando      Alonso  1981-07-29           Spanish   \n",
       "4               NaN  KOV    Heikki  Kovalainen  1981-10-19           Finnish   \n",
       "...             ...  ...       ...         ...         ...               ...   \n",
       "26514          31.0  OCO   Esteban        Ocon  1996-09-17            French   \n",
       "26515          11.0  PER    Sergio       Pérez  1990-01-26           Mexican   \n",
       "26516          24.0  ZHO    Guanyu        Zhou  1999-05-30           Chinese   \n",
       "26517          63.0  RUS    George     Russell  1998-02-15           British   \n",
       "26518          10.0  GAS    Pierre       Gasly  1996-02-07            French   \n",
       "\n",
       "                                               driverUrl         driverName  \n",
       "0            http://en.wikipedia.org/wiki/Lewis_Hamilton     Lewis Hamilton  \n",
       "1             http://en.wikipedia.org/wiki/Nick_Heidfeld      Nick Heidfeld  \n",
       "2              http://en.wikipedia.org/wiki/Nico_Rosberg       Nico Rosberg  \n",
       "3           http://en.wikipedia.org/wiki/Fernando_Alonso    Fernando Alonso  \n",
       "4         http://en.wikipedia.org/wiki/Heikki_Kovalainen  Heikki Kovalainen  \n",
       "...                                                  ...                ...  \n",
       "26514          http://en.wikipedia.org/wiki/Esteban_Ocon       Esteban Ocon  \n",
       "26515     http://en.wikipedia.org/wiki/Sergio_P%C3%A9rez       Sergio Pérez  \n",
       "26516           http://en.wikipedia.org/wiki/Zhou_Guanyu        Guanyu Zhou  \n",
       "26517  http://en.wikipedia.org/wiki/George_Russell_(r...     George Russell  \n",
       "26518          http://en.wikipedia.org/wiki/Pierre_Gasly       Pierre Gasly  \n",
       "\n",
       "[26519 rows x 56 columns]"
      ]
     },
     "execution_count": 31,
     "metadata": {},
     "output_type": "execute_result"
    }
   ],
   "source": [
    "\n",
    "#Merging data into single dataframe wiuth all data\n",
    "resultsAnalysis = pd.merge(results,races,left_on='raceId',right_on='raceId',how='left')\n",
    "resultsAnalysis = pd.merge(resultsAnalysis,circuits,left_on='circuitId',right_index=True,how='left')\n",
    "resultsAnalysis = pd.merge(resultsAnalysis,constructors,left_on='constructorId',right_index=True,how='left')\n",
    "resultsAnalysis = pd.merge(resultsAnalysis,drivers,left_on='driverId',right_index=True,how='left')\n",
    "resultsAnalysis"
   ]
  },
  {
   "cell_type": "code",
   "execution_count": 32,
   "metadata": {},
   "outputs": [
    {
     "data": {
      "text/html": [
       "<div>\n",
       "<style scoped>\n",
       "    .dataframe tbody tr th:only-of-type {\n",
       "        vertical-align: middle;\n",
       "    }\n",
       "\n",
       "    .dataframe tbody tr th {\n",
       "        vertical-align: top;\n",
       "    }\n",
       "\n",
       "    .dataframe thead th {\n",
       "        text-align: right;\n",
       "    }\n",
       "</style>\n",
       "<table border=\"1\" class=\"dataframe\">\n",
       "  <thead>\n",
       "    <tr style=\"text-align: right;\">\n",
       "      <th></th>\n",
       "      <th>raceId</th>\n",
       "      <th>driverId</th>\n",
       "      <th>lap</th>\n",
       "      <th>lapPosition</th>\n",
       "      <th>lapTime</th>\n",
       "      <th>lapMilliseconds</th>\n",
       "      <th>lapSeconds</th>\n",
       "      <th>raceYear</th>\n",
       "      <th>raceRound</th>\n",
       "      <th>circuitId</th>\n",
       "      <th>raceName</th>\n",
       "      <th>raceDate_x</th>\n",
       "      <th>raceTime_x</th>\n",
       "      <th>raceUrl</th>\n",
       "      <th>fp1_date_x</th>\n",
       "      <th>fp1_time_x</th>\n",
       "      <th>fp2_date_x</th>\n",
       "      <th>fp2_time_x</th>\n",
       "      <th>fp3_date_x</th>\n",
       "      <th>fp3_time_x</th>\n",
       "      <th>quali_date_x</th>\n",
       "      <th>quali_time_x</th>\n",
       "      <th>sprint_date_x</th>\n",
       "      <th>sprint_time_x</th>\n",
       "      <th>constructorId</th>\n",
       "      <th>resultsNumber</th>\n",
       "      <th>grid</th>\n",
       "      <th>resultsPosition</th>\n",
       "      <th>positionText</th>\n",
       "      <th>positionOrder</th>\n",
       "      <th>points</th>\n",
       "      <th>laps</th>\n",
       "      <th>resultsTime</th>\n",
       "      <th>resultsMilliseconds</th>\n",
       "      <th>fastestLap</th>\n",
       "      <th>rank</th>\n",
       "      <th>fastestLapTime</th>\n",
       "      <th>fastestLapSpeed</th>\n",
       "      <th>statusId</th>\n",
       "      <th>resultsSeconds</th>\n",
       "      <th>raceDate_y</th>\n",
       "      <th>raceTime_y</th>\n",
       "      <th>fp1_date_y</th>\n",
       "      <th>fp1_time_y</th>\n",
       "      <th>fp2_date_y</th>\n",
       "      <th>fp2_time_y</th>\n",
       "      <th>fp3_date_y</th>\n",
       "      <th>fp3_time_y</th>\n",
       "      <th>quali_date_y</th>\n",
       "      <th>quali_time_y</th>\n",
       "      <th>sprint_date_y</th>\n",
       "      <th>sprint_time_y</th>\n",
       "      <th>circuitRef</th>\n",
       "      <th>circuitName</th>\n",
       "      <th>circuitLocation</th>\n",
       "      <th>circuitCountry</th>\n",
       "      <th>lat</th>\n",
       "      <th>lng</th>\n",
       "      <th>alt</th>\n",
       "      <th>circuitUrl</th>\n",
       "      <th>constructorRef</th>\n",
       "      <th>constructorName</th>\n",
       "      <th>constructorNationality</th>\n",
       "      <th>constructorUrl</th>\n",
       "      <th>driverRef</th>\n",
       "      <th>driverNumber</th>\n",
       "      <th>code</th>\n",
       "      <th>forename</th>\n",
       "      <th>surname</th>\n",
       "      <th>dob</th>\n",
       "      <th>driverNationality</th>\n",
       "      <th>driverUrl</th>\n",
       "      <th>driverName</th>\n",
       "    </tr>\n",
       "  </thead>\n",
       "  <tbody>\n",
       "    <tr>\n",
       "      <th>0</th>\n",
       "      <td>841</td>\n",
       "      <td>20</td>\n",
       "      <td>1</td>\n",
       "      <td>1</td>\n",
       "      <td>1:38.109</td>\n",
       "      <td>98109</td>\n",
       "      <td>98.109</td>\n",
       "      <td>2011</td>\n",
       "      <td>1</td>\n",
       "      <td>1</td>\n",
       "      <td>Australian Grand Prix</td>\n",
       "      <td>2011-03-27</td>\n",
       "      <td>06:00:00</td>\n",
       "      <td>http://en.wikipedia.org/wiki/2011_Australian_G...</td>\n",
       "      <td>NaN</td>\n",
       "      <td>NaN</td>\n",
       "      <td>NaN</td>\n",
       "      <td>NaN</td>\n",
       "      <td>NaN</td>\n",
       "      <td>NaN</td>\n",
       "      <td>NaN</td>\n",
       "      <td>NaN</td>\n",
       "      <td>NaN</td>\n",
       "      <td>NaN</td>\n",
       "      <td>9</td>\n",
       "      <td>1.0</td>\n",
       "      <td>1</td>\n",
       "      <td>1.0</td>\n",
       "      <td>1</td>\n",
       "      <td>1</td>\n",
       "      <td>25.0</td>\n",
       "      <td>58</td>\n",
       "      <td>1:29:30.259</td>\n",
       "      <td>5370259.0</td>\n",
       "      <td>44.0</td>\n",
       "      <td>4.0</td>\n",
       "      <td>1:29.844</td>\n",
       "      <td>212.488</td>\n",
       "      <td>1</td>\n",
       "      <td>5370.259</td>\n",
       "      <td>2011-03-27</td>\n",
       "      <td>06:00:00</td>\n",
       "      <td>NaN</td>\n",
       "      <td>NaN</td>\n",
       "      <td>NaN</td>\n",
       "      <td>NaN</td>\n",
       "      <td>NaN</td>\n",
       "      <td>NaN</td>\n",
       "      <td>NaN</td>\n",
       "      <td>NaN</td>\n",
       "      <td>NaN</td>\n",
       "      <td>NaN</td>\n",
       "      <td>albert_park</td>\n",
       "      <td>Albert Park Grand Prix Circuit</td>\n",
       "      <td>Melbourne</td>\n",
       "      <td>Australia</td>\n",
       "      <td>-37.8497</td>\n",
       "      <td>144.9680</td>\n",
       "      <td>10</td>\n",
       "      <td>http://en.wikipedia.org/wiki/Melbourne_Grand_P...</td>\n",
       "      <td>red_bull</td>\n",
       "      <td>Red Bull</td>\n",
       "      <td>Austrian</td>\n",
       "      <td>http://en.wikipedia.org/wiki/Red_Bull_Racing</td>\n",
       "      <td>vettel</td>\n",
       "      <td>5.0</td>\n",
       "      <td>VET</td>\n",
       "      <td>Sebastian</td>\n",
       "      <td>Vettel</td>\n",
       "      <td>1987-07-03</td>\n",
       "      <td>German</td>\n",
       "      <td>http://en.wikipedia.org/wiki/Sebastian_Vettel</td>\n",
       "      <td>Sebastian Vettel</td>\n",
       "    </tr>\n",
       "    <tr>\n",
       "      <th>1</th>\n",
       "      <td>841</td>\n",
       "      <td>20</td>\n",
       "      <td>2</td>\n",
       "      <td>1</td>\n",
       "      <td>1:33.006</td>\n",
       "      <td>93006</td>\n",
       "      <td>93.006</td>\n",
       "      <td>2011</td>\n",
       "      <td>1</td>\n",
       "      <td>1</td>\n",
       "      <td>Australian Grand Prix</td>\n",
       "      <td>2011-03-27</td>\n",
       "      <td>06:00:00</td>\n",
       "      <td>http://en.wikipedia.org/wiki/2011_Australian_G...</td>\n",
       "      <td>NaN</td>\n",
       "      <td>NaN</td>\n",
       "      <td>NaN</td>\n",
       "      <td>NaN</td>\n",
       "      <td>NaN</td>\n",
       "      <td>NaN</td>\n",
       "      <td>NaN</td>\n",
       "      <td>NaN</td>\n",
       "      <td>NaN</td>\n",
       "      <td>NaN</td>\n",
       "      <td>9</td>\n",
       "      <td>1.0</td>\n",
       "      <td>1</td>\n",
       "      <td>1.0</td>\n",
       "      <td>1</td>\n",
       "      <td>1</td>\n",
       "      <td>25.0</td>\n",
       "      <td>58</td>\n",
       "      <td>1:29:30.259</td>\n",
       "      <td>5370259.0</td>\n",
       "      <td>44.0</td>\n",
       "      <td>4.0</td>\n",
       "      <td>1:29.844</td>\n",
       "      <td>212.488</td>\n",
       "      <td>1</td>\n",
       "      <td>5370.259</td>\n",
       "      <td>2011-03-27</td>\n",
       "      <td>06:00:00</td>\n",
       "      <td>NaN</td>\n",
       "      <td>NaN</td>\n",
       "      <td>NaN</td>\n",
       "      <td>NaN</td>\n",
       "      <td>NaN</td>\n",
       "      <td>NaN</td>\n",
       "      <td>NaN</td>\n",
       "      <td>NaN</td>\n",
       "      <td>NaN</td>\n",
       "      <td>NaN</td>\n",
       "      <td>albert_park</td>\n",
       "      <td>Albert Park Grand Prix Circuit</td>\n",
       "      <td>Melbourne</td>\n",
       "      <td>Australia</td>\n",
       "      <td>-37.8497</td>\n",
       "      <td>144.9680</td>\n",
       "      <td>10</td>\n",
       "      <td>http://en.wikipedia.org/wiki/Melbourne_Grand_P...</td>\n",
       "      <td>red_bull</td>\n",
       "      <td>Red Bull</td>\n",
       "      <td>Austrian</td>\n",
       "      <td>http://en.wikipedia.org/wiki/Red_Bull_Racing</td>\n",
       "      <td>vettel</td>\n",
       "      <td>5.0</td>\n",
       "      <td>VET</td>\n",
       "      <td>Sebastian</td>\n",
       "      <td>Vettel</td>\n",
       "      <td>1987-07-03</td>\n",
       "      <td>German</td>\n",
       "      <td>http://en.wikipedia.org/wiki/Sebastian_Vettel</td>\n",
       "      <td>Sebastian Vettel</td>\n",
       "    </tr>\n",
       "    <tr>\n",
       "      <th>2</th>\n",
       "      <td>841</td>\n",
       "      <td>20</td>\n",
       "      <td>3</td>\n",
       "      <td>1</td>\n",
       "      <td>1:32.713</td>\n",
       "      <td>92713</td>\n",
       "      <td>92.713</td>\n",
       "      <td>2011</td>\n",
       "      <td>1</td>\n",
       "      <td>1</td>\n",
       "      <td>Australian Grand Prix</td>\n",
       "      <td>2011-03-27</td>\n",
       "      <td>06:00:00</td>\n",
       "      <td>http://en.wikipedia.org/wiki/2011_Australian_G...</td>\n",
       "      <td>NaN</td>\n",
       "      <td>NaN</td>\n",
       "      <td>NaN</td>\n",
       "      <td>NaN</td>\n",
       "      <td>NaN</td>\n",
       "      <td>NaN</td>\n",
       "      <td>NaN</td>\n",
       "      <td>NaN</td>\n",
       "      <td>NaN</td>\n",
       "      <td>NaN</td>\n",
       "      <td>9</td>\n",
       "      <td>1.0</td>\n",
       "      <td>1</td>\n",
       "      <td>1.0</td>\n",
       "      <td>1</td>\n",
       "      <td>1</td>\n",
       "      <td>25.0</td>\n",
       "      <td>58</td>\n",
       "      <td>1:29:30.259</td>\n",
       "      <td>5370259.0</td>\n",
       "      <td>44.0</td>\n",
       "      <td>4.0</td>\n",
       "      <td>1:29.844</td>\n",
       "      <td>212.488</td>\n",
       "      <td>1</td>\n",
       "      <td>5370.259</td>\n",
       "      <td>2011-03-27</td>\n",
       "      <td>06:00:00</td>\n",
       "      <td>NaN</td>\n",
       "      <td>NaN</td>\n",
       "      <td>NaN</td>\n",
       "      <td>NaN</td>\n",
       "      <td>NaN</td>\n",
       "      <td>NaN</td>\n",
       "      <td>NaN</td>\n",
       "      <td>NaN</td>\n",
       "      <td>NaN</td>\n",
       "      <td>NaN</td>\n",
       "      <td>albert_park</td>\n",
       "      <td>Albert Park Grand Prix Circuit</td>\n",
       "      <td>Melbourne</td>\n",
       "      <td>Australia</td>\n",
       "      <td>-37.8497</td>\n",
       "      <td>144.9680</td>\n",
       "      <td>10</td>\n",
       "      <td>http://en.wikipedia.org/wiki/Melbourne_Grand_P...</td>\n",
       "      <td>red_bull</td>\n",
       "      <td>Red Bull</td>\n",
       "      <td>Austrian</td>\n",
       "      <td>http://en.wikipedia.org/wiki/Red_Bull_Racing</td>\n",
       "      <td>vettel</td>\n",
       "      <td>5.0</td>\n",
       "      <td>VET</td>\n",
       "      <td>Sebastian</td>\n",
       "      <td>Vettel</td>\n",
       "      <td>1987-07-03</td>\n",
       "      <td>German</td>\n",
       "      <td>http://en.wikipedia.org/wiki/Sebastian_Vettel</td>\n",
       "      <td>Sebastian Vettel</td>\n",
       "    </tr>\n",
       "    <tr>\n",
       "      <th>3</th>\n",
       "      <td>841</td>\n",
       "      <td>20</td>\n",
       "      <td>4</td>\n",
       "      <td>1</td>\n",
       "      <td>1:32.803</td>\n",
       "      <td>92803</td>\n",
       "      <td>92.803</td>\n",
       "      <td>2011</td>\n",
       "      <td>1</td>\n",
       "      <td>1</td>\n",
       "      <td>Australian Grand Prix</td>\n",
       "      <td>2011-03-27</td>\n",
       "      <td>06:00:00</td>\n",
       "      <td>http://en.wikipedia.org/wiki/2011_Australian_G...</td>\n",
       "      <td>NaN</td>\n",
       "      <td>NaN</td>\n",
       "      <td>NaN</td>\n",
       "      <td>NaN</td>\n",
       "      <td>NaN</td>\n",
       "      <td>NaN</td>\n",
       "      <td>NaN</td>\n",
       "      <td>NaN</td>\n",
       "      <td>NaN</td>\n",
       "      <td>NaN</td>\n",
       "      <td>9</td>\n",
       "      <td>1.0</td>\n",
       "      <td>1</td>\n",
       "      <td>1.0</td>\n",
       "      <td>1</td>\n",
       "      <td>1</td>\n",
       "      <td>25.0</td>\n",
       "      <td>58</td>\n",
       "      <td>1:29:30.259</td>\n",
       "      <td>5370259.0</td>\n",
       "      <td>44.0</td>\n",
       "      <td>4.0</td>\n",
       "      <td>1:29.844</td>\n",
       "      <td>212.488</td>\n",
       "      <td>1</td>\n",
       "      <td>5370.259</td>\n",
       "      <td>2011-03-27</td>\n",
       "      <td>06:00:00</td>\n",
       "      <td>NaN</td>\n",
       "      <td>NaN</td>\n",
       "      <td>NaN</td>\n",
       "      <td>NaN</td>\n",
       "      <td>NaN</td>\n",
       "      <td>NaN</td>\n",
       "      <td>NaN</td>\n",
       "      <td>NaN</td>\n",
       "      <td>NaN</td>\n",
       "      <td>NaN</td>\n",
       "      <td>albert_park</td>\n",
       "      <td>Albert Park Grand Prix Circuit</td>\n",
       "      <td>Melbourne</td>\n",
       "      <td>Australia</td>\n",
       "      <td>-37.8497</td>\n",
       "      <td>144.9680</td>\n",
       "      <td>10</td>\n",
       "      <td>http://en.wikipedia.org/wiki/Melbourne_Grand_P...</td>\n",
       "      <td>red_bull</td>\n",
       "      <td>Red Bull</td>\n",
       "      <td>Austrian</td>\n",
       "      <td>http://en.wikipedia.org/wiki/Red_Bull_Racing</td>\n",
       "      <td>vettel</td>\n",
       "      <td>5.0</td>\n",
       "      <td>VET</td>\n",
       "      <td>Sebastian</td>\n",
       "      <td>Vettel</td>\n",
       "      <td>1987-07-03</td>\n",
       "      <td>German</td>\n",
       "      <td>http://en.wikipedia.org/wiki/Sebastian_Vettel</td>\n",
       "      <td>Sebastian Vettel</td>\n",
       "    </tr>\n",
       "    <tr>\n",
       "      <th>4</th>\n",
       "      <td>841</td>\n",
       "      <td>20</td>\n",
       "      <td>5</td>\n",
       "      <td>1</td>\n",
       "      <td>1:32.342</td>\n",
       "      <td>92342</td>\n",
       "      <td>92.342</td>\n",
       "      <td>2011</td>\n",
       "      <td>1</td>\n",
       "      <td>1</td>\n",
       "      <td>Australian Grand Prix</td>\n",
       "      <td>2011-03-27</td>\n",
       "      <td>06:00:00</td>\n",
       "      <td>http://en.wikipedia.org/wiki/2011_Australian_G...</td>\n",
       "      <td>NaN</td>\n",
       "      <td>NaN</td>\n",
       "      <td>NaN</td>\n",
       "      <td>NaN</td>\n",
       "      <td>NaN</td>\n",
       "      <td>NaN</td>\n",
       "      <td>NaN</td>\n",
       "      <td>NaN</td>\n",
       "      <td>NaN</td>\n",
       "      <td>NaN</td>\n",
       "      <td>9</td>\n",
       "      <td>1.0</td>\n",
       "      <td>1</td>\n",
       "      <td>1.0</td>\n",
       "      <td>1</td>\n",
       "      <td>1</td>\n",
       "      <td>25.0</td>\n",
       "      <td>58</td>\n",
       "      <td>1:29:30.259</td>\n",
       "      <td>5370259.0</td>\n",
       "      <td>44.0</td>\n",
       "      <td>4.0</td>\n",
       "      <td>1:29.844</td>\n",
       "      <td>212.488</td>\n",
       "      <td>1</td>\n",
       "      <td>5370.259</td>\n",
       "      <td>2011-03-27</td>\n",
       "      <td>06:00:00</td>\n",
       "      <td>NaN</td>\n",
       "      <td>NaN</td>\n",
       "      <td>NaN</td>\n",
       "      <td>NaN</td>\n",
       "      <td>NaN</td>\n",
       "      <td>NaN</td>\n",
       "      <td>NaN</td>\n",
       "      <td>NaN</td>\n",
       "      <td>NaN</td>\n",
       "      <td>NaN</td>\n",
       "      <td>albert_park</td>\n",
       "      <td>Albert Park Grand Prix Circuit</td>\n",
       "      <td>Melbourne</td>\n",
       "      <td>Australia</td>\n",
       "      <td>-37.8497</td>\n",
       "      <td>144.9680</td>\n",
       "      <td>10</td>\n",
       "      <td>http://en.wikipedia.org/wiki/Melbourne_Grand_P...</td>\n",
       "      <td>red_bull</td>\n",
       "      <td>Red Bull</td>\n",
       "      <td>Austrian</td>\n",
       "      <td>http://en.wikipedia.org/wiki/Red_Bull_Racing</td>\n",
       "      <td>vettel</td>\n",
       "      <td>5.0</td>\n",
       "      <td>VET</td>\n",
       "      <td>Sebastian</td>\n",
       "      <td>Vettel</td>\n",
       "      <td>1987-07-03</td>\n",
       "      <td>German</td>\n",
       "      <td>http://en.wikipedia.org/wiki/Sebastian_Vettel</td>\n",
       "      <td>Sebastian Vettel</td>\n",
       "    </tr>\n",
       "    <tr>\n",
       "      <th>...</th>\n",
       "      <td>...</td>\n",
       "      <td>...</td>\n",
       "      <td>...</td>\n",
       "      <td>...</td>\n",
       "      <td>...</td>\n",
       "      <td>...</td>\n",
       "      <td>...</td>\n",
       "      <td>...</td>\n",
       "      <td>...</td>\n",
       "      <td>...</td>\n",
       "      <td>...</td>\n",
       "      <td>...</td>\n",
       "      <td>...</td>\n",
       "      <td>...</td>\n",
       "      <td>...</td>\n",
       "      <td>...</td>\n",
       "      <td>...</td>\n",
       "      <td>...</td>\n",
       "      <td>...</td>\n",
       "      <td>...</td>\n",
       "      <td>...</td>\n",
       "      <td>...</td>\n",
       "      <td>...</td>\n",
       "      <td>...</td>\n",
       "      <td>...</td>\n",
       "      <td>...</td>\n",
       "      <td>...</td>\n",
       "      <td>...</td>\n",
       "      <td>...</td>\n",
       "      <td>...</td>\n",
       "      <td>...</td>\n",
       "      <td>...</td>\n",
       "      <td>...</td>\n",
       "      <td>...</td>\n",
       "      <td>...</td>\n",
       "      <td>...</td>\n",
       "      <td>...</td>\n",
       "      <td>...</td>\n",
       "      <td>...</td>\n",
       "      <td>...</td>\n",
       "      <td>...</td>\n",
       "      <td>...</td>\n",
       "      <td>...</td>\n",
       "      <td>...</td>\n",
       "      <td>...</td>\n",
       "      <td>...</td>\n",
       "      <td>...</td>\n",
       "      <td>...</td>\n",
       "      <td>...</td>\n",
       "      <td>...</td>\n",
       "      <td>...</td>\n",
       "      <td>...</td>\n",
       "      <td>...</td>\n",
       "      <td>...</td>\n",
       "      <td>...</td>\n",
       "      <td>...</td>\n",
       "      <td>...</td>\n",
       "      <td>...</td>\n",
       "      <td>...</td>\n",
       "      <td>...</td>\n",
       "      <td>...</td>\n",
       "      <td>...</td>\n",
       "      <td>...</td>\n",
       "      <td>...</td>\n",
       "      <td>...</td>\n",
       "      <td>...</td>\n",
       "      <td>...</td>\n",
       "      <td>...</td>\n",
       "      <td>...</td>\n",
       "      <td>...</td>\n",
       "      <td>...</td>\n",
       "      <td>...</td>\n",
       "      <td>...</td>\n",
       "    </tr>\n",
       "    <tr>\n",
       "      <th>575024</th>\n",
       "      <td>1131</td>\n",
       "      <td>858</td>\n",
       "      <td>65</td>\n",
       "      <td>19</td>\n",
       "      <td>1:10.742</td>\n",
       "      <td>70742</td>\n",
       "      <td>70.742</td>\n",
       "      <td>2024</td>\n",
       "      <td>11</td>\n",
       "      <td>70</td>\n",
       "      <td>Austrian Grand Prix</td>\n",
       "      <td>2024-06-30</td>\n",
       "      <td>13:00:00</td>\n",
       "      <td>https://en.wikipedia.org/wiki/2024_Austrian_Gr...</td>\n",
       "      <td>2024-06-28</td>\n",
       "      <td>10:30:00</td>\n",
       "      <td>2024-06-28</td>\n",
       "      <td>14:30:00</td>\n",
       "      <td>NaN</td>\n",
       "      <td>NaN</td>\n",
       "      <td>2024-06-29</td>\n",
       "      <td>14:00:00</td>\n",
       "      <td>2024-06-29</td>\n",
       "      <td>10:00:00</td>\n",
       "      <td>3</td>\n",
       "      <td>2.0</td>\n",
       "      <td>19</td>\n",
       "      <td>19.0</td>\n",
       "      <td>19</td>\n",
       "      <td>19</td>\n",
       "      <td>0.0</td>\n",
       "      <td>69</td>\n",
       "      <td>NaN</td>\n",
       "      <td>NaN</td>\n",
       "      <td>60.0</td>\n",
       "      <td>17.0</td>\n",
       "      <td>1:10.406</td>\n",
       "      <td>220.788</td>\n",
       "      <td>12</td>\n",
       "      <td>NaN</td>\n",
       "      <td>2024-06-30</td>\n",
       "      <td>13:00:00</td>\n",
       "      <td>2024-06-28</td>\n",
       "      <td>10:30:00</td>\n",
       "      <td>2024-06-28</td>\n",
       "      <td>14:30:00</td>\n",
       "      <td>NaN</td>\n",
       "      <td>NaN</td>\n",
       "      <td>2024-06-29</td>\n",
       "      <td>14:00:00</td>\n",
       "      <td>2024-06-29</td>\n",
       "      <td>10:00:00</td>\n",
       "      <td>red_bull_ring</td>\n",
       "      <td>Red Bull Ring</td>\n",
       "      <td>Spielberg</td>\n",
       "      <td>Austria</td>\n",
       "      <td>47.2197</td>\n",
       "      <td>14.7647</td>\n",
       "      <td>678</td>\n",
       "      <td>http://en.wikipedia.org/wiki/Red_Bull_Ring</td>\n",
       "      <td>williams</td>\n",
       "      <td>Williams</td>\n",
       "      <td>British</td>\n",
       "      <td>http://en.wikipedia.org/wiki/Williams_Grand_Pr...</td>\n",
       "      <td>sargeant</td>\n",
       "      <td>2.0</td>\n",
       "      <td>SAR</td>\n",
       "      <td>Logan</td>\n",
       "      <td>Sargeant</td>\n",
       "      <td>2000-12-31</td>\n",
       "      <td>American</td>\n",
       "      <td>http://en.wikipedia.org/wiki/Logan_Sargeant</td>\n",
       "      <td>Logan Sargeant</td>\n",
       "    </tr>\n",
       "    <tr>\n",
       "      <th>575025</th>\n",
       "      <td>1131</td>\n",
       "      <td>858</td>\n",
       "      <td>66</td>\n",
       "      <td>19</td>\n",
       "      <td>1:10.855</td>\n",
       "      <td>70855</td>\n",
       "      <td>70.855</td>\n",
       "      <td>2024</td>\n",
       "      <td>11</td>\n",
       "      <td>70</td>\n",
       "      <td>Austrian Grand Prix</td>\n",
       "      <td>2024-06-30</td>\n",
       "      <td>13:00:00</td>\n",
       "      <td>https://en.wikipedia.org/wiki/2024_Austrian_Gr...</td>\n",
       "      <td>2024-06-28</td>\n",
       "      <td>10:30:00</td>\n",
       "      <td>2024-06-28</td>\n",
       "      <td>14:30:00</td>\n",
       "      <td>NaN</td>\n",
       "      <td>NaN</td>\n",
       "      <td>2024-06-29</td>\n",
       "      <td>14:00:00</td>\n",
       "      <td>2024-06-29</td>\n",
       "      <td>10:00:00</td>\n",
       "      <td>3</td>\n",
       "      <td>2.0</td>\n",
       "      <td>19</td>\n",
       "      <td>19.0</td>\n",
       "      <td>19</td>\n",
       "      <td>19</td>\n",
       "      <td>0.0</td>\n",
       "      <td>69</td>\n",
       "      <td>NaN</td>\n",
       "      <td>NaN</td>\n",
       "      <td>60.0</td>\n",
       "      <td>17.0</td>\n",
       "      <td>1:10.406</td>\n",
       "      <td>220.788</td>\n",
       "      <td>12</td>\n",
       "      <td>NaN</td>\n",
       "      <td>2024-06-30</td>\n",
       "      <td>13:00:00</td>\n",
       "      <td>2024-06-28</td>\n",
       "      <td>10:30:00</td>\n",
       "      <td>2024-06-28</td>\n",
       "      <td>14:30:00</td>\n",
       "      <td>NaN</td>\n",
       "      <td>NaN</td>\n",
       "      <td>2024-06-29</td>\n",
       "      <td>14:00:00</td>\n",
       "      <td>2024-06-29</td>\n",
       "      <td>10:00:00</td>\n",
       "      <td>red_bull_ring</td>\n",
       "      <td>Red Bull Ring</td>\n",
       "      <td>Spielberg</td>\n",
       "      <td>Austria</td>\n",
       "      <td>47.2197</td>\n",
       "      <td>14.7647</td>\n",
       "      <td>678</td>\n",
       "      <td>http://en.wikipedia.org/wiki/Red_Bull_Ring</td>\n",
       "      <td>williams</td>\n",
       "      <td>Williams</td>\n",
       "      <td>British</td>\n",
       "      <td>http://en.wikipedia.org/wiki/Williams_Grand_Pr...</td>\n",
       "      <td>sargeant</td>\n",
       "      <td>2.0</td>\n",
       "      <td>SAR</td>\n",
       "      <td>Logan</td>\n",
       "      <td>Sargeant</td>\n",
       "      <td>2000-12-31</td>\n",
       "      <td>American</td>\n",
       "      <td>http://en.wikipedia.org/wiki/Logan_Sargeant</td>\n",
       "      <td>Logan Sargeant</td>\n",
       "    </tr>\n",
       "    <tr>\n",
       "      <th>575026</th>\n",
       "      <td>1131</td>\n",
       "      <td>858</td>\n",
       "      <td>67</td>\n",
       "      <td>19</td>\n",
       "      <td>1:12.454</td>\n",
       "      <td>72454</td>\n",
       "      <td>72.454</td>\n",
       "      <td>2024</td>\n",
       "      <td>11</td>\n",
       "      <td>70</td>\n",
       "      <td>Austrian Grand Prix</td>\n",
       "      <td>2024-06-30</td>\n",
       "      <td>13:00:00</td>\n",
       "      <td>https://en.wikipedia.org/wiki/2024_Austrian_Gr...</td>\n",
       "      <td>2024-06-28</td>\n",
       "      <td>10:30:00</td>\n",
       "      <td>2024-06-28</td>\n",
       "      <td>14:30:00</td>\n",
       "      <td>NaN</td>\n",
       "      <td>NaN</td>\n",
       "      <td>2024-06-29</td>\n",
       "      <td>14:00:00</td>\n",
       "      <td>2024-06-29</td>\n",
       "      <td>10:00:00</td>\n",
       "      <td>3</td>\n",
       "      <td>2.0</td>\n",
       "      <td>19</td>\n",
       "      <td>19.0</td>\n",
       "      <td>19</td>\n",
       "      <td>19</td>\n",
       "      <td>0.0</td>\n",
       "      <td>69</td>\n",
       "      <td>NaN</td>\n",
       "      <td>NaN</td>\n",
       "      <td>60.0</td>\n",
       "      <td>17.0</td>\n",
       "      <td>1:10.406</td>\n",
       "      <td>220.788</td>\n",
       "      <td>12</td>\n",
       "      <td>NaN</td>\n",
       "      <td>2024-06-30</td>\n",
       "      <td>13:00:00</td>\n",
       "      <td>2024-06-28</td>\n",
       "      <td>10:30:00</td>\n",
       "      <td>2024-06-28</td>\n",
       "      <td>14:30:00</td>\n",
       "      <td>NaN</td>\n",
       "      <td>NaN</td>\n",
       "      <td>2024-06-29</td>\n",
       "      <td>14:00:00</td>\n",
       "      <td>2024-06-29</td>\n",
       "      <td>10:00:00</td>\n",
       "      <td>red_bull_ring</td>\n",
       "      <td>Red Bull Ring</td>\n",
       "      <td>Spielberg</td>\n",
       "      <td>Austria</td>\n",
       "      <td>47.2197</td>\n",
       "      <td>14.7647</td>\n",
       "      <td>678</td>\n",
       "      <td>http://en.wikipedia.org/wiki/Red_Bull_Ring</td>\n",
       "      <td>williams</td>\n",
       "      <td>Williams</td>\n",
       "      <td>British</td>\n",
       "      <td>http://en.wikipedia.org/wiki/Williams_Grand_Pr...</td>\n",
       "      <td>sargeant</td>\n",
       "      <td>2.0</td>\n",
       "      <td>SAR</td>\n",
       "      <td>Logan</td>\n",
       "      <td>Sargeant</td>\n",
       "      <td>2000-12-31</td>\n",
       "      <td>American</td>\n",
       "      <td>http://en.wikipedia.org/wiki/Logan_Sargeant</td>\n",
       "      <td>Logan Sargeant</td>\n",
       "    </tr>\n",
       "    <tr>\n",
       "      <th>575027</th>\n",
       "      <td>1131</td>\n",
       "      <td>858</td>\n",
       "      <td>68</td>\n",
       "      <td>19</td>\n",
       "      <td>1:13.607</td>\n",
       "      <td>73607</td>\n",
       "      <td>73.607</td>\n",
       "      <td>2024</td>\n",
       "      <td>11</td>\n",
       "      <td>70</td>\n",
       "      <td>Austrian Grand Prix</td>\n",
       "      <td>2024-06-30</td>\n",
       "      <td>13:00:00</td>\n",
       "      <td>https://en.wikipedia.org/wiki/2024_Austrian_Gr...</td>\n",
       "      <td>2024-06-28</td>\n",
       "      <td>10:30:00</td>\n",
       "      <td>2024-06-28</td>\n",
       "      <td>14:30:00</td>\n",
       "      <td>NaN</td>\n",
       "      <td>NaN</td>\n",
       "      <td>2024-06-29</td>\n",
       "      <td>14:00:00</td>\n",
       "      <td>2024-06-29</td>\n",
       "      <td>10:00:00</td>\n",
       "      <td>3</td>\n",
       "      <td>2.0</td>\n",
       "      <td>19</td>\n",
       "      <td>19.0</td>\n",
       "      <td>19</td>\n",
       "      <td>19</td>\n",
       "      <td>0.0</td>\n",
       "      <td>69</td>\n",
       "      <td>NaN</td>\n",
       "      <td>NaN</td>\n",
       "      <td>60.0</td>\n",
       "      <td>17.0</td>\n",
       "      <td>1:10.406</td>\n",
       "      <td>220.788</td>\n",
       "      <td>12</td>\n",
       "      <td>NaN</td>\n",
       "      <td>2024-06-30</td>\n",
       "      <td>13:00:00</td>\n",
       "      <td>2024-06-28</td>\n",
       "      <td>10:30:00</td>\n",
       "      <td>2024-06-28</td>\n",
       "      <td>14:30:00</td>\n",
       "      <td>NaN</td>\n",
       "      <td>NaN</td>\n",
       "      <td>2024-06-29</td>\n",
       "      <td>14:00:00</td>\n",
       "      <td>2024-06-29</td>\n",
       "      <td>10:00:00</td>\n",
       "      <td>red_bull_ring</td>\n",
       "      <td>Red Bull Ring</td>\n",
       "      <td>Spielberg</td>\n",
       "      <td>Austria</td>\n",
       "      <td>47.2197</td>\n",
       "      <td>14.7647</td>\n",
       "      <td>678</td>\n",
       "      <td>http://en.wikipedia.org/wiki/Red_Bull_Ring</td>\n",
       "      <td>williams</td>\n",
       "      <td>Williams</td>\n",
       "      <td>British</td>\n",
       "      <td>http://en.wikipedia.org/wiki/Williams_Grand_Pr...</td>\n",
       "      <td>sargeant</td>\n",
       "      <td>2.0</td>\n",
       "      <td>SAR</td>\n",
       "      <td>Logan</td>\n",
       "      <td>Sargeant</td>\n",
       "      <td>2000-12-31</td>\n",
       "      <td>American</td>\n",
       "      <td>http://en.wikipedia.org/wiki/Logan_Sargeant</td>\n",
       "      <td>Logan Sargeant</td>\n",
       "    </tr>\n",
       "    <tr>\n",
       "      <th>575028</th>\n",
       "      <td>1131</td>\n",
       "      <td>858</td>\n",
       "      <td>69</td>\n",
       "      <td>19</td>\n",
       "      <td>1:11.489</td>\n",
       "      <td>71489</td>\n",
       "      <td>71.489</td>\n",
       "      <td>2024</td>\n",
       "      <td>11</td>\n",
       "      <td>70</td>\n",
       "      <td>Austrian Grand Prix</td>\n",
       "      <td>2024-06-30</td>\n",
       "      <td>13:00:00</td>\n",
       "      <td>https://en.wikipedia.org/wiki/2024_Austrian_Gr...</td>\n",
       "      <td>2024-06-28</td>\n",
       "      <td>10:30:00</td>\n",
       "      <td>2024-06-28</td>\n",
       "      <td>14:30:00</td>\n",
       "      <td>NaN</td>\n",
       "      <td>NaN</td>\n",
       "      <td>2024-06-29</td>\n",
       "      <td>14:00:00</td>\n",
       "      <td>2024-06-29</td>\n",
       "      <td>10:00:00</td>\n",
       "      <td>3</td>\n",
       "      <td>2.0</td>\n",
       "      <td>19</td>\n",
       "      <td>19.0</td>\n",
       "      <td>19</td>\n",
       "      <td>19</td>\n",
       "      <td>0.0</td>\n",
       "      <td>69</td>\n",
       "      <td>NaN</td>\n",
       "      <td>NaN</td>\n",
       "      <td>60.0</td>\n",
       "      <td>17.0</td>\n",
       "      <td>1:10.406</td>\n",
       "      <td>220.788</td>\n",
       "      <td>12</td>\n",
       "      <td>NaN</td>\n",
       "      <td>2024-06-30</td>\n",
       "      <td>13:00:00</td>\n",
       "      <td>2024-06-28</td>\n",
       "      <td>10:30:00</td>\n",
       "      <td>2024-06-28</td>\n",
       "      <td>14:30:00</td>\n",
       "      <td>NaN</td>\n",
       "      <td>NaN</td>\n",
       "      <td>2024-06-29</td>\n",
       "      <td>14:00:00</td>\n",
       "      <td>2024-06-29</td>\n",
       "      <td>10:00:00</td>\n",
       "      <td>red_bull_ring</td>\n",
       "      <td>Red Bull Ring</td>\n",
       "      <td>Spielberg</td>\n",
       "      <td>Austria</td>\n",
       "      <td>47.2197</td>\n",
       "      <td>14.7647</td>\n",
       "      <td>678</td>\n",
       "      <td>http://en.wikipedia.org/wiki/Red_Bull_Ring</td>\n",
       "      <td>williams</td>\n",
       "      <td>Williams</td>\n",
       "      <td>British</td>\n",
       "      <td>http://en.wikipedia.org/wiki/Williams_Grand_Pr...</td>\n",
       "      <td>sargeant</td>\n",
       "      <td>2.0</td>\n",
       "      <td>SAR</td>\n",
       "      <td>Logan</td>\n",
       "      <td>Sargeant</td>\n",
       "      <td>2000-12-31</td>\n",
       "      <td>American</td>\n",
       "      <td>http://en.wikipedia.org/wiki/Logan_Sargeant</td>\n",
       "      <td>Logan Sargeant</td>\n",
       "    </tr>\n",
       "  </tbody>\n",
       "</table>\n",
       "<p>575029 rows × 73 columns</p>\n",
       "</div>"
      ],
      "text/plain": [
       "        raceId  driverId  lap  lapPosition   lapTime  lapMilliseconds  \\\n",
       "0          841        20    1            1  1:38.109            98109   \n",
       "1          841        20    2            1  1:33.006            93006   \n",
       "2          841        20    3            1  1:32.713            92713   \n",
       "3          841        20    4            1  1:32.803            92803   \n",
       "4          841        20    5            1  1:32.342            92342   \n",
       "...        ...       ...  ...          ...       ...              ...   \n",
       "575024    1131       858   65           19  1:10.742            70742   \n",
       "575025    1131       858   66           19  1:10.855            70855   \n",
       "575026    1131       858   67           19  1:12.454            72454   \n",
       "575027    1131       858   68           19  1:13.607            73607   \n",
       "575028    1131       858   69           19  1:11.489            71489   \n",
       "\n",
       "        lapSeconds  raceYear  raceRound  circuitId               raceName  \\\n",
       "0           98.109      2011          1          1  Australian Grand Prix   \n",
       "1           93.006      2011          1          1  Australian Grand Prix   \n",
       "2           92.713      2011          1          1  Australian Grand Prix   \n",
       "3           92.803      2011          1          1  Australian Grand Prix   \n",
       "4           92.342      2011          1          1  Australian Grand Prix   \n",
       "...            ...       ...        ...        ...                    ...   \n",
       "575024      70.742      2024         11         70    Austrian Grand Prix   \n",
       "575025      70.855      2024         11         70    Austrian Grand Prix   \n",
       "575026      72.454      2024         11         70    Austrian Grand Prix   \n",
       "575027      73.607      2024         11         70    Austrian Grand Prix   \n",
       "575028      71.489      2024         11         70    Austrian Grand Prix   \n",
       "\n",
       "       raceDate_x raceTime_x  \\\n",
       "0      2011-03-27   06:00:00   \n",
       "1      2011-03-27   06:00:00   \n",
       "2      2011-03-27   06:00:00   \n",
       "3      2011-03-27   06:00:00   \n",
       "4      2011-03-27   06:00:00   \n",
       "...           ...        ...   \n",
       "575024 2024-06-30   13:00:00   \n",
       "575025 2024-06-30   13:00:00   \n",
       "575026 2024-06-30   13:00:00   \n",
       "575027 2024-06-30   13:00:00   \n",
       "575028 2024-06-30   13:00:00   \n",
       "\n",
       "                                                  raceUrl  fp1_date_x  \\\n",
       "0       http://en.wikipedia.org/wiki/2011_Australian_G...         NaN   \n",
       "1       http://en.wikipedia.org/wiki/2011_Australian_G...         NaN   \n",
       "2       http://en.wikipedia.org/wiki/2011_Australian_G...         NaN   \n",
       "3       http://en.wikipedia.org/wiki/2011_Australian_G...         NaN   \n",
       "4       http://en.wikipedia.org/wiki/2011_Australian_G...         NaN   \n",
       "...                                                   ...         ...   \n",
       "575024  https://en.wikipedia.org/wiki/2024_Austrian_Gr...  2024-06-28   \n",
       "575025  https://en.wikipedia.org/wiki/2024_Austrian_Gr...  2024-06-28   \n",
       "575026  https://en.wikipedia.org/wiki/2024_Austrian_Gr...  2024-06-28   \n",
       "575027  https://en.wikipedia.org/wiki/2024_Austrian_Gr...  2024-06-28   \n",
       "575028  https://en.wikipedia.org/wiki/2024_Austrian_Gr...  2024-06-28   \n",
       "\n",
       "       fp1_time_x  fp2_date_x fp2_time_x fp3_date_x fp3_time_x quali_date_x  \\\n",
       "0             NaN         NaN        NaN        NaN        NaN          NaN   \n",
       "1             NaN         NaN        NaN        NaN        NaN          NaN   \n",
       "2             NaN         NaN        NaN        NaN        NaN          NaN   \n",
       "3             NaN         NaN        NaN        NaN        NaN          NaN   \n",
       "4             NaN         NaN        NaN        NaN        NaN          NaN   \n",
       "...           ...         ...        ...        ...        ...          ...   \n",
       "575024   10:30:00  2024-06-28   14:30:00        NaN        NaN   2024-06-29   \n",
       "575025   10:30:00  2024-06-28   14:30:00        NaN        NaN   2024-06-29   \n",
       "575026   10:30:00  2024-06-28   14:30:00        NaN        NaN   2024-06-29   \n",
       "575027   10:30:00  2024-06-28   14:30:00        NaN        NaN   2024-06-29   \n",
       "575028   10:30:00  2024-06-28   14:30:00        NaN        NaN   2024-06-29   \n",
       "\n",
       "       quali_time_x sprint_date_x sprint_time_x  constructorId  resultsNumber  \\\n",
       "0               NaN           NaN           NaN              9            1.0   \n",
       "1               NaN           NaN           NaN              9            1.0   \n",
       "2               NaN           NaN           NaN              9            1.0   \n",
       "3               NaN           NaN           NaN              9            1.0   \n",
       "4               NaN           NaN           NaN              9            1.0   \n",
       "...             ...           ...           ...            ...            ...   \n",
       "575024     14:00:00    2024-06-29      10:00:00              3            2.0   \n",
       "575025     14:00:00    2024-06-29      10:00:00              3            2.0   \n",
       "575026     14:00:00    2024-06-29      10:00:00              3            2.0   \n",
       "575027     14:00:00    2024-06-29      10:00:00              3            2.0   \n",
       "575028     14:00:00    2024-06-29      10:00:00              3            2.0   \n",
       "\n",
       "        grid  resultsPosition positionText  positionOrder  points  laps  \\\n",
       "0          1              1.0            1              1    25.0    58   \n",
       "1          1              1.0            1              1    25.0    58   \n",
       "2          1              1.0            1              1    25.0    58   \n",
       "3          1              1.0            1              1    25.0    58   \n",
       "4          1              1.0            1              1    25.0    58   \n",
       "...      ...              ...          ...            ...     ...   ...   \n",
       "575024    19             19.0           19             19     0.0    69   \n",
       "575025    19             19.0           19             19     0.0    69   \n",
       "575026    19             19.0           19             19     0.0    69   \n",
       "575027    19             19.0           19             19     0.0    69   \n",
       "575028    19             19.0           19             19     0.0    69   \n",
       "\n",
       "        resultsTime  resultsMilliseconds  fastestLap  rank fastestLapTime  \\\n",
       "0       1:29:30.259            5370259.0        44.0   4.0       1:29.844   \n",
       "1       1:29:30.259            5370259.0        44.0   4.0       1:29.844   \n",
       "2       1:29:30.259            5370259.0        44.0   4.0       1:29.844   \n",
       "3       1:29:30.259            5370259.0        44.0   4.0       1:29.844   \n",
       "4       1:29:30.259            5370259.0        44.0   4.0       1:29.844   \n",
       "...             ...                  ...         ...   ...            ...   \n",
       "575024          NaN                  NaN        60.0  17.0       1:10.406   \n",
       "575025          NaN                  NaN        60.0  17.0       1:10.406   \n",
       "575026          NaN                  NaN        60.0  17.0       1:10.406   \n",
       "575027          NaN                  NaN        60.0  17.0       1:10.406   \n",
       "575028          NaN                  NaN        60.0  17.0       1:10.406   \n",
       "\n",
       "        fastestLapSpeed  statusId  resultsSeconds raceDate_y raceTime_y  \\\n",
       "0               212.488         1        5370.259 2011-03-27   06:00:00   \n",
       "1               212.488         1        5370.259 2011-03-27   06:00:00   \n",
       "2               212.488         1        5370.259 2011-03-27   06:00:00   \n",
       "3               212.488         1        5370.259 2011-03-27   06:00:00   \n",
       "4               212.488         1        5370.259 2011-03-27   06:00:00   \n",
       "...                 ...       ...             ...        ...        ...   \n",
       "575024          220.788        12             NaN 2024-06-30   13:00:00   \n",
       "575025          220.788        12             NaN 2024-06-30   13:00:00   \n",
       "575026          220.788        12             NaN 2024-06-30   13:00:00   \n",
       "575027          220.788        12             NaN 2024-06-30   13:00:00   \n",
       "575028          220.788        12             NaN 2024-06-30   13:00:00   \n",
       "\n",
       "        fp1_date_y fp1_time_y  fp2_date_y fp2_time_y fp3_date_y fp3_time_y  \\\n",
       "0              NaN        NaN         NaN        NaN        NaN        NaN   \n",
       "1              NaN        NaN         NaN        NaN        NaN        NaN   \n",
       "2              NaN        NaN         NaN        NaN        NaN        NaN   \n",
       "3              NaN        NaN         NaN        NaN        NaN        NaN   \n",
       "4              NaN        NaN         NaN        NaN        NaN        NaN   \n",
       "...            ...        ...         ...        ...        ...        ...   \n",
       "575024  2024-06-28   10:30:00  2024-06-28   14:30:00        NaN        NaN   \n",
       "575025  2024-06-28   10:30:00  2024-06-28   14:30:00        NaN        NaN   \n",
       "575026  2024-06-28   10:30:00  2024-06-28   14:30:00        NaN        NaN   \n",
       "575027  2024-06-28   10:30:00  2024-06-28   14:30:00        NaN        NaN   \n",
       "575028  2024-06-28   10:30:00  2024-06-28   14:30:00        NaN        NaN   \n",
       "\n",
       "       quali_date_y quali_time_y sprint_date_y sprint_time_y     circuitRef  \\\n",
       "0               NaN          NaN           NaN           NaN    albert_park   \n",
       "1               NaN          NaN           NaN           NaN    albert_park   \n",
       "2               NaN          NaN           NaN           NaN    albert_park   \n",
       "3               NaN          NaN           NaN           NaN    albert_park   \n",
       "4               NaN          NaN           NaN           NaN    albert_park   \n",
       "...             ...          ...           ...           ...            ...   \n",
       "575024   2024-06-29     14:00:00    2024-06-29      10:00:00  red_bull_ring   \n",
       "575025   2024-06-29     14:00:00    2024-06-29      10:00:00  red_bull_ring   \n",
       "575026   2024-06-29     14:00:00    2024-06-29      10:00:00  red_bull_ring   \n",
       "575027   2024-06-29     14:00:00    2024-06-29      10:00:00  red_bull_ring   \n",
       "575028   2024-06-29     14:00:00    2024-06-29      10:00:00  red_bull_ring   \n",
       "\n",
       "                           circuitName circuitLocation circuitCountry  \\\n",
       "0       Albert Park Grand Prix Circuit       Melbourne      Australia   \n",
       "1       Albert Park Grand Prix Circuit       Melbourne      Australia   \n",
       "2       Albert Park Grand Prix Circuit       Melbourne      Australia   \n",
       "3       Albert Park Grand Prix Circuit       Melbourne      Australia   \n",
       "4       Albert Park Grand Prix Circuit       Melbourne      Australia   \n",
       "...                                ...             ...            ...   \n",
       "575024                   Red Bull Ring       Spielberg        Austria   \n",
       "575025                   Red Bull Ring       Spielberg        Austria   \n",
       "575026                   Red Bull Ring       Spielberg        Austria   \n",
       "575027                   Red Bull Ring       Spielberg        Austria   \n",
       "575028                   Red Bull Ring       Spielberg        Austria   \n",
       "\n",
       "            lat       lng  alt  \\\n",
       "0      -37.8497  144.9680   10   \n",
       "1      -37.8497  144.9680   10   \n",
       "2      -37.8497  144.9680   10   \n",
       "3      -37.8497  144.9680   10   \n",
       "4      -37.8497  144.9680   10   \n",
       "...         ...       ...  ...   \n",
       "575024  47.2197   14.7647  678   \n",
       "575025  47.2197   14.7647  678   \n",
       "575026  47.2197   14.7647  678   \n",
       "575027  47.2197   14.7647  678   \n",
       "575028  47.2197   14.7647  678   \n",
       "\n",
       "                                               circuitUrl constructorRef  \\\n",
       "0       http://en.wikipedia.org/wiki/Melbourne_Grand_P...       red_bull   \n",
       "1       http://en.wikipedia.org/wiki/Melbourne_Grand_P...       red_bull   \n",
       "2       http://en.wikipedia.org/wiki/Melbourne_Grand_P...       red_bull   \n",
       "3       http://en.wikipedia.org/wiki/Melbourne_Grand_P...       red_bull   \n",
       "4       http://en.wikipedia.org/wiki/Melbourne_Grand_P...       red_bull   \n",
       "...                                                   ...            ...   \n",
       "575024         http://en.wikipedia.org/wiki/Red_Bull_Ring       williams   \n",
       "575025         http://en.wikipedia.org/wiki/Red_Bull_Ring       williams   \n",
       "575026         http://en.wikipedia.org/wiki/Red_Bull_Ring       williams   \n",
       "575027         http://en.wikipedia.org/wiki/Red_Bull_Ring       williams   \n",
       "575028         http://en.wikipedia.org/wiki/Red_Bull_Ring       williams   \n",
       "\n",
       "       constructorName constructorNationality  \\\n",
       "0             Red Bull               Austrian   \n",
       "1             Red Bull               Austrian   \n",
       "2             Red Bull               Austrian   \n",
       "3             Red Bull               Austrian   \n",
       "4             Red Bull               Austrian   \n",
       "...                ...                    ...   \n",
       "575024        Williams                British   \n",
       "575025        Williams                British   \n",
       "575026        Williams                British   \n",
       "575027        Williams                British   \n",
       "575028        Williams                British   \n",
       "\n",
       "                                           constructorUrl driverRef  \\\n",
       "0            http://en.wikipedia.org/wiki/Red_Bull_Racing    vettel   \n",
       "1            http://en.wikipedia.org/wiki/Red_Bull_Racing    vettel   \n",
       "2            http://en.wikipedia.org/wiki/Red_Bull_Racing    vettel   \n",
       "3            http://en.wikipedia.org/wiki/Red_Bull_Racing    vettel   \n",
       "4            http://en.wikipedia.org/wiki/Red_Bull_Racing    vettel   \n",
       "...                                                   ...       ...   \n",
       "575024  http://en.wikipedia.org/wiki/Williams_Grand_Pr...  sargeant   \n",
       "575025  http://en.wikipedia.org/wiki/Williams_Grand_Pr...  sargeant   \n",
       "575026  http://en.wikipedia.org/wiki/Williams_Grand_Pr...  sargeant   \n",
       "575027  http://en.wikipedia.org/wiki/Williams_Grand_Pr...  sargeant   \n",
       "575028  http://en.wikipedia.org/wiki/Williams_Grand_Pr...  sargeant   \n",
       "\n",
       "        driverNumber code   forename   surname         dob driverNationality  \\\n",
       "0                5.0  VET  Sebastian    Vettel  1987-07-03            German   \n",
       "1                5.0  VET  Sebastian    Vettel  1987-07-03            German   \n",
       "2                5.0  VET  Sebastian    Vettel  1987-07-03            German   \n",
       "3                5.0  VET  Sebastian    Vettel  1987-07-03            German   \n",
       "4                5.0  VET  Sebastian    Vettel  1987-07-03            German   \n",
       "...              ...  ...        ...       ...         ...               ...   \n",
       "575024           2.0  SAR      Logan  Sargeant  2000-12-31          American   \n",
       "575025           2.0  SAR      Logan  Sargeant  2000-12-31          American   \n",
       "575026           2.0  SAR      Logan  Sargeant  2000-12-31          American   \n",
       "575027           2.0  SAR      Logan  Sargeant  2000-12-31          American   \n",
       "575028           2.0  SAR      Logan  Sargeant  2000-12-31          American   \n",
       "\n",
       "                                            driverUrl        driverName  \n",
       "0       http://en.wikipedia.org/wiki/Sebastian_Vettel  Sebastian Vettel  \n",
       "1       http://en.wikipedia.org/wiki/Sebastian_Vettel  Sebastian Vettel  \n",
       "2       http://en.wikipedia.org/wiki/Sebastian_Vettel  Sebastian Vettel  \n",
       "3       http://en.wikipedia.org/wiki/Sebastian_Vettel  Sebastian Vettel  \n",
       "4       http://en.wikipedia.org/wiki/Sebastian_Vettel  Sebastian Vettel  \n",
       "...                                               ...               ...  \n",
       "575024    http://en.wikipedia.org/wiki/Logan_Sargeant    Logan Sargeant  \n",
       "575025    http://en.wikipedia.org/wiki/Logan_Sargeant    Logan Sargeant  \n",
       "575026    http://en.wikipedia.org/wiki/Logan_Sargeant    Logan Sargeant  \n",
       "575027    http://en.wikipedia.org/wiki/Logan_Sargeant    Logan Sargeant  \n",
       "575028    http://en.wikipedia.org/wiki/Logan_Sargeant    Logan Sargeant  \n",
       "\n",
       "[575029 rows x 73 columns]"
      ]
     },
     "execution_count": 32,
     "metadata": {},
     "output_type": "execute_result"
    }
   ],
   "source": [
    "#Merging data to creating lap time analysis dataframe\n",
    "lapTimesAnalysis = pd.merge(lapTimes,races,left_on='raceId',right_on='raceId',how='left')\n",
    "lapTimesAnalysis = pd.merge(lapTimesAnalysis,resultsAnalysis,left_on=['raceId','driverId','raceYear','raceRound','circuitId','raceName','raceUrl'],right_on=['raceId','driverId','raceYear','raceRound','circuitId','raceName','raceUrl'],how='left')\n",
    "lapTimesAnalysis"
   ]
  },
  {
   "cell_type": "markdown",
   "metadata": {},
   "source": [
    "Each Lap time for each driver in Monaco in 2021"
   ]
  },
  {
   "cell_type": "code",
   "execution_count": 33,
   "metadata": {},
   "outputs": [],
   "source": [
    "#Giving year name\n",
    "year = 2021\n",
    "\n",
    "#Giving circuit name\n",
    "circuitName = lapTimesAnalysis['circuitName'].unique()[5]\n",
    "driverList = lapTimesAnalysis[(lapTimesAnalysis['raceYear']==year)]['driverName'].unique()"
   ]
  },
  {
   "cell_type": "code",
   "execution_count": 34,
   "metadata": {},
   "outputs": [
    {
     "data": {
      "application/vnd.plotly.v1+json": {
       "config": {
        "plotlyServerURL": "https://plot.ly"
       },
       "data": [
        {
         "hovertemplate": "driverName=Max Verstappen<br>lap=%{x}<br>lapSeconds=%{y}<extra></extra>",
         "legendgroup": "Max Verstappen",
         "line": {
          "color": "#636efa",
          "dash": "solid"
         },
         "marker": {
          "symbol": "circle"
         },
         "mode": "lines",
         "name": "Max Verstappen",
         "showlegend": true,
         "type": "scattergl",
         "x": [
          1,
          2,
          3,
          4,
          5,
          6,
          7,
          8,
          9,
          10,
          11,
          12,
          13,
          14,
          15,
          16,
          17,
          18,
          19,
          20,
          21,
          22,
          23,
          24,
          25,
          26,
          27,
          28,
          29,
          30,
          31,
          32,
          33,
          34,
          35,
          36,
          37,
          38,
          39,
          40,
          41,
          42,
          43,
          44,
          45,
          46,
          47,
          48,
          49,
          50,
          51,
          52,
          53,
          54,
          55,
          56,
          57,
          58,
          59,
          60,
          61,
          62,
          63,
          64,
          65,
          66,
          67,
          68,
          69,
          70,
          71,
          72,
          73,
          74,
          75,
          76,
          77,
          78
         ],
         "xaxis": "x",
         "y": [
          81.986,
          77.48,
          77.298,
          77.237,
          76.892,
          77.147,
          76.722,
          77.12,
          76.91,
          76.944,
          76.265,
          76.339,
          75.954,
          76.305,
          75.818,
          75.76,
          75.99,
          75.917,
          75.655,
          76.084,
          76.184,
          76.144,
          76.272,
          76.244,
          76.531,
          76.322,
          76,
          75.981,
          76.551,
          76.582,
          75.167,
          75.889,
          75.827,
          92.339,
          80.639,
          75.494,
          75.861,
          76.438,
          76.535,
          75.881,
          75.468,
          75.581,
          75.624,
          74.993,
          74.93,
          75.502,
          75.494,
          74.851,
          75.186,
          74.714,
          74.95,
          74.853,
          74.745,
          74.967,
          74.783,
          74.799,
          74.762,
          74.649,
          75.092,
          75.37,
          75.557,
          75.455,
          75.014,
          75.473,
          75.356,
          75.301,
          75.035,
          74.843,
          74.836,
          75.321,
          75.237,
          74.942,
          75.316,
          75.515,
          74.909,
          75.331,
          76.533,
          76.829
         ],
         "yaxis": "y"
        },
        {
         "hovertemplate": "driverName=Valtteri Bottas<br>lap=%{x}<br>lapSeconds=%{y}<extra></extra>",
         "legendgroup": "Valtteri Bottas",
         "line": {
          "color": "#EF553B",
          "dash": "solid"
         },
         "marker": {
          "symbol": "circle"
         },
         "mode": "lines",
         "name": "Valtteri Bottas",
         "showlegend": true,
         "type": "scattergl",
         "x": [
          1,
          2,
          3,
          4,
          5,
          6,
          7,
          8,
          9,
          10,
          11,
          12,
          13,
          14,
          15,
          16,
          17,
          18,
          19,
          20,
          21,
          22,
          23,
          24,
          25,
          26,
          27,
          28,
          29
         ],
         "xaxis": "x",
         "y": [
          83.015,
          77.613,
          77.329,
          77.154,
          77.236,
          76.863,
          77.082,
          76.751,
          76.961,
          77.012,
          76.575,
          76.54,
          76.04,
          76.028,
          75.974,
          76.275,
          75.914,
          75.706,
          75.908,
          76.335,
          76.6,
          76.471,
          76.641,
          77.198,
          76.543,
          76.687,
          76.247,
          76.034,
          76.265
         ],
         "yaxis": "y"
        },
        {
         "hovertemplate": "driverName=Carlos Sainz<br>lap=%{x}<br>lapSeconds=%{y}<extra></extra>",
         "legendgroup": "Carlos Sainz",
         "line": {
          "color": "#00cc96",
          "dash": "solid"
         },
         "marker": {
          "symbol": "circle"
         },
         "mode": "lines",
         "name": "Carlos Sainz",
         "showlegend": true,
         "type": "scattergl",
         "x": [
          1,
          2,
          3,
          4,
          5,
          6,
          7,
          8,
          9,
          10,
          11,
          12,
          13,
          14,
          15,
          16,
          17,
          18,
          19,
          20,
          21,
          22,
          23,
          24,
          25,
          26,
          27,
          28,
          29,
          30,
          31,
          32,
          33,
          34,
          35,
          36,
          37,
          38,
          39,
          40,
          41,
          42,
          43,
          44,
          45,
          46,
          47,
          48,
          49,
          50,
          51,
          52,
          53,
          54,
          55,
          56,
          57,
          58,
          59,
          60,
          61,
          62,
          63,
          64,
          65,
          66,
          67,
          68,
          69,
          70,
          71,
          72,
          73,
          74,
          75,
          76,
          77,
          78
         ],
         "xaxis": "x",
         "y": [
          84.727,
          77.929,
          77.32,
          78.028,
          77.304,
          76.988,
          76.736,
          76.687,
          76.672,
          76.747,
          76.748,
          76.445,
          76.524,
          75.926,
          76.08,
          75.917,
          76.021,
          75.957,
          75.766,
          75.925,
          76.236,
          76.158,
          76.751,
          77.06,
          76.693,
          76.889,
          76.237,
          76.153,
          76.22,
          76.707,
          76.485,
          93.98,
          79.941,
          74.699,
          74.621,
          75.288,
          75.163,
          75.158,
          75.122,
          76.364,
          75.565,
          75.588,
          75.329,
          75.056,
          74.808,
          75.203,
          75.626,
          74.874,
          74.731,
          75.049,
          75.052,
          74.859,
          74.792,
          74.76,
          74.646,
          74.914,
          75.051,
          75.347,
          75.32,
          75.706,
          76.343,
          75.592,
          76.394,
          75.751,
          75.455,
          75.561,
          75.356,
          75.397,
          75.261,
          75.364,
          75.269,
          74.877,
          75.141,
          75.76,
          75.53,
          75.605,
          76.139,
          76.345
         ],
         "yaxis": "y"
        },
        {
         "hovertemplate": "driverName=Lando Norris<br>lap=%{x}<br>lapSeconds=%{y}<extra></extra>",
         "legendgroup": "Lando Norris",
         "line": {
          "color": "#ab63fa",
          "dash": "solid"
         },
         "marker": {
          "symbol": "circle"
         },
         "mode": "lines",
         "name": "Lando Norris",
         "showlegend": true,
         "type": "scattergl",
         "x": [
          1,
          2,
          3,
          4,
          5,
          6,
          7,
          8,
          9,
          10,
          11,
          12,
          13,
          14,
          15,
          16,
          17,
          18,
          19,
          20,
          21,
          22,
          23,
          24,
          25,
          26,
          27,
          28,
          29,
          30,
          31,
          32,
          33,
          34,
          35,
          36,
          37,
          38,
          39,
          40,
          41,
          42,
          43,
          44,
          45,
          46,
          47,
          48,
          49,
          50,
          51,
          52,
          53,
          54,
          55,
          56,
          57,
          58,
          59,
          60,
          61,
          62,
          63,
          64,
          65,
          66,
          67,
          68,
          69,
          70,
          71,
          72,
          73,
          74,
          75,
          76,
          77,
          78
         ],
         "xaxis": "x",
         "y": [
          85.729,
          78.426,
          77.634,
          77.772,
          77.864,
          77.048,
          77.195,
          76.655,
          77.027,
          77.19,
          76.601,
          76.56,
          76.5,
          76.302,
          76.074,
          76.094,
          75.965,
          76.602,
          76.135,
          75.812,
          75.8,
          76.284,
          76.128,
          76.653,
          76.965,
          76.636,
          77.02,
          77.635,
          76.902,
          93.286,
          79.617,
          74.838,
          76.21,
          75.03,
          74.991,
          75.195,
          75.735,
          75.683,
          75.625,
          75.672,
          75.757,
          76.281,
          75.912,
          75.613,
          75.18,
          75.141,
          75.458,
          75.524,
          75.584,
          75.716,
          75.531,
          75.188,
          75.27,
          75.252,
          75.339,
          75.515,
          75.441,
          75.315,
          75.63,
          75.847,
          76.048,
          75.622,
          75.416,
          75.874,
          76.145,
          76.038,
          75.572,
          75.154,
          75.381,
          75.575,
          75.974,
          74.795,
          75.034,
          75.141,
          75.032,
          74.67,
          75.091,
          76.101
         ],
         "yaxis": "y"
        },
        {
         "hovertemplate": "driverName=Pierre Gasly<br>lap=%{x}<br>lapSeconds=%{y}<extra></extra>",
         "legendgroup": "Pierre Gasly",
         "line": {
          "color": "#FFA15A",
          "dash": "solid"
         },
         "marker": {
          "symbol": "circle"
         },
         "mode": "lines",
         "name": "Pierre Gasly",
         "showlegend": true,
         "type": "scattergl",
         "x": [
          1,
          2,
          3,
          4,
          5,
          6,
          7,
          8,
          9,
          10,
          11,
          12,
          13,
          14,
          15,
          16,
          17,
          18,
          19,
          20,
          21,
          22,
          23,
          24,
          25,
          26,
          27,
          28,
          29,
          30,
          31,
          32,
          33,
          34,
          35,
          36,
          37,
          38,
          39,
          40,
          41,
          42,
          43,
          44,
          45,
          46,
          47,
          48,
          49,
          50,
          51,
          52,
          53,
          54,
          55,
          56,
          57,
          58,
          59,
          60,
          61,
          62,
          63,
          64,
          65,
          66,
          67,
          68,
          69,
          70,
          71,
          72,
          73,
          74,
          75,
          76,
          77,
          78
         ],
         "xaxis": "x",
         "y": [
          86.902,
          78.737,
          77.821,
          78.06,
          77.909,
          77.393,
          77.204,
          76.838,
          77.055,
          77.182,
          76.798,
          76.414,
          76.897,
          76.331,
          76.128,
          76.138,
          76.058,
          76.151,
          77.309,
          76.087,
          75.925,
          76.055,
          76.355,
          76.06,
          77.135,
          76.576,
          77.134,
          76.701,
          76.723,
          93.589,
          81.727,
          78.95,
          76.459,
          76.292,
          75.894,
          76.031,
          76.467,
          76.874,
          76.708,
          76.226,
          76.713,
          76.205,
          76.757,
          76.104,
          76.357,
          76.318,
          76.32,
          76.358,
          75.906,
          75.809,
          76.128,
          76.122,
          76.126,
          76.603,
          76.398,
          76.316,
          75.732,
          75.896,
          75.921,
          75.861,
          75.657,
          75.458,
          75.687,
          75.845,
          75.882,
          75.761,
          75.646,
          76.034,
          75.514,
          75.611,
          75.412,
          75.646,
          75.974,
          75.888,
          75.763,
          75.691,
          75.884,
          76.12
         ],
         "yaxis": "y"
        },
        {
         "hovertemplate": "driverName=Lewis Hamilton<br>lap=%{x}<br>lapSeconds=%{y}<extra></extra>",
         "legendgroup": "Lewis Hamilton",
         "line": {
          "color": "#19d3f3",
          "dash": "solid"
         },
         "marker": {
          "symbol": "circle"
         },
         "mode": "lines",
         "name": "Lewis Hamilton",
         "showlegend": true,
         "type": "scattergl",
         "x": [
          1,
          2,
          3,
          4,
          5,
          6,
          7,
          8,
          9,
          10,
          11,
          12,
          13,
          14,
          15,
          16,
          17,
          18,
          19,
          20,
          21,
          22,
          23,
          24,
          25,
          26,
          27,
          28,
          29,
          30,
          31,
          32,
          33,
          34,
          35,
          36,
          37,
          38,
          39,
          40,
          41,
          42,
          43,
          44,
          45,
          46,
          47,
          48,
          49,
          50,
          51,
          52,
          53,
          54,
          55,
          56,
          57,
          58,
          59,
          60,
          61,
          62,
          63,
          64,
          65,
          66,
          67,
          68,
          69,
          70,
          71,
          72,
          73,
          74,
          75,
          76,
          77,
          78
         ],
         "xaxis": "x",
         "y": [
          87.982,
          78.742,
          78.24,
          77.936,
          78.221,
          77.448,
          77.205,
          77.009,
          76.779,
          76.869,
          76.698,
          76.667,
          77.07,
          76.555,
          76.262,
          76.152,
          76.033,
          75.854,
          76.485,
          76.8,
          76.395,
          76.017,
          76.096,
          76.343,
          76.636,
          76.497,
          76.622,
          77.044,
          93.051,
          78.739,
          79.326,
          78.966,
          77.702,
          76.42,
          75.929,
          76.036,
          76.621,
          76.209,
          76.392,
          76.542,
          76.349,
          76.964,
          77.853,
          76.793,
          75.903,
          75.72,
          75.277,
          76.717,
          76.328,
          76.216,
          76.266,
          76.129,
          75.641,
          75.894,
          75.953,
          76.148,
          76.877,
          76.241,
          76.006,
          76.013,
          75.858,
          75.926,
          75.404,
          76.498,
          75.684,
          75.261,
          91.81,
          77.137,
          72.909,
          73.382,
          74.433,
          75.081,
          75.08,
          75.323,
          76.795,
          74.539,
          76.05,
          78.003
         ],
         "yaxis": "y"
        },
        {
         "hovertemplate": "driverName=Sebastian Vettel<br>lap=%{x}<br>lapSeconds=%{y}<extra></extra>",
         "legendgroup": "Sebastian Vettel",
         "line": {
          "color": "#FF6692",
          "dash": "solid"
         },
         "marker": {
          "symbol": "circle"
         },
         "mode": "lines",
         "name": "Sebastian Vettel",
         "showlegend": true,
         "type": "scattergl",
         "x": [
          1,
          2,
          3,
          4,
          5,
          6,
          7,
          8,
          9,
          10,
          11,
          12,
          13,
          14,
          15,
          16,
          17,
          18,
          19,
          20,
          21,
          22,
          23,
          24,
          25,
          26,
          27,
          28,
          29,
          30,
          31,
          32,
          33,
          34,
          35,
          36,
          37,
          38,
          39,
          40,
          41,
          42,
          43,
          44,
          45,
          46,
          47,
          48,
          49,
          50,
          51,
          52,
          53,
          54,
          55,
          56,
          57,
          58,
          59,
          60,
          61,
          62,
          63,
          64,
          65,
          66,
          67,
          68,
          69,
          70,
          71,
          72,
          73,
          74,
          75,
          76,
          77,
          78
         ],
         "xaxis": "x",
         "y": [
          88.935,
          79.731,
          78.778,
          78.133,
          77.921,
          77.992,
          77.872,
          77.805,
          77.825,
          77.416,
          77.599,
          76.702,
          76.555,
          76.286,
          75.885,
          75.868,
          76.028,
          76.072,
          75.919,
          76.019,
          75.997,
          76.006,
          76.16,
          76.143,
          76.317,
          76.926,
          76.33,
          76.636,
          76.298,
          76.03,
          92.812,
          79.635,
          75.316,
          75.416,
          75.568,
          77.038,
          77.051,
          76.691,
          76.402,
          76.483,
          76.706,
          76.074,
          76.22,
          76.045,
          75.903,
          76.857,
          75.991,
          75.797,
          75.591,
          76.063,
          76.059,
          76.268,
          76.452,
          76.613,
          75.5,
          75.761,
          75.883,
          75.87,
          75.9,
          75.89,
          75.762,
          75.468,
          76.085,
          75.809,
          76.37,
          75.744,
          75.345,
          75.758,
          75.954,
          75.93,
          75.782,
          76.009,
          76.185,
          76.093,
          75.911,
          75.862,
          76.234,
          77.071
         ],
         "yaxis": "y"
        },
        {
         "hovertemplate": "driverName=Sergio Pérez<br>lap=%{x}<br>lapSeconds=%{y}<extra></extra>",
         "legendgroup": "Sergio Pérez",
         "line": {
          "color": "#B6E880",
          "dash": "solid"
         },
         "marker": {
          "symbol": "circle"
         },
         "mode": "lines",
         "name": "Sergio Pérez",
         "showlegend": true,
         "type": "scattergl",
         "x": [
          1,
          2,
          3,
          4,
          5,
          6,
          7,
          8,
          9,
          10,
          11,
          12,
          13,
          14,
          15,
          16,
          17,
          18,
          19,
          20,
          21,
          22,
          23,
          24,
          25,
          26,
          27,
          28,
          29,
          30,
          31,
          32,
          33,
          34,
          35,
          36,
          37,
          38,
          39,
          40,
          41,
          42,
          43,
          44,
          45,
          46,
          47,
          48,
          49,
          50,
          51,
          52,
          53,
          54,
          55,
          56,
          57,
          58,
          59,
          60,
          61,
          62,
          63,
          64,
          65,
          66,
          67,
          68,
          69,
          70,
          71,
          72,
          73,
          74,
          75,
          76,
          77,
          78
         ],
         "xaxis": "x",
         "y": [
          89.638,
          79.594,
          78.532,
          78.164,
          78.945,
          78.401,
          78.241,
          78.337,
          77.771,
          77.474,
          77.102,
          75.949,
          75.881,
          76.42,
          76.497,
          76.338,
          76.118,
          75.638,
          76.084,
          75.827,
          76.528,
          75.843,
          76.19,
          76.093,
          75.856,
          76.715,
          76.327,
          76.719,
          76.289,
          75.934,
          76.166,
          74.552,
          74.67,
          75.062,
          92.675,
          79.543,
          76.381,
          75.841,
          76.007,
          76.15,
          74.95,
          75.488,
          75.6,
          75.706,
          75.344,
          75.595,
          75.7,
          74.988,
          74.81,
          75.895,
          74.743,
          75.143,
          74.915,
          74.98,
          75.238,
          75.163,
          75.736,
          74.988,
          75.052,
          75.125,
          75.27,
          74.759,
          74.778,
          75.149,
          75.883,
          75.789,
          75.982,
          75.466,
          75.453,
          75.412,
          75.613,
          75.074,
          75.167,
          75.561,
          75.175,
          74.905,
          74.916,
          75.307
         ],
         "yaxis": "y"
        },
        {
         "hovertemplate": "driverName=Antonio Giovinazzi<br>lap=%{x}<br>lapSeconds=%{y}<extra></extra>",
         "legendgroup": "Antonio Giovinazzi",
         "line": {
          "color": "#FF97FF",
          "dash": "solid"
         },
         "marker": {
          "symbol": "circle"
         },
         "mode": "lines",
         "name": "Antonio Giovinazzi",
         "showlegend": true,
         "type": "scattergl",
         "x": [
          1,
          2,
          3,
          4,
          5,
          6,
          7,
          8,
          9,
          10,
          11,
          12,
          13,
          14,
          15,
          16,
          17,
          18,
          19,
          20,
          21,
          22,
          23,
          24,
          25,
          26,
          27,
          28,
          29,
          30,
          31,
          32,
          33,
          34,
          35,
          36,
          37,
          38,
          39,
          40,
          41,
          42,
          43,
          44,
          45,
          46,
          47,
          48,
          49,
          50,
          51,
          52,
          53,
          54,
          55,
          56,
          57,
          58,
          59,
          60,
          61,
          62,
          63,
          64,
          65,
          66,
          67,
          68,
          69,
          70,
          71,
          72,
          73,
          74,
          75,
          76,
          77
         ],
         "xaxis": "x",
         "y": [
          90.113,
          79.695,
          79.07,
          78.34,
          78.636,
          78.64,
          78.244,
          77.977,
          78.402,
          77.873,
          77.363,
          77.088,
          77.175,
          76.86,
          76.974,
          77.037,
          76.54,
          76.727,
          76.588,
          76.468,
          76.718,
          76.758,
          76.853,
          77.263,
          76.826,
          77.056,
          77.136,
          77.5,
          78.045,
          78.318,
          78.689,
          78.673,
          95.523,
          80.718,
          75.673,
          76.866,
          76.038,
          77.113,
          76.448,
          76.013,
          75.331,
          75.402,
          75.569,
          75.707,
          75.865,
          76.179,
          76.444,
          76.712,
          76.736,
          76.577,
          76.524,
          76.466,
          76.688,
          76.647,
          76.394,
          76.482,
          76.71,
          77.878,
          78.885,
          79.997,
          77.788,
          77.774,
          77.748,
          77.436,
          79.182,
          79.104,
          77.354,
          77.2,
          77.193,
          76.833,
          76.751,
          77.056,
          76.951,
          76.88,
          76.744,
          76.829,
          77.269
         ],
         "yaxis": "y"
        },
        {
         "hovertemplate": "driverName=Esteban Ocon<br>lap=%{x}<br>lapSeconds=%{y}<extra></extra>",
         "legendgroup": "Esteban Ocon",
         "line": {
          "color": "#FECB52",
          "dash": "solid"
         },
         "marker": {
          "symbol": "circle"
         },
         "mode": "lines",
         "name": "Esteban Ocon",
         "showlegend": true,
         "type": "scattergl",
         "x": [
          1,
          2,
          3,
          4,
          5,
          6,
          7,
          8,
          9,
          10,
          11,
          12,
          13,
          14,
          15,
          16,
          17,
          18,
          19,
          20,
          21,
          22,
          23,
          24,
          25,
          26,
          27,
          28,
          29,
          30,
          31,
          32,
          33,
          34,
          35,
          36,
          37,
          38,
          39,
          40,
          41,
          42,
          43,
          44,
          45,
          46,
          47,
          48,
          49,
          50,
          51,
          52,
          53,
          54,
          55,
          56,
          57,
          58,
          59,
          60,
          61,
          62,
          63,
          64,
          65,
          66,
          67,
          68,
          69,
          70,
          71,
          72,
          73,
          74,
          75,
          76,
          77
         ],
         "xaxis": "x",
         "y": [
          90.963,
          80.154,
          79.421,
          78.494,
          78.546,
          78.526,
          78.572,
          77.967,
          78.38,
          78.298,
          77.77,
          77.677,
          77.253,
          76.82,
          76.81,
          76.876,
          76.572,
          76.416,
          76.754,
          76.598,
          76.543,
          76.67,
          76.656,
          77.295,
          77.343,
          76.519,
          76.85,
          77.158,
          77.515,
          78.393,
          78.301,
          78.797,
          78.032,
          76.427,
          76.052,
          76.154,
          92.516,
          80.372,
          76.171,
          75.55,
          75.316,
          75.459,
          75.823,
          75.858,
          76.012,
          76.026,
          76.782,
          76.975,
          76.749,
          76.521,
          76.43,
          76.675,
          76.689,
          76.447,
          76.466,
          76.438,
          76.712,
          76.988,
          79.864,
          80.445,
          77.675,
          77.694,
          77.764,
          77.485,
          77.557,
          80.526,
          77.478,
          77.311,
          76.944,
          76.935,
          76.774,
          76.994,
          76.936,
          76.846,
          76.895,
          76.655,
          77.581
         ],
         "yaxis": "y"
        },
        {
         "hovertemplate": "driverName=Lance Stroll<br>lap=%{x}<br>lapSeconds=%{y}<extra></extra>",
         "legendgroup": "Lance Stroll",
         "line": {
          "color": "#636efa",
          "dash": "solid"
         },
         "marker": {
          "symbol": "circle"
         },
         "mode": "lines",
         "name": "Lance Stroll",
         "showlegend": true,
         "type": "scattergl",
         "x": [
          1,
          2,
          3,
          4,
          5,
          6,
          7,
          8,
          9,
          10,
          11,
          12,
          13,
          14,
          15,
          16,
          17,
          18,
          19,
          20,
          21,
          22,
          23,
          24,
          25,
          26,
          27,
          28,
          29,
          30,
          31,
          32,
          33,
          34,
          35,
          36,
          37,
          38,
          39,
          40,
          41,
          42,
          43,
          44,
          45,
          46,
          47,
          48,
          49,
          50,
          51,
          52,
          53,
          54,
          55,
          56,
          57,
          58,
          59,
          60,
          61,
          62,
          63,
          64,
          65,
          66,
          67,
          68,
          69,
          70,
          71,
          72,
          73,
          74,
          75,
          76,
          77
         ],
         "xaxis": "x",
         "y": [
          91.448,
          80.334,
          79.437,
          78.644,
          78.626,
          78.497,
          78.748,
          78.398,
          78.477,
          78.226,
          77.902,
          77.682,
          77.3,
          76.833,
          76.843,
          76.518,
          77.166,
          77.596,
          77.613,
          77.259,
          76.994,
          76.731,
          76.63,
          76.671,
          76.671,
          76.452,
          76.546,
          76.383,
          76.538,
          78.563,
          77.278,
          78.417,
          78.351,
          77.081,
          76.69,
          76.429,
          76.252,
          76.159,
          75.811,
          75.756,
          75.695,
          76.089,
          75.983,
          76.58,
          77.562,
          75.828,
          75.92,
          76.523,
          75.989,
          75.871,
          76.024,
          76.156,
          75.595,
          75.783,
          75.806,
          75.768,
          76.725,
          92.618,
          78.442,
          77.151,
          76.586,
          75.878,
          75.508,
          75.183,
          78.419,
          76.087,
          75.373,
          75.507,
          75.862,
          75.85,
          75.604,
          75.294,
          75.565,
          74.674,
          75.67,
          76.392,
          76.487
         ],
         "yaxis": "y"
        },
        {
         "hovertemplate": "driverName=Kimi Räikkönen<br>lap=%{x}<br>lapSeconds=%{y}<extra></extra>",
         "legendgroup": "Kimi Räikkönen",
         "line": {
          "color": "#EF553B",
          "dash": "solid"
         },
         "marker": {
          "symbol": "circle"
         },
         "mode": "lines",
         "name": "Kimi Räikkönen",
         "showlegend": true,
         "type": "scattergl",
         "x": [
          1,
          2,
          3,
          4,
          5,
          6,
          7,
          8,
          9,
          10,
          11,
          12,
          13,
          14,
          15,
          16,
          17,
          18,
          19,
          20,
          21,
          22,
          23,
          24,
          25,
          26,
          27,
          28,
          29,
          30,
          31,
          32,
          33,
          34,
          35,
          36,
          37,
          38,
          39,
          40,
          41,
          42,
          43,
          44,
          45,
          46,
          47,
          48,
          49,
          50,
          51,
          52,
          53,
          54,
          55,
          56,
          57,
          58,
          59,
          60,
          61,
          62,
          63,
          64,
          65,
          66,
          67,
          68,
          69,
          70,
          71,
          72,
          73,
          74,
          75,
          76,
          77
         ],
         "xaxis": "x",
         "y": [
          93.051,
          80.858,
          79.846,
          79.102,
          78.913,
          78.511,
          78.927,
          78.716,
          78.49,
          78.262,
          78.193,
          78.31,
          77.445,
          77.969,
          77.629,
          77.283,
          77.064,
          77.241,
          77.221,
          77.055,
          77.581,
          77.306,
          77.39,
          76.708,
          77.425,
          77.073,
          76.902,
          77.098,
          77.067,
          77.806,
          77.262,
          76.621,
          76.54,
          77.282,
          78.335,
          77.663,
          76.386,
          76.951,
          76.565,
          76.815,
          76.901,
          76.45,
          93.514,
          81.46,
          77.657,
          81.927,
          76.697,
          76.045,
          76.304,
          76.036,
          76.163,
          75.411,
          75.025,
          75.165,
          74.971,
          75.288,
          75.588,
          75.13,
          75.311,
          75.479,
          75.691,
          75.922,
          76.95,
          80.815,
          76.494,
          78.29,
          77.937,
          77.236,
          77.242,
          76.919,
          76.521,
          76.897,
          77.112,
          77.51,
          76.273,
          76.617,
          76.864
         ],
         "yaxis": "y"
        },
        {
         "hovertemplate": "driverName=Daniel Ricciardo<br>lap=%{x}<br>lapSeconds=%{y}<extra></extra>",
         "legendgroup": "Daniel Ricciardo",
         "line": {
          "color": "#00cc96",
          "dash": "solid"
         },
         "marker": {
          "symbol": "circle"
         },
         "mode": "lines",
         "name": "Daniel Ricciardo",
         "showlegend": true,
         "type": "scattergl",
         "x": [
          1,
          2,
          3,
          4,
          5,
          6,
          7,
          8,
          9,
          10,
          11,
          12,
          13,
          14,
          15,
          16,
          17,
          18,
          19,
          20,
          21,
          22,
          23,
          24,
          25,
          26,
          27,
          28,
          29,
          30,
          31,
          32,
          33,
          34,
          35,
          36,
          37,
          38,
          39,
          40,
          41,
          42,
          43,
          44,
          45,
          46,
          47,
          48,
          49,
          50,
          51,
          52,
          53,
          54,
          55,
          56,
          57,
          58,
          59,
          60,
          61,
          62,
          63,
          64,
          65,
          66,
          67,
          68,
          69,
          70,
          71,
          72,
          73,
          74,
          75,
          76,
          77
         ],
         "xaxis": "x",
         "y": [
          93.662,
          81.326,
          79.874,
          79.801,
          79.588,
          79.103,
          78.304,
          78.441,
          78.385,
          78.886,
          78.625,
          77.959,
          77.624,
          77.387,
          77.227,
          77.614,
          77.049,
          77.092,
          77.204,
          77.704,
          77.945,
          77.708,
          77.669,
          77.26,
          77.125,
          77.165,
          77.436,
          77.46,
          77.202,
          76.99,
          77.699,
          77.468,
          77.638,
          77.9,
          78.265,
          95.412,
          81.447,
          76.217,
          75.205,
          75.457,
          74.856,
          75.164,
          74.578,
          77.703,
          77.707,
          82.04,
          77.23,
          76.179,
          76.284,
          76.156,
          78.131,
          75.382,
          75.386,
          75.976,
          75.298,
          75.518,
          75.268,
          75.308,
          75.633,
          76.352,
          78.843,
          75.432,
          75.246,
          75.799,
          76.018,
          77.475,
          77.762,
          77.286,
          77.332,
          77.17,
          76.952,
          76.364,
          76.987,
          77.271,
          77.126,
          76.732,
          77.357
         ],
         "yaxis": "y"
        },
        {
         "hovertemplate": "driverName=Fernando Alonso<br>lap=%{x}<br>lapSeconds=%{y}<extra></extra>",
         "legendgroup": "Fernando Alonso",
         "line": {
          "color": "#ab63fa",
          "dash": "solid"
         },
         "marker": {
          "symbol": "circle"
         },
         "mode": "lines",
         "name": "Fernando Alonso",
         "showlegend": true,
         "type": "scattergl",
         "x": [
          1,
          2,
          3,
          4,
          5,
          6,
          7,
          8,
          9,
          10,
          11,
          12,
          13,
          14,
          15,
          16,
          17,
          18,
          19,
          20,
          21,
          22,
          23,
          24,
          25,
          26,
          27,
          28,
          29,
          30,
          31,
          32,
          33,
          34,
          35,
          36,
          37,
          38,
          39,
          40,
          41,
          42,
          43,
          44,
          45,
          46,
          47,
          48,
          49,
          50,
          51,
          52,
          53,
          54,
          55,
          56,
          57,
          58,
          59,
          60,
          61,
          62,
          63,
          64,
          65,
          66,
          67,
          68,
          69,
          70,
          71,
          72,
          73,
          74,
          75,
          76,
          77
         ],
         "xaxis": "x",
         "y": [
          94.069,
          81.498,
          80.548,
          80.121,
          79.757,
          78.825,
          78.738,
          78.254,
          78.904,
          78.147,
          78.778,
          78.414,
          77.807,
          77.529,
          77.803,
          77.84,
          77.414,
          77.636,
          77.81,
          77.648,
          77.823,
          77.805,
          77.864,
          77.891,
          77.244,
          77.808,
          77.414,
          77.189,
          76.897,
          77.425,
          77.473,
          77.985,
          77.09,
          78.695,
          77.241,
          77.288,
          77.172,
          77.286,
          77.102,
          77.263,
          77.267,
          77.446,
          77.602,
          78.384,
          94.415,
          80.632,
          75.12,
          80.318,
          76.757,
          76.997,
          76.727,
          76.309,
          76.557,
          75.783,
          75.954,
          75.982,
          76.071,
          76.028,
          75.89,
          75.909,
          76.007,
          75.461,
          75.868,
          76.157,
          75.536,
          76.195,
          75.318,
          75.213,
          75.667,
          75.026,
          75.226,
          75.422,
          76.111,
          76.095,
          76.601,
          76.696,
          77.07
         ],
         "yaxis": "y"
        },
        {
         "hovertemplate": "driverName=George Russell<br>lap=%{x}<br>lapSeconds=%{y}<extra></extra>",
         "legendgroup": "George Russell",
         "line": {
          "color": "#FFA15A",
          "dash": "solid"
         },
         "marker": {
          "symbol": "circle"
         },
         "mode": "lines",
         "name": "George Russell",
         "showlegend": true,
         "type": "scattergl",
         "x": [
          1,
          2,
          3,
          4,
          5,
          6,
          7,
          8,
          9,
          10,
          11,
          12,
          13,
          14,
          15,
          16,
          17,
          18,
          19,
          20,
          21,
          22,
          23,
          24,
          25,
          26,
          27,
          28,
          29,
          30,
          31,
          32,
          33,
          34,
          35,
          36,
          37,
          38,
          39,
          40,
          41,
          42,
          43,
          44,
          45,
          46,
          47,
          48,
          49,
          50,
          51,
          52,
          53,
          54,
          55,
          56,
          57,
          58,
          59,
          60,
          61,
          62,
          63,
          64,
          65,
          66,
          67,
          68,
          69,
          70,
          71,
          72,
          73,
          74,
          75,
          76,
          77
         ],
         "xaxis": "x",
         "y": [
          94.901,
          81.405,
          80.458,
          80.091,
          79.608,
          79.391,
          78.73,
          78.627,
          78.977,
          78.523,
          78.339,
          78.469,
          78.641,
          78.211,
          78.54,
          78.444,
          78.435,
          78.162,
          78.101,
          78.238,
          78.06,
          78.111,
          78.206,
          77.866,
          78.106,
          78.189,
          78.226,
          78.581,
          81.174,
          78.97,
          95.152,
          82.576,
          79.074,
          76.392,
          75.826,
          75.802,
          75.895,
          75.951,
          76.636,
          75.667,
          75.618,
          76.346,
          78.893,
          77.165,
          76.812,
          76.131,
          76.185,
          76.379,
          76.446,
          76.659,
          77.078,
          76.879,
          79.146,
          77.259,
          76.727,
          83.427,
          77.148,
          75.964,
          75.539,
          75.929,
          75.759,
          75.695,
          75.705,
          75.935,
          76.012,
          75.855,
          75.861,
          76.132,
          76.27,
          76.158,
          75.979,
          76.342,
          78.826,
          77.303,
          77.063,
          76.585,
          76.66
         ],
         "yaxis": "y"
        },
        {
         "hovertemplate": "driverName=Nicholas Latifi<br>lap=%{x}<br>lapSeconds=%{y}<extra></extra>",
         "legendgroup": "Nicholas Latifi",
         "line": {
          "color": "#19d3f3",
          "dash": "solid"
         },
         "marker": {
          "symbol": "circle"
         },
         "mode": "lines",
         "name": "Nicholas Latifi",
         "showlegend": true,
         "type": "scattergl",
         "x": [
          1,
          2,
          3,
          4,
          5,
          6,
          7,
          8,
          9,
          10,
          11,
          12,
          13,
          14,
          15,
          16,
          17,
          18,
          19,
          20,
          21,
          22,
          23,
          24,
          25,
          26,
          27,
          28,
          29,
          30,
          31,
          32,
          33,
          34,
          35,
          36,
          37,
          38,
          39,
          40,
          41,
          42,
          43,
          44,
          45,
          46,
          47,
          48,
          49,
          50,
          51,
          52,
          53,
          54,
          55,
          56,
          57,
          58,
          59,
          60,
          61,
          62,
          63,
          64,
          65,
          66,
          67,
          68,
          69,
          70,
          71,
          72,
          73,
          74,
          75,
          76,
          77
         ],
         "xaxis": "x",
         "y": [
          96.04,
          81.526,
          80.126,
          80.175,
          79.516,
          79.611,
          78.95,
          78.494,
          78.804,
          78.717,
          78.558,
          78.874,
          78.998,
          77.617,
          78.328,
          78.433,
          78.46,
          78.299,
          77.966,
          78.132,
          78.305,
          78.373,
          78.035,
          78.051,
          78.14,
          78.014,
          77.989,
          78.447,
          80.75,
          79.026,
          80.096,
          77.363,
          76.967,
          76.8,
          76.692,
          77.15,
          77.912,
          77.978,
          79.567,
          79.063,
          77.323,
          79.846,
          94.2,
          81.902,
          76.122,
          75.889,
          76.286,
          76.007,
          76.355,
          75.942,
          75.867,
          76.08,
          76.146,
          76.009,
          75.703,
          77.179,
          76.863,
          76.441,
          76.039,
          76.058,
          75.82,
          75.652,
          75.921,
          75.968,
          76.173,
          75.573,
          75.984,
          76.006,
          76.048,
          75.961,
          76.211,
          78.702,
          76.068,
          76.758,
          76.815,
          76.698,
          76.748
         ],
         "yaxis": "y"
        },
        {
         "hovertemplate": "driverName=Yuki Tsunoda<br>lap=%{x}<br>lapSeconds=%{y}<extra></extra>",
         "legendgroup": "Yuki Tsunoda",
         "line": {
          "color": "#FF6692",
          "dash": "solid"
         },
         "marker": {
          "symbol": "circle"
         },
         "mode": "lines",
         "name": "Yuki Tsunoda",
         "showlegend": true,
         "type": "scattergl",
         "x": [
          1,
          2,
          3,
          4,
          5,
          6,
          7,
          8,
          9,
          10,
          11,
          12,
          13,
          14,
          15,
          16,
          17,
          18,
          19,
          20,
          21,
          22,
          23,
          24,
          25,
          26,
          27,
          28,
          29,
          30,
          31,
          32,
          33,
          34,
          35,
          36,
          37,
          38,
          39,
          40,
          41,
          42,
          43,
          44,
          45,
          46,
          47,
          48,
          49,
          50,
          51,
          52,
          53,
          54,
          55,
          56,
          57,
          58,
          59,
          60,
          61,
          62,
          63,
          64,
          65,
          66,
          67,
          68,
          69,
          70,
          71,
          72,
          73,
          74,
          75,
          76,
          77
         ],
         "xaxis": "x",
         "y": [
          96.731,
          81.852,
          79.829,
          80.526,
          79.373,
          79.498,
          79.193,
          78.427,
          78.59,
          79.119,
          78.483,
          78.848,
          78.49,
          78.42,
          77.681,
          78.444,
          78.49,
          78.829,
          78.093,
          77.842,
          78.325,
          78.374,
          78.08,
          77.989,
          77.867,
          78.251,
          78.051,
          80.396,
          78.141,
          80.625,
          78.626,
          77.754,
          77.034,
          77.043,
          76.742,
          76.82,
          77.503,
          80.113,
          79.247,
          77.312,
          79.522,
          77.556,
          77.717,
          75.88,
          75.635,
          77.634,
          77.469,
          76.913,
          76.88,
          77.24,
          76.702,
          76.589,
          76.319,
          76.334,
          75.983,
          75.919,
          76.108,
          75.975,
          75.777,
          75.852,
          76.161,
          76.18,
          75.805,
          94.429,
          78.804,
          74.037,
          74.077,
          75.671,
          76.035,
          76.821,
          77.195,
          76.787,
          76.159,
          77.043,
          76.538,
          76.575,
          77.092
         ],
         "yaxis": "y"
        },
        {
         "hovertemplate": "driverName=Mick Schumacher<br>lap=%{x}<br>lapSeconds=%{y}<extra></extra>",
         "legendgroup": "Mick Schumacher",
         "line": {
          "color": "#B6E880",
          "dash": "solid"
         },
         "marker": {
          "symbol": "circle"
         },
         "mode": "lines",
         "name": "Mick Schumacher",
         "showlegend": true,
         "type": "scattergl",
         "x": [
          1,
          2,
          3,
          4,
          5,
          6,
          7,
          8,
          9,
          10,
          11,
          12,
          13,
          14,
          15,
          16,
          17,
          18,
          19,
          20,
          21,
          22,
          23,
          24,
          25,
          26,
          27,
          28,
          29,
          30,
          31,
          32,
          33,
          34,
          35,
          36,
          37,
          38,
          39,
          40,
          41,
          42,
          43,
          44,
          45,
          46,
          47,
          48,
          49,
          50,
          51,
          52,
          53,
          54,
          55,
          56,
          57,
          58,
          59,
          60,
          61,
          62,
          63,
          64,
          65,
          66,
          67,
          68,
          69,
          70,
          71,
          72,
          73,
          74,
          75
         ],
         "xaxis": "x",
         "y": [
          97.443,
          82.045,
          80.586,
          79.93,
          79.362,
          79.782,
          79.247,
          79.041,
          79.004,
          78.672,
          78.575,
          78.674,
          78.992,
          78.579,
          78.294,
          78.751,
          78.58,
          78.621,
          78.909,
          78.533,
          78.533,
          78.759,
          78.495,
          80.781,
          82.457,
          83.437,
          89.167,
          87.965,
          91.596,
          83.951,
          86.779,
          80.091,
          77.77,
          77.438,
          79.106,
          78.665,
          95.956,
          86.398,
          84.818,
          81.03,
          77.591,
          76.814,
          77.825,
          77.867,
          77.852,
          77.289,
          77.434,
          77.682,
          76.94,
          76.52,
          76.425,
          76.805,
          76.767,
          76.564,
          76.624,
          77.182,
          77.915,
          79.485,
          77.713,
          79.102,
          78.282,
          77.745,
          77.133,
          77.375,
          77.779,
          81.412,
          77.582,
          76.719,
          76.763,
          76.847,
          76.778,
          76.837,
          77.064,
          77.162,
          77.633
         ],
         "yaxis": "y"
        },
        {
         "hovertemplate": "driverName=Nikita Mazepin<br>lap=%{x}<br>lapSeconds=%{y}<extra></extra>",
         "legendgroup": "Nikita Mazepin",
         "line": {
          "color": "#FF97FF",
          "dash": "solid"
         },
         "marker": {
          "symbol": "circle"
         },
         "mode": "lines",
         "name": "Nikita Mazepin",
         "showlegend": true,
         "type": "scattergl",
         "x": [
          1,
          2,
          3,
          4,
          5,
          6,
          7,
          8,
          9,
          10,
          11,
          12,
          13,
          14,
          15,
          16,
          17,
          18,
          19,
          20,
          21,
          22,
          23,
          24,
          25,
          26,
          27,
          28,
          29,
          30,
          31,
          32,
          33,
          34,
          35,
          36,
          37,
          38,
          39,
          40,
          41,
          42,
          43,
          44,
          45,
          46,
          47,
          48,
          49,
          50,
          51,
          52,
          53,
          54,
          55,
          56,
          57,
          58,
          59,
          60,
          61,
          62,
          63,
          64,
          65,
          66,
          67,
          68,
          69,
          70,
          71,
          72,
          73,
          74,
          75
         ],
         "xaxis": "x",
         "y": [
          98.076,
          81.965,
          80.73,
          79.805,
          79.598,
          79.839,
          79.535,
          79.281,
          78.932,
          78.872,
          79.018,
          78.904,
          79.287,
          79.422,
          78.949,
          78.804,
          79.249,
          79.163,
          78.674,
          78.862,
          79.11,
          80.825,
          82.077,
          84.946,
          82.756,
          79.064,
          78.695,
          79.503,
          79.289,
          82.719,
          83.783,
          79.23,
          79.038,
          96.881,
          82.27,
          78.661,
          77.773,
          77.976,
          81.209,
          80.12,
          80.018,
          80.555,
          82.757,
          81.445,
          83.941,
          82.519,
          77.651,
          77.407,
          77.221,
          76.917,
          76.883,
          76.919,
          76.901,
          76.899,
          77.089,
          77.638,
          77.517,
          77.89,
          81.993,
          77.499,
          79.733,
          77.422,
          76.868,
          76.866,
          77.046,
          77.107,
          77.105,
          80.632,
          77.133,
          77.303,
          77.632,
          77.276,
          77.252,
          77.786,
          77.153
         ],
         "yaxis": "y"
        }
       ],
       "layout": {
        "legend": {
         "title": {
          "text": "driverName"
         },
         "tracegroupgap": 0
        },
        "margin": {
         "t": 60
        },
        "template": {
         "data": {
          "bar": [
           {
            "error_x": {
             "color": "#2a3f5f"
            },
            "error_y": {
             "color": "#2a3f5f"
            },
            "marker": {
             "line": {
              "color": "#E5ECF6",
              "width": 0.5
             },
             "pattern": {
              "fillmode": "overlay",
              "size": 10,
              "solidity": 0.2
             }
            },
            "type": "bar"
           }
          ],
          "barpolar": [
           {
            "marker": {
             "line": {
              "color": "#E5ECF6",
              "width": 0.5
             },
             "pattern": {
              "fillmode": "overlay",
              "size": 10,
              "solidity": 0.2
             }
            },
            "type": "barpolar"
           }
          ],
          "carpet": [
           {
            "aaxis": {
             "endlinecolor": "#2a3f5f",
             "gridcolor": "white",
             "linecolor": "white",
             "minorgridcolor": "white",
             "startlinecolor": "#2a3f5f"
            },
            "baxis": {
             "endlinecolor": "#2a3f5f",
             "gridcolor": "white",
             "linecolor": "white",
             "minorgridcolor": "white",
             "startlinecolor": "#2a3f5f"
            },
            "type": "carpet"
           }
          ],
          "choropleth": [
           {
            "colorbar": {
             "outlinewidth": 0,
             "ticks": ""
            },
            "type": "choropleth"
           }
          ],
          "contour": [
           {
            "colorbar": {
             "outlinewidth": 0,
             "ticks": ""
            },
            "colorscale": [
             [
              0,
              "#0d0887"
             ],
             [
              0.1111111111111111,
              "#46039f"
             ],
             [
              0.2222222222222222,
              "#7201a8"
             ],
             [
              0.3333333333333333,
              "#9c179e"
             ],
             [
              0.4444444444444444,
              "#bd3786"
             ],
             [
              0.5555555555555556,
              "#d8576b"
             ],
             [
              0.6666666666666666,
              "#ed7953"
             ],
             [
              0.7777777777777778,
              "#fb9f3a"
             ],
             [
              0.8888888888888888,
              "#fdca26"
             ],
             [
              1,
              "#f0f921"
             ]
            ],
            "type": "contour"
           }
          ],
          "contourcarpet": [
           {
            "colorbar": {
             "outlinewidth": 0,
             "ticks": ""
            },
            "type": "contourcarpet"
           }
          ],
          "heatmap": [
           {
            "colorbar": {
             "outlinewidth": 0,
             "ticks": ""
            },
            "colorscale": [
             [
              0,
              "#0d0887"
             ],
             [
              0.1111111111111111,
              "#46039f"
             ],
             [
              0.2222222222222222,
              "#7201a8"
             ],
             [
              0.3333333333333333,
              "#9c179e"
             ],
             [
              0.4444444444444444,
              "#bd3786"
             ],
             [
              0.5555555555555556,
              "#d8576b"
             ],
             [
              0.6666666666666666,
              "#ed7953"
             ],
             [
              0.7777777777777778,
              "#fb9f3a"
             ],
             [
              0.8888888888888888,
              "#fdca26"
             ],
             [
              1,
              "#f0f921"
             ]
            ],
            "type": "heatmap"
           }
          ],
          "heatmapgl": [
           {
            "colorbar": {
             "outlinewidth": 0,
             "ticks": ""
            },
            "colorscale": [
             [
              0,
              "#0d0887"
             ],
             [
              0.1111111111111111,
              "#46039f"
             ],
             [
              0.2222222222222222,
              "#7201a8"
             ],
             [
              0.3333333333333333,
              "#9c179e"
             ],
             [
              0.4444444444444444,
              "#bd3786"
             ],
             [
              0.5555555555555556,
              "#d8576b"
             ],
             [
              0.6666666666666666,
              "#ed7953"
             ],
             [
              0.7777777777777778,
              "#fb9f3a"
             ],
             [
              0.8888888888888888,
              "#fdca26"
             ],
             [
              1,
              "#f0f921"
             ]
            ],
            "type": "heatmapgl"
           }
          ],
          "histogram": [
           {
            "marker": {
             "pattern": {
              "fillmode": "overlay",
              "size": 10,
              "solidity": 0.2
             }
            },
            "type": "histogram"
           }
          ],
          "histogram2d": [
           {
            "colorbar": {
             "outlinewidth": 0,
             "ticks": ""
            },
            "colorscale": [
             [
              0,
              "#0d0887"
             ],
             [
              0.1111111111111111,
              "#46039f"
             ],
             [
              0.2222222222222222,
              "#7201a8"
             ],
             [
              0.3333333333333333,
              "#9c179e"
             ],
             [
              0.4444444444444444,
              "#bd3786"
             ],
             [
              0.5555555555555556,
              "#d8576b"
             ],
             [
              0.6666666666666666,
              "#ed7953"
             ],
             [
              0.7777777777777778,
              "#fb9f3a"
             ],
             [
              0.8888888888888888,
              "#fdca26"
             ],
             [
              1,
              "#f0f921"
             ]
            ],
            "type": "histogram2d"
           }
          ],
          "histogram2dcontour": [
           {
            "colorbar": {
             "outlinewidth": 0,
             "ticks": ""
            },
            "colorscale": [
             [
              0,
              "#0d0887"
             ],
             [
              0.1111111111111111,
              "#46039f"
             ],
             [
              0.2222222222222222,
              "#7201a8"
             ],
             [
              0.3333333333333333,
              "#9c179e"
             ],
             [
              0.4444444444444444,
              "#bd3786"
             ],
             [
              0.5555555555555556,
              "#d8576b"
             ],
             [
              0.6666666666666666,
              "#ed7953"
             ],
             [
              0.7777777777777778,
              "#fb9f3a"
             ],
             [
              0.8888888888888888,
              "#fdca26"
             ],
             [
              1,
              "#f0f921"
             ]
            ],
            "type": "histogram2dcontour"
           }
          ],
          "mesh3d": [
           {
            "colorbar": {
             "outlinewidth": 0,
             "ticks": ""
            },
            "type": "mesh3d"
           }
          ],
          "parcoords": [
           {
            "line": {
             "colorbar": {
              "outlinewidth": 0,
              "ticks": ""
             }
            },
            "type": "parcoords"
           }
          ],
          "pie": [
           {
            "automargin": true,
            "type": "pie"
           }
          ],
          "scatter": [
           {
            "fillpattern": {
             "fillmode": "overlay",
             "size": 10,
             "solidity": 0.2
            },
            "type": "scatter"
           }
          ],
          "scatter3d": [
           {
            "line": {
             "colorbar": {
              "outlinewidth": 0,
              "ticks": ""
             }
            },
            "marker": {
             "colorbar": {
              "outlinewidth": 0,
              "ticks": ""
             }
            },
            "type": "scatter3d"
           }
          ],
          "scattercarpet": [
           {
            "marker": {
             "colorbar": {
              "outlinewidth": 0,
              "ticks": ""
             }
            },
            "type": "scattercarpet"
           }
          ],
          "scattergeo": [
           {
            "marker": {
             "colorbar": {
              "outlinewidth": 0,
              "ticks": ""
             }
            },
            "type": "scattergeo"
           }
          ],
          "scattergl": [
           {
            "marker": {
             "colorbar": {
              "outlinewidth": 0,
              "ticks": ""
             }
            },
            "type": "scattergl"
           }
          ],
          "scattermapbox": [
           {
            "marker": {
             "colorbar": {
              "outlinewidth": 0,
              "ticks": ""
             }
            },
            "type": "scattermapbox"
           }
          ],
          "scatterpolar": [
           {
            "marker": {
             "colorbar": {
              "outlinewidth": 0,
              "ticks": ""
             }
            },
            "type": "scatterpolar"
           }
          ],
          "scatterpolargl": [
           {
            "marker": {
             "colorbar": {
              "outlinewidth": 0,
              "ticks": ""
             }
            },
            "type": "scatterpolargl"
           }
          ],
          "scatterternary": [
           {
            "marker": {
             "colorbar": {
              "outlinewidth": 0,
              "ticks": ""
             }
            },
            "type": "scatterternary"
           }
          ],
          "surface": [
           {
            "colorbar": {
             "outlinewidth": 0,
             "ticks": ""
            },
            "colorscale": [
             [
              0,
              "#0d0887"
             ],
             [
              0.1111111111111111,
              "#46039f"
             ],
             [
              0.2222222222222222,
              "#7201a8"
             ],
             [
              0.3333333333333333,
              "#9c179e"
             ],
             [
              0.4444444444444444,
              "#bd3786"
             ],
             [
              0.5555555555555556,
              "#d8576b"
             ],
             [
              0.6666666666666666,
              "#ed7953"
             ],
             [
              0.7777777777777778,
              "#fb9f3a"
             ],
             [
              0.8888888888888888,
              "#fdca26"
             ],
             [
              1,
              "#f0f921"
             ]
            ],
            "type": "surface"
           }
          ],
          "table": [
           {
            "cells": {
             "fill": {
              "color": "#EBF0F8"
             },
             "line": {
              "color": "white"
             }
            },
            "header": {
             "fill": {
              "color": "#C8D4E3"
             },
             "line": {
              "color": "white"
             }
            },
            "type": "table"
           }
          ]
         },
         "layout": {
          "annotationdefaults": {
           "arrowcolor": "#2a3f5f",
           "arrowhead": 0,
           "arrowwidth": 1
          },
          "autotypenumbers": "strict",
          "coloraxis": {
           "colorbar": {
            "outlinewidth": 0,
            "ticks": ""
           }
          },
          "colorscale": {
           "diverging": [
            [
             0,
             "#8e0152"
            ],
            [
             0.1,
             "#c51b7d"
            ],
            [
             0.2,
             "#de77ae"
            ],
            [
             0.3,
             "#f1b6da"
            ],
            [
             0.4,
             "#fde0ef"
            ],
            [
             0.5,
             "#f7f7f7"
            ],
            [
             0.6,
             "#e6f5d0"
            ],
            [
             0.7,
             "#b8e186"
            ],
            [
             0.8,
             "#7fbc41"
            ],
            [
             0.9,
             "#4d9221"
            ],
            [
             1,
             "#276419"
            ]
           ],
           "sequential": [
            [
             0,
             "#0d0887"
            ],
            [
             0.1111111111111111,
             "#46039f"
            ],
            [
             0.2222222222222222,
             "#7201a8"
            ],
            [
             0.3333333333333333,
             "#9c179e"
            ],
            [
             0.4444444444444444,
             "#bd3786"
            ],
            [
             0.5555555555555556,
             "#d8576b"
            ],
            [
             0.6666666666666666,
             "#ed7953"
            ],
            [
             0.7777777777777778,
             "#fb9f3a"
            ],
            [
             0.8888888888888888,
             "#fdca26"
            ],
            [
             1,
             "#f0f921"
            ]
           ],
           "sequentialminus": [
            [
             0,
             "#0d0887"
            ],
            [
             0.1111111111111111,
             "#46039f"
            ],
            [
             0.2222222222222222,
             "#7201a8"
            ],
            [
             0.3333333333333333,
             "#9c179e"
            ],
            [
             0.4444444444444444,
             "#bd3786"
            ],
            [
             0.5555555555555556,
             "#d8576b"
            ],
            [
             0.6666666666666666,
             "#ed7953"
            ],
            [
             0.7777777777777778,
             "#fb9f3a"
            ],
            [
             0.8888888888888888,
             "#fdca26"
            ],
            [
             1,
             "#f0f921"
            ]
           ]
          },
          "colorway": [
           "#636efa",
           "#EF553B",
           "#00cc96",
           "#ab63fa",
           "#FFA15A",
           "#19d3f3",
           "#FF6692",
           "#B6E880",
           "#FF97FF",
           "#FECB52"
          ],
          "font": {
           "color": "#2a3f5f"
          },
          "geo": {
           "bgcolor": "white",
           "lakecolor": "white",
           "landcolor": "#E5ECF6",
           "showlakes": true,
           "showland": true,
           "subunitcolor": "white"
          },
          "hoverlabel": {
           "align": "left"
          },
          "hovermode": "closest",
          "mapbox": {
           "style": "light"
          },
          "paper_bgcolor": "white",
          "plot_bgcolor": "#E5ECF6",
          "polar": {
           "angularaxis": {
            "gridcolor": "white",
            "linecolor": "white",
            "ticks": ""
           },
           "bgcolor": "#E5ECF6",
           "radialaxis": {
            "gridcolor": "white",
            "linecolor": "white",
            "ticks": ""
           }
          },
          "scene": {
           "xaxis": {
            "backgroundcolor": "#E5ECF6",
            "gridcolor": "white",
            "gridwidth": 2,
            "linecolor": "white",
            "showbackground": true,
            "ticks": "",
            "zerolinecolor": "white"
           },
           "yaxis": {
            "backgroundcolor": "#E5ECF6",
            "gridcolor": "white",
            "gridwidth": 2,
            "linecolor": "white",
            "showbackground": true,
            "ticks": "",
            "zerolinecolor": "white"
           },
           "zaxis": {
            "backgroundcolor": "#E5ECF6",
            "gridcolor": "white",
            "gridwidth": 2,
            "linecolor": "white",
            "showbackground": true,
            "ticks": "",
            "zerolinecolor": "white"
           }
          },
          "shapedefaults": {
           "line": {
            "color": "#2a3f5f"
           }
          },
          "ternary": {
           "aaxis": {
            "gridcolor": "white",
            "linecolor": "white",
            "ticks": ""
           },
           "baxis": {
            "gridcolor": "white",
            "linecolor": "white",
            "ticks": ""
           },
           "bgcolor": "#E5ECF6",
           "caxis": {
            "gridcolor": "white",
            "linecolor": "white",
            "ticks": ""
           }
          },
          "title": {
           "x": 0.05
          },
          "xaxis": {
           "automargin": true,
           "gridcolor": "white",
           "linecolor": "white",
           "ticks": "",
           "title": {
            "standoff": 15
           },
           "zerolinecolor": "white",
           "zerolinewidth": 2
          },
          "yaxis": {
           "automargin": true,
           "gridcolor": "white",
           "linecolor": "white",
           "ticks": "",
           "title": {
            "standoff": 15
           },
           "zerolinecolor": "white",
           "zerolinewidth": 2
          }
         }
        },
        "title": {
         "text": "Lap time by Each drivers in Circuit de Monaco 2021"
        },
        "xaxis": {
         "anchor": "y",
         "domain": [
          0,
          1
         ],
         "title": {
          "text": "lap"
         }
        },
        "yaxis": {
         "anchor": "x",
         "domain": [
          0,
          1
         ],
         "title": {
          "text": "lapSeconds"
         }
        }
       }
      }
     },
     "metadata": {},
     "output_type": "display_data"
    }
   ],
   "source": [
    "#Creating dataframe with laptime analysis and filtering with year and circuit\n",
    "df = lapTimesAnalysis[(lapTimesAnalysis['raceYear']==year)&(lapTimesAnalysis['circuitName']==circuitName)&(lapTimesAnalysis['driverName'].isin(driverList))][['raceYear','lap','lapSeconds','driverName','circuitName','constructorName']]\n",
    "\n",
    "#Labels\n",
    "fig = px.line(\n",
    "    data_frame = df,\n",
    "    x='lap',\n",
    "    y='lapSeconds',\n",
    "    color='driverName',\n",
    ")\n",
    "\n",
    "fig.update_layout(\n",
    "    title_text=f'Lap time by Each drivers in {circuitName} {year}',\n",
    ")\n",
    "\n",
    "#Showing plot\n",
    "fig.show()"
   ]
  },
  {
   "cell_type": "markdown",
   "metadata": {},
   "source": [
    "Average Lap time per circuit over the years"
   ]
  },
  {
   "cell_type": "code",
   "execution_count": 35,
   "metadata": {},
   "outputs": [
    {
     "data": {
      "application/vnd.plotly.v1+json": {
       "config": {
        "plotlyServerURL": "https://plot.ly"
       },
       "data": [
        {
         "hovertemplate": "circuitName=Albert Park Grand Prix Circuit<br>Race Year=%{x}<br>Average Lap Time (seconds)=%{y}<extra></extra>",
         "legendgroup": "Albert Park Grand Prix Circuit",
         "line": {
          "color": "#636efa",
          "dash": "solid"
         },
         "marker": {
          "symbol": "circle"
         },
         "mode": "lines",
         "name": "Albert Park Grand Prix Circuit",
         "orientation": "v",
         "showlegend": true,
         "type": "scatter",
         "x": [
          1996,
          1997,
          1998,
          1999,
          2000,
          2001,
          2002,
          2003,
          2004,
          2005,
          2006,
          2007,
          2008,
          2009,
          2010,
          2011,
          2012,
          2013,
          2014,
          2015,
          2016,
          2017,
          2018,
          2019,
          2022,
          2023,
          2024
         ],
         "xaxis": "x",
         "y": [
          99.02105049261083,
          96.32691902313624,
          97.9030701262272,
          102.11266081081082,
          99.75170567786789,
          104.91422891566266,
          107.32121708185053,
          99.99781688466112,
          90.80845714285714,
          90.33247253787879,
          101.65096170678338,
          90.39786964129483,
          98.55718230563002,
          97.42774527363184,
          101.07680957562569,
          95.61877377654663,
          98.46992911877395,
          94.95943505338079,
          100.36624498416052,
          97.06215504978664,
          115.6142831858407,
          91.10588853503185,
          93.2580576307364,
          90.42098265895953,
          92.1359404990403,
          147.64893165829147,
          84.54189547738693
         ],
         "yaxis": "y"
        },
        {
         "hovertemplate": "circuitName=Autodromo Enzo e Dino Ferrari<br>Race Year=%{x}<br>Average Lap Time (seconds)=%{y}<extra></extra>",
         "legendgroup": "Autodromo Enzo e Dino Ferrari",
         "line": {
          "color": "#EF553B",
          "dash": "solid"
         },
         "marker": {
          "symbol": "circle"
         },
         "mode": "lines",
         "name": "Autodromo Enzo e Dino Ferrari",
         "orientation": "v",
         "showlegend": true,
         "type": "scatter",
         "x": [
          1996,
          1997,
          1998,
          1999,
          2000,
          2001,
          2002,
          2003,
          2004,
          2005,
          2006,
          2020,
          2021,
          2022,
          2024
         ],
         "xaxis": "x",
         "y": [
          93.19064750957855,
          90.28822408026755,
          93.97956762749446,
          93.18925802997859,
          90.91789700374532,
          90.2230315270936,
          88.29334060228452,
          86.95464791288566,
          85.24271164510166,
          86.25724568527919,
          90.41366928446772,
          84.14757180851063,
          117.2083362989324,
          89.18702033598586,
          82.7524281098546
         ],
         "yaxis": "y"
        },
        {
         "hovertemplate": "circuitName=Autodromo Internazionale del Mugello<br>Race Year=%{x}<br>Average Lap Time (seconds)=%{y}<extra></extra>",
         "legendgroup": "Autodromo Internazionale del Mugello",
         "line": {
          "color": "#00cc96",
          "dash": "solid"
         },
         "marker": {
          "symbol": "circle"
         },
         "mode": "lines",
         "name": "Autodromo Internazionale del Mugello",
         "orientation": "v",
         "showlegend": true,
         "type": "scatter",
         "x": [
          2020
         ],
         "xaxis": "x",
         "y": [
          141.40524550128535
         ],
         "yaxis": "y"
        },
        {
         "hovertemplate": "circuitName=Autodromo Nazionale di Monza<br>Race Year=%{x}<br>Average Lap Time (seconds)=%{y}<extra></extra>",
         "legendgroup": "Autodromo Nazionale di Monza",
         "line": {
          "color": "#ab63fa",
          "dash": "solid"
         },
         "marker": {
          "symbol": "circle"
         },
         "mode": "lines",
         "name": "Autodromo Nazionale di Monza",
         "orientation": "v",
         "showlegend": true,
         "type": "scatter",
         "x": [
          1996,
          1997,
          1998,
          1999,
          2000,
          2001,
          2002,
          2003,
          2004,
          2005,
          2006,
          2007,
          2008,
          2009,
          2010,
          2011,
          2012,
          2013,
          2014,
          2015,
          2016,
          2017,
          2018,
          2019,
          2020,
          2021,
          2022,
          2023
         ],
         "xaxis": "x",
         "y": [
          90.25941626794258,
          88.59276371308017,
          90.11974200913242,
          88.68092108508014,
          103.04218385650225,
          89.27442396313364,
          88.32660542540073,
          86.47421156211563,
          86.69060398230089,
          86.13643732057417,
          86.42836257309942,
          90.79626836158192,
          99.65007403751234,
          88.04908351893096,
          88.29886968325792,
          95.30973903262093,
          91.49933137089992,
          89.94915528531338,
          91.25794926199262,
          90.37770695187166,
          90.42914215686275,
          87.4236073926074,
          88.63380972972973,
          87.150301010101,
          121.092,
          92.95186951631047,
          91.25795872033024,
          87.76724921465969
         ],
         "yaxis": "y"
        },
        {
         "hovertemplate": "circuitName=Autódromo Hermanos Rodríguez<br>Race Year=%{x}<br>Average Lap Time (seconds)=%{y}<extra></extra>",
         "legendgroup": "Autódromo Hermanos Rodríguez",
         "line": {
          "color": "#FFA15A",
          "dash": "solid"
         },
         "marker": {
          "symbol": "circle"
         },
         "mode": "lines",
         "name": "Autódromo Hermanos Rodríguez",
         "orientation": "v",
         "showlegend": true,
         "type": "scatter",
         "x": [
          2015,
          2016,
          2017,
          2018,
          2019,
          2021,
          2022,
          2023
         ],
         "xaxis": "x",
         "y": [
          87.33540919904837,
          86.32261189993238,
          83.24202204081632,
          85.64042431561997,
          83.37945182481752,
          85.12855679110406,
          84.88272786647315,
          104.34305624999999
         ],
         "yaxis": "y"
        },
        {
         "hovertemplate": "circuitName=Autódromo Internacional do Algarve<br>Race Year=%{x}<br>Average Lap Time (seconds)=%{y}<extra></extra>",
         "legendgroup": "Autódromo Internacional do Algarve",
         "line": {
          "color": "#19d3f3",
          "dash": "solid"
         },
         "marker": {
          "symbol": "circle"
         },
         "mode": "lines",
         "name": "Autódromo Internacional do Algarve",
         "orientation": "v",
         "showlegend": true,
         "type": "scatter",
         "x": [
          2020,
          2021
         ],
         "xaxis": "x",
         "y": [
          83.51684860248447,
          87.31556591639871
         ],
         "yaxis": "y"
        },
        {
         "hovertemplate": "circuitName=Autódromo José Carlos Pace<br>Race Year=%{x}<br>Average Lap Time (seconds)=%{y}<extra></extra>",
         "legendgroup": "Autódromo José Carlos Pace",
         "line": {
          "color": "#FF6692",
          "dash": "solid"
         },
         "marker": {
          "symbol": "circle"
         },
         "mode": "lines",
         "name": "Autódromo José Carlos Pace",
         "orientation": "v",
         "showlegend": true,
         "type": "scatter",
         "x": [
          1996,
          1997,
          1998,
          1999,
          2000,
          2001,
          2002,
          2003,
          2004,
          2005,
          2006,
          2007,
          2008,
          2009,
          2010,
          2011,
          2012,
          2013,
          2014,
          2015,
          2016,
          2017,
          2018,
          2019,
          2021,
          2022,
          2023
         ],
         "xaxis": "x",
         "y": [
          96.86848638838475,
          81.5190484937546,
          82.93306794425087,
          82.73911575875486,
          78.84716016427106,
          85.57118498659517,
          80.09768421052631,
          104.83991377091377,
          76.01163311688312,
          78.6392065767285,
          79.27136274509805,
          76.8326023890785,
          80.92480726698263,
          79.10438504672896,
          80.87446027895693,
          79.98784020618557,
          89.86410537634409,
          79.55176058292852,
          77.14511210398051,
          78.78546194423512,
          153.65555417956656,
          78.54167694944302,
          74.91537253414263,
          78.58284721216509,
          79.61181911764706,
          83.60228582802549,
          101.87680018083182
         ],
         "yaxis": "y"
        },
        {
         "hovertemplate": "circuitName=Autódromo Juan y Oscar Gálvez<br>Race Year=%{x}<br>Average Lap Time (seconds)=%{y}<extra></extra>",
         "legendgroup": "Autódromo Juan y Oscar Gálvez",
         "line": {
          "color": "#B6E880",
          "dash": "solid"
         },
         "marker": {
          "symbol": "circle"
         },
         "mode": "lines",
         "name": "Autódromo Juan y Oscar Gálvez",
         "orientation": "v",
         "showlegend": true,
         "type": "scatter",
         "x": [
          1996,
          1997,
          1998
         ],
         "xaxis": "x",
         "y": [
          98.44664605734766,
          95.69204253308128,
          92.76550349107835
         ],
         "yaxis": "y"
        },
        {
         "hovertemplate": "circuitName=Autódromo do Estoril<br>Race Year=%{x}<br>Average Lap Time (seconds)=%{y}<extra></extra>",
         "legendgroup": "Autódromo do Estoril",
         "line": {
          "color": "#FF97FF",
          "dash": "solid"
         },
         "marker": {
          "symbol": "circle"
         },
         "mode": "lines",
         "name": "Autódromo do Estoril",
         "orientation": "v",
         "showlegend": true,
         "type": "scatter",
         "x": [
          1996
         ],
         "xaxis": "x",
         "y": [
          88.53192990654206
         ],
         "yaxis": "y"
        },
        {
         "hovertemplate": "circuitName=Bahrain International Circuit<br>Race Year=%{x}<br>Average Lap Time (seconds)=%{y}<extra></extra>",
         "legendgroup": "Bahrain International Circuit",
         "line": {
          "color": "#FECB52",
          "dash": "solid"
         },
         "marker": {
          "symbol": "circle"
         },
         "mode": "lines",
         "name": "Bahrain International Circuit",
         "orientation": "v",
         "showlegend": true,
         "type": "scatter",
         "x": [
          2004,
          2005,
          2006,
          2007,
          2008,
          2009,
          2010,
          2012,
          2013,
          2014,
          2015,
          2016,
          2017,
          2018,
          2019,
          2020,
          2021,
          2022,
          2023,
          2024
         ],
         "xaxis": "x",
         "y": [
          95.38792322274882,
          96.34662232779097,
          97.18633909090909,
          100.55041586073501,
          97.6013998234775,
          97.83482488888889,
          123.99488267543859,
          101.98955391776572,
          102.52587147595356,
          105.86346540880503,
          102.14304612365063,
          100.44944710578842,
          100.05630734463276,
          98.67689769307924,
          100.35592691951896,
          89.22200942285042,
          100.32285282651073,
          103.13485930543187,
          100.44593838862559,
          98.12467316209035
         ],
         "yaxis": "y"
        },
        {
         "hovertemplate": "circuitName=Baku City Circuit<br>Race Year=%{x}<br>Average Lap Time (seconds)=%{y}<extra></extra>",
         "legendgroup": "Baku City Circuit",
         "line": {
          "color": "#636efa",
          "dash": "solid"
         },
         "marker": {
          "symbol": "circle"
         },
         "mode": "lines",
         "name": "Baku City Circuit",
         "orientation": "v",
         "showlegend": true,
         "type": "scatter",
         "x": [
          2016,
          2017,
          2018,
          2019,
          2021,
          2022,
          2023
         ],
         "xaxis": "x",
         "y": [
          111.34816147859922,
          149.32475,
          121.7172401902497,
          110.31268743400211,
          151.57206376195538,
          112.70917547806523,
          110.50256295525494
         ],
         "yaxis": "y"
        },
        {
         "hovertemplate": "circuitName=Buddh International Circuit<br>Race Year=%{x}<br>Average Lap Time (seconds)=%{y}<extra></extra>",
         "legendgroup": "Buddh International Circuit",
         "line": {
          "color": "#EF553B",
          "dash": "solid"
         },
         "marker": {
          "symbol": "circle"
         },
         "mode": "lines",
         "name": "Buddh International Circuit",
         "orientation": "v",
         "showlegend": true,
         "type": "scatter",
         "x": [
          2011,
          2012,
          2013
         ],
         "xaxis": "x",
         "y": [
          93.23147723440135,
          92.96806944444445,
          92.78399500416319
         ],
         "yaxis": "y"
        },
        {
         "hovertemplate": "circuitName=Circuit Gilles Villeneuve<br>Race Year=%{x}<br>Average Lap Time (seconds)=%{y}<extra></extra>",
         "legendgroup": "Circuit Gilles Villeneuve",
         "line": {
          "color": "#00cc96",
          "dash": "solid"
         },
         "marker": {
          "symbol": "circle"
         },
         "mode": "lines",
         "name": "Circuit Gilles Villeneuve",
         "orientation": "v",
         "showlegend": true,
         "type": "scatter",
         "x": [
          1996,
          1997,
          1998,
          1999,
          2000,
          2001,
          2002,
          2003,
          2004,
          2005,
          2006,
          2007,
          2008,
          2010,
          2011,
          2012,
          2013,
          2014,
          2015,
          2016,
          2017,
          2018,
          2019,
          2022,
          2023,
          2024
         ],
         "xaxis": "x",
         "y": [
          85.5621097826087,
          87.19192462311557,
          91.2429222972973,
          89.51600835945665,
          88.22234752321981,
          84.1265329153605,
          81.92665278868814,
          80.02938734419942,
          77.72834835355286,
          81.66407834507042,
          82.9998807495741,
          89.09385738255034,
          83.69695350877193,
          82.74644152249134,
          220.45071505376345,
          80.30494339622642,
          80.96111849315068,
          86.27266950596253,
          80.39610743801653,
          79.7537359591539,
          81.12652133105802,
          79.53820558375635,
          78.02366946564885,
          82.985412044374,
          81.50654676806083,
          91.45797079715864
         ],
         "yaxis": "y"
        },
        {
         "hovertemplate": "circuitName=Circuit Park Zandvoort<br>Race Year=%{x}<br>Average Lap Time (seconds)=%{y}<extra></extra>",
         "legendgroup": "Circuit Park Zandvoort",
         "line": {
          "color": "#ab63fa",
          "dash": "solid"
         },
         "marker": {
          "symbol": "circle"
         },
         "mode": "lines",
         "name": "Circuit Park Zandvoort",
         "orientation": "v",
         "showlegend": true,
         "type": "scatter",
         "x": [
          2021,
          2022,
          2023
         ],
         "xaxis": "x",
         "y": [
          77.11578912564292,
          80.96139396117901,
          117.35015063385534
         ],
         "yaxis": "y"
        },
        {
         "hovertemplate": "circuitName=Circuit Paul Ricard<br>Race Year=%{x}<br>Average Lap Time (seconds)=%{y}<extra></extra>",
         "legendgroup": "Circuit Paul Ricard",
         "line": {
          "color": "#FFA15A",
          "dash": "solid"
         },
         "marker": {
          "symbol": "circle"
         },
         "mode": "lines",
         "name": "Circuit Paul Ricard",
         "orientation": "v",
         "showlegend": true,
         "type": "scatter",
         "x": [
          2018,
          2019,
          2021,
          2022
         ],
         "xaxis": "x",
         "y": [
          103.98457267759564,
          97.77185907335907,
          100.61595908658421,
          102.98911437565583
         ],
         "yaxis": "y"
        },
        {
         "hovertemplate": "circuitName=Circuit de Barcelona-Catalunya<br>Race Year=%{x}<br>Average Lap Time (seconds)=%{y}<extra></extra>",
         "legendgroup": "Circuit de Barcelona-Catalunya",
         "line": {
          "color": "#19d3f3",
          "dash": "solid"
         },
         "marker": {
          "symbol": "circle"
         },
         "mode": "lines",
         "name": "Circuit de Barcelona-Catalunya",
         "orientation": "v",
         "showlegend": true,
         "type": "scatter",
         "x": [
          1996,
          1997,
          1998,
          1999,
          2000,
          2001,
          2002,
          2003,
          2004,
          2005,
          2006,
          2007,
          2008,
          2009,
          2010,
          2011,
          2012,
          2013,
          2014,
          2015,
          2016,
          2017,
          2018,
          2019,
          2020,
          2021,
          2022,
          2023,
          2024
         ],
         "xaxis": "x",
         "y": [
          113.18983724832214,
          86.33124285714285,
          88.61777480586713,
          88.87599281867145,
          88.30734625550662,
          85.84119655172414,
          85.20083023001095,
          89.37564994547438,
          81.29419349005424,
          81.75306625891947,
          80.71033651551312,
          86.26306896551723,
          91.0467624750499,
          89.87892675159235,
          89.30626666666666,
          92.74942052313884,
          91.80358646063281,
          91.92591761148904,
          93.87615503306392,
          94.36614251207729,
          93.99002998379254,
          89.56600631768953,
          89.23264173228347,
          87.55753924646781,
          85.3050070643642,
          86.32577929373997,
          90.0716105691057,
          81.10397713414635,
          81.4742854961832
         ],
         "yaxis": "y"
        },
        {
         "hovertemplate": "circuitName=Circuit de Monaco<br>Race Year=%{x}<br>Average Lap Time (seconds)=%{y}<extra></extra>",
         "legendgroup": "Circuit de Monaco",
         "line": {
          "color": "#FF6692",
          "dash": "solid"
         },
         "marker": {
          "symbol": "circle"
         },
         "mode": "lines",
         "name": "Circuit de Monaco",
         "orientation": "v",
         "showlegend": true,
         "type": "scatter",
         "x": [
          1996,
          1997,
          1998,
          1999,
          2000,
          2001,
          2002,
          2003,
          2004,
          2005,
          2006,
          2007,
          2008,
          2009,
          2010,
          2011,
          2012,
          2013,
          2014,
          2015,
          2016,
          2017,
          2018,
          2019,
          2021,
          2022,
          2023,
          2024
         ],
         "xaxis": "x",
         "y": [
          99.7960895140665,
          119.60146692607003,
          87.4789940526763,
          86.06088057040999,
          85.51105443371378,
          85.2173831858407,
          83.42929637841833,
          80.48447304347826,
          85.5159226519337,
          82.58650537634409,
          81.07902310654686,
          79.11962926509186,
          96.77289366692729,
          78.43249882537197,
          85.80872845763939,
          99.20354301745637,
          82.5768284923928,
          106.2091097804391,
          86.1130328125,
          84.53203079076278,
          95.72884008843036,
          80.75166831683168,
          79.8577495042961,
          80.58734654130288,
          77.45793159379407,
          110.22984353741496,
          85.12242564441506,
          111.78504460665044
         ],
         "yaxis": "y"
        },
        {
         "hovertemplate": "circuitName=Circuit de Nevers Magny-Cours<br>Race Year=%{x}<br>Average Lap Time (seconds)=%{y}<extra></extra>",
         "legendgroup": "Circuit de Nevers Magny-Cours",
         "line": {
          "color": "#B6E880",
          "dash": "solid"
         },
         "marker": {
          "symbol": "circle"
         },
         "mode": "lines",
         "name": "Circuit de Nevers Magny-Cours",
         "orientation": "v",
         "showlegend": true,
         "type": "scatter",
         "x": [
          1996,
          1997,
          1998,
          1999,
          2000,
          2001,
          2002,
          2003,
          2004,
          2005,
          2006,
          2007,
          2008
         ],
         "xaxis": "x",
         "y": [
          82.34786292548297,
          83.83860741364785,
          82.26404522246536,
          98.49607235621522,
          83.37503777949114,
          79.6437156862745,
          78.46307358490567,
          79.64201757188498,
          78.91417906976744,
          80.94598979591836,
          80.7102971295578,
          79.23736205533598,
          79.68393134328358
         ],
         "yaxis": "y"
        },
        {
         "hovertemplate": "circuitName=Circuit de Spa-Francorchamps<br>Race Year=%{x}<br>Average Lap Time (seconds)=%{y}<extra></extra>",
         "legendgroup": "Circuit de Spa-Francorchamps",
         "line": {
          "color": "#FF97FF",
          "dash": "solid"
         },
         "marker": {
          "symbol": "circle"
         },
         "mode": "lines",
         "name": "Circuit de Spa-Francorchamps",
         "orientation": "v",
         "showlegend": true,
         "type": "scatter",
         "x": [
          1996,
          1997,
          1998,
          1999,
          2000,
          2001,
          2002,
          2004,
          2005,
          2007,
          2008,
          2009,
          2010,
          2011,
          2012,
          2013,
          2014,
          2015,
          2016,
          2017,
          2018,
          2019,
          2020,
          2021,
          2022,
          2023
         ],
         "xaxis": "x",
         "y": [
          122.68993333333334,
          132.2196422250316,
          145.07664239828694,
          119.18042991755006,
          123.42478502415459,
          116.57086470588236,
          112.63164256480219,
          126.99763295269167,
          126.14769726027397,
          112.44835058823529,
          114.5059312039312,
          115.55262745098041,
          122.91642608695652,
          120.52880518018017,
          124.00440853658537,
          116.21028764044944,
          117.31494172494173,
          119.29594565217393,
          144.2890939153439,
          116.33654358974358,
          116.91171594202899,
          116.42512117346939,
          115.83679112271541,
          225.82395000000002,
          118.9666746835443,
          114.24922085889571
         ],
         "yaxis": "y"
        },
        {
         "hovertemplate": "circuitName=Circuit of the Americas<br>Race Year=%{x}<br>Average Lap Time (seconds)=%{y}<extra></extra>",
         "legendgroup": "Circuit of the Americas",
         "line": {
          "color": "#FECB52",
          "dash": "solid"
         },
         "marker": {
          "symbol": "circle"
         },
         "mode": "lines",
         "name": "Circuit of the Americas",
         "orientation": "v",
         "showlegend": true,
         "type": "scatter",
         "x": [
          2012,
          2013,
          2014,
          2015,
          2016,
          2017,
          2018,
          2019,
          2021,
          2022,
          2023
         ],
         "xaxis": "x",
         "y": [
          104.8418456,
          107.87642991452991,
          108.86456807511736,
          120.26210513739545,
          107.48171150278293,
          102.3140332261522,
          102.93562620837808,
          102.68034757281553,
          103.73756417624521,
          110.45672222222223,
          103.24989940828402
         ],
         "yaxis": "y"
        },
        {
         "hovertemplate": "circuitName=Circuito de Jerez<br>Race Year=%{x}<br>Average Lap Time (seconds)=%{y}<extra></extra>",
         "legendgroup": "Circuito de Jerez",
         "line": {
          "color": "#636efa",
          "dash": "solid"
         },
         "marker": {
          "symbol": "circle"
         },
         "mode": "lines",
         "name": "Circuito de Jerez",
         "orientation": "v",
         "showlegend": true,
         "type": "scatter",
         "x": [
          1997
         ],
         "xaxis": "x",
         "y": [
          87.07214646840148
         ],
         "yaxis": "y"
        },
        {
         "hovertemplate": "circuitName=Fuji Speedway<br>Race Year=%{x}<br>Average Lap Time (seconds)=%{y}<extra></extra>",
         "legendgroup": "Fuji Speedway",
         "line": {
          "color": "#EF553B",
          "dash": "solid"
         },
         "marker": {
          "symbol": "circle"
         },
         "mode": "lines",
         "name": "Fuji Speedway",
         "orientation": "v",
         "showlegend": true,
         "type": "scatter",
         "x": [
          2007,
          2008
         ],
         "xaxis": "x",
         "y": [
          111.06622188217291,
          81.80843399810067
         ],
         "yaxis": "y"
        },
        {
         "hovertemplate": "circuitName=Hockenheimring<br>Race Year=%{x}<br>Average Lap Time (seconds)=%{y}<extra></extra>",
         "legendgroup": "Hockenheimring",
         "line": {
          "color": "#00cc96",
          "dash": "solid"
         },
         "marker": {
          "symbol": "circle"
         },
         "mode": "lines",
         "name": "Hockenheimring",
         "orientation": "v",
         "showlegend": true,
         "type": "scatter",
         "x": [
          1996,
          1997,
          1998,
          1999,
          2000,
          2001,
          2002,
          2003,
          2004,
          2005,
          2006,
          2008,
          2010,
          2012,
          2014,
          2016,
          2018,
          2019
         ],
         "xaxis": "x",
         "y": [
          111.43056268221574,
          109.98496030534352,
          109.46043214285714,
          110.62574027993779,
          114.23545790816327,
          106.36978658536586,
          80.84447774480712,
          82.7039510807736,
          77.84347088186355,
          79.92406901960784,
          79.95409458218549,
          82.4396207442597,
          80.80617366136035,
          83.03870379746836,
          85.53587099236641,
          82.80056073446328,
          83.21108000000001,
          98.44984155597723
         ],
         "yaxis": "y"
        },
        {
         "hovertemplate": "circuitName=Hungaroring<br>Race Year=%{x}<br>Average Lap Time (seconds)=%{y}<extra></extra>",
         "legendgroup": "Hungaroring",
         "line": {
          "color": "#ab63fa",
          "dash": "solid"
         },
         "marker": {
          "symbol": "circle"
         },
         "mode": "lines",
         "name": "Hungaroring",
         "orientation": "v",
         "showlegend": true,
         "type": "scatter",
         "x": [
          1996,
          1997,
          1998,
          1999,
          2000,
          2001,
          2002,
          2003,
          2004,
          2005,
          2006,
          2007,
          2008,
          2009,
          2010,
          2011,
          2012,
          2013,
          2014,
          2015,
          2016,
          2017,
          2018,
          2019,
          2020,
          2021,
          2022,
          2023
         ],
         "xaxis": "x",
         "y": [
          84.92079149797571,
          83.3735034695451,
          84.19928270676692,
          84.41507270233197,
          84.59269966101695,
          82.34548468606431,
          80.7420674074074,
          86.82913734290844,
          84.10786751054853,
          86.57621522309711,
          99.24184244080146,
          83.61428884026259,
          84.88371021021021,
          85.34585456110155,
          89.08987599709934,
          94.75508797850907,
          89.43571992597163,
          89.55049067431851,
          98.85557259380099,
          93.50993267023719,
          87.8485612177366,
          87.07852509960159,
          85.05430162601625,
          83.52930854197349,
          84.21076940467219,
          109.6084240570846,
          86.66092764109986,
          85.4918642172524
         ],
         "yaxis": "y"
        },
        {
         "hovertemplate": "circuitName=Indianapolis Motor Speedway<br>Race Year=%{x}<br>Average Lap Time (seconds)=%{y}<extra></extra>",
         "legendgroup": "Indianapolis Motor Speedway",
         "line": {
          "color": "#FFA15A",
          "dash": "solid"
         },
         "marker": {
          "symbol": "circle"
         },
         "mode": "lines",
         "name": "Indianapolis Motor Speedway",
         "orientation": "v",
         "showlegend": true,
         "type": "scatter",
         "x": [
          2000,
          2001,
          2002,
          2003,
          2004,
          2005,
          2006,
          2007
         ],
         "xaxis": "x",
         "y": [
          81.01495176848876,
          77.60637688821751,
          76.29301977186311,
          79.48183923705723,
          86.0337037037037,
          75.1223587962963,
          79.69113350125944,
          76.22001708074534
         ],
         "yaxis": "y"
        },
        {
         "hovertemplate": "circuitName=Istanbul Park<br>Race Year=%{x}<br>Average Lap Time (seconds)=%{y}<extra></extra>",
         "legendgroup": "Istanbul Park",
         "line": {
          "color": "#19d3f3",
          "dash": "solid"
         },
         "marker": {
          "symbol": "circle"
         },
         "mode": "lines",
         "name": "Istanbul Park",
         "orientation": "v",
         "showlegend": true,
         "type": "scatter",
         "x": [
          2005,
          2006,
          2007,
          2008,
          2009,
          2010,
          2011,
          2020,
          2021
         ],
         "xaxis": "x",
         "y": [
          91.74470935960592,
          95.02745337301587,
          91.44012458745874,
          91.20118027888446,
          90.47384587155963,
          93.88503016241299,
          95.40036559139784,
          108.18039219330855,
          95.8415571054926
         ],
         "yaxis": "y"
        },
        {
         "hovertemplate": "circuitName=Jeddah Corniche Circuit<br>Race Year=%{x}<br>Average Lap Time (seconds)=%{y}<extra></extra>",
         "legendgroup": "Jeddah Corniche Circuit",
         "line": {
          "color": "#FF6692",
          "dash": "solid"
         },
         "marker": {
          "symbol": "circle"
         },
         "mode": "lines",
         "name": "Jeddah Corniche Circuit",
         "orientation": "v",
         "showlegend": true,
         "type": "scatter",
         "x": [
          2021,
          2022,
          2023,
          2024
         ],
         "xaxis": "x",
         "y": [
          154.924338882283,
          102.40499632352942,
          98.77350530785563,
          98.21947333333333
         ],
         "yaxis": "y"
        },
        {
         "hovertemplate": "circuitName=Korean International Circuit<br>Race Year=%{x}<br>Average Lap Time (seconds)=%{y}<extra></extra>",
         "legendgroup": "Korean International Circuit",
         "line": {
          "color": "#B6E880",
          "dash": "solid"
         },
         "marker": {
          "symbol": "circle"
         },
         "mode": "lines",
         "name": "Korean International Circuit",
         "orientation": "v",
         "showlegend": true,
         "type": "scatter",
         "x": [
          2010,
          2011,
          2012,
          2013
         ],
         "xaxis": "x",
         "y": [
          198.82632452142207,
          108.89322904564314,
          107.17592539964477,
          113.40279565217391
         ],
         "yaxis": "y"
        },
        {
         "hovertemplate": "circuitName=Las Vegas Strip Street Circuit<br>Race Year=%{x}<br>Average Lap Time (seconds)=%{y}<extra></extra>",
         "legendgroup": "Las Vegas Strip Street Circuit",
         "line": {
          "color": "#FF97FF",
          "dash": "solid"
         },
         "marker": {
          "symbol": "circle"
         },
         "mode": "lines",
         "name": "Las Vegas Strip Street Circuit",
         "orientation": "v",
         "showlegend": true,
         "type": "scatter",
         "x": [
          2023
         ],
         "xaxis": "x",
         "y": [
          107.75176882290563
         ],
         "yaxis": "y"
        },
        {
         "hovertemplate": "circuitName=Losail International Circuit<br>Race Year=%{x}<br>Average Lap Time (seconds)=%{y}<extra></extra>",
         "legendgroup": "Losail International Circuit",
         "line": {
          "color": "#FECB52",
          "dash": "solid"
         },
         "marker": {
          "symbol": "circle"
         },
         "mode": "lines",
         "name": "Losail International Circuit",
         "orientation": "v",
         "showlegend": true,
         "type": "scatter",
         "x": [
          2021,
          2023
         ],
         "xaxis": "x",
         "y": [
          90.76527158273382,
          93.49712935323383
         ],
         "yaxis": "y"
        },
        {
         "hovertemplate": "circuitName=Marina Bay Street Circuit<br>Race Year=%{x}<br>Average Lap Time (seconds)=%{y}<extra></extra>",
         "legendgroup": "Marina Bay Street Circuit",
         "line": {
          "color": "#636efa",
          "dash": "solid"
         },
         "marker": {
          "symbol": "circle"
         },
         "mode": "lines",
         "name": "Marina Bay Street Circuit",
         "orientation": "v",
         "showlegend": true,
         "type": "scatter",
         "x": [
          2008,
          2009,
          2010,
          2011,
          2012,
          2013,
          2014,
          2015,
          2016,
          2017,
          2018,
          2019,
          2022,
          2023
         ],
         "xaxis": "x",
         "y": [
          115.77510131332083,
          115.52051734104047,
          118.74638921161826,
          120.60050561797752,
          123.57073359374999,
          118.79922160883281,
          121.15202892199824,
          121.01776029962546,
          116.02570951156812,
          130.15912071005917,
          111.64222008733624,
          116.80992685025818,
          126.26882678002126,
          104.02361623616237
         ],
         "yaxis": "y"
        },
        {
         "hovertemplate": "circuitName=Miami International Autodrome<br>Race Year=%{x}<br>Average Lap Time (seconds)=%{y}<extra></extra>",
         "legendgroup": "Miami International Autodrome",
         "line": {
          "color": "#EF553B",
          "dash": "solid"
         },
         "marker": {
          "symbol": "circle"
         },
         "mode": "lines",
         "name": "Miami International Autodrome",
         "orientation": "v",
         "showlegend": true,
         "type": "scatter",
         "x": [
          2022,
          2023,
          2024
         ],
         "xaxis": "x",
         "y": [
          99.87937061611375,
          93.32753866432337,
          96.21074414414414
         ],
         "yaxis": "y"
        },
        {
         "hovertemplate": "circuitName=Nürburgring<br>Race Year=%{x}<br>Average Lap Time (seconds)=%{y}<extra></extra>",
         "legendgroup": "Nürburgring",
         "line": {
          "color": "#00cc96",
          "dash": "solid"
         },
         "marker": {
          "symbol": "circle"
         },
         "mode": "lines",
         "name": "Nürburgring",
         "orientation": "v",
         "showlegend": true,
         "type": "scatter",
         "x": [
          1996,
          1997,
          1998,
          1999,
          2000,
          2001,
          2002,
          2003,
          2004,
          2005,
          2006,
          2007,
          2009,
          2011,
          2013,
          2020
         ],
         "xaxis": "x",
         "y": [
          85.18672850678733,
          82.77753448275861,
          85.12282254196643,
          94.5776491053678,
          93.6197531340405,
          81.97189641434262,
          97.64816109682947,
          96.9464405529954,
          94.67268388429751,
          95.02527121771217,
          97.86832942326491,
          133.6667534562212,
          97.7466905393457,
          100.23972191673212,
          102.19211505922166,
          96.28174041297935
         ],
         "yaxis": "y"
        },
        {
         "hovertemplate": "circuitName=Red Bull Ring<br>Race Year=%{x}<br>Average Lap Time (seconds)=%{y}<extra></extra>",
         "legendgroup": "Red Bull Ring",
         "line": {
          "color": "#ab63fa",
          "dash": "solid"
         },
         "marker": {
          "symbol": "circle"
         },
         "mode": "lines",
         "name": "Red Bull Ring",
         "orientation": "v",
         "showlegend": true,
         "type": "scatter",
         "x": [
          1997,
          1998,
          1999,
          2000,
          2001,
          2002,
          2003,
          2014,
          2015,
          2016,
          2017,
          2018,
          2019,
          2020,
          2021,
          2022,
          2023,
          2024
         ],
         "xaxis": "x",
         "y": [
          74.98625333333334,
          78.52102708124374,
          76.09861975116641,
          76.90697966728281,
          76.86057628765792,
          80.72366886792453,
          74.69539869888476,
          75.59987749483827,
          78.20728342749528,
          74.94618290960452,
          70.44501169590643,
          70.74509523809523,
          70.58727123483227,
          73.85570836855452,
          71.6350075987842,
          72.46210355253213,
          73.29362897265337,
          72.1857309608541
         ],
         "yaxis": "y"
        },
        {
         "hovertemplate": "circuitName=Sepang International Circuit<br>Race Year=%{x}<br>Average Lap Time (seconds)=%{y}<extra></extra>",
         "legendgroup": "Sepang International Circuit",
         "line": {
          "color": "#FFA15A",
          "dash": "solid"
         },
         "marker": {
          "symbol": "circle"
         },
         "mode": "lines",
         "name": "Sepang International Circuit",
         "orientation": "v",
         "showlegend": true,
         "type": "scatter",
         "x": [
          1999,
          2000,
          2001,
          2002,
          2003,
          2004,
          2005,
          2006,
          2007,
          2008,
          2009,
          2010,
          2011,
          2012,
          2013,
          2014,
          2015,
          2016,
          2017
         ],
         "xaxis": "x",
         "y": [
          105.80688676844784,
          104.91729508196721,
          120.45020547945205,
          104.5122345276873,
          101.99890070921987,
          100.01554391217564,
          100.23981859931114,
          100.34858403361345,
          100.57328847926267,
          99.58600392541709,
          109.76315703971119,
          104.0261171950048,
          106.8446719858156,
          179.39937637795273,
          108.08201285583104,
          110.0750418367347,
          110.6299161358811,
          105.91861442307692,
          98.4763115234375
         ],
         "yaxis": "y"
        },
        {
         "hovertemplate": "circuitName=Shanghai International Circuit<br>Race Year=%{x}<br>Average Lap Time (seconds)=%{y}<extra></extra>",
         "legendgroup": "Shanghai International Circuit",
         "line": {
          "color": "#19d3f3",
          "dash": "solid"
         },
         "marker": {
          "symbol": "circle"
         },
         "mode": "lines",
         "name": "Shanghai International Circuit",
         "orientation": "v",
         "showlegend": true,
         "type": "scatter",
         "x": [
          2004,
          2005,
          2006,
          2007,
          2008,
          2009,
          2010,
          2011,
          2012,
          2013,
          2014,
          2015,
          2016,
          2017,
          2018,
          2019,
          2024
         ],
         "xaxis": "x",
         "y": [
          97.47970734126984,
          108.57236847389558,
          107.41217422222222,
          107.36881519699813,
          99.83140967423493,
          128.68507917888564,
          118.1094467005076,
          105.6592507788162,
          104.8096096049574,
          104.69033746425167,
          105.91076403508771,
          107.99315316205534,
          107.72079067865904,
          107.36767552602436,
          103.1779802690583,
          100.89712045889102,
          109.14390097087379
         ],
         "yaxis": "y"
        },
        {
         "hovertemplate": "circuitName=Silverstone Circuit<br>Race Year=%{x}<br>Average Lap Time (seconds)=%{y}<extra></extra>",
         "legendgroup": "Silverstone Circuit",
         "line": {
          "color": "#FF6692",
          "dash": "solid"
         },
         "marker": {
          "symbol": "circle"
         },
         "mode": "lines",
         "name": "Silverstone Circuit",
         "orientation": "v",
         "showlegend": true,
         "type": "scatter",
         "x": [
          1996,
          1997,
          1998,
          1999,
          2000,
          2001,
          2002,
          2003,
          2004,
          2005,
          2006,
          2007,
          2008,
          2009,
          2010,
          2011,
          2012,
          2013,
          2014,
          2015,
          2016,
          2017,
          2018,
          2019,
          2020,
          2021,
          2022,
          2023
         ],
         "xaxis": "x",
         "y": [
          93.65872517321017,
          91.1786669921875,
          108.2350385818561,
          94.03067260787992,
          90.44892557741659,
          88.0001361788618,
          94.55716052060738,
          90.05514385964912,
          85.76557287822878,
          86.65992850838481,
          87.87731441860466,
          85.53603333333334,
          100.90551908396947,
          84.31745811518324,
          99.3513521624007,
          104.95672372093024,
          99.80807019143117,
          107.80583588818756,
          180.68168260869564,
          108.00161165048543,
          113.4897731958763,
          97.78081439820022,
          101.2081258351893,
          95.10102738225629,
          97.61396614583333,
          138.94717750258,
          164.76465721331687,
          98.70538659793814
         ],
         "yaxis": "y"
        },
        {
         "hovertemplate": "circuitName=Sochi Autodrom<br>Race Year=%{x}<br>Average Lap Time (seconds)=%{y}<extra></extra>",
         "legendgroup": "Sochi Autodrom",
         "line": {
          "color": "#B6E880",
          "dash": "solid"
         },
         "marker": {
          "symbol": "circle"
         },
         "mode": "lines",
         "name": "Sochi Autodrom",
         "orientation": "v",
         "showlegend": true,
         "type": "scatter",
         "x": [
          2014,
          2015,
          2016,
          2017,
          2018,
          2019,
          2020,
          2021
         ],
         "xaxis": "x",
         "y": [
          105.79680097087379,
          111.65881014150943,
          107.19569886947585,
          103.80556400966184,
          101.25453375527425,
          107.04369111111112,
          108.12807505285413,
          104.6734780487805
         ],
         "yaxis": "y"
        },
        {
         "hovertemplate": "circuitName=Suzuka Circuit<br>Race Year=%{x}<br>Average Lap Time (seconds)=%{y}<extra></extra>",
         "legendgroup": "Suzuka Circuit",
         "line": {
          "color": "#FF97FF",
          "dash": "solid"
         },
         "marker": {
          "symbol": "circle"
         },
         "mode": "lines",
         "name": "Suzuka Circuit",
         "orientation": "v",
         "showlegend": true,
         "type": "scatter",
         "x": [
          1996,
          1997,
          1998,
          1999,
          2000,
          2001,
          2002,
          2003,
          2004,
          2005,
          2006,
          2009,
          2010,
          2011,
          2012,
          2013,
          2014,
          2015,
          2016,
          2017,
          2018,
          2019,
          2022,
          2023,
          2024
         ],
         "xaxis": "x",
         "y": [
          108.71301593137254,
          103.35360220994474,
          105.13819801980199,
          106.19198056155508,
          104.52016302186878,
          101.90090119760478,
          100.95398646820027,
          98.20653031973539,
          97.77303798767967,
          103.22744554455446,
          97.06221722846442,
          100.34766911764706,
          104.80870215053763,
          104.48939803439802,
          102.52497334558824,
          100.0045805168986,
          155.86839273927393,
          101.99142802303263,
          99.93042943722944,
          100.7071278280543,
          100.93849487704918,
          96.64184888438133,
          134.42415476190476,
          108.60108863636364,
          132.76402099447515
         ],
         "yaxis": "y"
        },
        {
         "hovertemplate": "circuitName=Valencia Street Circuit<br>Race Year=%{x}<br>Average Lap Time (seconds)=%{y}<extra></extra>",
         "legendgroup": "Valencia Street Circuit",
         "line": {
          "color": "#FECB52",
          "dash": "solid"
         },
         "marker": {
          "symbol": "circle"
         },
         "mode": "lines",
         "name": "Valencia Street Circuit",
         "orientation": "v",
         "showlegend": true,
         "type": "scatter",
         "x": [
          2008,
          2009,
          2010,
          2011,
          2012
         ],
         "xaxis": "x",
         "y": [
          102.13072640610105,
          102.15167741935484,
          107.43316067146283,
          107.5043454951601,
          110.76168181818183
         ],
         "yaxis": "y"
        },
        {
         "hovertemplate": "circuitName=Yas Marina Circuit<br>Race Year=%{x}<br>Average Lap Time (seconds)=%{y}<extra></extra>",
         "legendgroup": "Yas Marina Circuit",
         "line": {
          "color": "#636efa",
          "dash": "solid"
         },
         "marker": {
          "symbol": "circle"
         },
         "mode": "lines",
         "name": "Yas Marina Circuit",
         "orientation": "v",
         "showlegend": true,
         "type": "scatter",
         "x": [
          2009,
          2010,
          2011,
          2012,
          2013,
          2014,
          2015,
          2016,
          2017,
          2018,
          2019,
          2020,
          2021,
          2022,
          2023
         ],
         "xaxis": "x",
         "y": [
          103.6230887804878,
          110.50640690817187,
          108.61513651877134,
          116.40374515235456,
          108.93790917030567,
          109.71498616600792,
          109.68411519845112,
          108.47996230158729,
          104.87302521823473,
          111.00637206823028,
          105.01002697674419,
          107.03939693192713,
          93.91929258517034,
          92.20473052820053,
          91.00114261019878
         ],
         "yaxis": "y"
        }
       ],
       "layout": {
        "legend": {
         "title": {
          "text": "circuitName"
         },
         "tracegroupgap": 0
        },
        "template": {
         "data": {
          "bar": [
           {
            "error_x": {
             "color": "#2a3f5f"
            },
            "error_y": {
             "color": "#2a3f5f"
            },
            "marker": {
             "line": {
              "color": "#E5ECF6",
              "width": 0.5
             },
             "pattern": {
              "fillmode": "overlay",
              "size": 10,
              "solidity": 0.2
             }
            },
            "type": "bar"
           }
          ],
          "barpolar": [
           {
            "marker": {
             "line": {
              "color": "#E5ECF6",
              "width": 0.5
             },
             "pattern": {
              "fillmode": "overlay",
              "size": 10,
              "solidity": 0.2
             }
            },
            "type": "barpolar"
           }
          ],
          "carpet": [
           {
            "aaxis": {
             "endlinecolor": "#2a3f5f",
             "gridcolor": "white",
             "linecolor": "white",
             "minorgridcolor": "white",
             "startlinecolor": "#2a3f5f"
            },
            "baxis": {
             "endlinecolor": "#2a3f5f",
             "gridcolor": "white",
             "linecolor": "white",
             "minorgridcolor": "white",
             "startlinecolor": "#2a3f5f"
            },
            "type": "carpet"
           }
          ],
          "choropleth": [
           {
            "colorbar": {
             "outlinewidth": 0,
             "ticks": ""
            },
            "type": "choropleth"
           }
          ],
          "contour": [
           {
            "colorbar": {
             "outlinewidth": 0,
             "ticks": ""
            },
            "colorscale": [
             [
              0,
              "#0d0887"
             ],
             [
              0.1111111111111111,
              "#46039f"
             ],
             [
              0.2222222222222222,
              "#7201a8"
             ],
             [
              0.3333333333333333,
              "#9c179e"
             ],
             [
              0.4444444444444444,
              "#bd3786"
             ],
             [
              0.5555555555555556,
              "#d8576b"
             ],
             [
              0.6666666666666666,
              "#ed7953"
             ],
             [
              0.7777777777777778,
              "#fb9f3a"
             ],
             [
              0.8888888888888888,
              "#fdca26"
             ],
             [
              1,
              "#f0f921"
             ]
            ],
            "type": "contour"
           }
          ],
          "contourcarpet": [
           {
            "colorbar": {
             "outlinewidth": 0,
             "ticks": ""
            },
            "type": "contourcarpet"
           }
          ],
          "heatmap": [
           {
            "colorbar": {
             "outlinewidth": 0,
             "ticks": ""
            },
            "colorscale": [
             [
              0,
              "#0d0887"
             ],
             [
              0.1111111111111111,
              "#46039f"
             ],
             [
              0.2222222222222222,
              "#7201a8"
             ],
             [
              0.3333333333333333,
              "#9c179e"
             ],
             [
              0.4444444444444444,
              "#bd3786"
             ],
             [
              0.5555555555555556,
              "#d8576b"
             ],
             [
              0.6666666666666666,
              "#ed7953"
             ],
             [
              0.7777777777777778,
              "#fb9f3a"
             ],
             [
              0.8888888888888888,
              "#fdca26"
             ],
             [
              1,
              "#f0f921"
             ]
            ],
            "type": "heatmap"
           }
          ],
          "heatmapgl": [
           {
            "colorbar": {
             "outlinewidth": 0,
             "ticks": ""
            },
            "colorscale": [
             [
              0,
              "#0d0887"
             ],
             [
              0.1111111111111111,
              "#46039f"
             ],
             [
              0.2222222222222222,
              "#7201a8"
             ],
             [
              0.3333333333333333,
              "#9c179e"
             ],
             [
              0.4444444444444444,
              "#bd3786"
             ],
             [
              0.5555555555555556,
              "#d8576b"
             ],
             [
              0.6666666666666666,
              "#ed7953"
             ],
             [
              0.7777777777777778,
              "#fb9f3a"
             ],
             [
              0.8888888888888888,
              "#fdca26"
             ],
             [
              1,
              "#f0f921"
             ]
            ],
            "type": "heatmapgl"
           }
          ],
          "histogram": [
           {
            "marker": {
             "pattern": {
              "fillmode": "overlay",
              "size": 10,
              "solidity": 0.2
             }
            },
            "type": "histogram"
           }
          ],
          "histogram2d": [
           {
            "colorbar": {
             "outlinewidth": 0,
             "ticks": ""
            },
            "colorscale": [
             [
              0,
              "#0d0887"
             ],
             [
              0.1111111111111111,
              "#46039f"
             ],
             [
              0.2222222222222222,
              "#7201a8"
             ],
             [
              0.3333333333333333,
              "#9c179e"
             ],
             [
              0.4444444444444444,
              "#bd3786"
             ],
             [
              0.5555555555555556,
              "#d8576b"
             ],
             [
              0.6666666666666666,
              "#ed7953"
             ],
             [
              0.7777777777777778,
              "#fb9f3a"
             ],
             [
              0.8888888888888888,
              "#fdca26"
             ],
             [
              1,
              "#f0f921"
             ]
            ],
            "type": "histogram2d"
           }
          ],
          "histogram2dcontour": [
           {
            "colorbar": {
             "outlinewidth": 0,
             "ticks": ""
            },
            "colorscale": [
             [
              0,
              "#0d0887"
             ],
             [
              0.1111111111111111,
              "#46039f"
             ],
             [
              0.2222222222222222,
              "#7201a8"
             ],
             [
              0.3333333333333333,
              "#9c179e"
             ],
             [
              0.4444444444444444,
              "#bd3786"
             ],
             [
              0.5555555555555556,
              "#d8576b"
             ],
             [
              0.6666666666666666,
              "#ed7953"
             ],
             [
              0.7777777777777778,
              "#fb9f3a"
             ],
             [
              0.8888888888888888,
              "#fdca26"
             ],
             [
              1,
              "#f0f921"
             ]
            ],
            "type": "histogram2dcontour"
           }
          ],
          "mesh3d": [
           {
            "colorbar": {
             "outlinewidth": 0,
             "ticks": ""
            },
            "type": "mesh3d"
           }
          ],
          "parcoords": [
           {
            "line": {
             "colorbar": {
              "outlinewidth": 0,
              "ticks": ""
             }
            },
            "type": "parcoords"
           }
          ],
          "pie": [
           {
            "automargin": true,
            "type": "pie"
           }
          ],
          "scatter": [
           {
            "fillpattern": {
             "fillmode": "overlay",
             "size": 10,
             "solidity": 0.2
            },
            "type": "scatter"
           }
          ],
          "scatter3d": [
           {
            "line": {
             "colorbar": {
              "outlinewidth": 0,
              "ticks": ""
             }
            },
            "marker": {
             "colorbar": {
              "outlinewidth": 0,
              "ticks": ""
             }
            },
            "type": "scatter3d"
           }
          ],
          "scattercarpet": [
           {
            "marker": {
             "colorbar": {
              "outlinewidth": 0,
              "ticks": ""
             }
            },
            "type": "scattercarpet"
           }
          ],
          "scattergeo": [
           {
            "marker": {
             "colorbar": {
              "outlinewidth": 0,
              "ticks": ""
             }
            },
            "type": "scattergeo"
           }
          ],
          "scattergl": [
           {
            "marker": {
             "colorbar": {
              "outlinewidth": 0,
              "ticks": ""
             }
            },
            "type": "scattergl"
           }
          ],
          "scattermapbox": [
           {
            "marker": {
             "colorbar": {
              "outlinewidth": 0,
              "ticks": ""
             }
            },
            "type": "scattermapbox"
           }
          ],
          "scatterpolar": [
           {
            "marker": {
             "colorbar": {
              "outlinewidth": 0,
              "ticks": ""
             }
            },
            "type": "scatterpolar"
           }
          ],
          "scatterpolargl": [
           {
            "marker": {
             "colorbar": {
              "outlinewidth": 0,
              "ticks": ""
             }
            },
            "type": "scatterpolargl"
           }
          ],
          "scatterternary": [
           {
            "marker": {
             "colorbar": {
              "outlinewidth": 0,
              "ticks": ""
             }
            },
            "type": "scatterternary"
           }
          ],
          "surface": [
           {
            "colorbar": {
             "outlinewidth": 0,
             "ticks": ""
            },
            "colorscale": [
             [
              0,
              "#0d0887"
             ],
             [
              0.1111111111111111,
              "#46039f"
             ],
             [
              0.2222222222222222,
              "#7201a8"
             ],
             [
              0.3333333333333333,
              "#9c179e"
             ],
             [
              0.4444444444444444,
              "#bd3786"
             ],
             [
              0.5555555555555556,
              "#d8576b"
             ],
             [
              0.6666666666666666,
              "#ed7953"
             ],
             [
              0.7777777777777778,
              "#fb9f3a"
             ],
             [
              0.8888888888888888,
              "#fdca26"
             ],
             [
              1,
              "#f0f921"
             ]
            ],
            "type": "surface"
           }
          ],
          "table": [
           {
            "cells": {
             "fill": {
              "color": "#EBF0F8"
             },
             "line": {
              "color": "white"
             }
            },
            "header": {
             "fill": {
              "color": "#C8D4E3"
             },
             "line": {
              "color": "white"
             }
            },
            "type": "table"
           }
          ]
         },
         "layout": {
          "annotationdefaults": {
           "arrowcolor": "#2a3f5f",
           "arrowhead": 0,
           "arrowwidth": 1
          },
          "autotypenumbers": "strict",
          "coloraxis": {
           "colorbar": {
            "outlinewidth": 0,
            "ticks": ""
           }
          },
          "colorscale": {
           "diverging": [
            [
             0,
             "#8e0152"
            ],
            [
             0.1,
             "#c51b7d"
            ],
            [
             0.2,
             "#de77ae"
            ],
            [
             0.3,
             "#f1b6da"
            ],
            [
             0.4,
             "#fde0ef"
            ],
            [
             0.5,
             "#f7f7f7"
            ],
            [
             0.6,
             "#e6f5d0"
            ],
            [
             0.7,
             "#b8e186"
            ],
            [
             0.8,
             "#7fbc41"
            ],
            [
             0.9,
             "#4d9221"
            ],
            [
             1,
             "#276419"
            ]
           ],
           "sequential": [
            [
             0,
             "#0d0887"
            ],
            [
             0.1111111111111111,
             "#46039f"
            ],
            [
             0.2222222222222222,
             "#7201a8"
            ],
            [
             0.3333333333333333,
             "#9c179e"
            ],
            [
             0.4444444444444444,
             "#bd3786"
            ],
            [
             0.5555555555555556,
             "#d8576b"
            ],
            [
             0.6666666666666666,
             "#ed7953"
            ],
            [
             0.7777777777777778,
             "#fb9f3a"
            ],
            [
             0.8888888888888888,
             "#fdca26"
            ],
            [
             1,
             "#f0f921"
            ]
           ],
           "sequentialminus": [
            [
             0,
             "#0d0887"
            ],
            [
             0.1111111111111111,
             "#46039f"
            ],
            [
             0.2222222222222222,
             "#7201a8"
            ],
            [
             0.3333333333333333,
             "#9c179e"
            ],
            [
             0.4444444444444444,
             "#bd3786"
            ],
            [
             0.5555555555555556,
             "#d8576b"
            ],
            [
             0.6666666666666666,
             "#ed7953"
            ],
            [
             0.7777777777777778,
             "#fb9f3a"
            ],
            [
             0.8888888888888888,
             "#fdca26"
            ],
            [
             1,
             "#f0f921"
            ]
           ]
          },
          "colorway": [
           "#636efa",
           "#EF553B",
           "#00cc96",
           "#ab63fa",
           "#FFA15A",
           "#19d3f3",
           "#FF6692",
           "#B6E880",
           "#FF97FF",
           "#FECB52"
          ],
          "font": {
           "color": "#2a3f5f"
          },
          "geo": {
           "bgcolor": "white",
           "lakecolor": "white",
           "landcolor": "#E5ECF6",
           "showlakes": true,
           "showland": true,
           "subunitcolor": "white"
          },
          "hoverlabel": {
           "align": "left"
          },
          "hovermode": "closest",
          "mapbox": {
           "style": "light"
          },
          "paper_bgcolor": "white",
          "plot_bgcolor": "#E5ECF6",
          "polar": {
           "angularaxis": {
            "gridcolor": "white",
            "linecolor": "white",
            "ticks": ""
           },
           "bgcolor": "#E5ECF6",
           "radialaxis": {
            "gridcolor": "white",
            "linecolor": "white",
            "ticks": ""
           }
          },
          "scene": {
           "xaxis": {
            "backgroundcolor": "#E5ECF6",
            "gridcolor": "white",
            "gridwidth": 2,
            "linecolor": "white",
            "showbackground": true,
            "ticks": "",
            "zerolinecolor": "white"
           },
           "yaxis": {
            "backgroundcolor": "#E5ECF6",
            "gridcolor": "white",
            "gridwidth": 2,
            "linecolor": "white",
            "showbackground": true,
            "ticks": "",
            "zerolinecolor": "white"
           },
           "zaxis": {
            "backgroundcolor": "#E5ECF6",
            "gridcolor": "white",
            "gridwidth": 2,
            "linecolor": "white",
            "showbackground": true,
            "ticks": "",
            "zerolinecolor": "white"
           }
          },
          "shapedefaults": {
           "line": {
            "color": "#2a3f5f"
           }
          },
          "ternary": {
           "aaxis": {
            "gridcolor": "white",
            "linecolor": "white",
            "ticks": ""
           },
           "baxis": {
            "gridcolor": "white",
            "linecolor": "white",
            "ticks": ""
           },
           "bgcolor": "#E5ECF6",
           "caxis": {
            "gridcolor": "white",
            "linecolor": "white",
            "ticks": ""
           }
          },
          "title": {
           "x": 0.05
          },
          "xaxis": {
           "automargin": true,
           "gridcolor": "white",
           "linecolor": "white",
           "ticks": "",
           "title": {
            "standoff": 15
           },
           "zerolinecolor": "white",
           "zerolinewidth": 2
          },
          "yaxis": {
           "automargin": true,
           "gridcolor": "white",
           "linecolor": "white",
           "ticks": "",
           "title": {
            "standoff": 15
           },
           "zerolinecolor": "white",
           "zerolinewidth": 2
          }
         }
        },
        "title": {
         "text": "Average Lap Times Over Years by Circuit"
        },
        "xaxis": {
         "anchor": "y",
         "domain": [
          0,
          1
         ],
         "title": {
          "text": "Race Year"
         }
        },
        "yaxis": {
         "anchor": "x",
         "domain": [
          0,
          1
         ],
         "title": {
          "text": "Average Lap Time (seconds)"
         }
        }
       }
      }
     },
     "metadata": {},
     "output_type": "display_data"
    }
   ],
   "source": [
    "import plotly.express as px\n",
    "\n",
    "#Removing rows with missing lapSeconds\n",
    "lapTimesAnalysis = lapTimesAnalysis.dropna(subset=['lapSeconds'])\n",
    "\n",
    "#Grouping data by circuitName and raceYear, calculate mean lapSeconds, and reset index\n",
    "grouped_data = lapTimesAnalysis.groupby(['circuitName', 'raceYear'], as_index=False)['lapSeconds'].mean()\n",
    "\n",
    "#Creating the line plot using Plotly Express\n",
    "fig = px.line(grouped_data,\n",
    "              x='raceYear',\n",
    "              y='lapSeconds',\n",
    "              color='circuitName',\n",
    "              title='Average Lap Times by Circuit and Year',\n",
    "              labels={'raceYear': 'Race Year', 'lapSeconds': 'Average Lap Time (seconds)'}\n",
    "             )\n",
    "\n",
    "fig.update_layout(\n",
    "    title_text='Average Lap Times Over Years by Circuit',\n",
    ")\n",
    "\n",
    "#Showing the plot\n",
    "fig.show()"
   ]
  }
 ],
 "metadata": {
  "kernelspec": {
   "display_name": "Python 3",
   "language": "python",
   "name": "python3"
  },
  "language_info": {
   "codemirror_mode": {
    "name": "ipython",
    "version": 3
   },
   "file_extension": ".py",
   "mimetype": "text/x-python",
   "name": "python",
   "nbconvert_exporter": "python",
   "pygments_lexer": "ipython3",
   "version": "3.12.4"
  }
 },
 "nbformat": 4,
 "nbformat_minor": 2
}
